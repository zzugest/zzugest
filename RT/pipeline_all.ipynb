{
 "cells": [
  {
   "cell_type": "code",
   "execution_count": 31,
   "metadata": {},
   "outputs": [],
   "source": [
    "import numpy as np\n",
    "import pandas as pd\n",
    "import matplotlib.pyplot as plt\n",
    "import collections\n",
    "import os# Operating System의 약자로서 운영체제에서 제공되는 여러 기능을 "
   ]
  },
  {
   "cell_type": "code",
   "execution_count": 32,
   "metadata": {},
   "outputs": [],
   "source": [
    "import seaborn as sns"
   ]
  },
  {
   "cell_type": "code",
   "execution_count": 33,
   "metadata": {},
   "outputs": [],
   "source": [
    "import matplotlib\n",
    "import matplotlib.pyplot as plt\n",
    "%matplotlib inline\n",
    "matplotlib.rcParams['axes.unicode_minus'] = False\n",
    "import platform\n",
    "from matplotlib import font_manager, rc\n",
    "font = 'Malgun Gothic'\n",
    "plt.rcParams['font.family'] = font"
   ]
  },
  {
   "cell_type": "code",
   "execution_count": 34,
   "metadata": {},
   "outputs": [],
   "source": [
    "import warnings\n",
    "warnings.filterwarnings(action='ignore')"
   ]
  },
  {
   "cell_type": "code",
   "execution_count": 35,
   "metadata": {},
   "outputs": [
    {
     "data": {
      "text/plain": [
       "'C:\\\\Users\\\\User\\\\Dropbox\\\\2022_Program_Undergraduate\\\\ML_code\\\\Code\\\\test3_MLcode_all'"
      ]
     },
     "execution_count": 35,
     "metadata": {},
     "output_type": "execute_result"
    }
   ],
   "source": [
    "#현재 작업하는 위치\n",
    "os.getcwd()"
   ]
  },
  {
   "cell_type": "code",
   "execution_count": 36,
   "metadata": {},
   "outputs": [],
   "source": [
    "#csv 파일 불러오기\n",
    "data = pd.read_excel('mydata.xlsx')"
   ]
  },
  {
   "cell_type": "code",
   "execution_count": 37,
   "metadata": {},
   "outputs": [],
   "source": [
    "# data_C = pd.read_excel('Zone_FS_2016_C.xlsx')\n",
    "# data_C=data[data['Year']>2017]"
   ]
  },
  {
   "cell_type": "code",
   "execution_count": 12,
   "metadata": {},
   "outputs": [
    {
     "data": {
      "text/html": [
       "<div>\n",
       "<style scoped>\n",
       "    .dataframe tbody tr th:only-of-type {\n",
       "        vertical-align: middle;\n",
       "    }\n",
       "\n",
       "    .dataframe tbody tr th {\n",
       "        vertical-align: top;\n",
       "    }\n",
       "\n",
       "    .dataframe thead th {\n",
       "        text-align: right;\n",
       "    }\n",
       "</style>\n",
       "<table border=\"1\" class=\"dataframe\">\n",
       "  <thead>\n",
       "    <tr style=\"text-align: right;\">\n",
       "      <th></th>\n",
       "      <th>Date</th>\n",
       "      <th>count</th>\n",
       "      <th>age65up</th>\n",
       "      <th>Delta_count</th>\n",
       "      <th>Omicron_count</th>\n",
       "      <th>Delta_prop</th>\n",
       "      <th>Omicron_prop</th>\n",
       "      <th>seoul_retail_recreation</th>\n",
       "      <th>seoul_grocery_pharmacy</th>\n",
       "      <th>seoul_parks</th>\n",
       "      <th>...</th>\n",
       "      <th>seoul_workplaces</th>\n",
       "      <th>seoul_residential</th>\n",
       "      <th>metro_retail_recreation</th>\n",
       "      <th>metro_grocery_pharmacy</th>\n",
       "      <th>metro_parks</th>\n",
       "      <th>metro_transit_stations</th>\n",
       "      <th>metro_workplaces</th>\n",
       "      <th>metro_residential</th>\n",
       "      <th>death</th>\n",
       "      <th>period</th>\n",
       "    </tr>\n",
       "  </thead>\n",
       "  <tbody>\n",
       "    <tr>\n",
       "      <th>0</th>\n",
       "      <td>2020-02-15</td>\n",
       "      <td>0</td>\n",
       "      <td>0</td>\n",
       "      <td>0</td>\n",
       "      <td>0</td>\n",
       "      <td>0.0</td>\n",
       "      <td>0.0</td>\n",
       "      <td>-4</td>\n",
       "      <td>0</td>\n",
       "      <td>3</td>\n",
       "      <td>...</td>\n",
       "      <td>1</td>\n",
       "      <td>3</td>\n",
       "      <td>-8</td>\n",
       "      <td>0</td>\n",
       "      <td>2</td>\n",
       "      <td>-4</td>\n",
       "      <td>1</td>\n",
       "      <td>3</td>\n",
       "      <td>0</td>\n",
       "      <td>1</td>\n",
       "    </tr>\n",
       "    <tr>\n",
       "      <th>1</th>\n",
       "      <td>2020-02-16</td>\n",
       "      <td>2</td>\n",
       "      <td>2</td>\n",
       "      <td>0</td>\n",
       "      <td>0</td>\n",
       "      <td>0.0</td>\n",
       "      <td>0.0</td>\n",
       "      <td>-11</td>\n",
       "      <td>0</td>\n",
       "      <td>-31</td>\n",
       "      <td>...</td>\n",
       "      <td>-3</td>\n",
       "      <td>4</td>\n",
       "      <td>-15</td>\n",
       "      <td>0</td>\n",
       "      <td>-33</td>\n",
       "      <td>-16</td>\n",
       "      <td>-3</td>\n",
       "      <td>4</td>\n",
       "      <td>1</td>\n",
       "      <td>1</td>\n",
       "    </tr>\n",
       "    <tr>\n",
       "      <th>2</th>\n",
       "      <td>2020-02-17</td>\n",
       "      <td>0</td>\n",
       "      <td>0</td>\n",
       "      <td>0</td>\n",
       "      <td>0</td>\n",
       "      <td>0.0</td>\n",
       "      <td>0.0</td>\n",
       "      <td>-7</td>\n",
       "      <td>-6</td>\n",
       "      <td>-17</td>\n",
       "      <td>...</td>\n",
       "      <td>0</td>\n",
       "      <td>5</td>\n",
       "      <td>-9</td>\n",
       "      <td>-6</td>\n",
       "      <td>-17</td>\n",
       "      <td>-7</td>\n",
       "      <td>0</td>\n",
       "      <td>5</td>\n",
       "      <td>0</td>\n",
       "      <td>1</td>\n",
       "    </tr>\n",
       "    <tr>\n",
       "      <th>3</th>\n",
       "      <td>2020-02-18</td>\n",
       "      <td>2</td>\n",
       "      <td>0</td>\n",
       "      <td>0</td>\n",
       "      <td>0</td>\n",
       "      <td>0.0</td>\n",
       "      <td>0.0</td>\n",
       "      <td>-1</td>\n",
       "      <td>-3</td>\n",
       "      <td>-5</td>\n",
       "      <td>...</td>\n",
       "      <td>2</td>\n",
       "      <td>2</td>\n",
       "      <td>1</td>\n",
       "      <td>-2</td>\n",
       "      <td>-3</td>\n",
       "      <td>-1</td>\n",
       "      <td>2</td>\n",
       "      <td>2</td>\n",
       "      <td>0</td>\n",
       "      <td>1</td>\n",
       "    </tr>\n",
       "    <tr>\n",
       "      <th>4</th>\n",
       "      <td>2020-02-19</td>\n",
       "      <td>34</td>\n",
       "      <td>5</td>\n",
       "      <td>0</td>\n",
       "      <td>0</td>\n",
       "      <td>0.0</td>\n",
       "      <td>0.0</td>\n",
       "      <td>-5</td>\n",
       "      <td>-1</td>\n",
       "      <td>14</td>\n",
       "      <td>...</td>\n",
       "      <td>1</td>\n",
       "      <td>2</td>\n",
       "      <td>-7</td>\n",
       "      <td>-1</td>\n",
       "      <td>9</td>\n",
       "      <td>-5</td>\n",
       "      <td>2</td>\n",
       "      <td>2</td>\n",
       "      <td>3</td>\n",
       "      <td>1</td>\n",
       "    </tr>\n",
       "  </tbody>\n",
       "</table>\n",
       "<p>5 rows × 21 columns</p>\n",
       "</div>"
      ],
      "text/plain": [
       "        Date  count  age65up  Delta_count  Omicron_count  Delta_prop  \\\n",
       "0 2020-02-15      0        0            0              0         0.0   \n",
       "1 2020-02-16      2        2            0              0         0.0   \n",
       "2 2020-02-17      0        0            0              0         0.0   \n",
       "3 2020-02-18      2        0            0              0         0.0   \n",
       "4 2020-02-19     34        5            0              0         0.0   \n",
       "\n",
       "   Omicron_prop  seoul_retail_recreation  seoul_grocery_pharmacy  seoul_parks  \\\n",
       "0           0.0                       -4                       0            3   \n",
       "1           0.0                      -11                       0          -31   \n",
       "2           0.0                       -7                      -6          -17   \n",
       "3           0.0                       -1                      -3           -5   \n",
       "4           0.0                       -5                      -1           14   \n",
       "\n",
       "   ...  seoul_workplaces  seoul_residential  metro_retail_recreation  \\\n",
       "0  ...                 1                  3                       -8   \n",
       "1  ...                -3                  4                      -15   \n",
       "2  ...                 0                  5                       -9   \n",
       "3  ...                 2                  2                        1   \n",
       "4  ...                 1                  2                       -7   \n",
       "\n",
       "   metro_grocery_pharmacy  metro_parks  metro_transit_stations  \\\n",
       "0                       0            2                      -4   \n",
       "1                       0          -33                     -16   \n",
       "2                      -6          -17                      -7   \n",
       "3                      -2           -3                      -1   \n",
       "4                      -1            9                      -5   \n",
       "\n",
       "   metro_workplaces  metro_residential  death  period  \n",
       "0                 1                  3      0       1  \n",
       "1                -3                  4      1       1  \n",
       "2                 0                  5      0       1  \n",
       "3                 2                  2      0       1  \n",
       "4                 2                  2      3       1  \n",
       "\n",
       "[5 rows x 21 columns]"
      ]
     },
     "execution_count": 12,
     "metadata": {},
     "output_type": "execute_result"
    }
   ],
   "source": [
    "data.head()"
   ]
  },
  {
   "cell_type": "code",
   "execution_count": 38,
   "metadata": {},
   "outputs": [
    {
     "data": {
      "text/plain": [
       "Index(['Date', 'count', 'age65up', 'Delta_count', 'Omicron_count',\n",
       "       'Delta_prop', 'Omicron_prop', 'seoul_retail_recreation',\n",
       "       'seoul_grocery_pharmacy', 'seoul_parks', 'seoul_transit_stations',\n",
       "       'seoul_workplaces', 'seoul_residential', 'metro_retail_recreation',\n",
       "       'metro_grocery_pharmacy', 'metro_parks', 'metro_transit_stations',\n",
       "       'metro_workplaces', 'metro_residential', 'death', 'period'],\n",
       "      dtype='object')"
      ]
     },
     "execution_count": 38,
     "metadata": {},
     "output_type": "execute_result"
    }
   ],
   "source": [
    "data.columns"
   ]
  },
  {
   "cell_type": "code",
   "execution_count": 39,
   "metadata": {},
   "outputs": [],
   "source": [
    "variables=['Delta_count', 'Omicron_count',\n",
    "       'Delta_prop', 'Omicron_prop', 'seoul_retail_recreation',\n",
    "       'seoul_grocery_pharmacy', 'seoul_parks', 'seoul_transit_stations',\n",
    "       'seoul_workplaces', 'seoul_residential', 'metro_retail_recreation',\n",
    "       'metro_grocery_pharmacy', 'metro_parks', 'metro_transit_stations',\n",
    "       'metro_workplaces', 'metro_residential', 'death']"
   ]
  },
  {
   "cell_type": "code",
   "execution_count": 40,
   "metadata": {},
   "outputs": [],
   "source": [
    "targets=['count']"
   ]
  },
  {
   "cell_type": "code",
   "execution_count": 41,
   "metadata": {},
   "outputs": [],
   "source": [
    "data_FS_X=data[variables]"
   ]
  },
  {
   "cell_type": "code",
   "execution_count": 17,
   "metadata": {},
   "outputs": [],
   "source": [
    "data_FS_Y=data[targets]"
   ]
  },
  {
   "cell_type": "code",
   "execution_count": 18,
   "metadata": {},
   "outputs": [],
   "source": [
    "from sklearn.preprocessing import MinMaxScaler\n",
    "\n",
    "scaler = MinMaxScaler()\n",
    "# scale_cols = ['R_p', 'R_t', '교회', '병원', '요양', '가족', '모임', '학교 및 교육', '운동',\n",
    "#        '사우나', '유흥', '건물', '시설 및 직장', '집회', 'SG_sum_D', 'SG_sum']\n",
    "data_FS_X = scaler.fit_transform(data_FS_X)\n",
    "# data_FSC_X = scaler.fit_transform(data_FSC_X)\n",
    "\n",
    "data_FS_X = pd.DataFrame(data_FS_X)\n",
    "data_FS_X.columns = variables\n",
    "\n",
    "# data_FSC_X = pd.DataFrame(data_FSC_X)\n",
    "# data_FSC_X.columns = variables"
   ]
  },
  {
   "cell_type": "code",
   "execution_count": 19,
   "metadata": {},
   "outputs": [
    {
     "data": {
      "text/plain": [
       "(787, 17)"
      ]
     },
     "execution_count": 19,
     "metadata": {},
     "output_type": "execute_result"
    }
   ],
   "source": [
    "data_FS_X.shape"
   ]
  },
  {
   "cell_type": "code",
   "execution_count": 20,
   "metadata": {},
   "outputs": [
    {
     "name": "stdout",
     "output_type": "stream",
     "text": [
      "<class 'pandas.core.frame.DataFrame'>\n",
      "RangeIndex: 787 entries, 0 to 786\n",
      "Data columns (total 17 columns):\n",
      " #   Column                   Non-Null Count  Dtype  \n",
      "---  ------                   --------------  -----  \n",
      " 0   Delta_count              787 non-null    float64\n",
      " 1   Omicron_count            787 non-null    float64\n",
      " 2   Delta_prop               787 non-null    float64\n",
      " 3   Omicron_prop             787 non-null    float64\n",
      " 4   seoul_retail_recreation  787 non-null    float64\n",
      " 5   seoul_grocery_pharmacy   787 non-null    float64\n",
      " 6   seoul_parks              787 non-null    float64\n",
      " 7   seoul_transit_stations   787 non-null    float64\n",
      " 8   seoul_workplaces         787 non-null    float64\n",
      " 9   seoul_residential        787 non-null    float64\n",
      " 10  metro_retail_recreation  787 non-null    float64\n",
      " 11  metro_grocery_pharmacy   787 non-null    float64\n",
      " 12  metro_parks              787 non-null    float64\n",
      " 13  metro_transit_stations   787 non-null    float64\n",
      " 14  metro_workplaces         787 non-null    float64\n",
      " 15  metro_residential        787 non-null    float64\n",
      " 16  death                    787 non-null    float64\n",
      "dtypes: float64(17)\n",
      "memory usage: 104.6 KB\n"
     ]
    }
   ],
   "source": [
    "data_FS_X.info()"
   ]
  },
  {
   "cell_type": "code",
   "execution_count": 21,
   "metadata": {},
   "outputs": [
    {
     "name": "stdout",
     "output_type": "stream",
     "text": [
      "<class 'pandas.core.frame.DataFrame'>\n",
      "RangeIndex: 787 entries, 0 to 786\n",
      "Data columns (total 1 columns):\n",
      " #   Column  Non-Null Count  Dtype\n",
      "---  ------  --------------  -----\n",
      " 0   count   787 non-null    int64\n",
      "dtypes: int64(1)\n",
      "memory usage: 6.3 KB\n"
     ]
    }
   ],
   "source": [
    "data_FS_Y.info()"
   ]
  },
  {
   "cell_type": "code",
   "execution_count": 22,
   "metadata": {},
   "outputs": [
    {
     "data": {
      "image/png": "[encoded data removed]",
      "text/plain": [
       "<Figure size 864x432 with 1 Axes>"
      ]
     },
     "metadata": {
      "needs_background": "light"
     },
     "output_type": "display_data"
    }
   ],
   "source": [
    "import numpy as np\n",
    "import matplotlib.pyplot as plt\n",
    "\n",
    "from sklearn.model_selection import train_test_split\n",
    "from sklearn.preprocessing import MinMaxScaler\n",
    "from sklearn.linear_model import LinearRegression\n",
    "from sklearn.pipeline import make_pipeline\n",
    "from sklearn.feature_selection import SelectKBest, f_regression\n",
    "\n",
    "# #############################################################################\n",
    "# Some noisy data not correlated\n",
    "# E = np.random.RandomState(42).uniform(0, 0.1, size=(data_FS_X.shape[0], 20))\n",
    "\n",
    "# Add the noisy data to the informative features\n",
    "# data_FS_X = np.hstack((data_FS_X, E))\n",
    "\n",
    "# Split dataset to select feature and evaluate the classifier\n",
    "X_train, X_test, y_train, y_test = train_test_split(\n",
    "        data_FS_X, data_FS_Y, random_state=0\n",
    ")\n",
    "\n",
    "plt.figure(figsize=(12,6))\n",
    "\n",
    "\n",
    "X_indices = data_FS_X.columns\n",
    "# np.arange(data_FS_X.shape[-1])\n",
    "\n",
    "# #############################################################################\n",
    "# Univariate feature selection with F-test for feature scoring\n",
    "# We use the default selection function to select the four\n",
    "# most significant features\n",
    "selector = SelectKBest(f_regression, k=15)\n",
    "selector.fit(X_train, y_train)\n",
    "scores = -np.log10(selector.pvalues_)\n",
    "scores /= scores.max()\n",
    "plt.bar(X_indices, scores, width=.2,\n",
    "        label=r'Univariate score ($-Log(p_{value})$)')\n",
    "plt.xticks(rotation=80)\n",
    "\n",
    "plt.show()"
   ]
  },
  {
   "cell_type": "code",
   "execution_count": 23,
   "metadata": {},
   "outputs": [
    {
     "data": {
      "text/plain": [
       "array([1.36277382e-02, 4.41142713e-01, 7.23339129e-04, 4.62030559e-01,\n",
       "       2.16047949e-02, 2.73626677e-02, 9.64677330e-06, 1.45525927e-17,\n",
       "       2.59270694e-01, 3.84960109e-03, 1.15859835e-03, 2.44514656e-04,\n",
       "       1.33412090e-08, 2.39206246e-13, 4.69435218e-01, 2.06062861e-02,\n",
       "       1.28031624e-16])"
      ]
     },
     "execution_count": 23,
     "metadata": {},
     "output_type": "execute_result"
    }
   ],
   "source": [
    "selector.pvalues_"
   ]
  },
  {
   "cell_type": "code",
   "execution_count": 24,
   "metadata": {},
   "outputs": [],
   "source": [
    "D_C=pd.DataFrame()"
   ]
  },
  {
   "cell_type": "code",
   "execution_count": 25,
   "metadata": {},
   "outputs": [],
   "source": [
    "D_C['variable']=variables"
   ]
  },
  {
   "cell_type": "code",
   "execution_count": 26,
   "metadata": {},
   "outputs": [],
   "source": [
    "D_C['p_value']=selector.pvalues_"
   ]
  },
  {
   "cell_type": "code",
   "execution_count": 27,
   "metadata": {},
   "outputs": [
    {
     "data": {
      "text/html": [
       "<div>\n",
       "<style scoped>\n",
       "    .dataframe tbody tr th:only-of-type {\n",
       "        vertical-align: middle;\n",
       "    }\n",
       "\n",
       "    .dataframe tbody tr th {\n",
       "        vertical-align: top;\n",
       "    }\n",
       "\n",
       "    .dataframe thead th {\n",
       "        text-align: right;\n",
       "    }\n",
       "</style>\n",
       "<table border=\"1\" class=\"dataframe\">\n",
       "  <thead>\n",
       "    <tr style=\"text-align: right;\">\n",
       "      <th></th>\n",
       "      <th>variable</th>\n",
       "      <th>p_value</th>\n",
       "    </tr>\n",
       "  </thead>\n",
       "  <tbody>\n",
       "    <tr>\n",
       "      <th>0</th>\n",
       "      <td>Delta_count</td>\n",
       "      <td>1.362774e-02</td>\n",
       "    </tr>\n",
       "    <tr>\n",
       "      <th>1</th>\n",
       "      <td>Omicron_count</td>\n",
       "      <td>4.411427e-01</td>\n",
       "    </tr>\n",
       "    <tr>\n",
       "      <th>2</th>\n",
       "      <td>Delta_prop</td>\n",
       "      <td>7.233391e-04</td>\n",
       "    </tr>\n",
       "    <tr>\n",
       "      <th>3</th>\n",
       "      <td>Omicron_prop</td>\n",
       "      <td>4.620306e-01</td>\n",
       "    </tr>\n",
       "    <tr>\n",
       "      <th>4</th>\n",
       "      <td>seoul_retail_recreation</td>\n",
       "      <td>2.160479e-02</td>\n",
       "    </tr>\n",
       "    <tr>\n",
       "      <th>5</th>\n",
       "      <td>seoul_grocery_pharmacy</td>\n",
       "      <td>2.736267e-02</td>\n",
       "    </tr>\n",
       "    <tr>\n",
       "      <th>6</th>\n",
       "      <td>seoul_parks</td>\n",
       "      <td>9.646773e-06</td>\n",
       "    </tr>\n",
       "    <tr>\n",
       "      <th>7</th>\n",
       "      <td>seoul_transit_stations</td>\n",
       "      <td>1.455259e-17</td>\n",
       "    </tr>\n",
       "    <tr>\n",
       "      <th>8</th>\n",
       "      <td>seoul_workplaces</td>\n",
       "      <td>2.592707e-01</td>\n",
       "    </tr>\n",
       "    <tr>\n",
       "      <th>9</th>\n",
       "      <td>seoul_residential</td>\n",
       "      <td>3.849601e-03</td>\n",
       "    </tr>\n",
       "    <tr>\n",
       "      <th>10</th>\n",
       "      <td>metro_retail_recreation</td>\n",
       "      <td>1.158598e-03</td>\n",
       "    </tr>\n",
       "    <tr>\n",
       "      <th>11</th>\n",
       "      <td>metro_grocery_pharmacy</td>\n",
       "      <td>2.445147e-04</td>\n",
       "    </tr>\n",
       "    <tr>\n",
       "      <th>12</th>\n",
       "      <td>metro_parks</td>\n",
       "      <td>1.334121e-08</td>\n",
       "    </tr>\n",
       "    <tr>\n",
       "      <th>13</th>\n",
       "      <td>metro_transit_stations</td>\n",
       "      <td>2.392062e-13</td>\n",
       "    </tr>\n",
       "    <tr>\n",
       "      <th>14</th>\n",
       "      <td>metro_workplaces</td>\n",
       "      <td>4.694352e-01</td>\n",
       "    </tr>\n",
       "    <tr>\n",
       "      <th>15</th>\n",
       "      <td>metro_residential</td>\n",
       "      <td>2.060629e-02</td>\n",
       "    </tr>\n",
       "    <tr>\n",
       "      <th>16</th>\n",
       "      <td>death</td>\n",
       "      <td>1.280316e-16</td>\n",
       "    </tr>\n",
       "  </tbody>\n",
       "</table>\n",
       "</div>"
      ],
      "text/plain": [
       "                   variable       p_value\n",
       "0               Delta_count  1.362774e-02\n",
       "1             Omicron_count  4.411427e-01\n",
       "2                Delta_prop  7.233391e-04\n",
       "3              Omicron_prop  4.620306e-01\n",
       "4   seoul_retail_recreation  2.160479e-02\n",
       "5    seoul_grocery_pharmacy  2.736267e-02\n",
       "6               seoul_parks  9.646773e-06\n",
       "7    seoul_transit_stations  1.455259e-17\n",
       "8          seoul_workplaces  2.592707e-01\n",
       "9         seoul_residential  3.849601e-03\n",
       "10  metro_retail_recreation  1.158598e-03\n",
       "11   metro_grocery_pharmacy  2.445147e-04\n",
       "12              metro_parks  1.334121e-08\n",
       "13   metro_transit_stations  2.392062e-13\n",
       "14         metro_workplaces  4.694352e-01\n",
       "15        metro_residential  2.060629e-02\n",
       "16                    death  1.280316e-16"
      ]
     },
     "execution_count": 27,
     "metadata": {},
     "output_type": "execute_result"
    }
   ],
   "source": [
    "D_C"
   ]
  },
  {
   "cell_type": "code",
   "execution_count": 28,
   "metadata": {},
   "outputs": [
    {
     "data": {
      "text/html": [
       "<div>\n",
       "<style scoped>\n",
       "    .dataframe tbody tr th:only-of-type {\n",
       "        vertical-align: middle;\n",
       "    }\n",
       "\n",
       "    .dataframe tbody tr th {\n",
       "        vertical-align: top;\n",
       "    }\n",
       "\n",
       "    .dataframe thead th {\n",
       "        text-align: right;\n",
       "    }\n",
       "</style>\n",
       "<table border=\"1\" class=\"dataframe\">\n",
       "  <thead>\n",
       "    <tr style=\"text-align: right;\">\n",
       "      <th></th>\n",
       "      <th>variable</th>\n",
       "      <th>p_value</th>\n",
       "    </tr>\n",
       "  </thead>\n",
       "  <tbody>\n",
       "    <tr>\n",
       "      <th>0</th>\n",
       "      <td>Delta_count</td>\n",
       "      <td>1.362774e-02</td>\n",
       "    </tr>\n",
       "    <tr>\n",
       "      <th>2</th>\n",
       "      <td>Delta_prop</td>\n",
       "      <td>7.233391e-04</td>\n",
       "    </tr>\n",
       "    <tr>\n",
       "      <th>4</th>\n",
       "      <td>seoul_retail_recreation</td>\n",
       "      <td>2.160479e-02</td>\n",
       "    </tr>\n",
       "    <tr>\n",
       "      <th>5</th>\n",
       "      <td>seoul_grocery_pharmacy</td>\n",
       "      <td>2.736267e-02</td>\n",
       "    </tr>\n",
       "    <tr>\n",
       "      <th>6</th>\n",
       "      <td>seoul_parks</td>\n",
       "      <td>9.646773e-06</td>\n",
       "    </tr>\n",
       "    <tr>\n",
       "      <th>7</th>\n",
       "      <td>seoul_transit_stations</td>\n",
       "      <td>1.455259e-17</td>\n",
       "    </tr>\n",
       "    <tr>\n",
       "      <th>9</th>\n",
       "      <td>seoul_residential</td>\n",
       "      <td>3.849601e-03</td>\n",
       "    </tr>\n",
       "    <tr>\n",
       "      <th>10</th>\n",
       "      <td>metro_retail_recreation</td>\n",
       "      <td>1.158598e-03</td>\n",
       "    </tr>\n",
       "    <tr>\n",
       "      <th>11</th>\n",
       "      <td>metro_grocery_pharmacy</td>\n",
       "      <td>2.445147e-04</td>\n",
       "    </tr>\n",
       "    <tr>\n",
       "      <th>12</th>\n",
       "      <td>metro_parks</td>\n",
       "      <td>1.334121e-08</td>\n",
       "    </tr>\n",
       "    <tr>\n",
       "      <th>13</th>\n",
       "      <td>metro_transit_stations</td>\n",
       "      <td>2.392062e-13</td>\n",
       "    </tr>\n",
       "    <tr>\n",
       "      <th>15</th>\n",
       "      <td>metro_residential</td>\n",
       "      <td>2.060629e-02</td>\n",
       "    </tr>\n",
       "    <tr>\n",
       "      <th>16</th>\n",
       "      <td>death</td>\n",
       "      <td>1.280316e-16</td>\n",
       "    </tr>\n",
       "  </tbody>\n",
       "</table>\n",
       "</div>"
      ],
      "text/plain": [
       "                   variable       p_value\n",
       "0               Delta_count  1.362774e-02\n",
       "2                Delta_prop  7.233391e-04\n",
       "4   seoul_retail_recreation  2.160479e-02\n",
       "5    seoul_grocery_pharmacy  2.736267e-02\n",
       "6               seoul_parks  9.646773e-06\n",
       "7    seoul_transit_stations  1.455259e-17\n",
       "9         seoul_residential  3.849601e-03\n",
       "10  metro_retail_recreation  1.158598e-03\n",
       "11   metro_grocery_pharmacy  2.445147e-04\n",
       "12              metro_parks  1.334121e-08\n",
       "13   metro_transit_stations  2.392062e-13\n",
       "15        metro_residential  2.060629e-02\n",
       "16                    death  1.280316e-16"
      ]
     },
     "execution_count": 28,
     "metadata": {},
     "output_type": "execute_result"
    }
   ],
   "source": [
    "D_C[D_C['p_value']<0.05]"
   ]
  },
  {
   "cell_type": "markdown",
   "metadata": {},
   "source": [
    "#### 변수 선택 (Decision tree 이용)"
   ]
  },
  {
   "cell_type": "code",
   "execution_count": 29,
   "metadata": {
    "scrolled": true
   },
   "outputs": [
    {
     "name": "stdout",
     "output_type": "stream",
     "text": [
      "MSE: -2343646711.975 (1596754688.184)\n",
      "Column: 0, Delta_count, Rank: 10.000\n",
      "Column: 1, Omicron_count, Rank: 12.000\n",
      "Column: 2, Delta_prop, Rank: 3.000\n",
      "Column: 3, Omicron_prop, Rank: 13.000\n",
      "Column: 4, seoul_retail_recreation, Rank: 1.000\n",
      "Column: 5, seoul_grocery_pharmacy, Rank: 4.000\n",
      "Column: 6, seoul_parks, Rank: 2.000\n",
      "Column: 7, seoul_transit_stations, Rank: 1.000\n",
      "Column: 8, seoul_workplaces, Rank: 1.000\n",
      "Column: 9, seoul_residential, Rank: 9.000\n",
      "Column: 10, metro_retail_recreation, Rank: 11.000\n",
      "Column: 11, metro_grocery_pharmacy, Rank: 5.000\n",
      "Column: 12, metro_parks, Rank: 8.000\n",
      "Column: 13, metro_transit_stations, Rank: 1.000\n",
      "Column: 14, metro_workplaces, Rank: 6.000\n",
      "Column: 15, metro_residential, Rank: 7.000\n",
      "Column: 16, death, Rank: 1.000\n"
     ]
    }
   ],
   "source": [
    "# 변수 선택 \n",
    "# evaluate RFE for regression\n",
    "from numpy import mean\n",
    "from numpy import std\n",
    "from sklearn.datasets import make_regression\n",
    "from sklearn.model_selection import cross_val_score\n",
    "from sklearn.model_selection import RepeatedKFold\n",
    "from sklearn.feature_selection import RFE\n",
    "from sklearn.tree import DecisionTreeRegressor\n",
    "from sklearn.pipeline import Pipeline\n",
    "#from sklearn.gaussian_process import GaussianProcessRegressor\n",
    "#GaussianProcessRegressor()\n",
    "#from sklearn.tree import DecisionTreeRegressor\n",
    "#DecisionTreeRegressor\n",
    "#LinearRegression\n",
    "\n",
    "# create pipeline\n",
    "rfe = RFE(estimator=DecisionTreeRegressor(), n_features_to_select=5)\n",
    "model = DecisionTreeRegressor()\n",
    "pipeline = Pipeline(steps=[('s',rfe),('m',model)])\n",
    "# evaluate model\n",
    "cv = RepeatedKFold(n_splits=10, n_repeats=3, random_state=1)\n",
    "# n_scores = cross_val_score(pipeline, data_FS_X, data_FS_Y, scoring='neg_mean_absolute_error', cv=cv, n_jobs=-1, error_score='raise')\n",
    "n_scores = cross_val_score(pipeline, data_FS_X, data_FS_Y, scoring='neg_mean_squared_error', cv=cv, n_jobs=-1, error_score='raise')\n",
    "# report performance\n",
    "print('MSE: %.3f (%.3f)' % (mean(n_scores), std(n_scores)))\n",
    "\n",
    "rfe.fit(data_FS_X, data_FS_Y)\n",
    "# summarize all features\n",
    "for i in range(data_FS_X.shape[1]):\n",
    "    print('Column: %d, %s, Rank: %.3f' % (i, data_FS_X.columns[i], rfe.ranking_[i]))"
   ]
  },
  {
   "cell_type": "code",
   "execution_count": 35,
   "metadata": {
    "scrolled": false
   },
   "outputs": [
    {
     "name": "stdout",
     "output_type": "stream",
     "text": [
      ">2 -4017078384.588 (2715789391.184)\n",
      ">3 -2352746917.684 (1258415760.562)\n",
      ">4 -2505479178.796 (1566151215.194)\n",
      ">5 -2700831992.550 (1743605116.119)\n",
      ">6 -3049115010.120 (1812966052.268)\n",
      ">7 -2985108772.547 (1811339516.038)\n",
      ">8 -3068941612.326 (2127551703.738)\n",
      ">9 -3149431328.407 (1904025544.986)\n",
      ">10 -3107608368.333 (2104268104.887)\n",
      ">11 -2871612563.975 (2115601239.734)\n",
      ">12 -3106535601.767 (2167325135.485)\n",
      ">13 -2890577048.878 (1885786366.379)\n",
      ">14 -3126066456.517 (2149339467.044)\n",
      ">15 -3092929095.173 (1860047492.319)\n",
      ">16 -3208877380.676 (1969903569.164)\n"
     ]
    },
    {
     "data": {
      "image/png": "[encoded data removed]",
      "text/plain": [
       "<Figure size 432x288 with 1 Axes>"
      ]
     },
     "metadata": {
      "needs_background": "light"
     },
     "output_type": "display_data"
    }
   ],
   "source": [
    "# explore the number of selected features for RFE\n",
    "from numpy import mean\n",
    "from numpy import std\n",
    "from sklearn.datasets import make_regression\n",
    "from sklearn.model_selection import cross_val_score\n",
    "from sklearn.model_selection import RepeatedKFold\n",
    "# from sklearn.model_selection import RepeatedStratifiedKFold\n",
    "from sklearn.feature_selection import RFE\n",
    "from sklearn.tree import DecisionTreeRegressor\n",
    "from sklearn.pipeline import Pipeline\n",
    "from matplotlib import pyplot\n",
    " \n",
    "# get the dataset\n",
    "def get_dataset():\n",
    "    X, y = make_classification(n_samples=1000, n_features=10, n_informative=5, n_redundant=5, random_state=1)\n",
    "    return X, y\n",
    " \n",
    "# get a list of models to evaluate\n",
    "def get_models():\n",
    "    models = dict()\n",
    "    for i in range(2, data_FS_X.shape[1]):\n",
    "        rfe = RFE(estimator=DecisionTreeRegressor(), n_features_to_select=i)\n",
    "        model = DecisionTreeRegressor()\n",
    "        models[str(i)] = Pipeline(steps=[('s',rfe),('m',model)])\n",
    "    return models\n",
    " \n",
    "# evaluate a give model using cross-validation\n",
    "def evaluate_model(model, X, y):\n",
    "    cv = RepeatedKFold(n_splits=10, n_repeats=3, random_state=1)\n",
    "    scores = cross_val_score(model, X, y, scoring='neg_mean_squared_error', cv=cv, n_jobs=-1, error_score='raise')\n",
    "    return scores\n",
    " \n",
    "# # define dataset\n",
    "# X, y = get_dataset()\n",
    "# get the models to evaluate\n",
    "models = get_models()\n",
    "# evaluate the models and store results\n",
    "results, names = list(), list()\n",
    "for name, model in models.items():\n",
    "    scores = evaluate_model(model, data_FS_X, data_FS_Y)\n",
    "    results.append(scores)\n",
    "    names.append(name)\n",
    "    print('>%s %.3f (%.3f)' % (name, mean(scores), std(scores)))\n",
    "# plot model performance for comparison\n",
    "pyplot.boxplot(results, labels=names, showmeans=True)\n",
    "pyplot.show()"
   ]
  },
  {
   "cell_type": "code",
   "execution_count": 36,
   "metadata": {
    "scrolled": false
   },
   "outputs": [
    {
     "name": "stdout",
     "output_type": "stream",
     "text": [
      "feature_number =  4\n",
      ">DT -2372998316.622 (1731290834.915)\n",
      ">rf -1425994630.663 (727923102.928)\n",
      ">gbm -1402846771.916 (843002772.867)\n",
      ">bt -1529735006.210 (847846776.925)\n",
      ">MLP -5435939812.780 (3023493872.465)\n"
     ]
    },
    {
     "data": {
      "image/png": "[encoded data removed]",
      "text/plain": [
       "<Figure size 432x288 with 1 Axes>"
      ]
     },
     "metadata": {
      "needs_background": "light"
     },
     "output_type": "display_data"
    },
    {
     "name": "stdout",
     "output_type": "stream",
     "text": [
      "feature_number =  5\n",
      ">DT -2653321101.892 (1757695408.257)\n",
      ">rf -1409353772.987 (679032459.882)\n",
      ">gbm -1387689227.934 (874830183.609)\n",
      ">bt -1651752260.953 (766236445.817)\n",
      ">MLP -5434989600.447 (3023088934.962)\n"
     ]
    },
    {
     "data": {
      "image/png": "[encoded data removed]",
      "text/plain": [
       "<Figure size 432x288 with 1 Axes>"
      ]
     },
     "metadata": {
      "needs_background": "light"
     },
     "output_type": "display_data"
    },
    {
     "name": "stdout",
     "output_type": "stream",
     "text": [
      "feature_number =  6\n",
      ">DT -2642834366.376 (1734418268.124)\n",
      ">rf -1371477743.412 (693587575.059)\n",
      ">gbm -1218254741.265 (763050045.447)\n",
      ">bt -1498049500.217 (825930498.313)\n",
      ">MLP -5433199274.444 (3022450681.916)\n"
     ]
    },
    {
     "data": {
      "image/png": "[encoded data removed]",
      "text/plain": [
       "<Figure size 432x288 with 1 Axes>"
      ]
     },
     "metadata": {
      "needs_background": "light"
     },
     "output_type": "display_data"
    },
    {
     "name": "stdout",
     "output_type": "stream",
     "text": [
      "feature_number =  7\n",
      ">DT -2916267546.634 (1848185530.789)\n",
      ">rf -1358874047.057 (672705957.925)\n",
      ">gbm -1288875393.777 (873610569.183)\n",
      ">bt -1667364664.162 (846833237.716)\n",
      ">MLP -5432390790.653 (3022171046.039)\n"
     ]
    },
    {
     "data": {
      "image/png": "[encoded data removed]",
      "text/plain": [
       "<Figure size 432x288 with 1 Axes>"
      ]
     },
     "metadata": {
      "needs_background": "light"
     },
     "output_type": "display_data"
    },
    {
     "name": "stdout",
     "output_type": "stream",
     "text": [
      "feature_number =  8\n",
      ">DT -3150676073.681 (1848900464.084)\n",
      ">rf -1368049538.469 (679749028.237)\n",
      ">gbm -1236761347.987 (840684059.754)\n",
      ">bt -1551384841.143 (804470540.921)\n",
      ">MLP -5431672972.355 (3021809688.086)\n"
     ]
    },
    {
     "data": {
      "image/png": "[encoded data removed]",
      "text/plain": [
       "<Figure size 432x288 with 1 Axes>"
      ]
     },
     "metadata": {
      "needs_background": "light"
     },
     "output_type": "display_data"
    },
    {
     "name": "stdout",
     "output_type": "stream",
     "text": [
      "feature_number =  9\n",
      ">DT -3390973868.512 (2061574730.987)\n",
      ">rf -1393577928.654 (735833714.419)\n",
      ">gbm -1192244316.362 (738512618.011)\n",
      ">bt -1671539618.393 (880416187.635)\n",
      ">MLP -5430597171.483 (3021535300.416)\n"
     ]
    },
    {
     "data": {
      "image/png": "[encoded data removed]",
      "text/plain": [
       "<Figure size 432x288 with 1 Axes>"
      ]
     },
     "metadata": {
      "needs_background": "light"
     },
     "output_type": "display_data"
    },
    {
     "name": "stdout",
     "output_type": "stream",
     "text": [
      "feature_number =  10\n",
      ">DT -3348605710.240 (2159415326.150)\n",
      ">rf -1407133699.342 (700007718.103)\n",
      ">gbm -1244986437.239 (779610913.084)\n",
      ">bt -1599702972.331 (761856861.142)\n",
      ">MLP -5428679119.122 (3020476209.804)\n"
     ]
    },
    {
     "data": {
      "image/png": "[encoded data removed]",
      "text/plain": [
       "<Figure size 432x288 with 1 Axes>"
      ]
     },
     "metadata": {
      "needs_background": "light"
     },
     "output_type": "display_data"
    },
    {
     "name": "stdout",
     "output_type": "stream",
     "text": [
      "feature_number =  11\n",
      ">DT -3081806837.097 (1887745701.690)\n",
      ">rf -1466249257.213 (767198537.776)\n",
      ">gbm -1206926841.840 (706759573.628)\n",
      ">bt -1522096983.761 (820007726.862)\n",
      ">MLP -5427408117.606 (3020310547.169)\n"
     ]
    },
    {
     "data": {
      "image/png": "[encoded data removed]",
      "text/plain": [
       "<Figure size 432x288 with 1 Axes>"
      ]
     },
     "metadata": {
      "needs_background": "light"
     },
     "output_type": "display_data"
    },
    {
     "name": "stdout",
     "output_type": "stream",
     "text": [
      "feature_number =  12\n",
      ">DT -3072172787.202 (2166609116.853)\n",
      ">rf -1378520976.036 (699876997.589)\n",
      ">gbm -1237775723.816 (717980416.884)\n",
      ">bt -1530135420.796 (820312388.912)\n",
      ">MLP -5426623043.870 (3019582545.441)\n"
     ]
    },
    {
     "data": {
      "image/png": "[encoded data removed]",
      "text/plain": [
       "<Figure size 432x288 with 1 Axes>"
      ]
     },
     "metadata": {
      "needs_background": "light"
     },
     "output_type": "display_data"
    },
    {
     "name": "stdout",
     "output_type": "stream",
     "text": [
      "feature_number =  13\n",
      ">DT -3028314526.084 (1884118532.343)\n",
      ">rf -1438108589.454 (725716993.874)\n",
      ">gbm -1227363737.382 (724716171.692)\n",
      ">bt -1581610482.092 (813345640.588)\n",
      ">MLP -5426350807.542 (3020230294.328)\n"
     ]
    },
    {
     "data": {
      "image/png": "[encoded data removed]",
      "text/plain": [
       "<Figure size 432x288 with 1 Axes>"
      ]
     },
     "metadata": {
      "needs_background": "light"
     },
     "output_type": "display_data"
    },
    {
     "name": "stdout",
     "output_type": "stream",
     "text": [
      "feature_number =  14\n",
      ">DT -2978025696.607 (1934303229.062)\n",
      ">rf -1450898612.902 (766127308.237)\n",
      ">gbm -1213161923.205 (714783020.209)\n",
      ">bt -1661809339.586 (1044727672.939)\n",
      ">MLP -5426091961.695 (3020076723.693)\n"
     ]
    },
    {
     "data": {
      "image/png": "[encoded data removed]",
      "text/plain": [
       "<Figure size 432x288 with 1 Axes>"
      ]
     },
     "metadata": {
      "needs_background": "light"
     },
     "output_type": "display_data"
    },
    {
     "name": "stdout",
     "output_type": "stream",
     "text": [
      "feature_number =  15\n",
      ">DT -3145298500.543 (1753952377.209)\n",
      ">rf -1450747164.682 (753466333.668)\n",
      ">gbm -1264562447.824 (738673174.315)\n",
      ">bt -1705413230.901 (913494242.740)\n",
      ">MLP -5425203517.968 (3019214294.645)\n"
     ]
    },
    {
     "data": {
      "image/png": "[encoded data removed]",
      "text/plain": [
       "<Figure size 432x288 with 1 Axes>"
      ]
     },
     "metadata": {
      "needs_background": "light"
     },
     "output_type": "display_data"
    },
    {
     "name": "stdout",
     "output_type": "stream",
     "text": [
      "feature_number =  16\n",
      ">DT -3426115193.442 (2288891606.360)\n",
      ">rf -1410976681.958 (750123494.859)\n",
      ">gbm -1221137498.501 (732700722.464)\n",
      ">bt -1713377203.582 (837897608.097)\n",
      ">MLP -5424682242.606 (3018773186.175)\n"
     ]
    },
    {
     "data": {
      "image/png": "[encoded data removed]",
      "text/plain": [
       "<Figure size 432x288 with 1 Axes>"
      ]
     },
     "metadata": {
      "needs_background": "light"
     },
     "output_type": "display_data"
    }
   ],
   "source": [
    "# explore the algorithm wrapped by RFE\n",
    "from numpy import mean\n",
    "from numpy import std\n",
    "from sklearn.datasets import make_regression\n",
    "from sklearn.model_selection import cross_val_score\n",
    "from sklearn.model_selection import RepeatedKFold\n",
    "from sklearn.feature_selection import RFE\n",
    "from sklearn.svm import LinearSVC\n",
    "from sklearn.linear_model import Perceptron\n",
    "from sklearn.tree import DecisionTreeRegressor\n",
    "from sklearn.ensemble import RandomForestRegressor\n",
    "from sklearn.ensemble import GradientBoostingRegressor\n",
    "from sklearn.ensemble import BaggingRegressor\n",
    "from sklearn.neighbors import KNeighborsRegressor\n",
    "from sklearn.neural_network import MLPRegressor\n",
    "from sklearn.pipeline import Pipeline\n",
    "from matplotlib import pyplot\n",
    " \n",
    "# get the dataset\n",
    "#def get_dataset():\n",
    "  #  X, y = make_regression(n_samples=1000, n_features=10, n_informative=5, n_redundant=5, random_state=1)\n",
    "  #  return X, y\n",
    " \n",
    "# get a list of models to evaluate\n",
    "def get_models(k_num):\n",
    "    models = dict()\n",
    "#     # SVC\n",
    "#     rfe = RFE(estimator=LinearSVC(), n_features_to_select=k_num)\n",
    "#     model = LinearSVC()\n",
    "#     models['SVC'] = Pipeline(steps=[('s',rfe),('m',model)])\n",
    "    # cart\n",
    "    rfe = RFE(estimator=DecisionTreeRegressor(), n_features_to_select=k_num)\n",
    "    model = DecisionTreeRegressor()\n",
    "    models['DT'] = Pipeline(steps=[('s',rfe),('m',model)])\n",
    "    # rf\n",
    "    rfe = RFE(estimator=RandomForestRegressor(), n_features_to_select=k_num)\n",
    "    model = RandomForestRegressor()\n",
    "    models['rf'] = Pipeline(steps=[('s',rfe),('m',model)])\n",
    "    # gbm\n",
    "    rfe = RFE(estimator=GradientBoostingRegressor(), n_features_to_select=k_num)\n",
    "    model = GradientBoostingRegressor()\n",
    "    models['gbm'] = Pipeline(steps=[('s',rfe),('m',model)])\n",
    "    # bt (Bagging tree)\n",
    "    rfe = RFE(estimator=DecisionTreeRegressor(), n_features_to_select=k_num)\n",
    "    model = BaggingRegressor(base_estimator=DecisionTreeRegressor())\n",
    "    models['bt'] = Pipeline(steps=[('s',rfe),('m',model)])\n",
    "    # MLP (multi-layer perceptron)\n",
    "    rfe = RFE(estimator=DecisionTreeRegressor(), n_features_to_select=k_num)\n",
    "    model = MLPRegressor()\n",
    "    models['MLP'] = Pipeline(steps=[('s',rfe),('m',model)])\n",
    "    return models\n",
    " \n",
    "# evaluate a give model using cross-validation\n",
    " \n",
    "def evaluate_model(model, X, y):\n",
    "    cv = RepeatedKFold(n_splits=10, n_repeats=3, random_state=1)\n",
    "    scores = cross_val_score(model, X, y, scoring='neg_mean_squared_error', cv=cv, n_jobs=-1, error_score='raise')\n",
    "    return scores\n",
    "\n",
    "# # define dataset\n",
    "# X, y = get_dataset()\n",
    "# get the models to evaluate\n",
    "for k_num in range(4,data_FS_X.shape[1]):\n",
    "    print('feature_number = ',k_num)\n",
    "    models = get_models(k_num)\n",
    "# evaluate the models and store results\n",
    "    results, names = list(), list()\n",
    "    for name, model in models.items():\n",
    "        scores = evaluate_model(model, data_FS_X, data_FS_Y)\n",
    "        results.append(scores)\n",
    "        names.append(name)\n",
    "        print('>%s %.3f (%.3f)' % (name, mean(scores), std(scores)))\n",
    "    # plot model performance for comparison\n",
    "    pyplot.boxplot(results, labels=names, showmeans=True)\n",
    "    pyplot.show()"
   ]
  },
  {
   "cell_type": "code",
   "execution_count": 39,
   "metadata": {},
   "outputs": [
    {
     "data": {
      "text/html": [
       "<div>\n",
       "<style scoped>\n",
       "    .dataframe tbody tr th:only-of-type {\n",
       "        vertical-align: middle;\n",
       "    }\n",
       "\n",
       "    .dataframe tbody tr th {\n",
       "        vertical-align: top;\n",
       "    }\n",
       "\n",
       "    .dataframe thead th {\n",
       "        text-align: right;\n",
       "    }\n",
       "</style>\n",
       "<table border=\"1\" class=\"dataframe\">\n",
       "  <thead>\n",
       "    <tr style=\"text-align: right;\">\n",
       "      <th></th>\n",
       "      <th>Delta_count</th>\n",
       "      <th>Omicron_count</th>\n",
       "      <th>Delta_prop</th>\n",
       "      <th>Omicron_prop</th>\n",
       "      <th>seoul_retail_recreation</th>\n",
       "      <th>seoul_grocery_pharmacy</th>\n",
       "      <th>seoul_parks</th>\n",
       "      <th>seoul_transit_stations</th>\n",
       "      <th>seoul_workplaces</th>\n",
       "      <th>seoul_residential</th>\n",
       "      <th>metro_retail_recreation</th>\n",
       "      <th>metro_grocery_pharmacy</th>\n",
       "      <th>metro_parks</th>\n",
       "      <th>metro_transit_stations</th>\n",
       "      <th>metro_workplaces</th>\n",
       "      <th>metro_residential</th>\n",
       "      <th>death</th>\n",
       "    </tr>\n",
       "  </thead>\n",
       "  <tbody>\n",
       "    <tr>\n",
       "      <th>0</th>\n",
       "      <td>0.0</td>\n",
       "      <td>0.0</td>\n",
       "      <td>0.0</td>\n",
       "      <td>0.0</td>\n",
       "      <td>0.614286</td>\n",
       "      <td>0.160714</td>\n",
       "      <td>0.211268</td>\n",
       "      <td>0.645161</td>\n",
       "      <td>0.923913</td>\n",
       "      <td>0.176471</td>\n",
       "      <td>0.657534</td>\n",
       "      <td>0.285714</td>\n",
       "      <td>0.229592</td>\n",
       "      <td>0.761194</td>\n",
       "      <td>0.967033</td>\n",
       "      <td>0.138889</td>\n",
       "      <td>0.00000</td>\n",
       "    </tr>\n",
       "    <tr>\n",
       "      <th>1</th>\n",
       "      <td>0.0</td>\n",
       "      <td>0.0</td>\n",
       "      <td>0.0</td>\n",
       "      <td>0.0</td>\n",
       "      <td>0.514286</td>\n",
       "      <td>0.160714</td>\n",
       "      <td>0.051643</td>\n",
       "      <td>0.500000</td>\n",
       "      <td>0.880435</td>\n",
       "      <td>0.205882</td>\n",
       "      <td>0.561644</td>\n",
       "      <td>0.285714</td>\n",
       "      <td>0.051020</td>\n",
       "      <td>0.582090</td>\n",
       "      <td>0.923077</td>\n",
       "      <td>0.166667</td>\n",
       "      <td>0.00625</td>\n",
       "    </tr>\n",
       "    <tr>\n",
       "      <th>2</th>\n",
       "      <td>0.0</td>\n",
       "      <td>0.0</td>\n",
       "      <td>0.0</td>\n",
       "      <td>0.0</td>\n",
       "      <td>0.571429</td>\n",
       "      <td>0.107143</td>\n",
       "      <td>0.117371</td>\n",
       "      <td>0.645161</td>\n",
       "      <td>0.913043</td>\n",
       "      <td>0.235294</td>\n",
       "      <td>0.643836</td>\n",
       "      <td>0.224490</td>\n",
       "      <td>0.132653</td>\n",
       "      <td>0.716418</td>\n",
       "      <td>0.956044</td>\n",
       "      <td>0.194444</td>\n",
       "      <td>0.00000</td>\n",
       "    </tr>\n",
       "    <tr>\n",
       "      <th>3</th>\n",
       "      <td>0.0</td>\n",
       "      <td>0.0</td>\n",
       "      <td>0.0</td>\n",
       "      <td>0.0</td>\n",
       "      <td>0.657143</td>\n",
       "      <td>0.133929</td>\n",
       "      <td>0.173709</td>\n",
       "      <td>0.693548</td>\n",
       "      <td>0.934783</td>\n",
       "      <td>0.147059</td>\n",
       "      <td>0.780822</td>\n",
       "      <td>0.265306</td>\n",
       "      <td>0.204082</td>\n",
       "      <td>0.805970</td>\n",
       "      <td>0.978022</td>\n",
       "      <td>0.111111</td>\n",
       "      <td>0.00000</td>\n",
       "    </tr>\n",
       "    <tr>\n",
       "      <th>4</th>\n",
       "      <td>0.0</td>\n",
       "      <td>0.0</td>\n",
       "      <td>0.0</td>\n",
       "      <td>0.0</td>\n",
       "      <td>0.600000</td>\n",
       "      <td>0.151786</td>\n",
       "      <td>0.262911</td>\n",
       "      <td>0.677419</td>\n",
       "      <td>0.923913</td>\n",
       "      <td>0.147059</td>\n",
       "      <td>0.671233</td>\n",
       "      <td>0.275510</td>\n",
       "      <td>0.265306</td>\n",
       "      <td>0.746269</td>\n",
       "      <td>0.978022</td>\n",
       "      <td>0.111111</td>\n",
       "      <td>0.01875</td>\n",
       "    </tr>\n",
       "    <tr>\n",
       "      <th>...</th>\n",
       "      <td>...</td>\n",
       "      <td>...</td>\n",
       "      <td>...</td>\n",
       "      <td>...</td>\n",
       "      <td>...</td>\n",
       "      <td>...</td>\n",
       "      <td>...</td>\n",
       "      <td>...</td>\n",
       "      <td>...</td>\n",
       "      <td>...</td>\n",
       "      <td>...</td>\n",
       "      <td>...</td>\n",
       "      <td>...</td>\n",
       "      <td>...</td>\n",
       "      <td>...</td>\n",
       "      <td>...</td>\n",
       "      <td>...</td>\n",
       "    </tr>\n",
       "    <tr>\n",
       "      <th>782</th>\n",
       "      <td>0.0</td>\n",
       "      <td>0.0</td>\n",
       "      <td>0.0</td>\n",
       "      <td>0.0</td>\n",
       "      <td>0.585714</td>\n",
       "      <td>0.232143</td>\n",
       "      <td>0.305164</td>\n",
       "      <td>0.483871</td>\n",
       "      <td>0.989130</td>\n",
       "      <td>0.117647</td>\n",
       "      <td>0.561644</td>\n",
       "      <td>0.306122</td>\n",
       "      <td>0.316327</td>\n",
       "      <td>0.567164</td>\n",
       "      <td>0.989011</td>\n",
       "      <td>0.138889</td>\n",
       "      <td>0.18125</td>\n",
       "    </tr>\n",
       "    <tr>\n",
       "      <th>783</th>\n",
       "      <td>0.0</td>\n",
       "      <td>0.0</td>\n",
       "      <td>0.0</td>\n",
       "      <td>0.0</td>\n",
       "      <td>0.600000</td>\n",
       "      <td>0.285714</td>\n",
       "      <td>0.328638</td>\n",
       "      <td>0.548387</td>\n",
       "      <td>0.978261</td>\n",
       "      <td>0.117647</td>\n",
       "      <td>0.589041</td>\n",
       "      <td>0.346939</td>\n",
       "      <td>0.362245</td>\n",
       "      <td>0.626866</td>\n",
       "      <td>0.967033</td>\n",
       "      <td>0.138889</td>\n",
       "      <td>0.00000</td>\n",
       "    </tr>\n",
       "    <tr>\n",
       "      <th>784</th>\n",
       "      <td>0.0</td>\n",
       "      <td>0.0</td>\n",
       "      <td>0.0</td>\n",
       "      <td>0.0</td>\n",
       "      <td>0.671429</td>\n",
       "      <td>0.321429</td>\n",
       "      <td>0.394366</td>\n",
       "      <td>0.548387</td>\n",
       "      <td>0.880435</td>\n",
       "      <td>0.147059</td>\n",
       "      <td>0.630137</td>\n",
       "      <td>0.367347</td>\n",
       "      <td>0.433673</td>\n",
       "      <td>0.641791</td>\n",
       "      <td>0.879121</td>\n",
       "      <td>0.111111</td>\n",
       "      <td>0.00000</td>\n",
       "    </tr>\n",
       "    <tr>\n",
       "      <th>785</th>\n",
       "      <td>0.0</td>\n",
       "      <td>0.0</td>\n",
       "      <td>0.0</td>\n",
       "      <td>0.0</td>\n",
       "      <td>0.800000</td>\n",
       "      <td>0.285714</td>\n",
       "      <td>0.483568</td>\n",
       "      <td>0.629032</td>\n",
       "      <td>0.858696</td>\n",
       "      <td>0.117647</td>\n",
       "      <td>0.767123</td>\n",
       "      <td>0.316327</td>\n",
       "      <td>0.596939</td>\n",
       "      <td>0.701493</td>\n",
       "      <td>0.868132</td>\n",
       "      <td>0.055556</td>\n",
       "      <td>0.00000</td>\n",
       "    </tr>\n",
       "    <tr>\n",
       "      <th>786</th>\n",
       "      <td>0.0</td>\n",
       "      <td>0.0</td>\n",
       "      <td>0.0</td>\n",
       "      <td>0.0</td>\n",
       "      <td>0.728571</td>\n",
       "      <td>0.357143</td>\n",
       "      <td>0.431925</td>\n",
       "      <td>0.629032</td>\n",
       "      <td>1.000000</td>\n",
       "      <td>0.088235</td>\n",
       "      <td>0.684932</td>\n",
       "      <td>0.438776</td>\n",
       "      <td>0.479592</td>\n",
       "      <td>0.686567</td>\n",
       "      <td>1.000000</td>\n",
       "      <td>0.083333</td>\n",
       "      <td>0.00000</td>\n",
       "    </tr>\n",
       "  </tbody>\n",
       "</table>\n",
       "<p>787 rows × 17 columns</p>\n",
       "</div>"
      ],
      "text/plain": [
       "     Delta_count  Omicron_count  Delta_prop  Omicron_prop  \\\n",
       "0            0.0            0.0         0.0           0.0   \n",
       "1            0.0            0.0         0.0           0.0   \n",
       "2            0.0            0.0         0.0           0.0   \n",
       "3            0.0            0.0         0.0           0.0   \n",
       "4            0.0            0.0         0.0           0.0   \n",
       "..           ...            ...         ...           ...   \n",
       "782          0.0            0.0         0.0           0.0   \n",
       "783          0.0            0.0         0.0           0.0   \n",
       "784          0.0            0.0         0.0           0.0   \n",
       "785          0.0            0.0         0.0           0.0   \n",
       "786          0.0            0.0         0.0           0.0   \n",
       "\n",
       "     seoul_retail_recreation  seoul_grocery_pharmacy  seoul_parks  \\\n",
       "0                   0.614286                0.160714     0.211268   \n",
       "1                   0.514286                0.160714     0.051643   \n",
       "2                   0.571429                0.107143     0.117371   \n",
       "3                   0.657143                0.133929     0.173709   \n",
       "4                   0.600000                0.151786     0.262911   \n",
       "..                       ...                     ...          ...   \n",
       "782                 0.585714                0.232143     0.305164   \n",
       "783                 0.600000                0.285714     0.328638   \n",
       "784                 0.671429                0.321429     0.394366   \n",
       "785                 0.800000                0.285714     0.483568   \n",
       "786                 0.728571                0.357143     0.431925   \n",
       "\n",
       "     seoul_transit_stations  seoul_workplaces  seoul_residential  \\\n",
       "0                  0.645161          0.923913           0.176471   \n",
       "1                  0.500000          0.880435           0.205882   \n",
       "2                  0.645161          0.913043           0.235294   \n",
       "3                  0.693548          0.934783           0.147059   \n",
       "4                  0.677419          0.923913           0.147059   \n",
       "..                      ...               ...                ...   \n",
       "782                0.483871          0.989130           0.117647   \n",
       "783                0.548387          0.978261           0.117647   \n",
       "784                0.548387          0.880435           0.147059   \n",
       "785                0.629032          0.858696           0.117647   \n",
       "786                0.629032          1.000000           0.088235   \n",
       "\n",
       "     metro_retail_recreation  metro_grocery_pharmacy  metro_parks  \\\n",
       "0                   0.657534                0.285714     0.229592   \n",
       "1                   0.561644                0.285714     0.051020   \n",
       "2                   0.643836                0.224490     0.132653   \n",
       "3                   0.780822                0.265306     0.204082   \n",
       "4                   0.671233                0.275510     0.265306   \n",
       "..                       ...                     ...          ...   \n",
       "782                 0.561644                0.306122     0.316327   \n",
       "783                 0.589041                0.346939     0.362245   \n",
       "784                 0.630137                0.367347     0.433673   \n",
       "785                 0.767123                0.316327     0.596939   \n",
       "786                 0.684932                0.438776     0.479592   \n",
       "\n",
       "     metro_transit_stations  metro_workplaces  metro_residential    death  \n",
       "0                  0.761194          0.967033           0.138889  0.00000  \n",
       "1                  0.582090          0.923077           0.166667  0.00625  \n",
       "2                  0.716418          0.956044           0.194444  0.00000  \n",
       "3                  0.805970          0.978022           0.111111  0.00000  \n",
       "4                  0.746269          0.978022           0.111111  0.01875  \n",
       "..                      ...               ...                ...      ...  \n",
       "782                0.567164          0.989011           0.138889  0.18125  \n",
       "783                0.626866          0.967033           0.138889  0.00000  \n",
       "784                0.641791          0.879121           0.111111  0.00000  \n",
       "785                0.701493          0.868132           0.055556  0.00000  \n",
       "786                0.686567          1.000000           0.083333  0.00000  \n",
       "\n",
       "[787 rows x 17 columns]"
      ]
     },
     "execution_count": 39,
     "metadata": {},
     "output_type": "execute_result"
    }
   ],
   "source": [
    "data_FS_X=data_FS_X[variables]\n",
    "data_FS_X"
   ]
  },
  {
   "cell_type": "code",
   "execution_count": 40,
   "metadata": {},
   "outputs": [],
   "source": [
    "FI_C=pd.DataFrame(columns={'Feature'})\n",
    "FI_C['Feature']=data_FS_X.columns"
   ]
  },
  {
   "cell_type": "code",
   "execution_count": 41,
   "metadata": {},
   "outputs": [],
   "source": [
    "# explore the algorithm wrapped by RFE\n",
    "from sklearn.ensemble import GradientBoostingRegressor\n",
    "from sklearn.ensemble import BaggingRegressor\n",
    "from sklearn.neighbors import KNeighborsRegressor\n",
    "from sklearn.neural_network import MLPRegressor\n",
    "from sklearn.pipeline import Pipeline\n",
    "from matplotlib import pyplot\n",
    "fit_num=1\n",
    "for i in range(fit_num):\n",
    "\n",
    "    GBR_clf= GradientBoostingRegressor()\n",
    "\n",
    "    GBR_clf.fit(data_FS_X, data_FS_Y)\n",
    "    feature_importance = GBR_clf.feature_importances_\n",
    "    \n",
    "    temp=pd.DataFrame(columns={'Feature'})\n",
    "    temp['Feature']=data_FS_X.columns\n",
    "    temp['Feature Importance']=feature_importance \n",
    "    \n",
    "    \n",
    "    FI_C['Simulation_'+ str(i)]=feature_importance"
   ]
  },
  {
   "cell_type": "code",
   "execution_count": 42,
   "metadata": {},
   "outputs": [],
   "source": [
    "for i in range(len(FI_C)):\n",
    "    FI_C.loc[i,'mean']=FI_C.loc[i,FI_C.columns[1:]].mean()"
   ]
  },
  {
   "cell_type": "code",
   "execution_count": 43,
   "metadata": {},
   "outputs": [
    {
     "data": {
      "image/png": "[encoded data removed]",
      "text/plain": [
       "<Figure size 432x288 with 1 Axes>"
      ]
     },
     "metadata": {
      "needs_background": "light"
     },
     "output_type": "display_data"
    }
   ],
   "source": [
    "feature_importance=FI_C['mean']\n",
    "sorted_idx = np.argsort(feature_importance)\n",
    "pos = np.arange(sorted_idx.shape[0]) + .5\n",
    "plt.barh(pos, feature_importance[sorted_idx], align='center')\n",
    "plt.yticks(pos, np.array(data_FS_X.columns)[sorted_idx])\n",
    "plt.xlim([0, 0.5])\n",
    "plt.xlabel('Feature Importance')\n",
    "plt.rc('axes', titlesize=20)\n",
    "plt.title('RMML')\n",
    "# plt.text(-0.15, 8, 'A', fontdict=font2)\n",
    "plt.rcParams['font.family'] = 'Arial'\n",
    "plt.tight_layout()\n",
    "plt.show()"
   ]
  },
  {
   "cell_type": "code",
   "execution_count": null,
   "metadata": {},
   "outputs": [],
   "source": []
  },
  {
   "cell_type": "code",
   "execution_count": null,
   "metadata": {},
   "outputs": [],
   "source": []
  },
  {
   "cell_type": "code",
   "execution_count": null,
   "metadata": {},
   "outputs": [],
   "source": []
  },
  {
   "cell_type": "code",
   "execution_count": null,
   "metadata": {},
   "outputs": [],
   "source": []
  },
  {
   "cell_type": "code",
   "execution_count": null,
   "metadata": {},
   "outputs": [],
   "source": []
  },
  {
   "cell_type": "code",
   "execution_count": null,
   "metadata": {},
   "outputs": [],
   "source": []
  },
  {
   "cell_type": "code",
   "execution_count": null,
   "metadata": {},
   "outputs": [],
   "source": []
  },
  {
   "cell_type": "code",
   "execution_count": null,
   "metadata": {},
   "outputs": [],
   "source": []
  },
  {
   "cell_type": "code",
   "execution_count": null,
   "metadata": {},
   "outputs": [],
   "source": []
  }
 ],
 "metadata": {
  "kernelspec": {
   "display_name": "Python 3 (ipykernel)",
   "language": "python",
   "name": "python3"
  },
  "language_info": {
   "codemirror_mode": {
    "name": "ipython",
    "version": 3
   },
   "file_extension": ".py",
   "mimetype": "text/x-python",
   "name": "python",
   "nbconvert_exporter": "python",
   "pygments_lexer": "ipython3",
   "version": "3.9.12"
  }
 },
 "nbformat": 4,
 "nbformat_minor": 4
}
