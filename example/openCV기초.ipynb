{
 "cells": [
  {
   "cell_type": "code",
   "execution_count": 48,
   "id": "fdfc4a7c-183e-443f-a9b0-f3390016615a",
   "metadata": {},
   "outputs": [
    {
     "name": "stdout",
     "output_type": "stream",
     "text": [
      "Requirement already satisfied: opencv-python in c:\\users\\zzuge\\anaconda3\\lib\\site-packages (4.6.0.66)\n",
      "Requirement already satisfied: numpy>=1.19.3 in c:\\users\\zzuge\\anaconda3\\lib\\site-packages (from opencv-python) (1.21.5)\n",
      "Note: you may need to restart the kernel to use updated packages.\n"
     ]
    }
   ],
   "source": [
    "pip install opencv-python"
   ]
  },
  {
   "cell_type": "code",
   "execution_count": 1,
   "id": "910910f2-f01d-46d2-b125-19dd3854413e",
   "metadata": {},
   "outputs": [],
   "source": [
    "import cv2\n",
    "import numpy as np"
   ]
  },
  {
   "cell_type": "code",
   "execution_count": 2,
   "id": "c4cadf1f-ce28-4ce4-898c-94c34b1d6b82",
   "metadata": {},
   "outputs": [
    {
     "name": "stdout",
     "output_type": "stream",
     "text": [
      "4.6.0\n"
     ]
    }
   ],
   "source": [
    "print(cv2.__version__)"
   ]
  },
  {
   "cell_type": "code",
   "execution_count": 24,
   "id": "459b5d55-e5b9-4d3d-bb18-0341fa7c82b8",
   "metadata": {},
   "outputs": [],
   "source": [
    "src=cv2.imread('sca.png',cv2.IMREAD_COLOR)"
   ]
  },
  {
   "cell_type": "code",
   "execution_count": 25,
   "id": "89ad1081-7fa0-4a2e-9ef4-c2a38bd4045b",
   "metadata": {},
   "outputs": [
    {
     "name": "stdout",
     "output_type": "stream",
     "text": [
      "<class 'numpy.ndarray'>\n"
     ]
    }
   ],
   "source": [
    "print(type(src))"
   ]
  },
  {
   "cell_type": "code",
   "execution_count": 26,
   "id": "42bfcc2b-cac3-43f0-b77d-539a28f993b3",
   "metadata": {},
   "outputs": [
    {
     "data": {
      "text/plain": [
       "(470, 746, 3)"
      ]
     },
     "execution_count": 26,
     "metadata": {},
     "output_type": "execute_result"
    }
   ],
   "source": [
    "src.shape"
   ]
  },
  {
   "cell_type": "code",
   "execution_count": 27,
   "id": "ed1e2ace-c878-42c8-b5e5-d7b36cc3a280",
   "metadata": {},
   "outputs": [
    {
     "data": {
      "text/plain": [
       "3"
      ]
     },
     "execution_count": 27,
     "metadata": {},
     "output_type": "execute_result"
    }
   ],
   "source": [
    "src.ndim"
   ]
  },
  {
   "cell_type": "code",
   "execution_count": 31,
   "id": "346a5e44-3958-47bb-8d17-e63ad31bbd68",
   "metadata": {},
   "outputs": [],
   "source": [
    "dst = cv2.blur(src, ksize=(9, 9), anchor=(-1, -1), borderType=cv2.BORDER_DEFAULT)"
   ]
  },
  {
   "cell_type": "code",
   "execution_count": 32,
   "id": "871d667d-78b3-4ac6-9595-20115a986ef3",
   "metadata": {},
   "outputs": [],
   "source": [
    "cv2.imshow(\"titan\", dst)\n",
    "cv2.waitKey()\n",
    "cv2.destroyAllWindows()"
   ]
  },
  {
   "cell_type": "code",
   "execution_count": 23,
   "id": "2dff21f4-5a11-4191-94db-d71a977b9be1",
   "metadata": {},
   "outputs": [],
   "source": [
    "b, g, r = cv2.split(src)\n",
    "\n",
    "inverse = cv2.merge((r, g, b))\n",
    "\n",
    "cv2.imshow(\"b\", b)\n",
    "cv2.imshow(\"g\", g)\n",
    "cv2.imshow(\"r\", r)\n",
    "cv2.imshow(\"inverse\", inverse)\n",
    "cv2.waitKey()\n",
    "cv2.destroyAllWindows()"
   ]
  },
  {
   "cell_type": "code",
   "execution_count": 22,
   "id": "d01c3854-5d41-4cc9-8fe0-eeee8b710c84",
   "metadata": {},
   "outputs": [
    {
     "data": {
      "text/plain": [
       "(460, 690)"
      ]
     },
     "execution_count": 22,
     "metadata": {},
     "output_type": "execute_result"
    }
   ],
   "source": [
    "b.shape"
   ]
  },
  {
   "cell_type": "code",
   "execution_count": 17,
   "id": "fe448b0b-25bb-4fcd-bf70-38dbc9ece0af",
   "metadata": {},
   "outputs": [
    {
     "data": {
      "text/plain": [
       "array([[  0,   2,   0, ...,   0,   1,   0],\n",
       "       [  3, 255, 253, ..., 255, 255,   0],\n",
       "       [  0, 250, 255, ..., 255, 255,   0],\n",
       "       ...,\n",
       "       [  0,  61,  64, ...,  88,  86,   0],\n",
       "       [  0,  63,  64, ...,  90,  84,   0],\n",
       "       [  0,   1,   1, ...,   0,   0,   0]], dtype=uint8)"
      ]
     },
     "execution_count": 17,
     "metadata": {},
     "output_type": "execute_result"
    }
   ],
   "source": [
    "g"
   ]
  },
  {
   "cell_type": "code",
   "execution_count": 18,
   "id": "d33f574a-a0b0-4697-8666-4917279c5c7d",
   "metadata": {},
   "outputs": [
    {
     "data": {
      "text/plain": [
       "array([[  0,   1,   1, ...,   0,   0,   0],\n",
       "       [  1, 252, 249, ..., 255, 254,   0],\n",
       "       [  1, 247, 255, ..., 255, 254,   0],\n",
       "       ...,\n",
       "       [  3, 126, 118, ...,  53,  50,   0],\n",
       "       [  0, 120, 121, ...,  61,  50,   0],\n",
       "       [  2,   0,   1, ...,   1,   0,   1]], dtype=uint8)"
      ]
     },
     "execution_count": 18,
     "metadata": {},
     "output_type": "execute_result"
    }
   ],
   "source": [
    "r"
   ]
  },
  {
   "cell_type": "code",
   "execution_count": 20,
   "id": "80b3c359-e243-408e-bf70-04a0e9b2c5cf",
   "metadata": {},
   "outputs": [
    {
     "data": {
      "text/plain": [
       "array([[[ 12,   0,   0],\n",
       "        [  0,   2,   1],\n",
       "        [  0,   0,   1],\n",
       "        ...,\n",
       "        [  2,   0,   0],\n",
       "        [  0,   1,   0],\n",
       "        [  2,   0,   0]],\n",
       "\n",
       "       [[  0,   3,   1],\n",
       "        [219, 255, 252],\n",
       "        [216, 253, 249],\n",
       "        ...,\n",
       "        [245, 255, 255],\n",
       "        [249, 255, 254],\n",
       "        [  0,   0,   0]],\n",
       "\n",
       "       [[  0,   0,   1],\n",
       "        [219, 250, 247],\n",
       "        [222, 255, 255],\n",
       "        ...,\n",
       "        [243, 255, 255],\n",
       "        [245, 255, 254],\n",
       "        [  0,   0,   0]],\n",
       "\n",
       "       ...,\n",
       "\n",
       "       [[  0,   0,   3],\n",
       "        [ 81,  61, 126],\n",
       "        [ 80,  64, 118],\n",
       "        ...,\n",
       "        [107,  88,  53],\n",
       "        [100,  86,  50],\n",
       "        [  0,   0,   0]],\n",
       "\n",
       "       [[  0,   0,   0],\n",
       "        [ 82,  63, 120],\n",
       "        [ 81,  64, 121],\n",
       "        ...,\n",
       "        [ 98,  90,  61],\n",
       "        [ 96,  84,  50],\n",
       "        [  0,   0,   0]],\n",
       "\n",
       "       [[  1,   0,   2],\n",
       "        [  0,   1,   0],\n",
       "        [  1,   1,   1],\n",
       "        ...,\n",
       "        [  0,   0,   1],\n",
       "        [  0,   0,   0],\n",
       "        [  0,   0,   1]]], dtype=uint8)"
      ]
     },
     "execution_count": 20,
     "metadata": {},
     "output_type": "execute_result"
    }
   ],
   "source": [
    "src"
   ]
  },
  {
   "cell_type": "code",
   "execution_count": null,
   "id": "f9ea7852-6aee-4471-9862-75c4b4b9d1bf",
   "metadata": {},
   "outputs": [],
   "source": []
  }
 ],
 "metadata": {
  "kernelspec": {
   "display_name": "Python 3 (ipykernel)",
   "language": "python",
   "name": "python3"
  },
  "language_info": {
   "codemirror_mode": {
    "name": "ipython",
    "version": 3
   },
   "file_extension": ".py",
   "mimetype": "text/x-python",
   "name": "python",
   "nbconvert_exporter": "python",
   "pygments_lexer": "ipython3",
   "version": "3.9.12"
  }
 },
 "nbformat": 4,
 "nbformat_minor": 5
}
