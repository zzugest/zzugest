{
 "cells": [
  {
   "cell_type": "code",
   "execution_count": 1,
   "id": "504c411f-1ef5-4cb8-9b3f-c3e661bd6328",
   "metadata": {},
   "outputs": [],
   "source": [
    "import pandas as pd\n",
    "import numpy as np"
   ]
  },
  {
   "cell_type": "code",
   "execution_count": 2,
   "id": "b2718597-d68a-4ce5-92b9-5456f3cd5b4b",
   "metadata": {},
   "outputs": [],
   "source": [
    "df=pd.read_csv('퓨처스/intergrated.csv')"
   ]
  },
  {
   "cell_type": "code",
   "execution_count": 3,
   "id": "e4de6933-0ba5-4d64-897c-2086208e669d",
   "metadata": {},
   "outputs": [],
   "source": [
    "# df = df.astype({'application_id': 'object',\n",
    "#                 'bank_id':'object',\n",
    "#                'product_id':'object',\n",
    "#                'is_applied':'object',\n",
    "#                'weekday':'object',\n",
    "#                'user_id':'object',\n",
    "#                'gender':'object',\n",
    "#                'personal_rehabilitation_yn':'object',\n",
    "#                'personal_rehabilitation_complete_yn':'object',\n",
    "#                })"
   ]
  },
  {
   "cell_type": "code",
   "execution_count": 3,
   "id": "299249ca-27a1-4c9c-ae60-da7eac56adfa",
   "metadata": {},
   "outputs": [],
   "source": [
    "df=df.select_dtypes(include = [\"number\"])"
   ]
  },
  {
   "cell_type": "code",
   "execution_count": 4,
   "id": "1c7e7899-243b-4a55-9971-0f89102d9084",
   "metadata": {},
   "outputs": [],
   "source": [
    "train=df[~(df['is_applied'].isnull())]"
   ]
  },
  {
   "cell_type": "code",
   "execution_count": 5,
   "id": "27bf4c59-ce8c-4cee-aa08-189571377be4",
   "metadata": {},
   "outputs": [],
   "source": [
    "train=train.drop(['Unnamed: 0'],axis=1)"
   ]
  },
  {
   "cell_type": "code",
   "execution_count": 6,
   "id": "449566eb-1edb-4651-806f-43098e3660c4",
   "metadata": {},
   "outputs": [
    {
     "data": {
      "text/plain": [
       "application_id                               0\n",
       "bank_id                                      0\n",
       "product_id                                   0\n",
       "loan_limit                                5738\n",
       "loan_rate                                 5738\n",
       "is_applied                                   0\n",
       "application_n                                0\n",
       "weekday                                      0\n",
       "user_id                                    113\n",
       "gender                                   91739\n",
       "credit_score                           1243925\n",
       "yearly_income                              113\n",
       "company_enter_month                     303681\n",
       "desired_amount                             113\n",
       "personal_rehabilitation_yn             5873342\n",
       "personal_rehabilitation_complete_yn    9232345\n",
       "existing_loan_cnt                      2143924\n",
       "existing_loan_amt                      3044253\n",
       "age                                      91739\n",
       "SignUp                                  394464\n",
       "OpenApp                                 394464\n",
       "Login                                   394464\n",
       "ViewLoanApplyIntro                      394464\n",
       "StartLoanApply                          394464\n",
       "CompleteIDCertification                 394464\n",
       "EndLoanApply                            394464\n",
       "UseLoanManage                           394464\n",
       "UsePrepayCalc                           394464\n",
       "UseDSRCalc                              394464\n",
       "GetCreditInfo                           394464\n",
       "dtype: int64"
      ]
     },
     "execution_count": 6,
     "metadata": {},
     "output_type": "execute_result"
    }
   ],
   "source": [
    "train.isnull().sum()"
   ]
  },
  {
   "cell_type": "code",
   "execution_count": 7,
   "id": "127cfab0-afbf-4ded-8481-4bd8976f7f65",
   "metadata": {},
   "outputs": [],
   "source": [
    "train=train[~(train['user_id'].isnull())]\n",
    "train=train[~(train['age'].isnull())]"
   ]
  },
  {
   "cell_type": "code",
   "execution_count": 8,
   "id": "dbf1d257-5732-412a-9a05-877657ee874e",
   "metadata": {},
   "outputs": [],
   "source": [
    "train=train.fillna(0)"
   ]
  },
  {
   "cell_type": "code",
   "execution_count": 9,
   "id": "76dd5436-432e-4133-9638-e57e04e498b6",
   "metadata": {},
   "outputs": [],
   "source": [
    "from sklearn.cluster import KMeans\n",
    "\n",
    "k = 2\n",
    "\n",
    "# 그룹 수, random_state 설정\n",
    "model = KMeans(n_clusters = k, random_state = 10)\n",
    "\n",
    "model.fit(train.drop('is_applied',axis=1))\n",
    "\n",
    "# 클러스터링 결과 각 데이터가 몇 번째 그룹에 속하는지 저장\n",
    "train['cluster'] = model.fit_predict(train)"
   ]
  },
  {
   "cell_type": "code",
   "execution_count": 10,
   "id": "b5f3ca41-14bc-4216-8f96-87d1e72398b1",
   "metadata": {},
   "outputs": [
    {
     "data": {
      "text/plain": [
       "0    10169917\n",
       "1        8468\n",
       "Name: cluster, dtype: int64"
      ]
     },
     "execution_count": 10,
     "metadata": {},
     "output_type": "execute_result"
    }
   ],
   "source": [
    "train['cluster'].value_counts()"
   ]
  },
  {
   "cell_type": "code",
   "execution_count": 11,
   "id": "d1b6ca64-8142-4f16-978c-673deb5720f0",
   "metadata": {},
   "outputs": [
    {
     "data": {
      "text/plain": [
       "0.0    9622673\n",
       "1.0     555712\n",
       "Name: is_applied, dtype: int64"
      ]
     },
     "execution_count": 11,
     "metadata": {},
     "output_type": "execute_result"
    }
   ],
   "source": [
    "train['is_applied'].value_counts()"
   ]
  },
  {
   "cell_type": "code",
   "execution_count": 12,
   "id": "a0fe22d2-d888-4277-a1d5-246ef80a39e1",
   "metadata": {},
   "outputs": [
    {
     "data": {
      "text/html": [
       "<div>\n",
       "<style scoped>\n",
       "    .dataframe tbody tr th:only-of-type {\n",
       "        vertical-align: middle;\n",
       "    }\n",
       "\n",
       "    .dataframe tbody tr th {\n",
       "        vertical-align: top;\n",
       "    }\n",
       "\n",
       "    .dataframe thead th {\n",
       "        text-align: right;\n",
       "    }\n",
       "</style>\n",
       "<table border=\"1\" class=\"dataframe\">\n",
       "  <thead>\n",
       "    <tr style=\"text-align: right;\">\n",
       "      <th></th>\n",
       "      <th>application_id</th>\n",
       "      <th>bank_id</th>\n",
       "      <th>product_id</th>\n",
       "      <th>loan_limit</th>\n",
       "      <th>loan_rate</th>\n",
       "      <th>is_applied</th>\n",
       "      <th>application_n</th>\n",
       "      <th>weekday</th>\n",
       "      <th>user_id</th>\n",
       "      <th>gender</th>\n",
       "      <th>...</th>\n",
       "      <th>Login</th>\n",
       "      <th>ViewLoanApplyIntro</th>\n",
       "      <th>StartLoanApply</th>\n",
       "      <th>CompleteIDCertification</th>\n",
       "      <th>EndLoanApply</th>\n",
       "      <th>UseLoanManage</th>\n",
       "      <th>UsePrepayCalc</th>\n",
       "      <th>UseDSRCalc</th>\n",
       "      <th>GetCreditInfo</th>\n",
       "      <th>cluster</th>\n",
       "    </tr>\n",
       "  </thead>\n",
       "  <tbody>\n",
       "    <tr>\n",
       "      <th>13301</th>\n",
       "      <td>2157865</td>\n",
       "      <td>54</td>\n",
       "      <td>235</td>\n",
       "      <td>20000000.0</td>\n",
       "      <td>16.5</td>\n",
       "      <td>1.0</td>\n",
       "      <td>1</td>\n",
       "      <td>0</td>\n",
       "      <td>346970.0</td>\n",
       "      <td>1.0</td>\n",
       "      <td>...</td>\n",
       "      <td>5.0</td>\n",
       "      <td>5.0</td>\n",
       "      <td>4.0</td>\n",
       "      <td>5.0</td>\n",
       "      <td>13.0</td>\n",
       "      <td>5.0</td>\n",
       "      <td>0.0</td>\n",
       "      <td>0.0</td>\n",
       "      <td>6.0</td>\n",
       "      <td>0</td>\n",
       "    </tr>\n",
       "    <tr>\n",
       "      <th>13302</th>\n",
       "      <td>576643</td>\n",
       "      <td>54</td>\n",
       "      <td>235</td>\n",
       "      <td>11000000.0</td>\n",
       "      <td>16.5</td>\n",
       "      <td>0.0</td>\n",
       "      <td>2</td>\n",
       "      <td>0</td>\n",
       "      <td>545882.0</td>\n",
       "      <td>1.0</td>\n",
       "      <td>...</td>\n",
       "      <td>19.0</td>\n",
       "      <td>14.0</td>\n",
       "      <td>19.0</td>\n",
       "      <td>12.0</td>\n",
       "      <td>21.0</td>\n",
       "      <td>0.0</td>\n",
       "      <td>0.0</td>\n",
       "      <td>0.0</td>\n",
       "      <td>0.0</td>\n",
       "      <td>0</td>\n",
       "    </tr>\n",
       "    <tr>\n",
       "      <th>13303</th>\n",
       "      <td>576643</td>\n",
       "      <td>11</td>\n",
       "      <td>118</td>\n",
       "      <td>3000000.0</td>\n",
       "      <td>20.0</td>\n",
       "      <td>0.0</td>\n",
       "      <td>2</td>\n",
       "      <td>0</td>\n",
       "      <td>545882.0</td>\n",
       "      <td>1.0</td>\n",
       "      <td>...</td>\n",
       "      <td>19.0</td>\n",
       "      <td>14.0</td>\n",
       "      <td>19.0</td>\n",
       "      <td>12.0</td>\n",
       "      <td>21.0</td>\n",
       "      <td>0.0</td>\n",
       "      <td>0.0</td>\n",
       "      <td>0.0</td>\n",
       "      <td>0.0</td>\n",
       "      <td>0</td>\n",
       "    </tr>\n",
       "    <tr>\n",
       "      <th>13304</th>\n",
       "      <td>2136706</td>\n",
       "      <td>42</td>\n",
       "      <td>216</td>\n",
       "      <td>10000000.0</td>\n",
       "      <td>13.5</td>\n",
       "      <td>0.0</td>\n",
       "      <td>40</td>\n",
       "      <td>0</td>\n",
       "      <td>558819.0</td>\n",
       "      <td>1.0</td>\n",
       "      <td>...</td>\n",
       "      <td>34.0</td>\n",
       "      <td>7.0</td>\n",
       "      <td>32.0</td>\n",
       "      <td>3.0</td>\n",
       "      <td>29.0</td>\n",
       "      <td>15.0</td>\n",
       "      <td>0.0</td>\n",
       "      <td>0.0</td>\n",
       "      <td>18.0</td>\n",
       "      <td>0</td>\n",
       "    </tr>\n",
       "    <tr>\n",
       "      <th>13305</th>\n",
       "      <td>2136706</td>\n",
       "      <td>25</td>\n",
       "      <td>169</td>\n",
       "      <td>22000000.0</td>\n",
       "      <td>15.9</td>\n",
       "      <td>0.0</td>\n",
       "      <td>40</td>\n",
       "      <td>0</td>\n",
       "      <td>558819.0</td>\n",
       "      <td>1.0</td>\n",
       "      <td>...</td>\n",
       "      <td>34.0</td>\n",
       "      <td>7.0</td>\n",
       "      <td>32.0</td>\n",
       "      <td>3.0</td>\n",
       "      <td>29.0</td>\n",
       "      <td>15.0</td>\n",
       "      <td>0.0</td>\n",
       "      <td>0.0</td>\n",
       "      <td>18.0</td>\n",
       "      <td>0</td>\n",
       "    </tr>\n",
       "  </tbody>\n",
       "</table>\n",
       "<p>5 rows × 31 columns</p>\n",
       "</div>"
      ],
      "text/plain": [
       "       application_id  bank_id  product_id  loan_limit  loan_rate  is_applied  \\\n",
       "13301         2157865       54         235  20000000.0       16.5         1.0   \n",
       "13302          576643       54         235  11000000.0       16.5         0.0   \n",
       "13303          576643       11         118   3000000.0       20.0         0.0   \n",
       "13304         2136706       42         216  10000000.0       13.5         0.0   \n",
       "13305         2136706       25         169  22000000.0       15.9         0.0   \n",
       "\n",
       "       application_n  weekday   user_id  gender  ...  Login  \\\n",
       "13301              1        0  346970.0     1.0  ...    5.0   \n",
       "13302              2        0  545882.0     1.0  ...   19.0   \n",
       "13303              2        0  545882.0     1.0  ...   19.0   \n",
       "13304             40        0  558819.0     1.0  ...   34.0   \n",
       "13305             40        0  558819.0     1.0  ...   34.0   \n",
       "\n",
       "       ViewLoanApplyIntro  StartLoanApply  CompleteIDCertification  \\\n",
       "13301                 5.0             4.0                      5.0   \n",
       "13302                14.0            19.0                     12.0   \n",
       "13303                14.0            19.0                     12.0   \n",
       "13304                 7.0            32.0                      3.0   \n",
       "13305                 7.0            32.0                      3.0   \n",
       "\n",
       "       EndLoanApply  UseLoanManage  UsePrepayCalc  UseDSRCalc  GetCreditInfo  \\\n",
       "13301          13.0            5.0            0.0         0.0            6.0   \n",
       "13302          21.0            0.0            0.0         0.0            0.0   \n",
       "13303          21.0            0.0            0.0         0.0            0.0   \n",
       "13304          29.0           15.0            0.0         0.0           18.0   \n",
       "13305          29.0           15.0            0.0         0.0           18.0   \n",
       "\n",
       "       cluster  \n",
       "13301        0  \n",
       "13302        0  \n",
       "13303        0  \n",
       "13304        0  \n",
       "13305        0  \n",
       "\n",
       "[5 rows x 31 columns]"
      ]
     },
     "execution_count": 12,
     "metadata": {},
     "output_type": "execute_result"
    }
   ],
   "source": [
    "train.head()"
   ]
  },
  {
   "cell_type": "code",
   "execution_count": 13,
   "id": "2bb429b3-6f43-44f8-994c-cb7079a10ce8",
   "metadata": {},
   "outputs": [
    {
     "data": {
      "text/plain": [
       "(array([[9.6226730e+06, 0.0000000e+00, 0.0000000e+00, 0.0000000e+00,\n",
       "         0.0000000e+00, 0.0000000e+00, 0.0000000e+00, 0.0000000e+00,\n",
       "         0.0000000e+00, 5.5571200e+05],\n",
       "        [1.0169917e+07, 0.0000000e+00, 0.0000000e+00, 0.0000000e+00,\n",
       "         0.0000000e+00, 0.0000000e+00, 0.0000000e+00, 0.0000000e+00,\n",
       "         0.0000000e+00, 8.4680000e+03]]),\n",
       " array([0. , 0.1, 0.2, 0.3, 0.4, 0.5, 0.6, 0.7, 0.8, 0.9, 1. ]),\n",
       " <a list of 2 BarContainer objects>)"
      ]
     },
     "execution_count": 13,
     "metadata": {},
     "output_type": "execute_result"
    },
    {
     "data": {
      "image/png": "[encoded data removed]",
      "text/plain": [
       "<Figure size 288x504 with 1 Axes>"
      ]
     },
     "metadata": {
      "needs_background": "light"
     },
     "output_type": "display_data"
    }
   ],
   "source": [
    "import seaborn as sns\n",
    "import matplotlib.pyplot as plt\n",
    "plt.figure(figsize = (4, 7))\n",
    "plt.hist([train['is_applied'],train['cluster']],label=['is_apllied','cluster'])"
   ]
  },
  {
   "cell_type": "code",
   "execution_count": null,
   "id": "785ac0ce-721c-415e-98e2-9b2d9d826f4f",
   "metadata": {},
   "outputs": [],
   "source": []
  }
 ],
 "metadata": {
  "kernelspec": {
   "display_name": "Python 3 (ipykernel)",
   "language": "python",
   "name": "python3"
  },
  "language_info": {
   "codemirror_mode": {
    "name": "ipython",
    "version": 3
   },
   "file_extension": ".py",
   "mimetype": "text/x-python",
   "name": "python",
   "nbconvert_exporter": "python",
   "pygments_lexer": "ipython3",
   "version": "3.9.12"
  }
 },
 "nbformat": 4,
 "nbformat_minor": 5
}
