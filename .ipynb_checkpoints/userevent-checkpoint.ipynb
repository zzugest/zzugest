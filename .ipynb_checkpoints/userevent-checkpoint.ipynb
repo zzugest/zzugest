{
 "cells": [
  {
   "cell_type": "code",
   "execution_count": 2,
   "id": "c9359ea7-5b00-46bf-950b-dd9b8d836b7e",
   "metadata": {},
   "outputs": [
    {
     "name": "stderr",
     "output_type": "stream",
     "text": [
      "\u001b[32m\u001b[1m   Resolving\u001b[22m\u001b[39m package versions...\n",
      "\u001b[32m\u001b[1m  No Changes\u001b[22m\u001b[39m to `C:\\Users\\zzuge\\.julia\\environments\\v1.8\\Project.toml`\n",
      "\u001b[32m\u001b[1m  No Changes\u001b[22m\u001b[39m to `C:\\Users\\zzuge\\.julia\\environments\\v1.8\\Manifest.toml`\n",
      "\u001b[32m\u001b[1m   Resolving\u001b[22m\u001b[39m package versions...\n",
      "\u001b[32m\u001b[1m  No Changes\u001b[22m\u001b[39m to `C:\\Users\\zzuge\\.julia\\environments\\v1.8\\Project.toml`\n",
      "\u001b[32m\u001b[1m  No Changes\u001b[22m\u001b[39m to `C:\\Users\\zzuge\\.julia\\environments\\v1.8\\Manifest.toml`\n",
      "\u001b[32m\u001b[1m   Resolving\u001b[22m\u001b[39m package versions...\n",
      "\u001b[32m\u001b[1m  No Changes\u001b[22m\u001b[39m to `C:\\Users\\zzuge\\.julia\\environments\\v1.8\\Project.toml`\n",
      "\u001b[32m\u001b[1m  No Changes\u001b[22m\u001b[39m to `C:\\Users\\zzuge\\.julia\\environments\\v1.8\\Manifest.toml`\n"
     ]
    },
    {
     "name": "stdout",
     "output_type": "stream",
     "text": [
      " 10.857843 seconds (1.40 M allocations: 1.176 GiB, 0.81% gc time, 43.42% compilation time)\n"
     ]
    },
    {
     "data": {
      "text/plain": [
       "\"C:\\\\Users\\\\zzuge\\\\user_event.csv\""
      ]
     },
     "execution_count": 2,
     "metadata": {},
     "output_type": "execute_result"
    }
   ],
   "source": [
    "using Pkg\n",
    "Pkg.add(\"CSV\")\n",
    "Pkg.add(\"DataFrames\")\n",
    "Pkg.add(\"Plots\")\n",
    "using CSV, DataFrames\n",
    "using Plots\n",
    "\n",
    "event_list = [\"SignUp\",\n",
    "              \"OpenApp\",\n",
    "              \"Login\",\n",
    "              \"ViewLoanApplyIntro\",\n",
    "              \"StartLoanApply\",\n",
    "              \"CompleteIDCertification\",\n",
    "              \"EndLoanApply\",\n",
    "              \"UseLoanManage\",\n",
    "              \"UsePrepayCalc\",\n",
    "              \"UseDSRCalc\",\n",
    "              \"GetCreditInfo\"]\n",
    "\n",
    "# data1 = CSV.read(\"bigcon22/FD/01_data/loan_result.csv\", DataFrame)\n",
    "@time data2 = CSV.read(\"C:\\\\Users\\\\zzuge\\\\git\\\\bigcon2x\\\\bigcon22\\\\FD\\\\01_data\\\\log_data.csv\", DataFrame, select = [1,2])\n",
    "# data3 = CSV.read(\"bigcon22/FD/01_data/user_spec.csv\", DataFrame)\n",
    "\n",
    "gdf = groupby(data2, :user_id)\n",
    "n_action = [nrow(df) for df in gdf]\n",
    "histogram(n_action, xlims = (0,100), label = :none)\n",
    "\n",
    "freq = Array{Array{Int64, 1}, 1}()\n",
    "for df in gdf\n",
    "    push!(freq, [count(df.event .== event) for event in event_list])\n",
    "end\n",
    "user_event = hcat(\n",
    "    DataFrame(user_id = (data2.user_id |> unique |> sort)),\n",
    "    DataFrame(reduce(hcat, freq)', event_list)\n",
    ")\n",
    "CSV.write(\"C:\\\\Users\\\\zzuge\\\\user_event.csv\", user_event)"
   ]
  },
  {
   "cell_type": "code",
   "execution_count": null,
   "id": "437d7c2b-b1fc-428a-87b8-ba07a2dec0a6",
   "metadata": {},
   "outputs": [],
   "source": []
  }
 ],
 "metadata": {
  "kernelspec": {
   "display_name": "Julia 1.8.1",
   "language": "julia",
   "name": "julia-1.8"
  },
  "language_info": {
   "file_extension": ".jl",
   "mimetype": "application/julia",
   "name": "julia",
   "version": "1.8.1"
  }
 },
 "nbformat": 4,
 "nbformat_minor": 5
}
