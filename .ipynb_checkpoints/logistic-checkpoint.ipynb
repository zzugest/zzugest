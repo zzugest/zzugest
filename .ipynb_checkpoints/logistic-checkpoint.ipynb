{
 "cells": [
  {
   "cell_type": "code",
   "execution_count": 1,
   "id": "2bf10a84-1746-4f48-8c5e-7636f00f0854",
   "metadata": {},
   "outputs": [],
   "source": [
    "import pandas as pd\n",
    "import numpy as np\n",
    "import matplotlib.pyplot as plt"
   ]
  },
  {
   "cell_type": "code",
   "execution_count": 2,
   "id": "eda2cd8e-3ce1-4311-977b-f8e1f3d07805",
   "metadata": {},
   "outputs": [],
   "source": [
    "integrated = pd.read_csv('C:\\\\Users\\\\zzuge\\\\integrated.csv')"
   ]
  },
  {
   "cell_type": "code",
   "execution_count": 3,
   "id": "dc5f327f-7022-44ee-b172-ae9546cd46b8",
   "metadata": {},
   "outputs": [],
   "source": [
    "integrated['insert_time'] = pd.to_datetime(integrated['insert_time']).dt.hour # insert_time 0~23으로 변환\n",
    "integrated.drop('Unnamed: 0', axis = 1, inplace = True)"
   ]
  },
  {
   "cell_type": "code",
   "execution_count": 4,
   "id": "3f782da5-61a0-4e72-bb16-6f803691ca23",
   "metadata": {},
   "outputs": [],
   "source": [
    "# 개인 회생 여부 모두 0으로 처리\n",
    "integrated[['personal_rehabilitation_yn','personal_rehabilitation_complete_yn']] = integrated[['personal_rehabilitation_yn',\n",
    "    'personal_rehabilitation_complete_yn']].fillna(0)"
   ]
  },
  {
   "cell_type": "code",
   "execution_count": 5,
   "id": "05d2d946-5507-4396-a56c-ead4592014f0",
   "metadata": {},
   "outputs": [],
   "source": [
    "from sklearn.model_selection import train_test_split"
   ]
  },
  {
   "cell_type": "code",
   "execution_count": 6,
   "id": "8aef5ed9-91ea-42d6-b442-04678e1c57f9",
   "metadata": {},
   "outputs": [],
   "source": [
    "#라벨인코딩을 하기 위함 dictionary map 생성 함수\n",
    "def make_label_map(dataframe):\n",
    "    label_maps = {}\n",
    "    for col in dataframe.columns:\n",
    "        if dataframe[col].dtype=='object':\n",
    "            label_map = {'unknown':0}\n",
    "            for i, key in enumerate(dataframe[col].unique()):\n",
    "                label_map[key] = i  #새로 등장하는 유니크 값들에 대해 1부터 1씩 증가시켜 키값을 부여해줍니다.\n",
    "            label_maps[col] = label_map\n",
    "    return label_maps\n",
    "\n",
    "# 각 범주형 변수에 인코딩 값을 부여하는 함수\n",
    "def label_encoder(dataframe, label_map):\n",
    "    for col in dataframe.columns:\n",
    "        if dataframe[col].dtype=='object':\n",
    "            dataframe[col] = dataframe[col].map(label_map[col])\n",
    "            #dataframe[col] = dataframe[col].fillna(label_map[col]['unknown']) #혹시 모를 결측값은 unknown의 값(0)으로 채워줍니다.\n",
    "    return dataframe\n",
    "\n",
    "integrated = label_encoder(integrated, make_label_map(integrated))"
   ]
  },
  {
   "cell_type": "code",
   "execution_count": 7,
   "id": "f624800c-2f09-4071-87af-2d6f8bbf34b6",
   "metadata": {},
   "outputs": [],
   "source": [
    "from sklearn.preprocessing import MinMaxScaler\n",
    "scaler = MinMaxScaler()\n"
   ]
  },
  {
   "cell_type": "code",
   "execution_count": 7,
   "id": "bffccab2-0e63-4bb0-9eb7-9b56b5ab1286",
   "metadata": {},
   "outputs": [],
   "source": [
    "test_data = integrated[integrated['is_applied'].isnull()]  # train_data와 test_data로 구분\n",
    "\n",
    "train_data = integrated[~integrated['is_applied'].isnull()]\n",
    "train_data = train_data.dropna()\n",
    "# 1/2크기로 변경\n",
    "train_data = train_data.sample(frac = 0.3)\n",
    "test_data = test_data.sample(frac = 0.3)\n",
    "\n",
    "# x_test = test_data.drop('is_applied', axis = 1)\n",
    "# x_test = x_test.dropna()\n",
    "\n",
    "# X_train = train_data.drop('is_applied', axis = 1)\n",
    "# y_train = train_data['is_applied']\n",
    "\n",
    "#X_train, X_val, y_train, y_val = train_test_split(X_train, y_train ,test_size = 0.3, random_state = 111)\n",
    "#X_train, X_minitest, y_train, y_minitest = train_test_split(X_train, y_train ,test_size = 0.3, random_state = 111)\n",
    "\n",
    "# scaler.fit(X_train)\n",
    "# X_train = scaler.transform(X_train)\n",
    "# X_val = scaler.transform(X_val)\n",
    "# X_minitest = scaler.transform(X_minitest)\n",
    "# x_test = scaler.transform(x_test)"
   ]
  },
  {
   "cell_type": "code",
   "execution_count": 9,
   "id": "ec540438-8bec-417f-9f43-0bbf04e9ce07",
   "metadata": {},
   "outputs": [],
   "source": [
    "import statsmodels.api as sm"
   ]
  },
  {
   "cell_type": "code",
   "execution_count": 31,
   "id": "49c29058-46b7-4994-937d-b22a61a7df7a",
   "metadata": {},
   "outputs": [
    {
     "data": {
      "text/plain": [
       "0    2013087\n",
       "Name: insert_time, dtype: int64"
      ]
     },
     "execution_count": 31,
     "metadata": {},
     "output_type": "execute_result"
    }
   ],
   "source": [
    "train_data['insert_time'].value_counts()"
   ]
  },
  {
   "cell_type": "code",
   "execution_count": 32,
   "id": "a0007024-ccf3-4cc1-8f99-313a44c079e7",
   "metadata": {},
   "outputs": [
    {
     "name": "stdout",
     "output_type": "stream",
     "text": [
      "Optimization terminated successfully.\n",
      "         Current function value: 0.168734\n",
      "         Iterations 10\n",
      "                           Logit Regression Results                           \n",
      "==============================================================================\n",
      "Dep. Variable:             is_applied   No. Observations:              2013087\n",
      "Model:                          Logit   Df Residuals:                  2013052\n",
      "Method:                           MLE   Df Model:                           34\n",
      "Date:                Sun, 25 Sep 2022   Pseudo R-squ.:                  0.2186\n",
      "Time:                        12:14:08   Log-Likelihood:            -3.3968e+05\n",
      "converged:                       True   LL-Null:                   -4.3472e+05\n",
      "Covariance Type:            nonrobust   LLR p-value:                     0.000\n",
      "=======================================================================================================\n",
      "                                          coef    std err          z      P>|z|      [0.025      0.975]\n",
      "-------------------------------------------------------------------------------------------------------\n",
      "Intercept                              10.5907      1.390      7.620      0.000       7.867      13.315\n",
      "application_id                        2.41e-09   5.25e-09      0.459      0.646   -7.88e-09    1.27e-08\n",
      "bank_id                                 0.0013      0.000      6.627      0.000       0.001       0.002\n",
      "product_id                              0.0017   4.55e-05     36.585      0.000       0.002       0.002\n",
      "loan_limit                           2.183e-08   2.16e-10    101.031      0.000    2.14e-08    2.23e-08\n",
      "loan_rate                              -0.1210      0.001   -144.303      0.000      -0.123      -0.119\n",
      "application_n                          -0.0837      0.000   -232.270      0.000      -0.084      -0.083\n",
      "weekday                                -0.0314      0.002    -18.168      0.000      -0.035      -0.028\n",
      "user_id                              -7.28e-09   1.29e-08     -0.562      0.574   -3.27e-08    1.81e-08\n",
      "gender                                 -0.0152      0.007     -2.090      0.037      -0.029      -0.001\n",
      "credit_score                           -0.0022   4.06e-05    -54.853      0.000      -0.002      -0.002\n",
      "yearly_income                         8.62e-11   3.62e-11      2.379      0.017    1.52e-11    1.57e-10\n",
      "income_type                            -0.0004      0.002     -0.161      0.872      -0.005       0.004\n",
      "company_enter_month                  -4.52e-05   6.85e-06     -6.594      0.000   -5.86e-05   -3.18e-05\n",
      "employment_type                         0.0125      0.004      2.800      0.005       0.004       0.021\n",
      "houseown_type                           0.0168      0.005      3.475      0.001       0.007       0.026\n",
      "desired_amount                      -7.689e-10   6.38e-11    -12.047      0.000   -8.94e-10   -6.44e-10\n",
      "purpose                                -0.0046      0.002     -1.976      0.048      -0.009   -3.85e-05\n",
      "personal_rehabilitation_yn              0.0032      0.054      0.059      0.953      -0.103       0.109\n",
      "personal_rehabilitation_complete_yn     0.0771      0.172      0.449      0.653      -0.259       0.413\n",
      "existing_loan_cnt                       0.0291      0.001     33.484      0.000       0.027       0.031\n",
      "existing_loan_amt                   -5.374e-10   4.24e-11    -12.683      0.000    -6.2e-10   -4.54e-10\n",
      "age                                    -0.0029      0.000     -8.040      0.000      -0.004      -0.002\n",
      "SignUp                                  0.0123      0.007      1.710      0.087      -0.002       0.026\n",
      "OpenApp                                 0.0029      0.000      9.035      0.000       0.002       0.004\n",
      "Login                                  -0.0023      0.000     -8.977      0.000      -0.003      -0.002\n",
      "ViewLoanApplyIntro                     -0.0143      0.001    -17.023      0.000      -0.016      -0.013\n",
      "StartLoanApply                         -0.0176      0.001    -33.984      0.000      -0.019      -0.017\n",
      "CompleteIDCertification                -0.0371      0.001    -34.713      0.000      -0.039      -0.035\n",
      "EndLoanApply                            0.0208      0.000     68.729      0.000       0.020       0.021\n",
      "UseLoanManage                          -0.0017      0.000     -4.280      0.000      -0.002      -0.001\n",
      "UsePrepayCalc                          -0.0061      0.012     -0.529      0.597      -0.029       0.016\n",
      "UseDSRCalc                             -0.0197      0.019     -1.053      0.292      -0.056       0.017\n",
      "GetCreditInfo                       -8.847e-05      0.000     -0.287      0.774      -0.001       0.001\n",
      "loyalty                                 0.0529      0.001    105.550      0.000       0.052       0.054\n",
      "=======================================================================================================\n"
     ]
    }
   ],
   "source": [
    "glm = sm.Logit.from_formula(\"is_applied ~ application_id+bank_id+product_id+loan_limit+loan_rate+application_n+weekday+user_id+gender+credit_score+yearly_income+income_type+company_enter_month+employment_type+houseown_type+desired_amount+purpose+personal_rehabilitation_yn+personal_rehabilitation_complete_yn+existing_loan_cnt+existing_loan_amt+age+SignUp+OpenApp+Login+ViewLoanApplyIntro+StartLoanApply+CompleteIDCertification+EndLoanApply+UseLoanManage+UsePrepayCalc+UseDSRCalc+GetCreditInfo+loyalty\",train_data).fit()\n",
    "\n",
    "\n",
    "print(glm.summary())"
   ]
  },
  {
   "cell_type": "code",
   "execution_count": 33,
   "id": "32d7c5f8-a9b3-45c9-ae6e-fbc8f9bbdf3a",
   "metadata": {},
   "outputs": [],
   "source": [
    "x_test = test_data.drop('is_applied', axis = 1)\n",
    "x_test = x_test.dropna()\n",
    "\n",
    "X_train = train_data.drop('is_applied', axis = 1)\n",
    "y_train = train_data['is_applied']\n",
    "\n",
    "X_train, X_val, y_train, y_val = train_test_split(X_train, y_train ,test_size = 0.3, random_state = 111)"
   ]
  },
  {
   "cell_type": "code",
   "execution_count": 34,
   "id": "b3bb9ceb-c659-4807-8e6d-cdc107347b14",
   "metadata": {},
   "outputs": [
    {
     "data": {
      "text/plain": [
       "LogisticRegression()"
      ]
     },
     "execution_count": 34,
     "metadata": {},
     "output_type": "execute_result"
    }
   ],
   "source": [
    "from sklearn.linear_model import LogisticRegression\n",
    "\n",
    "model = LogisticRegression()\n",
    "model.fit(X_train, y_train)"
   ]
  },
  {
   "cell_type": "code",
   "execution_count": 35,
   "id": "54a94128-49fa-4e21-b101-0124da5951af",
   "metadata": {},
   "outputs": [
    {
     "data": {
      "text/plain": [
       "0.9438508296532528"
      ]
     },
     "execution_count": 35,
     "metadata": {},
     "output_type": "execute_result"
    }
   ],
   "source": [
    "from sklearn.metrics import accuracy_score\n",
    "y_pred = model.predict(X_val)\n",
    "accuracy_score(y_pred, y_val)"
   ]
  },
  {
   "cell_type": "code",
   "execution_count": 36,
   "id": "5d121298-991e-4d5a-b35a-399f9342ddb5",
   "metadata": {},
   "outputs": [
    {
     "name": "stderr",
     "output_type": "stream",
     "text": [
      "C:\\Users\\zzuge\\Anaconda3\\lib\\site-packages\\sklearn\\metrics\\_classification.py:1318: UndefinedMetricWarning: Recall and F-score are ill-defined and being set to 0.0 in labels with no true samples. Use `zero_division` parameter to control this behavior.\n",
      "  _warn_prf(average, modifier, msg_start, len(result))\n"
     ]
    },
    {
     "name": "stdout",
     "output_type": "stream",
     "text": [
      "              precision    recall  f1-score   support\n",
      "\n",
      "         0.0       1.00      0.94      0.97    603927\n",
      "         1.0       0.00      0.00      0.00         0\n",
      "\n",
      "    accuracy                           0.94    603927\n",
      "   macro avg       0.50      0.47      0.49    603927\n",
      "weighted avg       1.00      0.94      0.97    603927\n",
      "\n"
     ]
    },
    {
     "name": "stderr",
     "output_type": "stream",
     "text": [
      "C:\\Users\\zzuge\\Anaconda3\\lib\\site-packages\\sklearn\\metrics\\_classification.py:1318: UndefinedMetricWarning: Recall and F-score are ill-defined and being set to 0.0 in labels with no true samples. Use `zero_division` parameter to control this behavior.\n",
      "  _warn_prf(average, modifier, msg_start, len(result))\n",
      "C:\\Users\\zzuge\\Anaconda3\\lib\\site-packages\\sklearn\\metrics\\_classification.py:1318: UndefinedMetricWarning: Recall and F-score are ill-defined and being set to 0.0 in labels with no true samples. Use `zero_division` parameter to control this behavior.\n",
      "  _warn_prf(average, modifier, msg_start, len(result))\n"
     ]
    }
   ],
   "source": [
    "from sklearn.metrics import classification_report\n",
    "print(classification_report(y_pred, y_val))"
   ]
  },
  {
   "cell_type": "code",
   "execution_count": null,
   "id": "6c9bd293-85ac-41bc-a242-ba4e64fb1c34",
   "metadata": {},
   "outputs": [],
   "source": []
  }
 ],
 "metadata": {
  "kernelspec": {
   "display_name": "Python 3 (ipykernel)",
   "language": "python",
   "name": "python3"
  },
  "language_info": {
   "codemirror_mode": {
    "name": "ipython",
    "version": 3
   },
   "file_extension": ".py",
   "mimetype": "text/x-python",
   "name": "python",
   "nbconvert_exporter": "python",
   "pygments_lexer": "ipython3",
   "version": "3.9.12"
  }
 },
 "nbformat": 4,
 "nbformat_minor": 5
}
