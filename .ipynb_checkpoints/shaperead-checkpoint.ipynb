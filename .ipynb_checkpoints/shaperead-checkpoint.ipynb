{
 "cells": [
  {
   "cell_type": "code",
   "execution_count": 1,
   "id": "4090c83f-7969-4b1d-8ca0-7c09e992bb57",
   "metadata": {},
   "outputs": [
    {
     "name": "stderr",
     "output_type": "stream",
     "text": [
      "\u001b[32m\u001b[1m    Updating\u001b[22m\u001b[39m registry at `C:\\Users\\zzuge\\.julia\\registries\\General.toml`\n",
      "\u001b[32m\u001b[1m   Resolving\u001b[22m\u001b[39m package versions...\n",
      "\u001b[32m\u001b[1m  No Changes\u001b[22m\u001b[39m to `C:\\Users\\zzuge\\.julia\\environments\\v1.8\\Project.toml`\n",
      "\u001b[32m\u001b[1m  No Changes\u001b[22m\u001b[39m to `C:\\Users\\zzuge\\.julia\\environments\\v1.8\\Manifest.toml`\n",
      "\u001b[32m\u001b[1m   Resolving\u001b[22m\u001b[39m package versions...\n",
      "\u001b[32m\u001b[1m  No Changes\u001b[22m\u001b[39m to `C:\\Users\\zzuge\\.julia\\environments\\v1.8\\Project.toml`\n",
      "\u001b[32m\u001b[1m  No Changes\u001b[22m\u001b[39m to `C:\\Users\\zzuge\\.julia\\environments\\v1.8\\Manifest.toml`\n",
      "\u001b[32m\u001b[1m   Resolving\u001b[22m\u001b[39m package versions...\n",
      "\u001b[32m\u001b[1m  No Changes\u001b[22m\u001b[39m to `C:\\Users\\zzuge\\.julia\\environments\\v1.8\\Project.toml`\n",
      "\u001b[32m\u001b[1m  No Changes\u001b[22m\u001b[39m to `C:\\Users\\zzuge\\.julia\\environments\\v1.8\\Manifest.toml`\n"
     ]
    }
   ],
   "source": [
    "using Pkg\n",
    "Pkg.add(\"Shapefile\")\n",
    "Pkg.add(\"DataFrames\")\n",
    "Pkg.add(\"StringEncodings\")"
   ]
  },
  {
   "cell_type": "code",
   "execution_count": 2,
   "id": "5875b98c-e105-4618-969b-4cb240a1bf5c",
   "metadata": {},
   "outputs": [],
   "source": [
    "using Shapefile\n",
    "using DataFrames\n",
    "using StringEncodings"
   ]
  },
  {
   "cell_type": "code",
   "execution_count": 3,
   "id": "0ba9f2db-1514-430b-9b86-2c2c3aaeee8b",
   "metadata": {},
   "outputs": [
    {
     "data": {
      "text/html": [
       "<div class=\"data-frame\"><p>200,902 rows × 6 columns (omitted printing of 2 columns)</p><table class=\"data-frame\"><thead><tr><th></th><th>geometry</th><th>NODE_ID</th><th>NODE_TYPE</th><th>NODE_NAME</th></tr><tr><th></th><th title=\"Union{Missing, Shapefile.Point}\">Point</th><th title=\"String\">String</th><th title=\"String\">String</th><th title=\"Union{Missing, String}\">String?</th></tr></thead><tbody><tr><th>1</th><td>Point(3.06863e5, 3.64129e5)</td><td>3680002100</td><td>101</td><td>\\xbc\\xf6\\xbc\\xba2\\xb1\\xb3\\xc2\\xf7\\xb7\\xce</td></tr><tr><th>2</th><td>Point(2.32176e5, 4.28286e5)</td><td>1865949201</td><td>101</td><td>\\xb5а\\uec79\\xb0\\xa1\\xbb\\xea\\xbe\\xf7\\xb4\\xdc\\xc1\\xf6</td></tr><tr><th>3</th><td>Point(2.62099e5, 260201.0)</td><td>3280218301</td><td>101</td><td>-</td></tr><tr><th>4</th><td>Point(2.61777e5, 2.60206e5)</td><td>3280218201</td><td>101</td><td>-</td></tr><tr><th>5</th><td>Point(2.61778e5, 2.59857e5)</td><td>3280218101</td><td>101</td><td>\\xbf\\xa9\\xbc\\xf6\\xbc\\xbaȲ\\xb0\\udc21\\xb1\\xb3</td></tr><tr><th>6</th><td>Point(2.32152e5, 4.28148e5)</td><td>1865963901</td><td>101</td><td>-</td></tr><tr><th>7</th><td>Point(2.32067e5, 4.27947e5)</td><td>1865963801</td><td>101</td><td>-</td></tr><tr><th>8</th><td>Point(2.31784e5, 4.27646e5)</td><td>1865963701</td><td>101</td><td>-</td></tr><tr><th>9</th><td>Point(1.73043e5, 4.60426e5)</td><td>2980010700</td><td>101</td><td>\\xb4\\xeb\\xc1\\xf6\\xbb\\xef\\xb0Ÿ\\xae</td></tr><tr><th>10</th><td>Point(2.05133e5, 5.05875e5)</td><td>2230002405</td><td>101</td><td>\\xc1\\xd6\\xc7ǿ\\xa3\\xc1\\xf6\\xbf\\xc0\\xbb\\xea\\xb0\\xf8\\xc0\\xe5\\xbeձ\\xb3\\xc2\\xf7\\xb7\\xce</td></tr><tr><th>11</th><td>Point(2.04684e5, 5.06276e5)</td><td>2230002801</td><td>101</td><td>\\xbf\\xeb\\xb1\\xc3\\xc1\\xd6\\xc5þձ\\xb3\\xc2\\xf7\\xb7\\xce</td></tr><tr><th>12</th><td>Point(2.32591e5, 4.28214e5)</td><td>1865949501</td><td>101</td><td>\\xb1\\xb8\\xb7浿\\xb0\\xe6\\xb7δ\\xe7</td></tr><tr><th>13</th><td>Point(2.04679e5, 5.06075e5)</td><td>2230150801</td><td>101</td><td>-</td></tr><tr><th>14</th><td>Point(2.04679e5, 5.05941e5)</td><td>2230149701</td><td>101</td><td>-</td></tr><tr><th>15</th><td>Point(2.0491e5, 5.05811e5)</td><td>2230150401</td><td>101</td><td>-</td></tr><tr><th>16</th><td>Point(2.04923e5, 5.05905e5)</td><td>2230151101</td><td>101</td><td>-</td></tr><tr><th>17</th><td>Point(2.04893e5, 5.05935e5)</td><td>2230151201</td><td>101</td><td>-</td></tr><tr><th>18</th><td>Point(2.04805e5, 5.05922e5)</td><td>2230150501</td><td>101</td><td>-</td></tr><tr><th>19</th><td>Point(2.04773e5, 5.05944e5)</td><td>2230150301</td><td>101</td><td>-</td></tr><tr><th>20</th><td>Point(2.04771e5, 5.05976e5)</td><td>2230150601</td><td>101</td><td>-</td></tr><tr><th>21</th><td>Point(2.04732e5, 5.06076e5)</td><td>2230150901</td><td>101</td><td>-</td></tr><tr><th>22</th><td>Point(2.99375e5, 3.12048e5)</td><td>3980186500</td><td>101</td><td>\\xc7и\\xae476-3</td></tr><tr><th>23</th><td>Point(2.04884e5, 5.06074e5)</td><td>2230002404</td><td>101</td><td>\\xb3\\xeb\\xb5\\xe9\\xb4\\xe3\\xbc\\xf6\\xb3\\xe0\\xbf\\xf8\\xbeձ\\xb3\\xc2\\xf7\\xb7\\xce</td></tr><tr><th>24</th><td>Point(3.36288e5, 3.01432e5)</td><td>3900010001</td><td>101</td><td>\\xc0\\xaf\\xbf\\xf8\\xbb\\xef\\xb0Ÿ\\xae</td></tr><tr><th>25</th><td>Point(3.36298e5, 3.02858e5)</td><td>3900011400</td><td>101</td><td>\\xbeȱ⸶\\xc0\\xbb\\xc0Ա\\xb8\\xbb\\xe7\\xb0Ÿ\\xae</td></tr><tr><th>26</th><td>Point(299010.0, 3.12978e5)</td><td>3980000300</td><td>101</td><td>\\xbf\\xeb\\xb0踶\\xc0\\xbb</td></tr><tr><th>27</th><td>Point(4.12342e5, 3.40695e5)</td><td>1950003400</td><td>101</td><td>\\xbd\\xc5õ\\xbb\\xef\\xb0Ÿ\\xae</td></tr><tr><th>28</th><td>Point(4.12188e5, 3.41533e5)</td><td>1950003401</td><td>101</td><td>\\xbe\\xe0\\xbc\\xf6\\xb1\\xb3</td></tr><tr><th>29</th><td>Point(4.1218e5, 3.41575e5)</td><td>1950003402</td><td>101</td><td>\\xbe\\xe0\\xbc\\xf6\\xb1\\xb3</td></tr><tr><th>30</th><td>Point(287535.0, 5.58382e5)</td><td>2580020201</td><td>104</td><td>\\xbb\\xf3\\xb5\\xbf\\xc1\\xa62\\xb1\\xb3</td></tr><tr><th>&vellip;</th><td>&vellip;</td><td>&vellip;</td><td>&vellip;</td><td>&vellip;</td></tr></tbody></table></div>"
      ],
      "text/latex": [
       "\\begin{tabular}{r|ccccc}\n",
       "\t& geometry & NODE\\_ID & NODE\\_TYPE & NODE\\_NAME & \\\\\n",
       "\t\\hline\n",
       "\t& Point & String & String & String? & \\\\\n",
       "\t\\hline\n",
       "\t1 & Point(3.06863e5, 3.64129e5) & 3680002100 & 101 & \\textbackslash{}xbc\\textbackslash{}xf6\\textbackslash{}xbc\\textbackslash{}xba2\\textbackslash{}xb1\\textbackslash{}xb3\\textbackslash{}xc2\\textbackslash{}xf7\\textbackslash{}xb7\\textbackslash{}xce & $\\dots$ \\\\\n",
       "\t2 & Point(2.32176e5, 4.28286e5) & 1865949201 & 101 & \\textbackslash{}xb5а\\textbackslash{}uec79\\textbackslash{}xb0\\textbackslash{}xa1\\textbackslash{}xbb\\textbackslash{}xea\\textbackslash{}xbe\\textbackslash{}xf7\\textbackslash{}xb4\\textbackslash{}xdc\\textbackslash{}xc1\\textbackslash{}xf6 & $\\dots$ \\\\\n",
       "\t3 & Point(2.62099e5, 260201.0) & 3280218301 & 101 & - & $\\dots$ \\\\\n",
       "\t4 & Point(2.61777e5, 2.60206e5) & 3280218201 & 101 & - & $\\dots$ \\\\\n",
       "\t5 & Point(2.61778e5, 2.59857e5) & 3280218101 & 101 & \\textbackslash{}xbf\\textbackslash{}xa9\\textbackslash{}xbc\\textbackslash{}xf6\\textbackslash{}xbc\\textbackslash{}xbaȲ\\textbackslash{}xb0\\textbackslash{}udc21\\textbackslash{}xb1\\textbackslash{}xb3 & $\\dots$ \\\\\n",
       "\t6 & Point(2.32152e5, 4.28148e5) & 1865963901 & 101 & - & $\\dots$ \\\\\n",
       "\t7 & Point(2.32067e5, 4.27947e5) & 1865963801 & 101 & - & $\\dots$ \\\\\n",
       "\t8 & Point(2.31784e5, 4.27646e5) & 1865963701 & 101 & - & $\\dots$ \\\\\n",
       "\t9 & Point(1.73043e5, 4.60426e5) & 2980010700 & 101 & \\textbackslash{}xb4\\textbackslash{}xeb\\textbackslash{}xc1\\textbackslash{}xf6\\textbackslash{}xbb\\textbackslash{}xef\\textbackslash{}xb0Ÿ\\textbackslash{}xae & $\\dots$ \\\\\n",
       "\t10 & Point(2.05133e5, 5.05875e5) & 2230002405 & 101 & \\textbackslash{}xc1\\textbackslash{}xd6\\textbackslash{}xc7ǿ\\textbackslash{}xa3\\textbackslash{}xc1\\textbackslash{}xf6\\textbackslash{}xbf\\textbackslash{}xc0\\textbackslash{}xbb\\textbackslash{}xea\\textbackslash{}xb0\\textbackslash{}xf8\\textbackslash{}xc0\\textbackslash{}xe5\\textbackslash{}xbeձ\\textbackslash{}xb3\\textbackslash{}xc2\\textbackslash{}xf7\\textbackslash{}xb7\\textbackslash{}xce & $\\dots$ \\\\\n",
       "\t11 & Point(2.04684e5, 5.06276e5) & 2230002801 & 101 & \\textbackslash{}xbf\\textbackslash{}xeb\\textbackslash{}xb1\\textbackslash{}xc3\\textbackslash{}xc1\\textbackslash{}xd6\\textbackslash{}xc5þձ\\textbackslash{}xb3\\textbackslash{}xc2\\textbackslash{}xf7\\textbackslash{}xb7\\textbackslash{}xce & $\\dots$ \\\\\n",
       "\t12 & Point(2.32591e5, 4.28214e5) & 1865949501 & 101 & \\textbackslash{}xb1\\textbackslash{}xb8\\textbackslash{}xb7浿\\textbackslash{}xb0\\textbackslash{}xe6\\textbackslash{}xb7δ\\textbackslash{}xe7 & $\\dots$ \\\\\n",
       "\t13 & Point(2.04679e5, 5.06075e5) & 2230150801 & 101 & - & $\\dots$ \\\\\n",
       "\t14 & Point(2.04679e5, 5.05941e5) & 2230149701 & 101 & - & $\\dots$ \\\\\n",
       "\t15 & Point(2.0491e5, 5.05811e5) & 2230150401 & 101 & - & $\\dots$ \\\\\n",
       "\t16 & Point(2.04923e5, 5.05905e5) & 2230151101 & 101 & - & $\\dots$ \\\\\n",
       "\t17 & Point(2.04893e5, 5.05935e5) & 2230151201 & 101 & - & $\\dots$ \\\\\n",
       "\t18 & Point(2.04805e5, 5.05922e5) & 2230150501 & 101 & - & $\\dots$ \\\\\n",
       "\t19 & Point(2.04773e5, 5.05944e5) & 2230150301 & 101 & - & $\\dots$ \\\\\n",
       "\t20 & Point(2.04771e5, 5.05976e5) & 2230150601 & 101 & - & $\\dots$ \\\\\n",
       "\t21 & Point(2.04732e5, 5.06076e5) & 2230150901 & 101 & - & $\\dots$ \\\\\n",
       "\t22 & Point(2.99375e5, 3.12048e5) & 3980186500 & 101 & \\textbackslash{}xc7и\\textbackslash{}xae476-3 & $\\dots$ \\\\\n",
       "\t23 & Point(2.04884e5, 5.06074e5) & 2230002404 & 101 & \\textbackslash{}xb3\\textbackslash{}xeb\\textbackslash{}xb5\\textbackslash{}xe9\\textbackslash{}xb4\\textbackslash{}xe3\\textbackslash{}xbc\\textbackslash{}xf6\\textbackslash{}xb3\\textbackslash{}xe0\\textbackslash{}xbf\\textbackslash{}xf8\\textbackslash{}xbeձ\\textbackslash{}xb3\\textbackslash{}xc2\\textbackslash{}xf7\\textbackslash{}xb7\\textbackslash{}xce & $\\dots$ \\\\\n",
       "\t24 & Point(3.36288e5, 3.01432e5) & 3900010001 & 101 & \\textbackslash{}xc0\\textbackslash{}xaf\\textbackslash{}xbf\\textbackslash{}xf8\\textbackslash{}xbb\\textbackslash{}xef\\textbackslash{}xb0Ÿ\\textbackslash{}xae & $\\dots$ \\\\\n",
       "\t25 & Point(3.36298e5, 3.02858e5) & 3900011400 & 101 & \\textbackslash{}xbeȱ⸶\\textbackslash{}xc0\\textbackslash{}xbb\\textbackslash{}xc0Ա\\textbackslash{}xb8\\textbackslash{}xbb\\textbackslash{}xe7\\textbackslash{}xb0Ÿ\\textbackslash{}xae & $\\dots$ \\\\\n",
       "\t26 & Point(299010.0, 3.12978e5) & 3980000300 & 101 & \\textbackslash{}xbf\\textbackslash{}xeb\\textbackslash{}xb0踶\\textbackslash{}xc0\\textbackslash{}xbb & $\\dots$ \\\\\n",
       "\t27 & Point(4.12342e5, 3.40695e5) & 1950003400 & 101 & \\textbackslash{}xbd\\textbackslash{}xc5õ\\textbackslash{}xbb\\textbackslash{}xef\\textbackslash{}xb0Ÿ\\textbackslash{}xae & $\\dots$ \\\\\n",
       "\t28 & Point(4.12188e5, 3.41533e5) & 1950003401 & 101 & \\textbackslash{}xbe\\textbackslash{}xe0\\textbackslash{}xbc\\textbackslash{}xf6\\textbackslash{}xb1\\textbackslash{}xb3 & $\\dots$ \\\\\n",
       "\t29 & Point(4.1218e5, 3.41575e5) & 1950003402 & 101 & \\textbackslash{}xbe\\textbackslash{}xe0\\textbackslash{}xbc\\textbackslash{}xf6\\textbackslash{}xb1\\textbackslash{}xb3 & $\\dots$ \\\\\n",
       "\t30 & Point(287535.0, 5.58382e5) & 2580020201 & 104 & \\textbackslash{}xbb\\textbackslash{}xf3\\textbackslash{}xb5\\textbackslash{}xbf\\textbackslash{}xc1\\textbackslash{}xa62\\textbackslash{}xb1\\textbackslash{}xb3 & $\\dots$ \\\\\n",
       "\t$\\dots$ & $\\dots$ & $\\dots$ & $\\dots$ & $\\dots$ &  \\\\\n",
       "\\end{tabular}\n"
      ],
      "text/plain": [
       "\u001b[1m200902×6 DataFrame\u001b[0m\n",
       "\u001b[1m    Row \u001b[0m│\u001b[1m geometry                    \u001b[0m\u001b[1m NODE_ID    \u001b[0m\u001b[1m NODE_TYPE \u001b[0m\u001b[1m NODE_NAME       \u001b[0m ⋯\n",
       "\u001b[1m        \u001b[0m│\u001b[90m Point                       \u001b[0m\u001b[90m String     \u001b[0m\u001b[90m String    \u001b[0m\u001b[90m String?         \u001b[0m ⋯\n",
       "────────┼───────────────────────────────────────────────────────────────────────\n",
       "      1 │ Point(3.06863e5, 3.64129e5)  3680002100  101        \\xbc\\xf6\\xbc\\xba ⋯\n",
       "      2 │ Point(2.32176e5, 4.28286e5)  1865949201  101        \\xb5а\\uec79\\xb0\\\n",
       "      3 │ Point(2.62099e5, 260201.0)   3280218301  101        -\n",
       "      4 │ Point(2.61777e5, 2.60206e5)  3280218201  101        -\n",
       "      5 │ Point(2.61778e5, 2.59857e5)  3280218101  101        \\xbf\\xa9\\xbc\\xf6 ⋯\n",
       "      6 │ Point(2.32152e5, 4.28148e5)  1865963901  101        -\n",
       "      7 │ Point(2.32067e5, 4.27947e5)  1865963801  101        -\n",
       "      8 │ Point(2.31784e5, 4.27646e5)  1865963701  101        -\n",
       "      9 │ Point(1.73043e5, 4.60426e5)  2980010700  101        \\xb4\\xeb\\xc1\\xf6 ⋯\n",
       "     10 │ Point(2.05133e5, 5.05875e5)  2230002405  101        \\xc1\\xd6\\xc7ǿ\\xa\n",
       "     11 │ Point(2.04684e5, 5.06276e5)  2230002801  101        \\xbf\\xeb\\xb1\\xc3\n",
       "   ⋮    │              ⋮                   ⋮           ⋮                       ⋱\n",
       " 200893 │ Point(2.77037e5, 3.11185e5)  3950098801  101        \\xc1\\U1b8bbb\\xea\n",
       " 200894 │ Point(2.77008e5, 3.12325e5)  3950099201  101        \\xbb\\xeaû\\xbc\\xb ⋯\n",
       " 200895 │ Point(277047.0, 3.08081e5)   3950098501  101        \\xc1\\U1b8bbb\\xea\n",
       " 200896 │ Point(2.77406e5, 3.08866e5)  3950098701  101        ȫ\\xb0踮\\xbb\\xea1\n",
       " 200897 │ Point(2.77097e5, 3.08723e5)  3950098601  104        \\xbb\\xeaû\\xc5ͳγ\\\n",
       " 200898 │ Point(2.76681e5, 311730.0)   3950099001  101        \\xbb\\xeaû\\xc5ͳκ\\ ⋯\n",
       " 200899 │ Point(277173.0, 3.13481e5)   3950099401  104        \\xb1ݼ\\xad\\xb1\\xb\n",
       " 200900 │ Point(2.77185e5, 3.13575e5)  3950099501  101        \\xb1ݼ\\xad\\xb1\\xb\n",
       " 200901 │ Point(2.77198e5, 313675.0)   3950099601  101        \\xc6\\xf2\\xc3̸\\xae\n",
       " 200902 │ Point(276486.0, 3.13163e5)   3950099301  101        \\xc6\\xf2\\xc3̱\\xb3 ⋯\n",
       "\u001b[36m                                               3 columns and 200881 rows omitted\u001b[0m"
      ]
     },
     "execution_count": 3,
     "metadata": {},
     "output_type": "execute_result"
    }
   ],
   "source": [
    "table=DataFrame(Shapefile.Table(\"C:\\\\Users\\\\zzuge\\\\git\\\\bigcon2x\\\\bigcon22\\\\EC\\\\01_data\\\\표준노드링크\\\\MOCT_NODE.shp\"))"
   ]
  },
  {
   "cell_type": "code",
   "execution_count": 4,
   "id": "66f91714-9a54-40a4-9dd7-667b30ce4bc5",
   "metadata": {},
   "outputs": [
    {
     "data": {
      "text/html": [
       "<div class=\"data-frame\"><p>200,902 rows × 5 columns</p><table class=\"data-frame\"><thead><tr><th></th><th>geometry</th><th>NODE_ID</th><th>NODE_TYPE</th><th>TURN_P</th><th>REMARK</th></tr><tr><th></th><th title=\"Union{Missing, Shapefile.Point}\">Point</th><th title=\"String\">String</th><th title=\"String\">String</th><th title=\"String\">String</th><th title=\"Union{Missing, String}\">String?</th></tr></thead><tbody><tr><th>1</th><td>Point(3.06863e5, 3.64129e5)</td><td>3680002100</td><td>101</td><td>0</td><td><em>missing</em></td></tr><tr><th>2</th><td>Point(2.32176e5, 4.28286e5)</td><td>1865949201</td><td>101</td><td>0</td><td><em>missing</em></td></tr><tr><th>3</th><td>Point(2.62099e5, 260201.0)</td><td>3280218301</td><td>101</td><td>0</td><td>\\xb1\\xb3\\xc2\\xf7\\xb7θ\\xed\\xbe\\xf8\\xc0\\xbd</td></tr><tr><th>4</th><td>Point(2.61777e5, 2.60206e5)</td><td>3280218201</td><td>101</td><td>1</td><td>\\xb1\\xb3\\xc2\\xf7\\xb7θ\\xed\\xbe\\xf8\\xc0\\xbd</td></tr><tr><th>5</th><td>Point(2.61778e5, 2.59857e5)</td><td>3280218101</td><td>101</td><td>1</td><td><em>missing</em></td></tr><tr><th>6</th><td>Point(2.32152e5, 4.28148e5)</td><td>1865963901</td><td>101</td><td>0</td><td>\\xb1\\xb3\\xc2\\xf7\\xb7θ\\xed\\xbe\\xf8\\xc0\\xbd</td></tr><tr><th>7</th><td>Point(2.32067e5, 4.27947e5)</td><td>1865963801</td><td>101</td><td>0</td><td>\\xb1\\xb3\\xc2\\xf7\\xb7θ\\xed\\xbe\\xf8\\xc0\\xbd</td></tr><tr><th>8</th><td>Point(2.31784e5, 4.27646e5)</td><td>1865963701</td><td>101</td><td>0</td><td>\\xb1\\xb3\\xc2\\xf7\\xb7θ\\xed\\xbe\\xf8\\xc0\\xbd</td></tr><tr><th>9</th><td>Point(1.73043e5, 4.60426e5)</td><td>2980010700</td><td>101</td><td>0</td><td><em>missing</em></td></tr><tr><th>10</th><td>Point(2.05133e5, 5.05875e5)</td><td>2230002405</td><td>101</td><td>1</td><td><em>missing</em></td></tr><tr><th>11</th><td>Point(2.04684e5, 5.06276e5)</td><td>2230002801</td><td>101</td><td>1</td><td><em>missing</em></td></tr><tr><th>12</th><td>Point(2.32591e5, 4.28214e5)</td><td>1865949501</td><td>101</td><td>0</td><td><em>missing</em></td></tr><tr><th>13</th><td>Point(2.04679e5, 5.06075e5)</td><td>2230150801</td><td>101</td><td>1</td><td>\\xb1\\xb3\\xc2\\xf7\\xb7θ\\xed\\xbe\\xf8\\xc0\\xbd</td></tr><tr><th>14</th><td>Point(2.04679e5, 5.05941e5)</td><td>2230149701</td><td>101</td><td>1</td><td>\\xb1\\xb3\\xc2\\xf7\\xb7θ\\xed\\xbe\\xf8\\xc0\\xbd</td></tr><tr><th>15</th><td>Point(2.0491e5, 5.05811e5)</td><td>2230150401</td><td>101</td><td>0</td><td>\\xb1\\xb3\\xc2\\xf7\\xb7θ\\xed\\xbe\\xf8\\xc0\\xbd</td></tr><tr><th>16</th><td>Point(2.04923e5, 5.05905e5)</td><td>2230151101</td><td>101</td><td>0</td><td>\\xb1\\xb3\\xc2\\xf7\\xb7θ\\xed\\xbe\\xf8\\xc0\\xbd</td></tr><tr><th>17</th><td>Point(2.04893e5, 5.05935e5)</td><td>2230151201</td><td>101</td><td>0</td><td>\\xb1\\xb3\\xc2\\xf7\\xb7θ\\xed\\xbe\\xf8\\xc0\\xbd</td></tr><tr><th>18</th><td>Point(2.04805e5, 5.05922e5)</td><td>2230150501</td><td>101</td><td>1</td><td>\\xb1\\xb3\\xc2\\xf7\\xb7θ\\xed\\xbe\\xf8\\xc0\\xbd</td></tr><tr><th>19</th><td>Point(2.04773e5, 5.05944e5)</td><td>2230150301</td><td>101</td><td>1</td><td>\\xb1\\xb3\\xc2\\xf7\\xb7θ\\xed\\xbe\\xf8\\xc0\\xbd</td></tr><tr><th>20</th><td>Point(2.04771e5, 5.05976e5)</td><td>2230150601</td><td>101</td><td>1</td><td>\\xb1\\xb3\\xc2\\xf7\\xb7θ\\xed\\xbe\\xf8\\xc0\\xbd</td></tr><tr><th>21</th><td>Point(2.04732e5, 5.06076e5)</td><td>2230150901</td><td>101</td><td>1</td><td>\\xb1\\xb3\\xc2\\xf7\\xb7θ\\xed\\xbe\\xf8\\xc0\\xbd</td></tr><tr><th>22</th><td>Point(2.99375e5, 3.12048e5)</td><td>3980186500</td><td>101</td><td>0</td><td><em>missing</em></td></tr><tr><th>23</th><td>Point(2.04884e5, 5.06074e5)</td><td>2230002404</td><td>101</td><td>0</td><td><em>missing</em></td></tr><tr><th>24</th><td>Point(3.36288e5, 3.01432e5)</td><td>3900010001</td><td>101</td><td>0</td><td><em>missing</em></td></tr><tr><th>25</th><td>Point(3.36298e5, 3.02858e5)</td><td>3900011400</td><td>101</td><td>0</td><td><em>missing</em></td></tr><tr><th>26</th><td>Point(299010.0, 3.12978e5)</td><td>3980000300</td><td>101</td><td>0</td><td><em>missing</em></td></tr><tr><th>27</th><td>Point(4.12342e5, 3.40695e5)</td><td>1950003400</td><td>101</td><td>1</td><td><em>missing</em></td></tr><tr><th>28</th><td>Point(4.12188e5, 3.41533e5)</td><td>1950003401</td><td>101</td><td>1</td><td><em>missing</em></td></tr><tr><th>29</th><td>Point(4.1218e5, 3.41575e5)</td><td>1950003402</td><td>101</td><td>1</td><td><em>missing</em></td></tr><tr><th>30</th><td>Point(287535.0, 5.58382e5)</td><td>2580020201</td><td>104</td><td>0</td><td><em>missing</em></td></tr><tr><th>&vellip;</th><td>&vellip;</td><td>&vellip;</td><td>&vellip;</td><td>&vellip;</td><td>&vellip;</td></tr></tbody></table></div>"
      ],
      "text/latex": [
       "\\begin{tabular}{r|ccccc}\n",
       "\t& geometry & NODE\\_ID & NODE\\_TYPE & TURN\\_P & REMARK\\\\\n",
       "\t\\hline\n",
       "\t& Point & String & String & String & String?\\\\\n",
       "\t\\hline\n",
       "\t1 & Point(3.06863e5, 3.64129e5) & 3680002100 & 101 & 0 & \\emph{missing} \\\\\n",
       "\t2 & Point(2.32176e5, 4.28286e5) & 1865949201 & 101 & 0 & \\emph{missing} \\\\\n",
       "\t3 & Point(2.62099e5, 260201.0) & 3280218301 & 101 & 0 & \\textbackslash{}xb1\\textbackslash{}xb3\\textbackslash{}xc2\\textbackslash{}xf7\\textbackslash{}xb7θ\\textbackslash{}xed\\textbackslash{}xbe\\textbackslash{}xf8\\textbackslash{}xc0\\textbackslash{}xbd \\\\\n",
       "\t4 & Point(2.61777e5, 2.60206e5) & 3280218201 & 101 & 1 & \\textbackslash{}xb1\\textbackslash{}xb3\\textbackslash{}xc2\\textbackslash{}xf7\\textbackslash{}xb7θ\\textbackslash{}xed\\textbackslash{}xbe\\textbackslash{}xf8\\textbackslash{}xc0\\textbackslash{}xbd \\\\\n",
       "\t5 & Point(2.61778e5, 2.59857e5) & 3280218101 & 101 & 1 & \\emph{missing} \\\\\n",
       "\t6 & Point(2.32152e5, 4.28148e5) & 1865963901 & 101 & 0 & \\textbackslash{}xb1\\textbackslash{}xb3\\textbackslash{}xc2\\textbackslash{}xf7\\textbackslash{}xb7θ\\textbackslash{}xed\\textbackslash{}xbe\\textbackslash{}xf8\\textbackslash{}xc0\\textbackslash{}xbd \\\\\n",
       "\t7 & Point(2.32067e5, 4.27947e5) & 1865963801 & 101 & 0 & \\textbackslash{}xb1\\textbackslash{}xb3\\textbackslash{}xc2\\textbackslash{}xf7\\textbackslash{}xb7θ\\textbackslash{}xed\\textbackslash{}xbe\\textbackslash{}xf8\\textbackslash{}xc0\\textbackslash{}xbd \\\\\n",
       "\t8 & Point(2.31784e5, 4.27646e5) & 1865963701 & 101 & 0 & \\textbackslash{}xb1\\textbackslash{}xb3\\textbackslash{}xc2\\textbackslash{}xf7\\textbackslash{}xb7θ\\textbackslash{}xed\\textbackslash{}xbe\\textbackslash{}xf8\\textbackslash{}xc0\\textbackslash{}xbd \\\\\n",
       "\t9 & Point(1.73043e5, 4.60426e5) & 2980010700 & 101 & 0 & \\emph{missing} \\\\\n",
       "\t10 & Point(2.05133e5, 5.05875e5) & 2230002405 & 101 & 1 & \\emph{missing} \\\\\n",
       "\t11 & Point(2.04684e5, 5.06276e5) & 2230002801 & 101 & 1 & \\emph{missing} \\\\\n",
       "\t12 & Point(2.32591e5, 4.28214e5) & 1865949501 & 101 & 0 & \\emph{missing} \\\\\n",
       "\t13 & Point(2.04679e5, 5.06075e5) & 2230150801 & 101 & 1 & \\textbackslash{}xb1\\textbackslash{}xb3\\textbackslash{}xc2\\textbackslash{}xf7\\textbackslash{}xb7θ\\textbackslash{}xed\\textbackslash{}xbe\\textbackslash{}xf8\\textbackslash{}xc0\\textbackslash{}xbd \\\\\n",
       "\t14 & Point(2.04679e5, 5.05941e5) & 2230149701 & 101 & 1 & \\textbackslash{}xb1\\textbackslash{}xb3\\textbackslash{}xc2\\textbackslash{}xf7\\textbackslash{}xb7θ\\textbackslash{}xed\\textbackslash{}xbe\\textbackslash{}xf8\\textbackslash{}xc0\\textbackslash{}xbd \\\\\n",
       "\t15 & Point(2.0491e5, 5.05811e5) & 2230150401 & 101 & 0 & \\textbackslash{}xb1\\textbackslash{}xb3\\textbackslash{}xc2\\textbackslash{}xf7\\textbackslash{}xb7θ\\textbackslash{}xed\\textbackslash{}xbe\\textbackslash{}xf8\\textbackslash{}xc0\\textbackslash{}xbd \\\\\n",
       "\t16 & Point(2.04923e5, 5.05905e5) & 2230151101 & 101 & 0 & \\textbackslash{}xb1\\textbackslash{}xb3\\textbackslash{}xc2\\textbackslash{}xf7\\textbackslash{}xb7θ\\textbackslash{}xed\\textbackslash{}xbe\\textbackslash{}xf8\\textbackslash{}xc0\\textbackslash{}xbd \\\\\n",
       "\t17 & Point(2.04893e5, 5.05935e5) & 2230151201 & 101 & 0 & \\textbackslash{}xb1\\textbackslash{}xb3\\textbackslash{}xc2\\textbackslash{}xf7\\textbackslash{}xb7θ\\textbackslash{}xed\\textbackslash{}xbe\\textbackslash{}xf8\\textbackslash{}xc0\\textbackslash{}xbd \\\\\n",
       "\t18 & Point(2.04805e5, 5.05922e5) & 2230150501 & 101 & 1 & \\textbackslash{}xb1\\textbackslash{}xb3\\textbackslash{}xc2\\textbackslash{}xf7\\textbackslash{}xb7θ\\textbackslash{}xed\\textbackslash{}xbe\\textbackslash{}xf8\\textbackslash{}xc0\\textbackslash{}xbd \\\\\n",
       "\t19 & Point(2.04773e5, 5.05944e5) & 2230150301 & 101 & 1 & \\textbackslash{}xb1\\textbackslash{}xb3\\textbackslash{}xc2\\textbackslash{}xf7\\textbackslash{}xb7θ\\textbackslash{}xed\\textbackslash{}xbe\\textbackslash{}xf8\\textbackslash{}xc0\\textbackslash{}xbd \\\\\n",
       "\t20 & Point(2.04771e5, 5.05976e5) & 2230150601 & 101 & 1 & \\textbackslash{}xb1\\textbackslash{}xb3\\textbackslash{}xc2\\textbackslash{}xf7\\textbackslash{}xb7θ\\textbackslash{}xed\\textbackslash{}xbe\\textbackslash{}xf8\\textbackslash{}xc0\\textbackslash{}xbd \\\\\n",
       "\t21 & Point(2.04732e5, 5.06076e5) & 2230150901 & 101 & 1 & \\textbackslash{}xb1\\textbackslash{}xb3\\textbackslash{}xc2\\textbackslash{}xf7\\textbackslash{}xb7θ\\textbackslash{}xed\\textbackslash{}xbe\\textbackslash{}xf8\\textbackslash{}xc0\\textbackslash{}xbd \\\\\n",
       "\t22 & Point(2.99375e5, 3.12048e5) & 3980186500 & 101 & 0 & \\emph{missing} \\\\\n",
       "\t23 & Point(2.04884e5, 5.06074e5) & 2230002404 & 101 & 0 & \\emph{missing} \\\\\n",
       "\t24 & Point(3.36288e5, 3.01432e5) & 3900010001 & 101 & 0 & \\emph{missing} \\\\\n",
       "\t25 & Point(3.36298e5, 3.02858e5) & 3900011400 & 101 & 0 & \\emph{missing} \\\\\n",
       "\t26 & Point(299010.0, 3.12978e5) & 3980000300 & 101 & 0 & \\emph{missing} \\\\\n",
       "\t27 & Point(4.12342e5, 3.40695e5) & 1950003400 & 101 & 1 & \\emph{missing} \\\\\n",
       "\t28 & Point(4.12188e5, 3.41533e5) & 1950003401 & 101 & 1 & \\emph{missing} \\\\\n",
       "\t29 & Point(4.1218e5, 3.41575e5) & 1950003402 & 101 & 1 & \\emph{missing} \\\\\n",
       "\t30 & Point(287535.0, 5.58382e5) & 2580020201 & 104 & 0 & \\emph{missing} \\\\\n",
       "\t$\\dots$ & $\\dots$ & $\\dots$ & $\\dots$ & $\\dots$ & $\\dots$ \\\\\n",
       "\\end{tabular}\n"
      ],
      "text/plain": [
       "\u001b[1m200902×5 DataFrame\u001b[0m\n",
       "\u001b[1m    Row \u001b[0m│\u001b[1m geometry                    \u001b[0m\u001b[1m NODE_ID    \u001b[0m\u001b[1m NODE_TYPE \u001b[0m\u001b[1m TURN_P \u001b[0m\u001b[1m REMARK  \u001b[0m ⋯\n",
       "\u001b[1m        \u001b[0m│\u001b[90m Point                       \u001b[0m\u001b[90m String     \u001b[0m\u001b[90m String    \u001b[0m\u001b[90m String \u001b[0m\u001b[90m String? \u001b[0m ⋯\n",
       "────────┼───────────────────────────────────────────────────────────────────────\n",
       "      1 │ Point(3.06863e5, 3.64129e5)  3680002100  101        0      \u001b[90m missing \u001b[0m ⋯\n",
       "      2 │ Point(2.32176e5, 4.28286e5)  1865949201  101        0      \u001b[90m missing\u001b[0m\n",
       "      3 │ Point(2.62099e5, 260201.0)   3280218301  101        0       \\xb1\\xb3\n",
       "      4 │ Point(2.61777e5, 2.60206e5)  3280218201  101        1       \\xb1\\xb3\n",
       "      5 │ Point(2.61778e5, 2.59857e5)  3280218101  101        1      \u001b[90m missing \u001b[0m ⋯\n",
       "      6 │ Point(2.32152e5, 4.28148e5)  1865963901  101        0       \\xb1\\xb3\n",
       "      7 │ Point(2.32067e5, 4.27947e5)  1865963801  101        0       \\xb1\\xb3\n",
       "      8 │ Point(2.31784e5, 4.27646e5)  1865963701  101        0       \\xb1\\xb3\n",
       "      9 │ Point(1.73043e5, 4.60426e5)  2980010700  101        0      \u001b[90m missing \u001b[0m ⋯\n",
       "     10 │ Point(2.05133e5, 5.05875e5)  2230002405  101        1      \u001b[90m missing\u001b[0m\n",
       "     11 │ Point(2.04684e5, 5.06276e5)  2230002801  101        1      \u001b[90m missing\u001b[0m\n",
       "   ⋮    │              ⋮                   ⋮           ⋮        ⋮              ⋱\n",
       " 200893 │ Point(2.77037e5, 3.11185e5)  3950098801  101        0      \u001b[90m missing\u001b[0m\n",
       " 200894 │ Point(2.77008e5, 3.12325e5)  3950099201  101        0      \u001b[90m missing \u001b[0m ⋯\n",
       " 200895 │ Point(277047.0, 3.08081e5)   3950098501  101        0      \u001b[90m missing\u001b[0m\n",
       " 200896 │ Point(2.77406e5, 3.08866e5)  3950098701  101        0      \u001b[90m missing\u001b[0m\n",
       " 200897 │ Point(2.77097e5, 3.08723e5)  3950098601  104        0      \u001b[90m missing\u001b[0m\n",
       " 200898 │ Point(2.76681e5, 311730.0)   3950099001  101        0      \u001b[90m missing \u001b[0m ⋯\n",
       " 200899 │ Point(277173.0, 3.13481e5)   3950099401  104        0      \u001b[90m missing\u001b[0m\n",
       " 200900 │ Point(2.77185e5, 3.13575e5)  3950099501  101        0      \u001b[90m missing\u001b[0m\n",
       " 200901 │ Point(2.77198e5, 313675.0)   3950099601  101        0      \u001b[90m missing\u001b[0m\n",
       " 200902 │ Point(276486.0, 3.13163e5)   3950099301  101        0      \u001b[90m missing \u001b[0m ⋯\n",
       "\u001b[36m                                                1 column and 200881 rows omitted\u001b[0m"
      ]
     },
     "execution_count": 4,
     "metadata": {},
     "output_type": "execute_result"
    }
   ],
   "source": [
    "table=table[:,Not(:NODE_NAME)]"
   ]
  },
  {
   "cell_type": "code",
   "execution_count": 5,
   "id": "d1e4151e-5c75-4a98-9e7c-b941b1316eff",
   "metadata": {},
   "outputs": [
    {
     "name": "stderr",
     "output_type": "stream",
     "text": [
      "\u001b[32m\u001b[1m   Resolving\u001b[22m\u001b[39m package versions...\n",
      "\u001b[32m\u001b[1m  No Changes\u001b[22m\u001b[39m to `C:\\Users\\zzuge\\.julia\\environments\\v1.8\\Project.toml`\n",
      "\u001b[32m\u001b[1m  No Changes\u001b[22m\u001b[39m to `C:\\Users\\zzuge\\.julia\\environments\\v1.8\\Manifest.toml`\n"
     ]
    }
   ],
   "source": [
    "Pkg.add(\"CSV\")"
   ]
  },
  {
   "cell_type": "code",
   "execution_count": 6,
   "id": "f04c8d82-e9cd-48f8-a5aa-fef9bb7f161b",
   "metadata": {},
   "outputs": [],
   "source": [
    "using CSV"
   ]
  },
  {
   "cell_type": "code",
   "execution_count": 9,
   "id": "66f31cbd-dbc2-4b70-99a5-14d33a785b58",
   "metadata": {},
   "outputs": [
    {
     "data": {
      "text/plain": [
       "\"C:\\\\Users\\\\zzuge\\\\df.csv\""
      ]
     },
     "execution_count": 9,
     "metadata": {},
     "output_type": "execute_result"
    }
   ],
   "source": [
    "CSV.write(\"C:\\\\Users\\\\zzuge\\\\df.csv\", table)"
   ]
  },
  {
   "cell_type": "code",
   "execution_count": 8,
   "id": "51176ad5-7c57-4b75-ae35-6de09558dc51",
   "metadata": {},
   "outputs": [
    {
     "data": {
      "text/plain": [
       "200902-element Vector{Union{Missing, Shapefile.Point}}:\n",
       " Shapefile.Point(306862.5290999946, 364128.7581999949)\n",
       " Shapefile.Point(232175.56361976278, 428286.28415890347)\n",
       " Shapefile.Point(262099.2841216855, 260200.9640100425)\n",
       " Shapefile.Point(261776.79685912761, 260206.48058125822)\n",
       " Shapefile.Point(261777.6434585629, 259856.5594204891)\n",
       " Shapefile.Point(232151.92041576403, 428147.8326217713)\n",
       " Shapefile.Point(232067.42445148405, 427947.18461269076)\n",
       " Shapefile.Point(231784.30681788112, 427646.4103242623)\n",
       " Shapefile.Point(173042.91625594127, 460426.2495363316)\n",
       " Shapefile.Point(205133.0749999948, 505874.7148000007)\n",
       " Shapefile.Point(204683.58235473838, 506275.870506919)\n",
       " Shapefile.Point(232590.58494745602, 428213.65430342866)\n",
       " Shapefile.Point(204679.46521971867, 506075.1542223667)\n",
       " ⋮\n",
       " Shapefile.Point(275676.0085359215, 312664.05465924117)\n",
       " Shapefile.Point(276650.09595383913, 312184.5115394509)\n",
       " Shapefile.Point(277037.4605428105, 311185.3614217102)\n",
       " Shapefile.Point(277008.25074820017, 312325.3567585995)\n",
       " Shapefile.Point(277047.0018643346, 308081.0964017785)\n",
       " Shapefile.Point(277406.38475570397, 308865.7534558221)\n",
       " Shapefile.Point(277097.18259466934, 308722.87507886725)\n",
       " Shapefile.Point(276681.37419968727, 311730.00567894406)\n",
       " Shapefile.Point(277172.98334151093, 313481.35732731316)\n",
       " Shapefile.Point(277185.10680105817, 313574.621407044)\n",
       " Shapefile.Point(277198.45956309163, 313675.0358340846)\n",
       " Shapefile.Point(276486.0488271522, 313162.5098187448)"
      ]
     },
     "execution_count": 8,
     "metadata": {},
     "output_type": "execute_result"
    }
   ],
   "source": [
    "table[:,:geometry]"
   ]
  },
  {
   "cell_type": "code",
   "execution_count": null,
   "id": "e8db2e53-d233-4a90-a084-1b0983b337c5",
   "metadata": {},
   "outputs": [],
   "source": []
  }
 ],
 "metadata": {
  "kernelspec": {
   "display_name": "Julia 1.8.1",
   "language": "julia",
   "name": "julia-1.8"
  },
  "language_info": {
   "file_extension": ".jl",
   "mimetype": "application/julia",
   "name": "julia",
   "version": "1.8.1"
  }
 },
 "nbformat": 4,
 "nbformat_minor": 5
}
