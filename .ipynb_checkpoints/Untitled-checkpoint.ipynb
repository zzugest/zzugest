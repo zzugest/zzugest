{
 "cells": [
  {
   "cell_type": "code",
   "execution_count": 9,
   "id": "79e6ee7e-778d-4304-81d0-5915e53622bc",
   "metadata": {},
   "outputs": [],
   "source": [
    "import pandas as pd\n",
    "import numpy as np"
   ]
  },
  {
   "cell_type": "code",
   "execution_count": 3,
   "id": "a2ceba7a-8ea9-48b8-ad3f-2cc736b05ed2",
   "metadata": {},
   "outputs": [],
   "source": [
    "import os"
   ]
  },
  {
   "cell_type": "code",
   "execution_count": 4,
   "id": "4e685d6e-1d74-436e-981f-19c0e06599d1",
   "metadata": {},
   "outputs": [
    {
     "data": {
      "text/plain": [
       "'C:\\\\Users\\\\zzuge\\\\zzugest'"
      ]
     },
     "execution_count": 4,
     "metadata": {},
     "output_type": "execute_result"
    }
   ],
   "source": [
    "os.getcwd()"
   ]
  },
  {
   "cell_type": "code",
   "execution_count": 11,
   "id": "b0419e4c-293a-4329-945d-1dc0857bdfe2",
   "metadata": {},
   "outputs": [],
   "source": [
    "df=pd.read_csv('C:\\\\Users\\\\zzuge\\\\df.csv',encoding='cp949')"
   ]
  },
  {
   "cell_type": "code",
   "execution_count": 12,
   "id": "1295bf13-98f7-4c8b-9206-0c7d9e4f1b36",
   "metadata": {},
   "outputs": [
    {
     "data": {
      "text/html": [
       "<div>\n",
       "<style scoped>\n",
       "    .dataframe tbody tr th:only-of-type {\n",
       "        vertical-align: middle;\n",
       "    }\n",
       "\n",
       "    .dataframe tbody tr th {\n",
       "        vertical-align: top;\n",
       "    }\n",
       "\n",
       "    .dataframe thead th {\n",
       "        text-align: right;\n",
       "    }\n",
       "</style>\n",
       "<table border=\"1\" class=\"dataframe\">\n",
       "  <thead>\n",
       "    <tr style=\"text-align: right;\">\n",
       "      <th></th>\n",
       "      <th>geometry</th>\n",
       "      <th>NODE_ID</th>\n",
       "      <th>NODE_TYPE</th>\n",
       "      <th>TURN_P</th>\n",
       "      <th>REMARK</th>\n",
       "    </tr>\n",
       "  </thead>\n",
       "  <tbody>\n",
       "    <tr>\n",
       "      <th>0</th>\n",
       "      <td>Shapefile.Point(306862.5290999946, 364128.7581...</td>\n",
       "      <td>3680002100</td>\n",
       "      <td>101</td>\n",
       "      <td>0</td>\n",
       "      <td>NaN</td>\n",
       "    </tr>\n",
       "    <tr>\n",
       "      <th>1</th>\n",
       "      <td>Shapefile.Point(232175.56361976278, 428286.284...</td>\n",
       "      <td>1865949201</td>\n",
       "      <td>101</td>\n",
       "      <td>0</td>\n",
       "      <td>NaN</td>\n",
       "    </tr>\n",
       "    <tr>\n",
       "      <th>2</th>\n",
       "      <td>Shapefile.Point(262099.2841216855, 260200.9640...</td>\n",
       "      <td>3280218301</td>\n",
       "      <td>101</td>\n",
       "      <td>0</td>\n",
       "      <td>교차로명없음</td>\n",
       "    </tr>\n",
       "    <tr>\n",
       "      <th>3</th>\n",
       "      <td>Shapefile.Point(261776.79685912761, 260206.480...</td>\n",
       "      <td>3280218201</td>\n",
       "      <td>101</td>\n",
       "      <td>1</td>\n",
       "      <td>교차로명없음</td>\n",
       "    </tr>\n",
       "    <tr>\n",
       "      <th>4</th>\n",
       "      <td>Shapefile.Point(261777.6434585629, 259856.5594...</td>\n",
       "      <td>3280218101</td>\n",
       "      <td>101</td>\n",
       "      <td>1</td>\n",
       "      <td>NaN</td>\n",
       "    </tr>\n",
       "    <tr>\n",
       "      <th>...</th>\n",
       "      <td>...</td>\n",
       "      <td>...</td>\n",
       "      <td>...</td>\n",
       "      <td>...</td>\n",
       "      <td>...</td>\n",
       "    </tr>\n",
       "    <tr>\n",
       "      <th>200897</th>\n",
       "      <td>Shapefile.Point(276681.37419968727, 311730.005...</td>\n",
       "      <td>3950099001</td>\n",
       "      <td>101</td>\n",
       "      <td>0</td>\n",
       "      <td>NaN</td>\n",
       "    </tr>\n",
       "    <tr>\n",
       "      <th>200898</th>\n",
       "      <td>Shapefile.Point(277172.98334151093, 313481.357...</td>\n",
       "      <td>3950099401</td>\n",
       "      <td>104</td>\n",
       "      <td>0</td>\n",
       "      <td>NaN</td>\n",
       "    </tr>\n",
       "    <tr>\n",
       "      <th>200899</th>\n",
       "      <td>Shapefile.Point(277185.10680105817, 313574.621...</td>\n",
       "      <td>3950099501</td>\n",
       "      <td>101</td>\n",
       "      <td>0</td>\n",
       "      <td>NaN</td>\n",
       "    </tr>\n",
       "    <tr>\n",
       "      <th>200900</th>\n",
       "      <td>Shapefile.Point(277198.45956309163, 313675.035...</td>\n",
       "      <td>3950099601</td>\n",
       "      <td>101</td>\n",
       "      <td>0</td>\n",
       "      <td>NaN</td>\n",
       "    </tr>\n",
       "    <tr>\n",
       "      <th>200901</th>\n",
       "      <td>Shapefile.Point(276486.0488271522, 313162.5098...</td>\n",
       "      <td>3950099301</td>\n",
       "      <td>101</td>\n",
       "      <td>0</td>\n",
       "      <td>NaN</td>\n",
       "    </tr>\n",
       "  </tbody>\n",
       "</table>\n",
       "<p>200902 rows × 5 columns</p>\n",
       "</div>"
      ],
      "text/plain": [
       "                                                 geometry     NODE_ID  \\\n",
       "0       Shapefile.Point(306862.5290999946, 364128.7581...  3680002100   \n",
       "1       Shapefile.Point(232175.56361976278, 428286.284...  1865949201   \n",
       "2       Shapefile.Point(262099.2841216855, 260200.9640...  3280218301   \n",
       "3       Shapefile.Point(261776.79685912761, 260206.480...  3280218201   \n",
       "4       Shapefile.Point(261777.6434585629, 259856.5594...  3280218101   \n",
       "...                                                   ...         ...   \n",
       "200897  Shapefile.Point(276681.37419968727, 311730.005...  3950099001   \n",
       "200898  Shapefile.Point(277172.98334151093, 313481.357...  3950099401   \n",
       "200899  Shapefile.Point(277185.10680105817, 313574.621...  3950099501   \n",
       "200900  Shapefile.Point(277198.45956309163, 313675.035...  3950099601   \n",
       "200901  Shapefile.Point(276486.0488271522, 313162.5098...  3950099301   \n",
       "\n",
       "        NODE_TYPE  TURN_P  REMARK  \n",
       "0             101       0     NaN  \n",
       "1             101       0     NaN  \n",
       "2             101       0  교차로명없음  \n",
       "3             101       1  교차로명없음  \n",
       "4             101       1     NaN  \n",
       "...           ...     ...     ...  \n",
       "200897        101       0     NaN  \n",
       "200898        104       0     NaN  \n",
       "200899        101       0     NaN  \n",
       "200900        101       0     NaN  \n",
       "200901        101       0     NaN  \n",
       "\n",
       "[200902 rows x 5 columns]"
      ]
     },
     "execution_count": 12,
     "metadata": {},
     "output_type": "execute_result"
    }
   ],
   "source": [
    "df"
   ]
  },
  {
   "cell_type": "code",
   "execution_count": null,
   "id": "cb3bcb60-904a-42d1-84da-f6c288c20edf",
   "metadata": {},
   "outputs": [],
   "source": []
  }
 ],
 "metadata": {
  "kernelspec": {
   "display_name": "Python 3 (ipykernel)",
   "language": "python",
   "name": "python3"
  },
  "language_info": {
   "codemirror_mode": {
    "name": "ipython",
    "version": 3
   },
   "file_extension": ".py",
   "mimetype": "text/x-python",
   "name": "python",
   "nbconvert_exporter": "python",
   "pygments_lexer": "ipython3",
   "version": "3.9.12"
  }
 },
 "nbformat": 4,
 "nbformat_minor": 5
}
