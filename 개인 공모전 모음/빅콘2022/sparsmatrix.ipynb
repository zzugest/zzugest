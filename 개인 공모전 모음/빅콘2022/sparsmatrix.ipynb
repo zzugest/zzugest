{
 "cells": [
  {
   "cell_type": "code",
   "execution_count": 3,
   "id": "8edb6937-5551-43c9-ba6c-e555e95111ab",
   "metadata": {},
   "outputs": [
    {
     "name": "stderr",
     "output_type": "stream",
     "text": [
      "\u001b[32m\u001b[1m   Resolving\u001b[22m\u001b[39m package versions...\n",
      "\u001b[32m\u001b[1m  No Changes\u001b[22m\u001b[39m to `C:\\Users\\zzuge\\.julia\\environments\\v1.8\\Project.toml`\n",
      "\u001b[32m\u001b[1m  No Changes\u001b[22m\u001b[39m to `C:\\Users\\zzuge\\.julia\\environments\\v1.8\\Manifest.toml`\n",
      "\u001b[32m\u001b[1m   Resolving\u001b[22m\u001b[39m package versions...\n",
      "\u001b[32m\u001b[1m  No Changes\u001b[22m\u001b[39m to `C:\\Users\\zzuge\\.julia\\environments\\v1.8\\Project.toml`\n",
      "\u001b[32m\u001b[1m  No Changes\u001b[22m\u001b[39m to `C:\\Users\\zzuge\\.julia\\environments\\v1.8\\Manifest.toml`\n"
     ]
    },
    {
     "name": "stdout",
     "output_type": "stream",
     "text": [
      "  1.346021 seconds (12.32 M allocations: 526.895 MiB, 6.09% gc time, 8.33% compilation time)\n",
      "count check: true\n",
      "  1.164330 seconds (10.63 M allocations: 453.001 MiB, 4.77% gc time)\n",
      "count check: true\n",
      "  1.164298 seconds (10.09 M allocations: 431.708 MiB, 5.33% gc time)\n",
      "count check: true\n",
      "  0.016906 seconds (166.77 k allocations: 7.243 MiB)\n",
      "count check: true\n"
     ]
    },
    {
     "data": {
      "text/plain": [
       "\"C:\\\\Users\\\\zzuge\\\\lat.csv\""
      ]
     },
     "execution_count": 3,
     "metadata": {},
     "output_type": "execute_result"
    }
   ],
   "source": [
    "using Pkg\n",
    "Pkg.add(\"CSV\")\n",
    "Pkg.add(\"DataFrames\")\n",
    "using CSV, DataFrames\n",
    "h = 0.01\n",
    "d = trunc(Int64, h |> log10 |> abs)\n",
    "xmin = 127.0 + h\n",
    "ymin =  37.0 + h\n",
    "xmax = 127.5\n",
    "ymax =  37.5\n",
    "xsize = length(xmin:h:xmax)\n",
    "ysize = length(ymin:h:ymax)\n",
    "\n",
    "cd(@__DIR__); pwd()\n",
    "\n",
    "data1 = CSV.read(\"C:\\\\Users\\\\zzuge\\\\git\\\\bigcon2x\\\\bigcon22\\\\EC\\\\01_data\\\\1.ev_app_resident.csv\", DataFrame, select = [:cell_xcrd, :cell_ycrd, :count_cust])\n",
    "data2 = CSV.read(\"C:\\\\Users\\\\zzuge\\\\git/bigcon2x\\\\bigcon22\\\\EC\\\\01_data\\\\2.ev_app_activity.csv\", DataFrame, select = [:cell_xcrd, :cell_ycrd, :count_cust])\n",
    "data3 = CSV.read(\"C:\\\\Users\\\\zzuge\\\\git/bigcon2x\\\\bigcon22\\\\EC\\\\01_data\\\\3.ev_app_activity_resident.csv\", DataFrame, select = [:cell_xcrd, :cell_ycrd, :count_cust])\n",
    "datay = CSV.read(\"C:\\\\Users\\\\zzuge\\\\datagokr_charger.csv\", DataFrame, select = [:lat, :lng])[:,[2,1]]\n",
    "datay[!,:z] .= 1\n",
    "\n",
    "function matrixer(data::DataFrame)\n",
    "    data = round.(data, digits = d)\n",
    "    data = data[(xmin .≤ data[:,1] .≤ xmax) .&& (ymin .≤ data[:,2] .≤ ymax), :]\n",
    "    mesh = zeros(Float64, ysize, xsize)\n",
    "    cesh = zeros(Int64, ysize, xsize)\n",
    "    @time for (x,y,z) in zip(eachcol(data)...)\n",
    "        mesh[\n",
    "            findfirst(ymin:h:ymax .== y),\n",
    "            findfirst(xmin:h:xmax .== x)\n",
    "        ] += z\n",
    "        cesh[\n",
    "            findfirst(ymin:h:ymax .== y),\n",
    "            findfirst(xmin:h:xmax .== x)\n",
    "        ] += 1\n",
    "    end\n",
    "    println(\"count check: $(nrow(data) == sum(cesh))\")\n",
    "    return mesh\n",
    "end\n",
    "\n",
    "data_matrix = matrixer(data1);\n",
    "CSV.write(\"C:\\\\Users\\\\zzuge\\\\X1.csv\", Tables.table(data_matrix))\n",
    "\n",
    "data_matrix = matrixer(data2);\n",
    "CSV.write(\"C:\\\\Users\\\\zzuge\\\\X2.csv\", Tables.table(data_matrix))\n",
    "\n",
    "data_matrix = matrixer(data3);\n",
    "CSV.write(\"C:\\\\Users\\\\zzuge\\\\X3.csv\", Tables.table(data_matrix))\n",
    "\n",
    "data_matrix = matrixer(datay);\n",
    "CSV.write(\"C:\\\\Users\\\\zzuge\\\\Y.csv\", Tables.table(data_matrix))\n",
    "\n",
    "L = xsize\n",
    "lon = reduce(hcat, fill(xmin:h:xmax, L))'\n",
    "lat = reduce(hcat, fill(ymin:h:ymax, L))\n",
    "\n",
    "CSV.write(\"C:\\\\Users\\\\zzuge\\\\lon.csv\", Tables.table(lon))\n",
    "CSV.write(\"C:\\\\Users\\\\zzuge\\\\lat.csv\", Tables.table(lat))"
   ]
  },
  {
   "cell_type": "code",
   "execution_count": null,
   "id": "3e2b8bf6-67c1-4f40-82a9-7b05541cca12",
   "metadata": {},
   "outputs": [],
   "source": []
  }
 ],
 "metadata": {
  "kernelspec": {
   "display_name": "Julia 1.8.1",
   "language": "julia",
   "name": "julia-1.8"
  },
  "language_info": {
   "file_extension": ".jl",
   "mimetype": "application/julia",
   "name": "julia",
   "version": "1.8.1"
  }
 },
 "nbformat": 4,
 "nbformat_minor": 5
}
