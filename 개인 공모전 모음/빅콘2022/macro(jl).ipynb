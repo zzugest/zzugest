{
 "cells": [
  {
   "cell_type": "code",
   "execution_count": 2,
   "id": "2229dbd3-5209-4714-b450-09208625256c",
   "metadata": {},
   "outputs": [
    {
     "name": "stderr",
     "output_type": "stream",
     "text": [
      "\u001b[32m\u001b[1m   Resolving\u001b[22m\u001b[39m package versions...\n",
      "\u001b[32m\u001b[1m  No Changes\u001b[22m\u001b[39m to `C:\\Users\\zzuge\\.julia\\environments\\v1.8\\Project.toml`\n",
      "\u001b[32m\u001b[1m  No Changes\u001b[22m\u001b[39m to `C:\\Users\\zzuge\\.julia\\environments\\v1.8\\Manifest.toml`\n",
      "\u001b[32m\u001b[1m   Resolving\u001b[22m\u001b[39m package versions...\n",
      "\u001b[32m\u001b[1m  No Changes\u001b[22m\u001b[39m to `C:\\Users\\zzuge\\.julia\\environments\\v1.8\\Project.toml`\n",
      "\u001b[32m\u001b[1m  No Changes\u001b[22m\u001b[39m to `C:\\Users\\zzuge\\.julia\\environments\\v1.8\\Manifest.toml`\n",
      "\u001b[32m\u001b[1m   Resolving\u001b[22m\u001b[39m package versions...\n",
      "\u001b[32m\u001b[1m  No Changes\u001b[22m\u001b[39m to `C:\\Users\\zzuge\\.julia\\environments\\v1.8\\Project.toml`\n",
      "\u001b[32m\u001b[1m  No Changes\u001b[22m\u001b[39m to `C:\\Users\\zzuge\\.julia\\environments\\v1.8\\Manifest.toml`\n",
      "\u001b[32m\u001b[1m   Resolving\u001b[22m\u001b[39m package versions...\n",
      "\u001b[32m\u001b[1m    Updating\u001b[22m\u001b[39m `C:\\Users\\zzuge\\.julia\\environments\\v1.8\\Project.toml`\n",
      " \u001b[90m [2913bbd2] \u001b[39m\u001b[92m+ StatsBase v0.33.21\u001b[39m\n",
      "\u001b[32m\u001b[1m  No Changes\u001b[22m\u001b[39m to `C:\\Users\\zzuge\\.julia\\environments\\v1.8\\Manifest.toml`\n"
     ]
    },
    {
     "data": {
      "text/plain": [
       "\"C:\\\\Users\\\\zzuge\\\\vld_total.csv\""
      ]
     },
     "execution_count": 2,
     "metadata": {},
     "output_type": "execute_result"
    }
   ],
   "source": [
    "using Pkg\n",
    "Pkg.add(\"DataFrames\")\n",
    "Pkg.add(\"CSV\")\n",
    "Pkg.add(\"Random\")\n",
    "Pkg.add(\"StatsBase\")\n",
    "using CSV, DataFrames, Random, StatsBase\n",
    "\n",
    "cd(@__DIR__); pwd()\n",
    "\n",
    "integrated = CSV.read(\"C:\\\\Users\\\\zzuge\\\\train.csv\", DataFrame)\n",
    "# integrated = CSV.read(\"C:/saved/phase2/integrated.csv\", DataFrame)\n",
    "@assert nrow(integrated) == 6903882\n",
    "@assert ncol(integrated) == (2 + 29)\n",
    "\n",
    "Random.seed!(0)\n",
    "\n",
    "gdf = groupby(integrated, :application_id, sort = false)\n",
    "\n",
    "bit_train = Bool[]\n",
    "for df in gdf\n",
    "    append!(bit_train, fill(rand(isone.([0,1,1,1,1])), nrow(df)))\n",
    "end\n",
    "bit_isapl = combine(gdf, :is_applied, :is_applied => sum).is_applied_sum .> 0\n",
    "\n",
    "# 복수선택을 하는 경우가 생각보다 꽤 많긴하다\n",
    "[count(combine(gdf, :is_applied, :is_applied => sum).is_applied_sum .== i) for i in 0:10]\n",
    "\n",
    "idx_train = findall(bit_train)\n",
    "idx_isapl = findall(bit_isapl)\n",
    "\n",
    "trn_micro = integrated[   bit_train  .&& bit_isapl,:]\n",
    "vld_micro = integrated[(.!bit_train) .&& bit_isapl,:]\n",
    "@assert count(bit_isapl) == (nrow(trn_micro) + nrow(vld_micro))\n",
    "sum(trn_micro.is_applied) / nrow(trn_micro)\n",
    "\n",
    "vld_total = integrated[(.!bit_train),:]\n",
    "\n",
    "# rule = [\n",
    "#     :is_applied => sum\n",
    "# ]\n",
    "\n",
    "\n",
    "intergrated_colnames = names(integrated)\n",
    "rule = []\n",
    "for column in Symbol.(intergrated_colnames)\n",
    "    if column ∈ [:nl_loan_limit]\n",
    "        push!(rule, column => mean)\n",
    "    elseif column ∈ [:nl_loan_rate]\n",
    "        push!(rule, column => median)\n",
    "    else\n",
    "        push!(rule, column => maximum)\n",
    "    end\n",
    "end\n",
    "\n",
    "gdf = groupby(integrated[bit_train,:], :application_id, sort = false)\n",
    "trn_macro = combine(gdf, rule...)\n",
    "select!(trn_macro, Not(:application_id))\n",
    "rename!(trn_macro, intergrated_colnames)\n",
    "gdf = groupby(integrated[.!bit_train,:], :application_id, sort = false)\n",
    "vld_macro = combine(gdf, rule...)\n",
    "select!(vld_macro, Not(:application_id))\n",
    "rename!(vld_macro, intergrated_colnames)\n",
    "@assert length(unique(integrated.application_id)) == (nrow(trn_macro) + nrow(vld_macro))\n",
    "sum(trn_macro.is_applied) / nrow(trn_macro)\n",
    "\n",
    "CSV.write(\"C:\\\\Users\\\\zzuge\\\\trn_macro.csv\", trn_macro)\n",
    "CSV.write(\"C:\\\\Users\\\\zzuge\\\\vld_macro.csv\", vld_macro)\n",
    "CSV.write(\"C:\\\\Users\\\\zzuge\\\\trn_micro.csv\", trn_micro)\n",
    "CSV.write(\"C:\\\\Users\\\\zzuge\\\\vld_micro.csv\", vld_micro)\n",
    "CSV.write(\"C:\\\\Users\\\\zzuge\\\\vld_total.csv\", vld_total)\n",
    "\n"
   ]
  },
  {
   "cell_type": "code",
   "execution_count": null,
   "id": "5f68545a-3c4d-45e2-8a26-bdf6e77fe1ad",
   "metadata": {},
   "outputs": [],
   "source": []
  }
 ],
 "metadata": {
  "kernelspec": {
   "display_name": "Julia 1.8.1",
   "language": "julia",
   "name": "julia-1.8"
  },
  "language_info": {
   "file_extension": ".jl",
   "mimetype": "application/julia",
   "name": "julia",
   "version": "1.8.1"
  }
 },
 "nbformat": 4,
 "nbformat_minor": 5
}
