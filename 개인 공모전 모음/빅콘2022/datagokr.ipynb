{
 "cells": [
  {
   "cell_type": "code",
   "execution_count": 1,
   "id": "2901ea60-202c-49b0-9438-b583529df2cb",
   "metadata": {},
   "outputs": [],
   "source": [
    "import requests\n",
    "import pandas as pd\n",
    "# from bs4 import BeautifulSoup\n",
    "import xml.etree.ElementTree as ET\n",
    "import re\n",
    "\n",
    "url = 'http://apis.data.go.kr/B552584/EvCharger/getChargerInfo'\n",
    "\n",
    "params ={'serviceKey' : '0BJn5q6inVyTwBNkIUX06W2zgc3TVyEuCZMYlULu0qmW9tLwMd0Zg0fcfKCM7+WMdrQLmp08B0pdPWXYe0eU7A==',\n",
    "         'pageNo' : '1', 'numOfRows' : '9999', 'zscode' : '41460' }\n",
    "response = requests.get(url, params=params).content.decode('utf-8')\n",
    "df = pd.read_xml(response[response.find(\"<body>\")+6:response.find(\"</body>\")])\n",
    "\n",
    "# for page in range(1, 20):\n",
    "#     print(page)\n",
    "#     params ={'serviceKey' : '0BJn5q6inVyTwBNkIUX06W2zgc3TVyEuCZMYlULu0qmW9tLwMd0Zg0fcfKCM7+WMdrQLmp08B0pdPWXYe0eU7A==',\n",
    "#             'pageNo' : str(page), 'numOfRows' : '9999', 'zcode' : '41' }\n",
    "#     response = requests.get(url, params=params).content.decode('utf-8')\n",
    "#     df = pd.concat([df, pd.read_xml(response[response.find(\"<body>\")+6:response.find(\"</body>\")])])\n",
    "df.to_csv(\"C:\\\\Users\\\\zzuge\\\\datagokr_charger.csv\", encoding = 'utf-8-sig')\n"
   ]
  },
  {
   "cell_type": "code",
   "execution_count": null,
   "id": "d4b3b89f-a3a6-4312-9801-75cc005e214d",
   "metadata": {},
   "outputs": [],
   "source": []
  }
 ],
 "metadata": {
  "kernelspec": {
   "display_name": "Python 3 (ipykernel)",
   "language": "python",
   "name": "python3"
  },
  "language_info": {
   "codemirror_mode": {
    "name": "ipython",
    "version": 3
   },
   "file_extension": ".py",
   "mimetype": "text/x-python",
   "name": "python",
   "nbconvert_exporter": "python",
   "pygments_lexer": "ipython3",
   "version": "3.9.12"
  }
 },
 "nbformat": 4,
 "nbformat_minor": 5
}
