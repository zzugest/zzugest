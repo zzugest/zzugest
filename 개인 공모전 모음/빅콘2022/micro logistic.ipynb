{
 "cells": [
  {
   "cell_type": "code",
   "execution_count": 2,
   "id": "b6b914b5-d03f-4153-bda9-ec9b9d17e580",
   "metadata": {},
   "outputs": [],
   "source": [
    "import pandas as pd\n",
    "import numpy as np\n",
    "import matplotlib.pyplot as plt"
   ]
  },
  {
   "cell_type": "code",
   "execution_count": 3,
   "id": "8eac62f1-7ff4-4aeb-bf4c-6c6869e98359",
   "metadata": {},
   "outputs": [],
   "source": [
    "train = pd.read_csv('C:\\\\Users\\\\zzuge\\\\trn_micro.csv')\n",
    "val = pd.read_csv('C:\\\\Users\\\\zzuge\\\\vld_micro.csv')"
   ]
  },
  {
   "cell_type": "code",
   "execution_count": 7,
   "id": "22c97267-6a8b-4c92-9f50-c233941506f8",
   "metadata": {},
   "outputs": [],
   "source": [
    "x_train=train.drop(['product_id','is_applied'],axis=1)\n",
    "y_train=train['is_applied']\n",
    "\n",
    "x_val=val.drop(['product_id','is_applied'],axis=1)\n",
    "y_val=val['is_applied']"
   ]
  },
  {
   "cell_type": "code",
   "execution_count": 8,
   "id": "664362b7-a80b-4af8-894d-1269773500f0",
   "metadata": {},
   "outputs": [
    {
     "name": "stdout",
     "output_type": "stream",
     "text": [
      "<class 'pandas.core.frame.DataFrame'>\n",
      "RangeIndex: 2664265 entries, 0 to 2664264\n",
      "Data columns (total 28 columns):\n",
      " #   Column                               Dtype  \n",
      "---  ------                               -----  \n",
      " 0   credit_score                         int64  \n",
      " 1   application_n                        int64  \n",
      " 2   loyalty                              int64  \n",
      " 3   gender                               int64  \n",
      " 4   log_yearly_income                    float64\n",
      " 5   log_career                           float64\n",
      " 6   log_desired_amount                   float64\n",
      " 7   log_existing_loan_cnt                float64\n",
      " 8   log_existing_loan_amt                float64\n",
      " 9   log_OpenApp                          float64\n",
      " 10  log_UseDSRCalc                       float64\n",
      " 11  nl_loan_limit                        float64\n",
      " 12  nl_loan_rate                         float64\n",
      " 13  nl_age                               float64\n",
      " 14  is_goodbank                          int64  \n",
      " 15  is_goodprod                          int64  \n",
      " 16  is_monday                            int64  \n",
      " 17  is_weekend                           int64  \n",
      " 18  is_after_16                          int64  \n",
      " 19  is_earned_income1                    int64  \n",
      " 20  is_earned_income2                    int64  \n",
      " 21  is_job_regular                       int64  \n",
      " 22  is_job_etc                           int64  \n",
      " 23  is_house_own                         int64  \n",
      " 24  is_house_lent                        int64  \n",
      " 25  is_purpose_living                    int64  \n",
      " 26  personal_rehabilitation_yn           int64  \n",
      " 27  personal_rehabilitation_complete_yn  int64  \n",
      "dtypes: float64(10), int64(18)\n",
      "memory usage: 569.1 MB\n"
     ]
    }
   ],
   "source": [
    "x_train.info()"
   ]
  },
  {
   "cell_type": "code",
   "execution_count": 10,
   "id": "4cb8d755-b4b0-4936-9b20-83bf2dc70c0b",
   "metadata": {},
   "outputs": [],
   "source": [
    "import statsmodels.api as sm"
   ]
  },
  {
   "cell_type": "code",
   "execution_count": 11,
   "id": "3795dd29-38aa-4aed-93db-8dc2291346e1",
   "metadata": {},
   "outputs": [
    {
     "name": "stdout",
     "output_type": "stream",
     "text": [
      "Optimization terminated successfully.\n",
      "         Current function value: 0.298789\n",
      "         Iterations 8\n",
      "                           Logit Regression Results                           \n",
      "==============================================================================\n",
      "Dep. Variable:             is_applied   No. Observations:              2664265\n",
      "Model:                          Logit   Df Residuals:                  2664236\n",
      "Method:                           MLE   Df Model:                           28\n",
      "Date:                Thu, 06 Oct 2022   Pseudo R-squ.:                  0.1956\n",
      "Time:                        11:19:56   Log-Likelihood:            -7.9605e+05\n",
      "converged:                       True   LL-Null:                   -9.8957e+05\n",
      "Covariance Type:            nonrobust   LLR p-value:                     0.000\n",
      "===============================================================================================================\n",
      "                                                  coef    std err          z      P>|z|      [0.025      0.975]\n",
      "---------------------------------------------------------------------------------------------------------------\n",
      "Intercept                                       0.6719      0.047     14.214      0.000       0.579       0.765\n",
      "C(gender)[T.1]                                  0.0200      0.004      4.493      0.000       0.011       0.029\n",
      "C(is_goodbank)[T.1]                             2.1568      0.010    220.712      0.000       2.138       2.176\n",
      "C(is_goodprod)[T.1]                            -0.2564      0.023    -11.281      0.000      -0.301      -0.212\n",
      "C(is_monday)[T.1]                               0.0222      0.005      4.293      0.000       0.012       0.032\n",
      "C(is_weekend)[T.1]                             -0.0763      0.006    -13.075      0.000      -0.088      -0.065\n",
      "C(is_after_16)[T.1]                            -0.0998      0.005    -20.466      0.000      -0.109      -0.090\n",
      "C(is_earned_income1)[T.1]                      -0.0348      0.009     -3.986      0.000      -0.052      -0.018\n",
      "C(is_earned_income2)[T.1]                      -0.0648      0.010     -6.348      0.000      -0.085      -0.045\n",
      "C(is_job_regular)[T.1]                          0.0612      0.006      9.466      0.000       0.049       0.074\n",
      "C(is_job_etc)[T.1]                              0.0873      0.010      8.391      0.000       0.067       0.108\n",
      "C(is_house_own)[T.1]                            0.0039      0.006      0.665      0.506      -0.008       0.015\n",
      "C(is_house_lent)[T.1]                          -0.0079      0.005     -1.665      0.096      -0.017       0.001\n",
      "C(is_purpose_living)[T.1]                       0.1006      0.004     22.373      0.000       0.092       0.109\n",
      "C(personal_rehabilitation_yn)[T.1]              0.0461      0.033      1.381      0.167      -0.019       0.111\n",
      "C(personal_rehabilitation_complete_yn)[T.1]     0.1974      0.112      1.770      0.077      -0.021       0.416\n",
      "credit_score                                   -0.0012   2.68e-05    -44.439      0.000      -0.001      -0.001\n",
      "application_n                                  -0.0733      0.000   -317.615      0.000      -0.074      -0.073\n",
      "loyalty                                         0.0135      0.000     51.261      0.000       0.013       0.014\n",
      "log_yearly_income                               0.0237      0.004      5.874      0.000       0.016       0.032\n",
      "log_career                                     -0.0125      0.003     -4.130      0.000      -0.018      -0.007\n",
      "log_desired_amount                             -0.1307      0.004    -33.892      0.000      -0.138      -0.123\n",
      "log_existing_loan_cnt                           0.2127      0.008     27.399      0.000       0.197       0.228\n",
      "log_existing_loan_amt                          -0.0311      0.004     -8.671      0.000      -0.038      -0.024\n",
      "log_OpenApp                                    -0.0685      0.005    -13.480      0.000      -0.078      -0.059\n",
      "log_UseDSRCalc                                 -0.0473      0.049     -0.962      0.336      -0.144       0.049\n",
      "nl_loan_limit                                   0.0346      0.006      5.476      0.000       0.022       0.047\n",
      "nl_loan_rate                                    0.0947      0.001     91.471      0.000       0.093       0.097\n",
      "nl_age                                         -0.0029      0.032     -0.090      0.929      -0.065       0.060\n",
      "===============================================================================================================\n"
     ]
    }
   ],
   "source": [
    "glm = sm.Logit.from_formula(\"is_applied ~ credit_score+application_n+loyalty+C(gender)+log_yearly_income+log_career+log_desired_amount+log_existing_loan_cnt+log_existing_loan_amt+log_OpenApp+log_UseDSRCalc+nl_loan_limit+nl_loan_rate+nl_age+C(is_goodbank)+C(is_goodprod)+C(is_monday)+C(is_weekend)+C(is_after_16)+C(is_earned_income1)+C(is_earned_income2)+C(is_job_regular)+C(is_job_etc)+C(is_house_own)+C(is_house_lent)+C(is_purpose_living)+C(personal_rehabilitation_yn)+C(personal_rehabilitation_complete_yn)\",train).fit()\n",
    "\n",
    "\n",
    "print(glm.summary())"
   ]
  },
  {
   "cell_type": "code",
   "execution_count": 12,
   "id": "51e511db-5157-4b9f-804f-536b76cf74db",
   "metadata": {},
   "outputs": [
    {
     "data": {
      "text/plain": [
       "Intercept                                      1.957972\n",
       "C(gender)[T.1]                                 1.020233\n",
       "C(is_goodbank)[T.1]                            8.643733\n",
       "C(is_goodprod)[T.1]                            0.773823\n",
       "C(is_monday)[T.1]                              1.022471\n",
       "C(is_weekend)[T.1]                             0.926499\n",
       "C(is_after_16)[T.1]                            0.904997\n",
       "C(is_earned_income1)[T.1]                      0.965788\n",
       "C(is_earned_income2)[T.1]                      0.937237\n",
       "C(is_job_regular)[T.1]                         1.063153\n",
       "C(is_job_etc)[T.1]                             1.091229\n",
       "C(is_house_own)[T.1]                           1.003906\n",
       "C(is_house_lent)[T.1]                          0.992163\n",
       "C(is_purpose_living)[T.1]                      1.105874\n",
       "C(personal_rehabilitation_yn)[T.1]             1.047168\n",
       "C(personal_rehabilitation_complete_yn)[T.1]    1.218234\n",
       "credit_score                                   0.998811\n",
       "application_n                                  0.929302\n",
       "loyalty                                        1.013621\n",
       "log_yearly_income                              1.024000\n",
       "log_career                                     0.987625\n",
       "log_desired_amount                             0.877501\n",
       "log_existing_loan_cnt                          1.237026\n",
       "log_existing_loan_amt                          0.969424\n",
       "log_OpenApp                                    0.933788\n",
       "log_UseDSRCalc                                 0.953840\n",
       "nl_loan_limit                                  1.035235\n",
       "nl_loan_rate                                   1.099285\n",
       "nl_age                                         0.997143\n",
       "dtype: float64"
      ]
     },
     "execution_count": 12,
     "metadata": {},
     "output_type": "execute_result"
    }
   ],
   "source": [
    "np.exp(glm.params)"
   ]
  },
  {
   "cell_type": "code",
   "execution_count": 13,
   "id": "503c76e6-4eba-4c03-b12f-480d00193d76",
   "metadata": {},
   "outputs": [],
   "source": [
    "y_pred=glm.predict(x_val)"
   ]
  },
  {
   "cell_type": "code",
   "execution_count": 14,
   "id": "4fbe521b-893d-46ec-b268-8ac639034fb2",
   "metadata": {},
   "outputs": [
    {
     "data": {
      "text/plain": [
       "0         0.097765\n",
       "1         0.076614\n",
       "2         0.085738\n",
       "3         0.073104\n",
       "4         0.128667\n",
       "            ...   \n",
       "667227    0.225992\n",
       "667228    0.222698\n",
       "667229    0.181329\n",
       "667230    0.169022\n",
       "667231    0.172432\n",
       "Length: 667232, dtype: float64"
      ]
     },
     "execution_count": 14,
     "metadata": {},
     "output_type": "execute_result"
    }
   ],
   "source": [
    "y_pred"
   ]
  },
  {
   "cell_type": "code",
   "execution_count": 15,
   "id": "6f915855-2de4-4b9a-a69c-f5d2daf8ae3c",
   "metadata": {},
   "outputs": [
    {
     "data": {
      "image/png": "[encoded data removed]",
      "text/plain": [
       "<Figure size 432x288 with 1 Axes>"
      ]
     },
     "metadata": {
      "needs_background": "light"
     },
     "output_type": "display_data"
    }
   ],
   "source": [
    "from sklearn.metrics import roc_curve\n",
    "\n",
    "fpr, tpr, thresholds = roc_curve(y_val, y_pred)\n",
    "plt.plot([0,1], [0,1], \"k--\", \"r+\")\n",
    "plt.plot(fpr, tpr, label='xgb')\n",
    "plt.xlabel('FPR')\n",
    "plt.ylabel('TPR')\n",
    "plt.title('xgb ROC curve')\n",
    "plt.show()"
   ]
  },
  {
   "cell_type": "code",
   "execution_count": 16,
   "id": "3065b14e-35bc-4f5b-89a0-2f4f6fa57a2d",
   "metadata": {},
   "outputs": [],
   "source": [
    "roc=pd.DataFrame({'FPR':fpr,'TPR':tpr,'Threshold':thresholds})\n",
    "optimal_idx=np.argmax(tpr-fpr)\n",
    "optimal_thresholds=thresholds[optimal_idx]"
   ]
  },
  {
   "cell_type": "code",
   "execution_count": 17,
   "id": "607cfc36-6622-44dd-8e90-9db459d933f8",
   "metadata": {},
   "outputs": [
    {
     "data": {
      "text/plain": [
       "0.16102135657732258"
      ]
     },
     "execution_count": 17,
     "metadata": {},
     "output_type": "execute_result"
    }
   ],
   "source": [
    "optimal_thresholds"
   ]
  },
  {
   "cell_type": "code",
   "execution_count": 18,
   "id": "246a139a-f877-4f36-8490-92b78348d7c8",
   "metadata": {},
   "outputs": [],
   "source": [
    "y_pred = [1 if x>0.16102135657732258 else 0 for x in y_pred]"
   ]
  },
  {
   "cell_type": "code",
   "execution_count": 19,
   "id": "601a987a-3e4c-47ca-8af3-38ed4ae33d41",
   "metadata": {},
   "outputs": [],
   "source": [
    "from sklearn.metrics import accuracy_score, precision_score, recall_score, confusion_matrix, f1_score"
   ]
  },
  {
   "cell_type": "code",
   "execution_count": 20,
   "id": "1af8fe7d-c35a-49b7-bb31-1586b30d289c",
   "metadata": {},
   "outputs": [
    {
     "data": {
      "text/plain": [
       "0.418267866265539"
      ]
     },
     "execution_count": 20,
     "metadata": {},
     "output_type": "execute_result"
    }
   ],
   "source": [
    "f1_score(y_val, y_pred)"
   ]
  },
  {
   "cell_type": "code",
   "execution_count": 21,
   "id": "42c04872-5720-4af1-93f6-e7c3af7a93ef",
   "metadata": {},
   "outputs": [
    {
     "data": {
      "text/plain": [
       "0.29405543999321593"
      ]
     },
     "execution_count": 21,
     "metadata": {},
     "output_type": "execute_result"
    }
   ],
   "source": [
    "precision_score(y_val, y_pred)"
   ]
  },
  {
   "cell_type": "code",
   "execution_count": 22,
   "id": "a773dc5e-59b6-405a-b8af-2eb58f6de7d2",
   "metadata": {},
   "outputs": [
    {
     "data": {
      "text/plain": [
       "0.724162500153557"
      ]
     },
     "execution_count": 22,
     "metadata": {},
     "output_type": "execute_result"
    }
   ],
   "source": [
    "recall_score(y_val, y_pred)"
   ]
  },
  {
   "cell_type": "code",
   "execution_count": 23,
   "id": "39881158-57ac-47e9-acec-49ec5f825d29",
   "metadata": {},
   "outputs": [
    {
     "data": {
      "text/plain": [
       "0.754247398206321"
      ]
     },
     "execution_count": 23,
     "metadata": {},
     "output_type": "execute_result"
    }
   ],
   "source": [
    "accuracy_score(y_val, y_pred)"
   ]
  }
 ],
 "metadata": {
  "kernelspec": {
   "display_name": "Python 3 (ipykernel)",
   "language": "python",
   "name": "python3"
  },
  "language_info": {
   "codemirror_mode": {
    "name": "ipython",
    "version": 3
   },
   "file_extension": ".py",
   "mimetype": "text/x-python",
   "name": "python",
   "nbconvert_exporter": "python",
   "pygments_lexer": "ipython3",
   "version": "3.9.12"
  }
 },
 "nbformat": 4,
 "nbformat_minor": 5
}
