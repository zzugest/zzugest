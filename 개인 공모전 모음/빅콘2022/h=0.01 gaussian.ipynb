{
 "cells": [
  {
   "cell_type": "code",
   "execution_count": 2,
   "id": "9ec9d98d-2775-43df-b89b-4677f547aefb",
   "metadata": {},
   "outputs": [],
   "source": [
    "import pandas as pd\n",
    "import numpy as np\n",
    "import seaborn as sns\n",
    "import matplotlib.pyplot as plt\n",
    "import cv2"
   ]
  },
  {
   "cell_type": "code",
   "execution_count": 2,
   "id": "59921df1-5b6e-46fd-834c-f28407a3b275",
   "metadata": {},
   "outputs": [
    {
     "name": "stderr",
     "output_type": "stream",
     "text": [
      "C:\\Users\\zzuge\\AppData\\Local\\Temp\\ipykernel_14476\\2217273311.py:14: FutureWarning: The frame.append method is deprecated and will be removed from pandas in a future version. Use pandas.concat instead.\n",
      "  corr=corr.append(pd.DataFrame([df.corr()['y']]))\n",
      "C:\\Users\\zzuge\\AppData\\Local\\Temp\\ipykernel_14476\\2217273311.py:14: FutureWarning: The frame.append method is deprecated and will be removed from pandas in a future version. Use pandas.concat instead.\n",
      "  corr=corr.append(pd.DataFrame([df.corr()['y']]))\n",
      "C:\\Users\\zzuge\\AppData\\Local\\Temp\\ipykernel_14476\\2217273311.py:14: FutureWarning: The frame.append method is deprecated and will be removed from pandas in a future version. Use pandas.concat instead.\n",
      "  corr=corr.append(pd.DataFrame([df.corr()['y']]))\n",
      "C:\\Users\\zzuge\\AppData\\Local\\Temp\\ipykernel_14476\\2217273311.py:14: FutureWarning: The frame.append method is deprecated and will be removed from pandas in a future version. Use pandas.concat instead.\n",
      "  corr=corr.append(pd.DataFrame([df.corr()['y']]))\n",
      "C:\\Users\\zzuge\\AppData\\Local\\Temp\\ipykernel_14476\\2217273311.py:14: FutureWarning: The frame.append method is deprecated and will be removed from pandas in a future version. Use pandas.concat instead.\n",
      "  corr=corr.append(pd.DataFrame([df.corr()['y']]))\n",
      "C:\\Users\\zzuge\\AppData\\Local\\Temp\\ipykernel_14476\\2217273311.py:14: FutureWarning: The frame.append method is deprecated and will be removed from pandas in a future version. Use pandas.concat instead.\n",
      "  corr=corr.append(pd.DataFrame([df.corr()['y']]))\n",
      "C:\\Users\\zzuge\\AppData\\Local\\Temp\\ipykernel_14476\\2217273311.py:14: FutureWarning: The frame.append method is deprecated and will be removed from pandas in a future version. Use pandas.concat instead.\n",
      "  corr=corr.append(pd.DataFrame([df.corr()['y']]))\n",
      "C:\\Users\\zzuge\\AppData\\Local\\Temp\\ipykernel_14476\\2217273311.py:14: FutureWarning: The frame.append method is deprecated and will be removed from pandas in a future version. Use pandas.concat instead.\n",
      "  corr=corr.append(pd.DataFrame([df.corr()['y']]))\n",
      "C:\\Users\\zzuge\\AppData\\Local\\Temp\\ipykernel_14476\\2217273311.py:14: FutureWarning: The frame.append method is deprecated and will be removed from pandas in a future version. Use pandas.concat instead.\n",
      "  corr=corr.append(pd.DataFrame([df.corr()['y']]))\n",
      "C:\\Users\\zzuge\\AppData\\Local\\Temp\\ipykernel_14476\\2217273311.py:14: FutureWarning: The frame.append method is deprecated and will be removed from pandas in a future version. Use pandas.concat instead.\n",
      "  corr=corr.append(pd.DataFrame([df.corr()['y']]))\n",
      "C:\\Users\\zzuge\\AppData\\Local\\Temp\\ipykernel_14476\\2217273311.py:14: FutureWarning: The frame.append method is deprecated and will be removed from pandas in a future version. Use pandas.concat instead.\n",
      "  corr=corr.append(pd.DataFrame([df.corr()['y']]))\n",
      "C:\\Users\\zzuge\\AppData\\Local\\Temp\\ipykernel_14476\\2217273311.py:14: FutureWarning: The frame.append method is deprecated and will be removed from pandas in a future version. Use pandas.concat instead.\n",
      "  corr=corr.append(pd.DataFrame([df.corr()['y']]))\n",
      "C:\\Users\\zzuge\\AppData\\Local\\Temp\\ipykernel_14476\\2217273311.py:14: FutureWarning: The frame.append method is deprecated and will be removed from pandas in a future version. Use pandas.concat instead.\n",
      "  corr=corr.append(pd.DataFrame([df.corr()['y']]))\n",
      "C:\\Users\\zzuge\\AppData\\Local\\Temp\\ipykernel_14476\\2217273311.py:14: FutureWarning: The frame.append method is deprecated and will be removed from pandas in a future version. Use pandas.concat instead.\n",
      "  corr=corr.append(pd.DataFrame([df.corr()['y']]))\n",
      "C:\\Users\\zzuge\\AppData\\Local\\Temp\\ipykernel_14476\\2217273311.py:14: FutureWarning: The frame.append method is deprecated and will be removed from pandas in a future version. Use pandas.concat instead.\n",
      "  corr=corr.append(pd.DataFrame([df.corr()['y']]))\n",
      "C:\\Users\\zzuge\\AppData\\Local\\Temp\\ipykernel_14476\\2217273311.py:14: FutureWarning: The frame.append method is deprecated and will be removed from pandas in a future version. Use pandas.concat instead.\n",
      "  corr=corr.append(pd.DataFrame([df.corr()['y']]))\n",
      "C:\\Users\\zzuge\\AppData\\Local\\Temp\\ipykernel_14476\\2217273311.py:14: FutureWarning: The frame.append method is deprecated and will be removed from pandas in a future version. Use pandas.concat instead.\n",
      "  corr=corr.append(pd.DataFrame([df.corr()['y']]))\n",
      "C:\\Users\\zzuge\\AppData\\Local\\Temp\\ipykernel_14476\\2217273311.py:14: FutureWarning: The frame.append method is deprecated and will be removed from pandas in a future version. Use pandas.concat instead.\n",
      "  corr=corr.append(pd.DataFrame([df.corr()['y']]))\n",
      "C:\\Users\\zzuge\\AppData\\Local\\Temp\\ipykernel_14476\\2217273311.py:14: FutureWarning: The frame.append method is deprecated and will be removed from pandas in a future version. Use pandas.concat instead.\n",
      "  corr=corr.append(pd.DataFrame([df.corr()['y']]))\n",
      "C:\\Users\\zzuge\\AppData\\Local\\Temp\\ipykernel_14476\\2217273311.py:14: FutureWarning: The frame.append method is deprecated and will be removed from pandas in a future version. Use pandas.concat instead.\n",
      "  corr=corr.append(pd.DataFrame([df.corr()['y']]))\n",
      "C:\\Users\\zzuge\\AppData\\Local\\Temp\\ipykernel_14476\\2217273311.py:14: FutureWarning: The frame.append method is deprecated and will be removed from pandas in a future version. Use pandas.concat instead.\n",
      "  corr=corr.append(pd.DataFrame([df.corr()['y']]))\n",
      "C:\\Users\\zzuge\\AppData\\Local\\Temp\\ipykernel_14476\\2217273311.py:14: FutureWarning: The frame.append method is deprecated and will be removed from pandas in a future version. Use pandas.concat instead.\n",
      "  corr=corr.append(pd.DataFrame([df.corr()['y']]))\n",
      "C:\\Users\\zzuge\\AppData\\Local\\Temp\\ipykernel_14476\\2217273311.py:14: FutureWarning: The frame.append method is deprecated and will be removed from pandas in a future version. Use pandas.concat instead.\n",
      "  corr=corr.append(pd.DataFrame([df.corr()['y']]))\n",
      "C:\\Users\\zzuge\\AppData\\Local\\Temp\\ipykernel_14476\\2217273311.py:14: FutureWarning: The frame.append method is deprecated and will be removed from pandas in a future version. Use pandas.concat instead.\n",
      "  corr=corr.append(pd.DataFrame([df.corr()['y']]))\n",
      "C:\\Users\\zzuge\\AppData\\Local\\Temp\\ipykernel_14476\\2217273311.py:14: FutureWarning: The frame.append method is deprecated and will be removed from pandas in a future version. Use pandas.concat instead.\n",
      "  corr=corr.append(pd.DataFrame([df.corr()['y']]))\n",
      "C:\\Users\\zzuge\\AppData\\Local\\Temp\\ipykernel_14476\\2217273311.py:14: FutureWarning: The frame.append method is deprecated and will be removed from pandas in a future version. Use pandas.concat instead.\n",
      "  corr=corr.append(pd.DataFrame([df.corr()['y']]))\n",
      "C:\\Users\\zzuge\\AppData\\Local\\Temp\\ipykernel_14476\\2217273311.py:14: FutureWarning: The frame.append method is deprecated and will be removed from pandas in a future version. Use pandas.concat instead.\n",
      "  corr=corr.append(pd.DataFrame([df.corr()['y']]))\n",
      "C:\\Users\\zzuge\\AppData\\Local\\Temp\\ipykernel_14476\\2217273311.py:14: FutureWarning: The frame.append method is deprecated and will be removed from pandas in a future version. Use pandas.concat instead.\n",
      "  corr=corr.append(pd.DataFrame([df.corr()['y']]))\n",
      "C:\\Users\\zzuge\\AppData\\Local\\Temp\\ipykernel_14476\\2217273311.py:14: FutureWarning: The frame.append method is deprecated and will be removed from pandas in a future version. Use pandas.concat instead.\n",
      "  corr=corr.append(pd.DataFrame([df.corr()['y']]))\n",
      "C:\\Users\\zzuge\\AppData\\Local\\Temp\\ipykernel_14476\\2217273311.py:14: FutureWarning: The frame.append method is deprecated and will be removed from pandas in a future version. Use pandas.concat instead.\n",
      "  corr=corr.append(pd.DataFrame([df.corr()['y']]))\n",
      "C:\\Users\\zzuge\\AppData\\Local\\Temp\\ipykernel_14476\\2217273311.py:14: FutureWarning: The frame.append method is deprecated and will be removed from pandas in a future version. Use pandas.concat instead.\n",
      "  corr=corr.append(pd.DataFrame([df.corr()['y']]))\n",
      "C:\\Users\\zzuge\\AppData\\Local\\Temp\\ipykernel_14476\\2217273311.py:14: FutureWarning: The frame.append method is deprecated and will be removed from pandas in a future version. Use pandas.concat instead.\n",
      "  corr=corr.append(pd.DataFrame([df.corr()['y']]))\n",
      "C:\\Users\\zzuge\\AppData\\Local\\Temp\\ipykernel_14476\\2217273311.py:14: FutureWarning: The frame.append method is deprecated and will be removed from pandas in a future version. Use pandas.concat instead.\n",
      "  corr=corr.append(pd.DataFrame([df.corr()['y']]))\n",
      "C:\\Users\\zzuge\\AppData\\Local\\Temp\\ipykernel_14476\\2217273311.py:14: FutureWarning: The frame.append method is deprecated and will be removed from pandas in a future version. Use pandas.concat instead.\n",
      "  corr=corr.append(pd.DataFrame([df.corr()['y']]))\n",
      "C:\\Users\\zzuge\\AppData\\Local\\Temp\\ipykernel_14476\\2217273311.py:14: FutureWarning: The frame.append method is deprecated and will be removed from pandas in a future version. Use pandas.concat instead.\n",
      "  corr=corr.append(pd.DataFrame([df.corr()['y']]))\n",
      "C:\\Users\\zzuge\\AppData\\Local\\Temp\\ipykernel_14476\\2217273311.py:14: FutureWarning: The frame.append method is deprecated and will be removed from pandas in a future version. Use pandas.concat instead.\n",
      "  corr=corr.append(pd.DataFrame([df.corr()['y']]))\n",
      "C:\\Users\\zzuge\\AppData\\Local\\Temp\\ipykernel_14476\\2217273311.py:14: FutureWarning: The frame.append method is deprecated and will be removed from pandas in a future version. Use pandas.concat instead.\n",
      "  corr=corr.append(pd.DataFrame([df.corr()['y']]))\n",
      "C:\\Users\\zzuge\\AppData\\Local\\Temp\\ipykernel_14476\\2217273311.py:14: FutureWarning: The frame.append method is deprecated and will be removed from pandas in a future version. Use pandas.concat instead.\n",
      "  corr=corr.append(pd.DataFrame([df.corr()['y']]))\n",
      "C:\\Users\\zzuge\\AppData\\Local\\Temp\\ipykernel_14476\\2217273311.py:14: FutureWarning: The frame.append method is deprecated and will be removed from pandas in a future version. Use pandas.concat instead.\n",
      "  corr=corr.append(pd.DataFrame([df.corr()['y']]))\n",
      "C:\\Users\\zzuge\\AppData\\Local\\Temp\\ipykernel_14476\\2217273311.py:14: FutureWarning: The frame.append method is deprecated and will be removed from pandas in a future version. Use pandas.concat instead.\n",
      "  corr=corr.append(pd.DataFrame([df.corr()['y']]))\n",
      "C:\\Users\\zzuge\\AppData\\Local\\Temp\\ipykernel_14476\\2217273311.py:14: FutureWarning: The frame.append method is deprecated and will be removed from pandas in a future version. Use pandas.concat instead.\n",
      "  corr=corr.append(pd.DataFrame([df.corr()['y']]))\n",
      "C:\\Users\\zzuge\\AppData\\Local\\Temp\\ipykernel_14476\\2217273311.py:14: FutureWarning: The frame.append method is deprecated and will be removed from pandas in a future version. Use pandas.concat instead.\n",
      "  corr=corr.append(pd.DataFrame([df.corr()['y']]))\n",
      "C:\\Users\\zzuge\\AppData\\Local\\Temp\\ipykernel_14476\\2217273311.py:14: FutureWarning: The frame.append method is deprecated and will be removed from pandas in a future version. Use pandas.concat instead.\n",
      "  corr=corr.append(pd.DataFrame([df.corr()['y']]))\n",
      "C:\\Users\\zzuge\\AppData\\Local\\Temp\\ipykernel_14476\\2217273311.py:14: FutureWarning: The frame.append method is deprecated and will be removed from pandas in a future version. Use pandas.concat instead.\n",
      "  corr=corr.append(pd.DataFrame([df.corr()['y']]))\n",
      "C:\\Users\\zzuge\\AppData\\Local\\Temp\\ipykernel_14476\\2217273311.py:14: FutureWarning: The frame.append method is deprecated and will be removed from pandas in a future version. Use pandas.concat instead.\n",
      "  corr=corr.append(pd.DataFrame([df.corr()['y']]))\n",
      "C:\\Users\\zzuge\\AppData\\Local\\Temp\\ipykernel_14476\\2217273311.py:14: FutureWarning: The frame.append method is deprecated and will be removed from pandas in a future version. Use pandas.concat instead.\n",
      "  corr=corr.append(pd.DataFrame([df.corr()['y']]))\n",
      "C:\\Users\\zzuge\\AppData\\Local\\Temp\\ipykernel_14476\\2217273311.py:14: FutureWarning: The frame.append method is deprecated and will be removed from pandas in a future version. Use pandas.concat instead.\n",
      "  corr=corr.append(pd.DataFrame([df.corr()['y']]))\n",
      "C:\\Users\\zzuge\\AppData\\Local\\Temp\\ipykernel_14476\\2217273311.py:14: FutureWarning: The frame.append method is deprecated and will be removed from pandas in a future version. Use pandas.concat instead.\n",
      "  corr=corr.append(pd.DataFrame([df.corr()['y']]))\n",
      "C:\\Users\\zzuge\\AppData\\Local\\Temp\\ipykernel_14476\\2217273311.py:14: FutureWarning: The frame.append method is deprecated and will be removed from pandas in a future version. Use pandas.concat instead.\n",
      "  corr=corr.append(pd.DataFrame([df.corr()['y']]))\n",
      "C:\\Users\\zzuge\\AppData\\Local\\Temp\\ipykernel_14476\\2217273311.py:14: FutureWarning: The frame.append method is deprecated and will be removed from pandas in a future version. Use pandas.concat instead.\n",
      "  corr=corr.append(pd.DataFrame([df.corr()['y']]))\n",
      "C:\\Users\\zzuge\\AppData\\Local\\Temp\\ipykernel_14476\\2217273311.py:14: FutureWarning: The frame.append method is deprecated and will be removed from pandas in a future version. Use pandas.concat instead.\n",
      "  corr=corr.append(pd.DataFrame([df.corr()['y']]))\n",
      "C:\\Users\\zzuge\\AppData\\Local\\Temp\\ipykernel_14476\\2217273311.py:14: FutureWarning: The frame.append method is deprecated and will be removed from pandas in a future version. Use pandas.concat instead.\n",
      "  corr=corr.append(pd.DataFrame([df.corr()['y']]))\n",
      "C:\\Users\\zzuge\\AppData\\Local\\Temp\\ipykernel_14476\\2217273311.py:14: FutureWarning: The frame.append method is deprecated and will be removed from pandas in a future version. Use pandas.concat instead.\n",
      "  corr=corr.append(pd.DataFrame([df.corr()['y']]))\n",
      "C:\\Users\\zzuge\\AppData\\Local\\Temp\\ipykernel_14476\\2217273311.py:14: FutureWarning: The frame.append method is deprecated and will be removed from pandas in a future version. Use pandas.concat instead.\n",
      "  corr=corr.append(pd.DataFrame([df.corr()['y']]))\n",
      "C:\\Users\\zzuge\\AppData\\Local\\Temp\\ipykernel_14476\\2217273311.py:14: FutureWarning: The frame.append method is deprecated and will be removed from pandas in a future version. Use pandas.concat instead.\n",
      "  corr=corr.append(pd.DataFrame([df.corr()['y']]))\n",
      "C:\\Users\\zzuge\\AppData\\Local\\Temp\\ipykernel_14476\\2217273311.py:14: FutureWarning: The frame.append method is deprecated and will be removed from pandas in a future version. Use pandas.concat instead.\n",
      "  corr=corr.append(pd.DataFrame([df.corr()['y']]))\n",
      "C:\\Users\\zzuge\\AppData\\Local\\Temp\\ipykernel_14476\\2217273311.py:14: FutureWarning: The frame.append method is deprecated and will be removed from pandas in a future version. Use pandas.concat instead.\n",
      "  corr=corr.append(pd.DataFrame([df.corr()['y']]))\n",
      "C:\\Users\\zzuge\\AppData\\Local\\Temp\\ipykernel_14476\\2217273311.py:14: FutureWarning: The frame.append method is deprecated and will be removed from pandas in a future version. Use pandas.concat instead.\n",
      "  corr=corr.append(pd.DataFrame([df.corr()['y']]))\n",
      "C:\\Users\\zzuge\\AppData\\Local\\Temp\\ipykernel_14476\\2217273311.py:14: FutureWarning: The frame.append method is deprecated and will be removed from pandas in a future version. Use pandas.concat instead.\n",
      "  corr=corr.append(pd.DataFrame([df.corr()['y']]))\n",
      "C:\\Users\\zzuge\\AppData\\Local\\Temp\\ipykernel_14476\\2217273311.py:14: FutureWarning: The frame.append method is deprecated and will be removed from pandas in a future version. Use pandas.concat instead.\n",
      "  corr=corr.append(pd.DataFrame([df.corr()['y']]))\n",
      "C:\\Users\\zzuge\\AppData\\Local\\Temp\\ipykernel_14476\\2217273311.py:14: FutureWarning: The frame.append method is deprecated and will be removed from pandas in a future version. Use pandas.concat instead.\n",
      "  corr=corr.append(pd.DataFrame([df.corr()['y']]))\n",
      "C:\\Users\\zzuge\\AppData\\Local\\Temp\\ipykernel_14476\\2217273311.py:14: FutureWarning: The frame.append method is deprecated and will be removed from pandas in a future version. Use pandas.concat instead.\n",
      "  corr=corr.append(pd.DataFrame([df.corr()['y']]))\n",
      "C:\\Users\\zzuge\\AppData\\Local\\Temp\\ipykernel_14476\\2217273311.py:14: FutureWarning: The frame.append method is deprecated and will be removed from pandas in a future version. Use pandas.concat instead.\n",
      "  corr=corr.append(pd.DataFrame([df.corr()['y']]))\n",
      "C:\\Users\\zzuge\\AppData\\Local\\Temp\\ipykernel_14476\\2217273311.py:14: FutureWarning: The frame.append method is deprecated and will be removed from pandas in a future version. Use pandas.concat instead.\n",
      "  corr=corr.append(pd.DataFrame([df.corr()['y']]))\n",
      "C:\\Users\\zzuge\\AppData\\Local\\Temp\\ipykernel_14476\\2217273311.py:14: FutureWarning: The frame.append method is deprecated and will be removed from pandas in a future version. Use pandas.concat instead.\n",
      "  corr=corr.append(pd.DataFrame([df.corr()['y']]))\n",
      "C:\\Users\\zzuge\\AppData\\Local\\Temp\\ipykernel_14476\\2217273311.py:14: FutureWarning: The frame.append method is deprecated and will be removed from pandas in a future version. Use pandas.concat instead.\n",
      "  corr=corr.append(pd.DataFrame([df.corr()['y']]))\n",
      "C:\\Users\\zzuge\\AppData\\Local\\Temp\\ipykernel_14476\\2217273311.py:14: FutureWarning: The frame.append method is deprecated and will be removed from pandas in a future version. Use pandas.concat instead.\n",
      "  corr=corr.append(pd.DataFrame([df.corr()['y']]))\n",
      "C:\\Users\\zzuge\\AppData\\Local\\Temp\\ipykernel_14476\\2217273311.py:14: FutureWarning: The frame.append method is deprecated and will be removed from pandas in a future version. Use pandas.concat instead.\n",
      "  corr=corr.append(pd.DataFrame([df.corr()['y']]))\n",
      "C:\\Users\\zzuge\\AppData\\Local\\Temp\\ipykernel_14476\\2217273311.py:14: FutureWarning: The frame.append method is deprecated and will be removed from pandas in a future version. Use pandas.concat instead.\n",
      "  corr=corr.append(pd.DataFrame([df.corr()['y']]))\n",
      "C:\\Users\\zzuge\\AppData\\Local\\Temp\\ipykernel_14476\\2217273311.py:14: FutureWarning: The frame.append method is deprecated and will be removed from pandas in a future version. Use pandas.concat instead.\n",
      "  corr=corr.append(pd.DataFrame([df.corr()['y']]))\n",
      "C:\\Users\\zzuge\\AppData\\Local\\Temp\\ipykernel_14476\\2217273311.py:14: FutureWarning: The frame.append method is deprecated and will be removed from pandas in a future version. Use pandas.concat instead.\n",
      "  corr=corr.append(pd.DataFrame([df.corr()['y']]))\n",
      "C:\\Users\\zzuge\\AppData\\Local\\Temp\\ipykernel_14476\\2217273311.py:14: FutureWarning: The frame.append method is deprecated and will be removed from pandas in a future version. Use pandas.concat instead.\n",
      "  corr=corr.append(pd.DataFrame([df.corr()['y']]))\n",
      "C:\\Users\\zzuge\\AppData\\Local\\Temp\\ipykernel_14476\\2217273311.py:14: FutureWarning: The frame.append method is deprecated and will be removed from pandas in a future version. Use pandas.concat instead.\n",
      "  corr=corr.append(pd.DataFrame([df.corr()['y']]))\n",
      "C:\\Users\\zzuge\\AppData\\Local\\Temp\\ipykernel_14476\\2217273311.py:14: FutureWarning: The frame.append method is deprecated and will be removed from pandas in a future version. Use pandas.concat instead.\n",
      "  corr=corr.append(pd.DataFrame([df.corr()['y']]))\n",
      "C:\\Users\\zzuge\\AppData\\Local\\Temp\\ipykernel_14476\\2217273311.py:14: FutureWarning: The frame.append method is deprecated and will be removed from pandas in a future version. Use pandas.concat instead.\n",
      "  corr=corr.append(pd.DataFrame([df.corr()['y']]))\n",
      "C:\\Users\\zzuge\\AppData\\Local\\Temp\\ipykernel_14476\\2217273311.py:14: FutureWarning: The frame.append method is deprecated and will be removed from pandas in a future version. Use pandas.concat instead.\n",
      "  corr=corr.append(pd.DataFrame([df.corr()['y']]))\n",
      "C:\\Users\\zzuge\\AppData\\Local\\Temp\\ipykernel_14476\\2217273311.py:14: FutureWarning: The frame.append method is deprecated and will be removed from pandas in a future version. Use pandas.concat instead.\n",
      "  corr=corr.append(pd.DataFrame([df.corr()['y']]))\n",
      "C:\\Users\\zzuge\\AppData\\Local\\Temp\\ipykernel_14476\\2217273311.py:14: FutureWarning: The frame.append method is deprecated and will be removed from pandas in a future version. Use pandas.concat instead.\n",
      "  corr=corr.append(pd.DataFrame([df.corr()['y']]))\n",
      "C:\\Users\\zzuge\\AppData\\Local\\Temp\\ipykernel_14476\\2217273311.py:14: FutureWarning: The frame.append method is deprecated and will be removed from pandas in a future version. Use pandas.concat instead.\n",
      "  corr=corr.append(pd.DataFrame([df.corr()['y']]))\n",
      "C:\\Users\\zzuge\\AppData\\Local\\Temp\\ipykernel_14476\\2217273311.py:14: FutureWarning: The frame.append method is deprecated and will be removed from pandas in a future version. Use pandas.concat instead.\n",
      "  corr=corr.append(pd.DataFrame([df.corr()['y']]))\n",
      "C:\\Users\\zzuge\\AppData\\Local\\Temp\\ipykernel_14476\\2217273311.py:14: FutureWarning: The frame.append method is deprecated and will be removed from pandas in a future version. Use pandas.concat instead.\n",
      "  corr=corr.append(pd.DataFrame([df.corr()['y']]))\n",
      "C:\\Users\\zzuge\\AppData\\Local\\Temp\\ipykernel_14476\\2217273311.py:14: FutureWarning: The frame.append method is deprecated and will be removed from pandas in a future version. Use pandas.concat instead.\n",
      "  corr=corr.append(pd.DataFrame([df.corr()['y']]))\n",
      "C:\\Users\\zzuge\\AppData\\Local\\Temp\\ipykernel_14476\\2217273311.py:14: FutureWarning: The frame.append method is deprecated and will be removed from pandas in a future version. Use pandas.concat instead.\n",
      "  corr=corr.append(pd.DataFrame([df.corr()['y']]))\n",
      "C:\\Users\\zzuge\\AppData\\Local\\Temp\\ipykernel_14476\\2217273311.py:14: FutureWarning: The frame.append method is deprecated and will be removed from pandas in a future version. Use pandas.concat instead.\n",
      "  corr=corr.append(pd.DataFrame([df.corr()['y']]))\n",
      "C:\\Users\\zzuge\\AppData\\Local\\Temp\\ipykernel_14476\\2217273311.py:14: FutureWarning: The frame.append method is deprecated and will be removed from pandas in a future version. Use pandas.concat instead.\n",
      "  corr=corr.append(pd.DataFrame([df.corr()['y']]))\n",
      "C:\\Users\\zzuge\\AppData\\Local\\Temp\\ipykernel_14476\\2217273311.py:14: FutureWarning: The frame.append method is deprecated and will be removed from pandas in a future version. Use pandas.concat instead.\n",
      "  corr=corr.append(pd.DataFrame([df.corr()['y']]))\n",
      "C:\\Users\\zzuge\\AppData\\Local\\Temp\\ipykernel_14476\\2217273311.py:14: FutureWarning: The frame.append method is deprecated and will be removed from pandas in a future version. Use pandas.concat instead.\n",
      "  corr=corr.append(pd.DataFrame([df.corr()['y']]))\n",
      "C:\\Users\\zzuge\\AppData\\Local\\Temp\\ipykernel_14476\\2217273311.py:14: FutureWarning: The frame.append method is deprecated and will be removed from pandas in a future version. Use pandas.concat instead.\n",
      "  corr=corr.append(pd.DataFrame([df.corr()['y']]))\n",
      "C:\\Users\\zzuge\\AppData\\Local\\Temp\\ipykernel_14476\\2217273311.py:14: FutureWarning: The frame.append method is deprecated and will be removed from pandas in a future version. Use pandas.concat instead.\n",
      "  corr=corr.append(pd.DataFrame([df.corr()['y']]))\n",
      "C:\\Users\\zzuge\\AppData\\Local\\Temp\\ipykernel_14476\\2217273311.py:14: FutureWarning: The frame.append method is deprecated and will be removed from pandas in a future version. Use pandas.concat instead.\n",
      "  corr=corr.append(pd.DataFrame([df.corr()['y']]))\n",
      "C:\\Users\\zzuge\\AppData\\Local\\Temp\\ipykernel_14476\\2217273311.py:14: FutureWarning: The frame.append method is deprecated and will be removed from pandas in a future version. Use pandas.concat instead.\n",
      "  corr=corr.append(pd.DataFrame([df.corr()['y']]))\n",
      "C:\\Users\\zzuge\\AppData\\Local\\Temp\\ipykernel_14476\\2217273311.py:14: FutureWarning: The frame.append method is deprecated and will be removed from pandas in a future version. Use pandas.concat instead.\n",
      "  corr=corr.append(pd.DataFrame([df.corr()['y']]))\n",
      "C:\\Users\\zzuge\\AppData\\Local\\Temp\\ipykernel_14476\\2217273311.py:14: FutureWarning: The frame.append method is deprecated and will be removed from pandas in a future version. Use pandas.concat instead.\n",
      "  corr=corr.append(pd.DataFrame([df.corr()['y']]))\n",
      "C:\\Users\\zzuge\\AppData\\Local\\Temp\\ipykernel_14476\\2217273311.py:14: FutureWarning: The frame.append method is deprecated and will be removed from pandas in a future version. Use pandas.concat instead.\n",
      "  corr=corr.append(pd.DataFrame([df.corr()['y']]))\n",
      "C:\\Users\\zzuge\\AppData\\Local\\Temp\\ipykernel_14476\\2217273311.py:14: FutureWarning: The frame.append method is deprecated and will be removed from pandas in a future version. Use pandas.concat instead.\n",
      "  corr=corr.append(pd.DataFrame([df.corr()['y']]))\n",
      "C:\\Users\\zzuge\\AppData\\Local\\Temp\\ipykernel_14476\\2217273311.py:14: FutureWarning: The frame.append method is deprecated and will be removed from pandas in a future version. Use pandas.concat instead.\n",
      "  corr=corr.append(pd.DataFrame([df.corr()['y']]))\n",
      "C:\\Users\\zzuge\\AppData\\Local\\Temp\\ipykernel_14476\\2217273311.py:14: FutureWarning: The frame.append method is deprecated and will be removed from pandas in a future version. Use pandas.concat instead.\n",
      "  corr=corr.append(pd.DataFrame([df.corr()['y']]))\n",
      "C:\\Users\\zzuge\\AppData\\Local\\Temp\\ipykernel_14476\\2217273311.py:14: FutureWarning: The frame.append method is deprecated and will be removed from pandas in a future version. Use pandas.concat instead.\n",
      "  corr=corr.append(pd.DataFrame([df.corr()['y']]))\n",
      "C:\\Users\\zzuge\\AppData\\Local\\Temp\\ipykernel_14476\\2217273311.py:14: FutureWarning: The frame.append method is deprecated and will be removed from pandas in a future version. Use pandas.concat instead.\n",
      "  corr=corr.append(pd.DataFrame([df.corr()['y']]))\n",
      "C:\\Users\\zzuge\\AppData\\Local\\Temp\\ipykernel_14476\\2217273311.py:14: FutureWarning: The frame.append method is deprecated and will be removed from pandas in a future version. Use pandas.concat instead.\n",
      "  corr=corr.append(pd.DataFrame([df.corr()['y']]))\n"
     ]
    }
   ],
   "source": [
    "corr= pd.DataFrame()\n",
    "x1=pd.read_csv('C:\\\\Users\\\\zzuge\\\\X1.csv')\n",
    "x2=pd.read_csv('C:\\\\Users\\\\zzuge\\\\X2.csv')\n",
    "x3=pd.read_csv('C:\\\\Users\\\\zzuge\\\\X3.csv')\n",
    "Y = np.genfromtxt(\"C:\\\\Users\\\\zzuge\\\\Y.csv\", skip_header=1, encoding='utf-8', delimiter=',')\n",
    "for i in np.arange(0.1, 10.1, 0.1):\n",
    "    #if i % 2 != 0 :\n",
    "        df=pd.DataFrame(\n",
    "            {'x1':np.array(np.log1p(x1)).flatten(),\n",
    "             'x2':np.array(np.log1p(x2)).flatten(),\n",
    "             'x3':np.array(np.log1p(x3)).flatten(),\n",
    "             'y': np.array(cv2.GaussianBlur(Y, (0, 0), sigmaX =i,sigmaY=i).flatten())})\n",
    "        df=df[~(df['y']==0)]        \n",
    "        corr=corr.append(pd.DataFrame([df.corr()['y']]))\n",
    "    \n",
    "    "
   ]
  },
  {
   "cell_type": "code",
   "execution_count": 3,
   "id": "12270c21-5ba2-4ee0-afae-5872f0690b21",
   "metadata": {},
   "outputs": [
    {
     "data": {
      "text/html": [
       "<div>\n",
       "<style scoped>\n",
       "    .dataframe tbody tr th:only-of-type {\n",
       "        vertical-align: middle;\n",
       "    }\n",
       "\n",
       "    .dataframe tbody tr th {\n",
       "        vertical-align: top;\n",
       "    }\n",
       "\n",
       "    .dataframe thead th {\n",
       "        text-align: right;\n",
       "    }\n",
       "</style>\n",
       "<table border=\"1\" class=\"dataframe\">\n",
       "  <thead>\n",
       "    <tr style=\"text-align: right;\">\n",
       "      <th></th>\n",
       "      <th>x1</th>\n",
       "      <th>x2</th>\n",
       "      <th>x3</th>\n",
       "      <th>y</th>\n",
       "    </tr>\n",
       "  </thead>\n",
       "  <tbody>\n",
       "    <tr>\n",
       "      <th>y</th>\n",
       "      <td>0.497923</td>\n",
       "      <td>0.444826</td>\n",
       "      <td>0.453765</td>\n",
       "      <td>1.0</td>\n",
       "    </tr>\n",
       "    <tr>\n",
       "      <th>y</th>\n",
       "      <td>0.497926</td>\n",
       "      <td>0.444828</td>\n",
       "      <td>0.453767</td>\n",
       "      <td>1.0</td>\n",
       "    </tr>\n",
       "    <tr>\n",
       "      <th>y</th>\n",
       "      <td>0.500338</td>\n",
       "      <td>0.446951</td>\n",
       "      <td>0.456078</td>\n",
       "      <td>1.0</td>\n",
       "    </tr>\n",
       "    <tr>\n",
       "      <th>y</th>\n",
       "      <td>0.514596</td>\n",
       "      <td>0.455597</td>\n",
       "      <td>0.443001</td>\n",
       "      <td>1.0</td>\n",
       "    </tr>\n",
       "    <tr>\n",
       "      <th>y</th>\n",
       "      <td>0.550793</td>\n",
       "      <td>0.487554</td>\n",
       "      <td>0.475324</td>\n",
       "      <td>1.0</td>\n",
       "    </tr>\n",
       "    <tr>\n",
       "      <th>...</th>\n",
       "      <td>...</td>\n",
       "      <td>...</td>\n",
       "      <td>...</td>\n",
       "      <td>...</td>\n",
       "    </tr>\n",
       "    <tr>\n",
       "      <th>y</th>\n",
       "      <td>0.485539</td>\n",
       "      <td>0.467391</td>\n",
       "      <td>0.578315</td>\n",
       "      <td>1.0</td>\n",
       "    </tr>\n",
       "    <tr>\n",
       "      <th>y</th>\n",
       "      <td>0.483015</td>\n",
       "      <td>0.464993</td>\n",
       "      <td>0.578242</td>\n",
       "      <td>1.0</td>\n",
       "    </tr>\n",
       "    <tr>\n",
       "      <th>y</th>\n",
       "      <td>0.480493</td>\n",
       "      <td>0.462592</td>\n",
       "      <td>0.578147</td>\n",
       "      <td>1.0</td>\n",
       "    </tr>\n",
       "    <tr>\n",
       "      <th>y</th>\n",
       "      <td>0.477976</td>\n",
       "      <td>0.460192</td>\n",
       "      <td>0.578029</td>\n",
       "      <td>1.0</td>\n",
       "    </tr>\n",
       "    <tr>\n",
       "      <th>y</th>\n",
       "      <td>0.475454</td>\n",
       "      <td>0.457783</td>\n",
       "      <td>0.577886</td>\n",
       "      <td>1.0</td>\n",
       "    </tr>\n",
       "  </tbody>\n",
       "</table>\n",
       "<p>100 rows × 4 columns</p>\n",
       "</div>"
      ],
      "text/plain": [
       "          x1        x2        x3    y\n",
       "y   0.497923  0.444826  0.453765  1.0\n",
       "y   0.497926  0.444828  0.453767  1.0\n",
       "y   0.500338  0.446951  0.456078  1.0\n",
       "y   0.514596  0.455597  0.443001  1.0\n",
       "y   0.550793  0.487554  0.475324  1.0\n",
       "..       ...       ...       ...  ...\n",
       "y   0.485539  0.467391  0.578315  1.0\n",
       "y   0.483015  0.464993  0.578242  1.0\n",
       "y   0.480493  0.462592  0.578147  1.0\n",
       "y   0.477976  0.460192  0.578029  1.0\n",
       "y   0.475454  0.457783  0.577886  1.0\n",
       "\n",
       "[100 rows x 4 columns]"
      ]
     },
     "execution_count": 3,
     "metadata": {},
     "output_type": "execute_result"
    }
   ],
   "source": [
    "corr"
   ]
  },
  {
   "cell_type": "code",
   "execution_count": 4,
   "id": "20eec249-6ae8-4551-b3ee-8bf9581df945",
   "metadata": {},
   "outputs": [],
   "source": [
    "corr['sigma']=np.arange(0.1, 10.1, 0.1)"
   ]
  },
  {
   "cell_type": "code",
   "execution_count": 5,
   "id": "99b18a66-1f4f-4b52-a031-1276706d060e",
   "metadata": {},
   "outputs": [
    {
     "data": {
      "text/html": [
       "<div>\n",
       "<style scoped>\n",
       "    .dataframe tbody tr th:only-of-type {\n",
       "        vertical-align: middle;\n",
       "    }\n",
       "\n",
       "    .dataframe tbody tr th {\n",
       "        vertical-align: top;\n",
       "    }\n",
       "\n",
       "    .dataframe thead th {\n",
       "        text-align: right;\n",
       "    }\n",
       "</style>\n",
       "<table border=\"1\" class=\"dataframe\">\n",
       "  <thead>\n",
       "    <tr style=\"text-align: right;\">\n",
       "      <th></th>\n",
       "      <th>x1</th>\n",
       "      <th>x2</th>\n",
       "      <th>x3</th>\n",
       "      <th>y</th>\n",
       "    </tr>\n",
       "    <tr>\n",
       "      <th>sigma</th>\n",
       "      <th></th>\n",
       "      <th></th>\n",
       "      <th></th>\n",
       "      <th></th>\n",
       "    </tr>\n",
       "  </thead>\n",
       "  <tbody>\n",
       "    <tr>\n",
       "      <th>0.1</th>\n",
       "      <td>0.497923</td>\n",
       "      <td>0.444826</td>\n",
       "      <td>0.453765</td>\n",
       "      <td>1.0</td>\n",
       "    </tr>\n",
       "    <tr>\n",
       "      <th>0.2</th>\n",
       "      <td>0.497926</td>\n",
       "      <td>0.444828</td>\n",
       "      <td>0.453767</td>\n",
       "      <td>1.0</td>\n",
       "    </tr>\n",
       "    <tr>\n",
       "      <th>0.3</th>\n",
       "      <td>0.500338</td>\n",
       "      <td>0.446951</td>\n",
       "      <td>0.456078</td>\n",
       "      <td>1.0</td>\n",
       "    </tr>\n",
       "    <tr>\n",
       "      <th>0.4</th>\n",
       "      <td>0.514596</td>\n",
       "      <td>0.455597</td>\n",
       "      <td>0.443001</td>\n",
       "      <td>1.0</td>\n",
       "    </tr>\n",
       "    <tr>\n",
       "      <th>0.5</th>\n",
       "      <td>0.550793</td>\n",
       "      <td>0.487554</td>\n",
       "      <td>0.475324</td>\n",
       "      <td>1.0</td>\n",
       "    </tr>\n",
       "    <tr>\n",
       "      <th>...</th>\n",
       "      <td>...</td>\n",
       "      <td>...</td>\n",
       "      <td>...</td>\n",
       "      <td>...</td>\n",
       "    </tr>\n",
       "    <tr>\n",
       "      <th>9.6</th>\n",
       "      <td>0.485539</td>\n",
       "      <td>0.467391</td>\n",
       "      <td>0.578315</td>\n",
       "      <td>1.0</td>\n",
       "    </tr>\n",
       "    <tr>\n",
       "      <th>9.7</th>\n",
       "      <td>0.483015</td>\n",
       "      <td>0.464993</td>\n",
       "      <td>0.578242</td>\n",
       "      <td>1.0</td>\n",
       "    </tr>\n",
       "    <tr>\n",
       "      <th>9.8</th>\n",
       "      <td>0.480493</td>\n",
       "      <td>0.462592</td>\n",
       "      <td>0.578147</td>\n",
       "      <td>1.0</td>\n",
       "    </tr>\n",
       "    <tr>\n",
       "      <th>9.9</th>\n",
       "      <td>0.477976</td>\n",
       "      <td>0.460192</td>\n",
       "      <td>0.578029</td>\n",
       "      <td>1.0</td>\n",
       "    </tr>\n",
       "    <tr>\n",
       "      <th>10.0</th>\n",
       "      <td>0.475454</td>\n",
       "      <td>0.457783</td>\n",
       "      <td>0.577886</td>\n",
       "      <td>1.0</td>\n",
       "    </tr>\n",
       "  </tbody>\n",
       "</table>\n",
       "<p>100 rows × 4 columns</p>\n",
       "</div>"
      ],
      "text/plain": [
       "             x1        x2        x3    y\n",
       "sigma                                   \n",
       "0.1    0.497923  0.444826  0.453765  1.0\n",
       "0.2    0.497926  0.444828  0.453767  1.0\n",
       "0.3    0.500338  0.446951  0.456078  1.0\n",
       "0.4    0.514596  0.455597  0.443001  1.0\n",
       "0.5    0.550793  0.487554  0.475324  1.0\n",
       "...         ...       ...       ...  ...\n",
       "9.6    0.485539  0.467391  0.578315  1.0\n",
       "9.7    0.483015  0.464993  0.578242  1.0\n",
       "9.8    0.480493  0.462592  0.578147  1.0\n",
       "9.9    0.477976  0.460192  0.578029  1.0\n",
       "10.0   0.475454  0.457783  0.577886  1.0\n",
       "\n",
       "[100 rows x 4 columns]"
      ]
     },
     "execution_count": 5,
     "metadata": {},
     "output_type": "execute_result"
    }
   ],
   "source": [
    "corr.set_index('sigma',drop=True)"
   ]
  },
  {
   "cell_type": "code",
   "execution_count": 25,
   "id": "72e34732-e56f-4740-9fa9-79f779d2e924",
   "metadata": {},
   "outputs": [],
   "source": [
    "corr.to_csv('C:\\\\Users\\\\zzuge\\\\corr.csv',index=False)"
   ]
  },
  {
   "cell_type": "code",
   "execution_count": 6,
   "id": "0c0a38d7-f5c9-4094-a8de-622ea3fb4bae",
   "metadata": {},
   "outputs": [
    {
     "data": {
      "text/html": [
       "<div>\n",
       "<style scoped>\n",
       "    .dataframe tbody tr th:only-of-type {\n",
       "        vertical-align: middle;\n",
       "    }\n",
       "\n",
       "    .dataframe tbody tr th {\n",
       "        vertical-align: top;\n",
       "    }\n",
       "\n",
       "    .dataframe thead th {\n",
       "        text-align: right;\n",
       "    }\n",
       "</style>\n",
       "<table border=\"1\" class=\"dataframe\">\n",
       "  <thead>\n",
       "    <tr style=\"text-align: right;\">\n",
       "      <th></th>\n",
       "      <th>x1</th>\n",
       "      <th>x2</th>\n",
       "      <th>x3</th>\n",
       "      <th>y</th>\n",
       "      <th>sigma</th>\n",
       "    </tr>\n",
       "  </thead>\n",
       "  <tbody>\n",
       "    <tr>\n",
       "      <th>y</th>\n",
       "      <td>0.497923</td>\n",
       "      <td>0.444826</td>\n",
       "      <td>0.453765</td>\n",
       "      <td>1.0</td>\n",
       "      <td>0.1</td>\n",
       "    </tr>\n",
       "    <tr>\n",
       "      <th>y</th>\n",
       "      <td>0.497926</td>\n",
       "      <td>0.444828</td>\n",
       "      <td>0.453767</td>\n",
       "      <td>1.0</td>\n",
       "      <td>0.2</td>\n",
       "    </tr>\n",
       "    <tr>\n",
       "      <th>y</th>\n",
       "      <td>0.500338</td>\n",
       "      <td>0.446951</td>\n",
       "      <td>0.456078</td>\n",
       "      <td>1.0</td>\n",
       "      <td>0.3</td>\n",
       "    </tr>\n",
       "    <tr>\n",
       "      <th>y</th>\n",
       "      <td>0.514596</td>\n",
       "      <td>0.455597</td>\n",
       "      <td>0.443001</td>\n",
       "      <td>1.0</td>\n",
       "      <td>0.4</td>\n",
       "    </tr>\n",
       "    <tr>\n",
       "      <th>y</th>\n",
       "      <td>0.550793</td>\n",
       "      <td>0.487554</td>\n",
       "      <td>0.475324</td>\n",
       "      <td>1.0</td>\n",
       "      <td>0.5</td>\n",
       "    </tr>\n",
       "    <tr>\n",
       "      <th>...</th>\n",
       "      <td>...</td>\n",
       "      <td>...</td>\n",
       "      <td>...</td>\n",
       "      <td>...</td>\n",
       "      <td>...</td>\n",
       "    </tr>\n",
       "    <tr>\n",
       "      <th>y</th>\n",
       "      <td>0.485539</td>\n",
       "      <td>0.467391</td>\n",
       "      <td>0.578315</td>\n",
       "      <td>1.0</td>\n",
       "      <td>9.6</td>\n",
       "    </tr>\n",
       "    <tr>\n",
       "      <th>y</th>\n",
       "      <td>0.483015</td>\n",
       "      <td>0.464993</td>\n",
       "      <td>0.578242</td>\n",
       "      <td>1.0</td>\n",
       "      <td>9.7</td>\n",
       "    </tr>\n",
       "    <tr>\n",
       "      <th>y</th>\n",
       "      <td>0.480493</td>\n",
       "      <td>0.462592</td>\n",
       "      <td>0.578147</td>\n",
       "      <td>1.0</td>\n",
       "      <td>9.8</td>\n",
       "    </tr>\n",
       "    <tr>\n",
       "      <th>y</th>\n",
       "      <td>0.477976</td>\n",
       "      <td>0.460192</td>\n",
       "      <td>0.578029</td>\n",
       "      <td>1.0</td>\n",
       "      <td>9.9</td>\n",
       "    </tr>\n",
       "    <tr>\n",
       "      <th>y</th>\n",
       "      <td>0.475454</td>\n",
       "      <td>0.457783</td>\n",
       "      <td>0.577886</td>\n",
       "      <td>1.0</td>\n",
       "      <td>10.0</td>\n",
       "    </tr>\n",
       "  </tbody>\n",
       "</table>\n",
       "<p>100 rows × 5 columns</p>\n",
       "</div>"
      ],
      "text/plain": [
       "          x1        x2        x3    y  sigma\n",
       "y   0.497923  0.444826  0.453765  1.0    0.1\n",
       "y   0.497926  0.444828  0.453767  1.0    0.2\n",
       "y   0.500338  0.446951  0.456078  1.0    0.3\n",
       "y   0.514596  0.455597  0.443001  1.0    0.4\n",
       "y   0.550793  0.487554  0.475324  1.0    0.5\n",
       "..       ...       ...       ...  ...    ...\n",
       "y   0.485539  0.467391  0.578315  1.0    9.6\n",
       "y   0.483015  0.464993  0.578242  1.0    9.7\n",
       "y   0.480493  0.462592  0.578147  1.0    9.8\n",
       "y   0.477976  0.460192  0.578029  1.0    9.9\n",
       "y   0.475454  0.457783  0.577886  1.0   10.0\n",
       "\n",
       "[100 rows x 5 columns]"
      ]
     },
     "execution_count": 6,
     "metadata": {},
     "output_type": "execute_result"
    }
   ],
   "source": [
    "corr"
   ]
  },
  {
   "cell_type": "code",
   "execution_count": 7,
   "id": "0e313d86-8755-477a-bde9-f1d51b0505b5",
   "metadata": {},
   "outputs": [
    {
     "data": {
      "text/plain": [
       "25"
      ]
     },
     "execution_count": 7,
     "metadata": {},
     "output_type": "execute_result"
    }
   ],
   "source": [
    "np.argmax(corr.x1)"
   ]
  },
  {
   "cell_type": "code",
   "execution_count": 8,
   "id": "57eeae21-835c-4e87-8c1b-77477f275cd8",
   "metadata": {},
   "outputs": [
    {
     "data": {
      "text/plain": [
       "2.6"
      ]
     },
     "execution_count": 8,
     "metadata": {},
     "output_type": "execute_result"
    }
   ],
   "source": [
    "corr.sigma[25]"
   ]
  },
  {
   "cell_type": "code",
   "execution_count": 9,
   "id": "2eb3a25e-8023-4395-8e31-ce1a54c86007",
   "metadata": {},
   "outputs": [
    {
     "data": {
      "text/plain": [
       "<matplotlib.legend.Legend at 0x172f7a359d0>"
      ]
     },
     "execution_count": 9,
     "metadata": {},
     "output_type": "execute_result"
    },
    {
     "data": {
      "image/png": "[encoded data removed]",
      "text/plain": [
       "<Figure size 1200x800 with 1 Axes>"
      ]
     },
     "metadata": {
      "needs_background": "light"
     },
     "output_type": "display_data"
    }
   ],
   "source": [
    "plt.figure(dpi=200)\n",
    "plt.plot(corr['sigma'],corr['x1'],label='x1',linewidth=\"5\")\n",
    "plt.plot(corr['sigma'],corr['x2'],label='x2',linewidth=\"5\")\n",
    "plt.plot(corr['sigma'],corr['x3'],label='x3',linewidth=\"5\",color='green')\n",
    "plt.legend()"
   ]
  },
  {
   "cell_type": "code",
   "execution_count": 10,
   "id": "3261014d-ee90-423e-8a97-27e1fa838632",
   "metadata": {},
   "outputs": [
    {
     "data": {
      "text/plain": [
       "y    2.6\n",
       "Name: sigma, dtype: float64"
      ]
     },
     "execution_count": 10,
     "metadata": {},
     "output_type": "execute_result"
    }
   ],
   "source": [
    "corr[corr['x1']==corr['x1'].max()]['sigma']"
   ]
  },
  {
   "cell_type": "code",
   "execution_count": 61,
   "id": "386e5410-fa74-4193-a586-05e59ec48a93",
   "metadata": {},
   "outputs": [],
   "source": [
    "x1=pd.read_csv('C:\\\\Users\\\\zzuge\\\\X1.csv')\n",
    "x2=pd.read_csv('C:\\\\Users\\\\zzuge\\\\X2.csv')\n",
    "x3=pd.read_csv('C:\\\\Users\\\\zzuge\\\\X3.csv')\n",
    "lat=pd.read_csv('C:\\\\Users\\\\zzuge\\\\lat.csv')\n",
    "lon=pd.read_csv('C:\\\\Users\\\\zzuge\\\\lon.csv')"
   ]
  },
  {
   "cell_type": "code",
   "execution_count": 62,
   "id": "486b5dfb-bc6f-42bf-aba2-55374520904b",
   "metadata": {},
   "outputs": [
    {
     "data": {
      "text/plain": [
       "4276.0"
      ]
     },
     "execution_count": 62,
     "metadata": {},
     "output_type": "execute_result"
    }
   ],
   "source": [
    "Y = np.genfromtxt(\"C:\\\\Users\\\\zzuge\\\\Y_10.csv\", skip_header=1, encoding='utf-8', delimiter=',')\n",
    "np.sum(Y)\n"
   ]
  },
  {
   "cell_type": "code",
   "execution_count": 13,
   "id": "d0a70511-2547-4517-9492-16f60fe13e37",
   "metadata": {},
   "outputs": [],
   "source": [
    "x1= np.genfromtxt(\"C:\\\\Users\\\\zzuge\\\\x1_10.csv\", skip_header=1, encoding='utf-8', delimiter=',')"
   ]
  },
  {
   "cell_type": "code",
   "execution_count": 14,
   "id": "055efc7a-f7a4-448a-a3c7-1b916b96e03f",
   "metadata": {},
   "outputs": [
    {
     "data": {
      "image/png": "[encoded data removed]",
      "text/plain": [
       "<Figure size 432x288 with 2 Axes>"
      ]
     },
     "metadata": {
      "needs_background": "light"
     },
     "output_type": "display_data"
    }
   ],
   "source": [
    "sns.heatmap(x1,square = 'True').invert_yaxis()"
   ]
  },
  {
   "cell_type": "code",
   "execution_count": 15,
   "id": "cf1ea566",
   "metadata": {},
   "outputs": [
    {
     "data": {
      "image/png": "[encoded data removed]",
      "text/plain": [
       "<Figure size 432x288 with 2 Axes>"
      ]
     },
     "metadata": {
      "needs_background": "light"
     },
     "output_type": "display_data"
    }
   ],
   "source": [
    "sns.heatmap(Y).invert_yaxis()"
   ]
  },
  {
   "cell_type": "code",
   "execution_count": 63,
   "id": "d9fe8a9f-cdd5-4163-9327-732c6316e6c8",
   "metadata": {},
   "outputs": [],
   "source": [
    "y = cv2.GaussianBlur(Y, (0,0), sigmaX =2.6,sigmaY=2.6) # Y에 가우시안 필터"
   ]
  },
  {
   "cell_type": "code",
   "execution_count": 17,
   "id": "42db9405",
   "metadata": {},
   "outputs": [
    {
     "data": {
      "image/png": "[encoded data removed]",
      "text/plain": [
       "<Figure size 432x288 with 2 Axes>"
      ]
     },
     "metadata": {
      "needs_background": "light"
     },
     "output_type": "display_data"
    }
   ],
   "source": [
    "np.sum(y)\n",
    "sns.heatmap(y,square = 'True').invert_yaxis()"
   ]
  },
  {
   "cell_type": "code",
   "execution_count": 64,
   "id": "90762977-feb1-42c2-9e6c-57d37dc0fd09",
   "metadata": {},
   "outputs": [],
   "source": [
    "x1=np.array(np.log1p(x1)).flatten() #X1에 로그 \n",
    "x2=np.array(np.log1p(x2)).flatten() #X2에 로그 \n",
    "x3=np.array(np.log1p(x3)).flatten() #X3에 로그 \n",
    "y=np.array(y).flatten()\n",
    "lon=np.array(lon).flatten()\n",
    "lat=np.array(lat).flatten()"
   ]
  },
  {
   "cell_type": "code",
   "execution_count": 65,
   "id": "2d4a7cf6-bbcd-4e25-96d5-0a8a155e9295",
   "metadata": {},
   "outputs": [
    {
     "data": {
      "text/html": [
       "<div>\n",
       "<style scoped>\n",
       "    .dataframe tbody tr th:only-of-type {\n",
       "        vertical-align: middle;\n",
       "    }\n",
       "\n",
       "    .dataframe tbody tr th {\n",
       "        vertical-align: top;\n",
       "    }\n",
       "\n",
       "    .dataframe thead th {\n",
       "        text-align: right;\n",
       "    }\n",
       "</style>\n",
       "<table border=\"1\" class=\"dataframe\">\n",
       "  <thead>\n",
       "    <tr style=\"text-align: right;\">\n",
       "      <th></th>\n",
       "      <th>x1</th>\n",
       "      <th>x2</th>\n",
       "      <th>x3</th>\n",
       "      <th>y</th>\n",
       "      <th>lon</th>\n",
       "      <th>lat</th>\n",
       "    </tr>\n",
       "  </thead>\n",
       "  <tbody>\n",
       "    <tr>\n",
       "      <th>0</th>\n",
       "      <td>0.0</td>\n",
       "      <td>0.0</td>\n",
       "      <td>0.0</td>\n",
       "      <td>1.499431e-08</td>\n",
       "      <td>127.01</td>\n",
       "      <td>37.01</td>\n",
       "    </tr>\n",
       "    <tr>\n",
       "      <th>1</th>\n",
       "      <td>0.0</td>\n",
       "      <td>0.0</td>\n",
       "      <td>0.0</td>\n",
       "      <td>3.543776e-08</td>\n",
       "      <td>127.02</td>\n",
       "      <td>37.01</td>\n",
       "    </tr>\n",
       "    <tr>\n",
       "      <th>2</th>\n",
       "      <td>0.0</td>\n",
       "      <td>0.0</td>\n",
       "      <td>0.0</td>\n",
       "      <td>1.557203e-07</td>\n",
       "      <td>127.03</td>\n",
       "      <td>37.01</td>\n",
       "    </tr>\n",
       "    <tr>\n",
       "      <th>3</th>\n",
       "      <td>0.0</td>\n",
       "      <td>0.0</td>\n",
       "      <td>0.0</td>\n",
       "      <td>5.619591e-07</td>\n",
       "      <td>127.04</td>\n",
       "      <td>37.01</td>\n",
       "    </tr>\n",
       "    <tr>\n",
       "      <th>4</th>\n",
       "      <td>0.0</td>\n",
       "      <td>0.0</td>\n",
       "      <td>0.0</td>\n",
       "      <td>1.761122e-06</td>\n",
       "      <td>127.05</td>\n",
       "      <td>37.01</td>\n",
       "    </tr>\n",
       "    <tr>\n",
       "      <th>...</th>\n",
       "      <td>...</td>\n",
       "      <td>...</td>\n",
       "      <td>...</td>\n",
       "      <td>...</td>\n",
       "      <td>...</td>\n",
       "      <td>...</td>\n",
       "    </tr>\n",
       "    <tr>\n",
       "      <th>2495</th>\n",
       "      <td>0.0</td>\n",
       "      <td>0.0</td>\n",
       "      <td>0.0</td>\n",
       "      <td>0.000000e+00</td>\n",
       "      <td>127.46</td>\n",
       "      <td>37.50</td>\n",
       "    </tr>\n",
       "    <tr>\n",
       "      <th>2496</th>\n",
       "      <td>0.0</td>\n",
       "      <td>0.0</td>\n",
       "      <td>0.0</td>\n",
       "      <td>0.000000e+00</td>\n",
       "      <td>127.47</td>\n",
       "      <td>37.50</td>\n",
       "    </tr>\n",
       "    <tr>\n",
       "      <th>2497</th>\n",
       "      <td>0.0</td>\n",
       "      <td>0.0</td>\n",
       "      <td>0.0</td>\n",
       "      <td>0.000000e+00</td>\n",
       "      <td>127.48</td>\n",
       "      <td>37.50</td>\n",
       "    </tr>\n",
       "    <tr>\n",
       "      <th>2498</th>\n",
       "      <td>0.0</td>\n",
       "      <td>0.0</td>\n",
       "      <td>0.0</td>\n",
       "      <td>0.000000e+00</td>\n",
       "      <td>127.49</td>\n",
       "      <td>37.50</td>\n",
       "    </tr>\n",
       "    <tr>\n",
       "      <th>2499</th>\n",
       "      <td>0.0</td>\n",
       "      <td>0.0</td>\n",
       "      <td>0.0</td>\n",
       "      <td>0.000000e+00</td>\n",
       "      <td>127.50</td>\n",
       "      <td>37.50</td>\n",
       "    </tr>\n",
       "  </tbody>\n",
       "</table>\n",
       "<p>2500 rows × 6 columns</p>\n",
       "</div>"
      ],
      "text/plain": [
       "       x1   x2   x3             y     lon    lat\n",
       "0     0.0  0.0  0.0  1.499431e-08  127.01  37.01\n",
       "1     0.0  0.0  0.0  3.543776e-08  127.02  37.01\n",
       "2     0.0  0.0  0.0  1.557203e-07  127.03  37.01\n",
       "3     0.0  0.0  0.0  5.619591e-07  127.04  37.01\n",
       "4     0.0  0.0  0.0  1.761122e-06  127.05  37.01\n",
       "...   ...  ...  ...           ...     ...    ...\n",
       "2495  0.0  0.0  0.0  0.000000e+00  127.46  37.50\n",
       "2496  0.0  0.0  0.0  0.000000e+00  127.47  37.50\n",
       "2497  0.0  0.0  0.0  0.000000e+00  127.48  37.50\n",
       "2498  0.0  0.0  0.0  0.000000e+00  127.49  37.50\n",
       "2499  0.0  0.0  0.0  0.000000e+00  127.50  37.50\n",
       "\n",
       "[2500 rows x 6 columns]"
      ]
     },
     "execution_count": 65,
     "metadata": {},
     "output_type": "execute_result"
    }
   ],
   "source": [
    "df=pd.DataFrame({'x1':x1,'x2':x2,'x3':x3,'y':y,'lon':lon,'lat':lat})\n",
    "df"
   ]
  },
  {
   "cell_type": "code",
   "execution_count": 66,
   "id": "4f3ad4c2-b4a3-4540-af62-92fcd10cfe30",
   "metadata": {},
   "outputs": [],
   "source": [
    "df=df[~(df['y'] < 10 ** (-3))]"
   ]
  },
  {
   "cell_type": "code",
   "execution_count": 67,
   "id": "8499045a-b205-4ea1-964f-d1750a6979cf",
   "metadata": {},
   "outputs": [
    {
     "data": {
      "text/html": [
       "<div>\n",
       "<style scoped>\n",
       "    .dataframe tbody tr th:only-of-type {\n",
       "        vertical-align: middle;\n",
       "    }\n",
       "\n",
       "    .dataframe tbody tr th {\n",
       "        vertical-align: top;\n",
       "    }\n",
       "\n",
       "    .dataframe thead th {\n",
       "        text-align: right;\n",
       "    }\n",
       "</style>\n",
       "<table border=\"1\" class=\"dataframe\">\n",
       "  <thead>\n",
       "    <tr style=\"text-align: right;\">\n",
       "      <th></th>\n",
       "      <th>x1</th>\n",
       "      <th>x2</th>\n",
       "      <th>x3</th>\n",
       "      <th>y</th>\n",
       "      <th>lon</th>\n",
       "      <th>lat</th>\n",
       "    </tr>\n",
       "  </thead>\n",
       "  <tbody>\n",
       "    <tr>\n",
       "      <th>112</th>\n",
       "      <td>0.0</td>\n",
       "      <td>0.0</td>\n",
       "      <td>0.000000</td>\n",
       "      <td>0.001037</td>\n",
       "      <td>127.13</td>\n",
       "      <td>37.03</td>\n",
       "    </tr>\n",
       "    <tr>\n",
       "      <th>113</th>\n",
       "      <td>0.0</td>\n",
       "      <td>0.0</td>\n",
       "      <td>0.000000</td>\n",
       "      <td>0.001044</td>\n",
       "      <td>127.14</td>\n",
       "      <td>37.03</td>\n",
       "    </tr>\n",
       "    <tr>\n",
       "      <th>159</th>\n",
       "      <td>0.0</td>\n",
       "      <td>0.0</td>\n",
       "      <td>5.459500</td>\n",
       "      <td>0.001557</td>\n",
       "      <td>127.10</td>\n",
       "      <td>37.04</td>\n",
       "    </tr>\n",
       "    <tr>\n",
       "      <th>160</th>\n",
       "      <td>0.0</td>\n",
       "      <td>0.0</td>\n",
       "      <td>3.654805</td>\n",
       "      <td>0.002230</td>\n",
       "      <td>127.11</td>\n",
       "      <td>37.04</td>\n",
       "    </tr>\n",
       "    <tr>\n",
       "      <th>161</th>\n",
       "      <td>0.0</td>\n",
       "      <td>0.0</td>\n",
       "      <td>2.780061</td>\n",
       "      <td>0.002834</td>\n",
       "      <td>127.12</td>\n",
       "      <td>37.04</td>\n",
       "    </tr>\n",
       "    <tr>\n",
       "      <th>...</th>\n",
       "      <td>...</td>\n",
       "      <td>...</td>\n",
       "      <td>...</td>\n",
       "      <td>...</td>\n",
       "      <td>...</td>\n",
       "      <td>...</td>\n",
       "    </tr>\n",
       "    <tr>\n",
       "      <th>2462</th>\n",
       "      <td>0.0</td>\n",
       "      <td>0.0</td>\n",
       "      <td>5.068967</td>\n",
       "      <td>0.031724</td>\n",
       "      <td>127.13</td>\n",
       "      <td>37.50</td>\n",
       "    </tr>\n",
       "    <tr>\n",
       "      <th>2463</th>\n",
       "      <td>0.0</td>\n",
       "      <td>0.0</td>\n",
       "      <td>4.221564</td>\n",
       "      <td>0.019321</td>\n",
       "      <td>127.14</td>\n",
       "      <td>37.50</td>\n",
       "    </tr>\n",
       "    <tr>\n",
       "      <th>2464</th>\n",
       "      <td>0.0</td>\n",
       "      <td>0.0</td>\n",
       "      <td>3.109953</td>\n",
       "      <td>0.010264</td>\n",
       "      <td>127.15</td>\n",
       "      <td>37.50</td>\n",
       "    </tr>\n",
       "    <tr>\n",
       "      <th>2465</th>\n",
       "      <td>0.0</td>\n",
       "      <td>0.0</td>\n",
       "      <td>2.922624</td>\n",
       "      <td>0.004781</td>\n",
       "      <td>127.16</td>\n",
       "      <td>37.50</td>\n",
       "    </tr>\n",
       "    <tr>\n",
       "      <th>2466</th>\n",
       "      <td>0.0</td>\n",
       "      <td>0.0</td>\n",
       "      <td>2.069391</td>\n",
       "      <td>0.001966</td>\n",
       "      <td>127.17</td>\n",
       "      <td>37.50</td>\n",
       "    </tr>\n",
       "  </tbody>\n",
       "</table>\n",
       "<p>1689 rows × 6 columns</p>\n",
       "</div>"
      ],
      "text/plain": [
       "       x1   x2        x3         y     lon    lat\n",
       "112   0.0  0.0  0.000000  0.001037  127.13  37.03\n",
       "113   0.0  0.0  0.000000  0.001044  127.14  37.03\n",
       "159   0.0  0.0  5.459500  0.001557  127.10  37.04\n",
       "160   0.0  0.0  3.654805  0.002230  127.11  37.04\n",
       "161   0.0  0.0  2.780061  0.002834  127.12  37.04\n",
       "...   ...  ...       ...       ...     ...    ...\n",
       "2462  0.0  0.0  5.068967  0.031724  127.13  37.50\n",
       "2463  0.0  0.0  4.221564  0.019321  127.14  37.50\n",
       "2464  0.0  0.0  3.109953  0.010264  127.15  37.50\n",
       "2465  0.0  0.0  2.922624  0.004781  127.16  37.50\n",
       "2466  0.0  0.0  2.069391  0.001966  127.17  37.50\n",
       "\n",
       "[1689 rows x 6 columns]"
      ]
     },
     "execution_count": 67,
     "metadata": {},
     "output_type": "execute_result"
    }
   ],
   "source": [
    "df"
   ]
  },
  {
   "cell_type": "code",
   "execution_count": 68,
   "id": "5874c819-96eb-40e3-bf03-0502327d85ba",
   "metadata": {},
   "outputs": [],
   "source": [
    "from sklearn.preprocessing import StandardScaler  \n",
    "x = df.drop(['y','lon','lat'], axis=1)\n",
    "y = df['y']\n",
    "\n",
    "X = StandardScaler().fit_transform(x)"
   ]
  },
  {
   "cell_type": "code",
   "execution_count": 69,
   "id": "be4a4e1f-aa19-4fc2-8f44-3a4f7fb1b01c",
   "metadata": {},
   "outputs": [],
   "source": [
    "from sklearn.decomposition import PCA\n",
    "\n",
    "pca1 = PCA(n_components=1)\n",
    "X_low = pca1.fit_transform(X)\n",
    "X2 = pca1.inverse_transform(X_low)\n",
    "\n",
    "# plt.figure(figsize=(7, 7))\n",
    "# ax = sns.scatterplot(0, 1, data=pd.DataFrame(X), s=100, color=\".2\", marker=\"s\")\n",
    "# for i in range(10):\n",
    "#     d = 0.03 if X[i, 1] > X2[i, 1] else -0.04\n",
    "#     ax.text(X[i, 0] - 0.065, X[i, 1] + d, \"표본 {}\".format(i + 1))\n",
    "#     plt.plot([X[i, 0], X2[i, 0]], [X[i, 1], X2[i, 1]], \"k--\")\n",
    "# plt.plot(X2[:, 0], X2[:, 1], \"o-\", markersize=10)\n",
    "# plt.plot(X[:, 0].mean(), X[:, 1].mean(), markersize=10, marker=\"D\")\n",
    "# plt.axvline(X[:, 0].mean(), c='r')\n",
    "# plt.axhline(X[:, 1].mean(), c='r')\n",
    "# plt.grid(False)\n",
    "# plt.axis(\"equal\")\n",
    "# plt.show()"
   ]
  },
  {
   "cell_type": "code",
   "execution_count": 70,
   "id": "5a9fa240-4efc-4f08-8511-bea0dbae1e9a",
   "metadata": {},
   "outputs": [
    {
     "data": {
      "text/html": [
       "<style>#sk-container-id-1 {color: black;background-color: white;}#sk-container-id-1 pre{padding: 0;}#sk-container-id-1 div.sk-toggleable {background-color: white;}#sk-container-id-1 label.sk-toggleable__label {cursor: pointer;display: block;width: 100%;margin-bottom: 0;padding: 0.3em;box-sizing: border-box;text-align: center;}#sk-container-id-1 label.sk-toggleable__label-arrow:before {content: \"▸\";float: left;margin-right: 0.25em;color: #696969;}#sk-container-id-1 label.sk-toggleable__label-arrow:hover:before {color: black;}#sk-container-id-1 div.sk-estimator:hover label.sk-toggleable__label-arrow:before {color: black;}#sk-container-id-1 div.sk-toggleable__content {max-height: 0;max-width: 0;overflow: hidden;text-align: left;background-color: #f0f8ff;}#sk-container-id-1 div.sk-toggleable__content pre {margin: 0.2em;color: black;border-radius: 0.25em;background-color: #f0f8ff;}#sk-container-id-1 input.sk-toggleable__control:checked~div.sk-toggleable__content {max-height: 200px;max-width: 100%;overflow: auto;}#sk-container-id-1 input.sk-toggleable__control:checked~label.sk-toggleable__label-arrow:before {content: \"▾\";}#sk-container-id-1 div.sk-estimator input.sk-toggleable__control:checked~label.sk-toggleable__label {background-color: #d4ebff;}#sk-container-id-1 div.sk-label input.sk-toggleable__control:checked~label.sk-toggleable__label {background-color: #d4ebff;}#sk-container-id-1 input.sk-hidden--visually {border: 0;clip: rect(1px 1px 1px 1px);clip: rect(1px, 1px, 1px, 1px);height: 1px;margin: -1px;overflow: hidden;padding: 0;position: absolute;width: 1px;}#sk-container-id-1 div.sk-estimator {font-family: monospace;background-color: #f0f8ff;border: 1px dotted black;border-radius: 0.25em;box-sizing: border-box;margin-bottom: 0.5em;}#sk-container-id-1 div.sk-estimator:hover {background-color: #d4ebff;}#sk-container-id-1 div.sk-parallel-item::after {content: \"\";width: 100%;border-bottom: 1px solid gray;flex-grow: 1;}#sk-container-id-1 div.sk-label:hover label.sk-toggleable__label {background-color: #d4ebff;}#sk-container-id-1 div.sk-serial::before {content: \"\";position: absolute;border-left: 1px solid gray;box-sizing: border-box;top: 0;bottom: 0;left: 50%;z-index: 0;}#sk-container-id-1 div.sk-serial {display: flex;flex-direction: column;align-items: center;background-color: white;padding-right: 0.2em;padding-left: 0.2em;position: relative;}#sk-container-id-1 div.sk-item {position: relative;z-index: 1;}#sk-container-id-1 div.sk-parallel {display: flex;align-items: stretch;justify-content: center;background-color: white;position: relative;}#sk-container-id-1 div.sk-item::before, #sk-container-id-1 div.sk-parallel-item::before {content: \"\";position: absolute;border-left: 1px solid gray;box-sizing: border-box;top: 0;bottom: 0;left: 50%;z-index: -1;}#sk-container-id-1 div.sk-parallel-item {display: flex;flex-direction: column;z-index: 1;position: relative;background-color: white;}#sk-container-id-1 div.sk-parallel-item:first-child::after {align-self: flex-end;width: 50%;}#sk-container-id-1 div.sk-parallel-item:last-child::after {align-self: flex-start;width: 50%;}#sk-container-id-1 div.sk-parallel-item:only-child::after {width: 0;}#sk-container-id-1 div.sk-dashed-wrapped {border: 1px dashed gray;margin: 0 0.4em 0.5em 0.4em;box-sizing: border-box;padding-bottom: 0.4em;background-color: white;}#sk-container-id-1 div.sk-label label {font-family: monospace;font-weight: bold;display: inline-block;line-height: 1.2em;}#sk-container-id-1 div.sk-label-container {text-align: center;}#sk-container-id-1 div.sk-container {/* jupyter's `normalize.less` sets `[hidden] { display: none; }` but bootstrap.min.css set `[hidden] { display: none !important; }` so we also need the `!important` here to be able to override the default hidden behavior on the sphinx rendered scikit-learn.org. See: https://github.com/scikit-learn/scikit-learn/issues/21755 */display: inline-block !important;position: relative;}#sk-container-id-1 div.sk-text-repr-fallback {display: none;}</style><div id=\"sk-container-id-1\" class=\"sk-top-container\"><div class=\"sk-text-repr-fallback\"><pre>PCA(n_components=1)</pre><b>In a Jupyter environment, please rerun this cell to show the HTML representation or trust the notebook. <br />On GitHub, the HTML representation is unable to render, please try loading this page with nbviewer.org.</b></div><div class=\"sk-container\" hidden><div class=\"sk-item\"><div class=\"sk-estimator sk-toggleable\"><input class=\"sk-toggleable__control sk-hidden--visually\" id=\"sk-estimator-id-1\" type=\"checkbox\" checked><label for=\"sk-estimator-id-1\" class=\"sk-toggleable__label sk-toggleable__label-arrow\">PCA</label><div class=\"sk-toggleable__content\"><pre>PCA(n_components=1)</pre></div></div></div></div></div>"
      ],
      "text/plain": [
       "PCA(n_components=1)"
      ]
     },
     "execution_count": 70,
     "metadata": {},
     "output_type": "execute_result"
    }
   ],
   "source": [
    "pca1"
   ]
  },
  {
   "cell_type": "code",
   "execution_count": 75,
   "id": "31a8dfd8-eb7e-4719-9556-55f4a603b70a",
   "metadata": {},
   "outputs": [
    {
     "name": "stderr",
     "output_type": "stream",
     "text": [
      "C:\\Users\\zzuge\\Anaconda3\\lib\\site-packages\\seaborn\\_decorators.py:36: FutureWarning: Pass the following variables as keyword args: x, y. From version 0.12, the only valid positional argument will be `data`, and passing other arguments without an explicit keyword will result in an error or misinterpretation.\n",
      "  warnings.warn(\n"
     ]
    },
    {
     "ename": "ValueError",
     "evalue": "Per-column arrays must each be 1-dimensional",
     "output_type": "error",
     "traceback": [
      "\u001b[1;31m---------------------------------------------------------------------------\u001b[0m",
      "\u001b[1;31mValueError\u001b[0m                                Traceback (most recent call last)",
      "Input \u001b[1;32mIn [75]\u001b[0m, in \u001b[0;36m<cell line: 1>\u001b[1;34m()\u001b[0m\n\u001b[1;32m----> 1\u001b[0m \u001b[43msns\u001b[49m\u001b[38;5;241;43m.\u001b[39;49m\u001b[43mscatterplot\u001b[49m\u001b[43m(\u001b[49m\u001b[43mX_low\u001b[49m\u001b[43m,\u001b[49m\u001b[43mdf\u001b[49m\u001b[43m[\u001b[49m\u001b[38;5;124;43m'\u001b[39;49m\u001b[38;5;124;43mx1\u001b[39;49m\u001b[38;5;124;43m'\u001b[39;49m\u001b[43m]\u001b[49m\u001b[43m)\u001b[49m\n",
      "File \u001b[1;32m~\\Anaconda3\\lib\\site-packages\\seaborn\\_decorators.py:46\u001b[0m, in \u001b[0;36m_deprecate_positional_args.<locals>.inner_f\u001b[1;34m(*args, **kwargs)\u001b[0m\n\u001b[0;32m     36\u001b[0m     warnings\u001b[38;5;241m.\u001b[39mwarn(\n\u001b[0;32m     37\u001b[0m         \u001b[38;5;124m\"\u001b[39m\u001b[38;5;124mPass the following variable\u001b[39m\u001b[38;5;132;01m{}\u001b[39;00m\u001b[38;5;124m as \u001b[39m\u001b[38;5;132;01m{}\u001b[39;00m\u001b[38;5;124mkeyword arg\u001b[39m\u001b[38;5;132;01m{}\u001b[39;00m\u001b[38;5;124m: \u001b[39m\u001b[38;5;132;01m{}\u001b[39;00m\u001b[38;5;124m. \u001b[39m\u001b[38;5;124m\"\u001b[39m\n\u001b[0;32m     38\u001b[0m         \u001b[38;5;124m\"\u001b[39m\u001b[38;5;124mFrom version 0.12, the only valid positional argument \u001b[39m\u001b[38;5;124m\"\u001b[39m\n\u001b[1;32m   (...)\u001b[0m\n\u001b[0;32m     43\u001b[0m         \u001b[38;5;167;01mFutureWarning\u001b[39;00m\n\u001b[0;32m     44\u001b[0m     )\n\u001b[0;32m     45\u001b[0m kwargs\u001b[38;5;241m.\u001b[39mupdate({k: arg \u001b[38;5;28;01mfor\u001b[39;00m k, arg \u001b[38;5;129;01min\u001b[39;00m \u001b[38;5;28mzip\u001b[39m(sig\u001b[38;5;241m.\u001b[39mparameters, args)})\n\u001b[1;32m---> 46\u001b[0m \u001b[38;5;28;01mreturn\u001b[39;00m f(\u001b[38;5;241m*\u001b[39m\u001b[38;5;241m*\u001b[39mkwargs)\n",
      "File \u001b[1;32m~\\Anaconda3\\lib\\site-packages\\seaborn\\relational.py:808\u001b[0m, in \u001b[0;36mscatterplot\u001b[1;34m(x, y, hue, style, size, data, palette, hue_order, hue_norm, sizes, size_order, size_norm, markers, style_order, x_bins, y_bins, units, estimator, ci, n_boot, alpha, x_jitter, y_jitter, legend, ax, **kwargs)\u001b[0m\n\u001b[0;32m    793\u001b[0m \u001b[38;5;129m@_deprecate_positional_args\u001b[39m\n\u001b[0;32m    794\u001b[0m \u001b[38;5;28;01mdef\u001b[39;00m \u001b[38;5;21mscatterplot\u001b[39m(\n\u001b[0;32m    795\u001b[0m     \u001b[38;5;241m*\u001b[39m,\n\u001b[1;32m   (...)\u001b[0m\n\u001b[0;32m    804\u001b[0m     legend\u001b[38;5;241m=\u001b[39m\u001b[38;5;124m\"\u001b[39m\u001b[38;5;124mauto\u001b[39m\u001b[38;5;124m\"\u001b[39m, ax\u001b[38;5;241m=\u001b[39m\u001b[38;5;28;01mNone\u001b[39;00m, \u001b[38;5;241m*\u001b[39m\u001b[38;5;241m*\u001b[39mkwargs\n\u001b[0;32m    805\u001b[0m ):\n\u001b[0;32m    807\u001b[0m     variables \u001b[38;5;241m=\u001b[39m _ScatterPlotter\u001b[38;5;241m.\u001b[39mget_semantics(\u001b[38;5;28mlocals\u001b[39m())\n\u001b[1;32m--> 808\u001b[0m     p \u001b[38;5;241m=\u001b[39m \u001b[43m_ScatterPlotter\u001b[49m\u001b[43m(\u001b[49m\n\u001b[0;32m    809\u001b[0m \u001b[43m        \u001b[49m\u001b[43mdata\u001b[49m\u001b[38;5;241;43m=\u001b[39;49m\u001b[43mdata\u001b[49m\u001b[43m,\u001b[49m\u001b[43m \u001b[49m\u001b[43mvariables\u001b[49m\u001b[38;5;241;43m=\u001b[39;49m\u001b[43mvariables\u001b[49m\u001b[43m,\u001b[49m\n\u001b[0;32m    810\u001b[0m \u001b[43m        \u001b[49m\u001b[43mx_bins\u001b[49m\u001b[38;5;241;43m=\u001b[39;49m\u001b[43mx_bins\u001b[49m\u001b[43m,\u001b[49m\u001b[43m \u001b[49m\u001b[43my_bins\u001b[49m\u001b[38;5;241;43m=\u001b[39;49m\u001b[43my_bins\u001b[49m\u001b[43m,\u001b[49m\n\u001b[0;32m    811\u001b[0m \u001b[43m        \u001b[49m\u001b[43mestimator\u001b[49m\u001b[38;5;241;43m=\u001b[39;49m\u001b[43mestimator\u001b[49m\u001b[43m,\u001b[49m\u001b[43m \u001b[49m\u001b[43mci\u001b[49m\u001b[38;5;241;43m=\u001b[39;49m\u001b[43mci\u001b[49m\u001b[43m,\u001b[49m\u001b[43m \u001b[49m\u001b[43mn_boot\u001b[49m\u001b[38;5;241;43m=\u001b[39;49m\u001b[43mn_boot\u001b[49m\u001b[43m,\u001b[49m\n\u001b[0;32m    812\u001b[0m \u001b[43m        \u001b[49m\u001b[43malpha\u001b[49m\u001b[38;5;241;43m=\u001b[39;49m\u001b[43malpha\u001b[49m\u001b[43m,\u001b[49m\u001b[43m \u001b[49m\u001b[43mx_jitter\u001b[49m\u001b[38;5;241;43m=\u001b[39;49m\u001b[43mx_jitter\u001b[49m\u001b[43m,\u001b[49m\u001b[43m \u001b[49m\u001b[43my_jitter\u001b[49m\u001b[38;5;241;43m=\u001b[39;49m\u001b[43my_jitter\u001b[49m\u001b[43m,\u001b[49m\u001b[43m \u001b[49m\u001b[43mlegend\u001b[49m\u001b[38;5;241;43m=\u001b[39;49m\u001b[43mlegend\u001b[49m\u001b[43m,\u001b[49m\n\u001b[0;32m    813\u001b[0m \u001b[43m    \u001b[49m\u001b[43m)\u001b[49m\n\u001b[0;32m    815\u001b[0m     p\u001b[38;5;241m.\u001b[39mmap_hue(palette\u001b[38;5;241m=\u001b[39mpalette, order\u001b[38;5;241m=\u001b[39mhue_order, norm\u001b[38;5;241m=\u001b[39mhue_norm)\n\u001b[0;32m    816\u001b[0m     p\u001b[38;5;241m.\u001b[39mmap_size(sizes\u001b[38;5;241m=\u001b[39msizes, order\u001b[38;5;241m=\u001b[39msize_order, norm\u001b[38;5;241m=\u001b[39msize_norm)\n",
      "File \u001b[1;32m~\\Anaconda3\\lib\\site-packages\\seaborn\\relational.py:587\u001b[0m, in \u001b[0;36m_ScatterPlotter.__init__\u001b[1;34m(self, data, variables, x_bins, y_bins, estimator, ci, n_boot, alpha, x_jitter, y_jitter, legend)\u001b[0m\n\u001b[0;32m    571\u001b[0m \u001b[38;5;28;01mdef\u001b[39;00m \u001b[38;5;21m__init__\u001b[39m(\n\u001b[0;32m    572\u001b[0m     \u001b[38;5;28mself\u001b[39m, \u001b[38;5;241m*\u001b[39m,\n\u001b[0;32m    573\u001b[0m     data\u001b[38;5;241m=\u001b[39m\u001b[38;5;28;01mNone\u001b[39;00m, variables\u001b[38;5;241m=\u001b[39m{},\n\u001b[1;32m   (...)\u001b[0m\n\u001b[0;32m    581\u001b[0m     \u001b[38;5;66;03m# the kind of plot to draw, but for the time being we need to set\u001b[39;00m\n\u001b[0;32m    582\u001b[0m     \u001b[38;5;66;03m# this information so the SizeMapping can use it\u001b[39;00m\n\u001b[0;32m    583\u001b[0m     \u001b[38;5;28mself\u001b[39m\u001b[38;5;241m.\u001b[39m_default_size_range \u001b[38;5;241m=\u001b[39m (\n\u001b[0;32m    584\u001b[0m         np\u001b[38;5;241m.\u001b[39mr_[\u001b[38;5;241m.5\u001b[39m, \u001b[38;5;241m2\u001b[39m] \u001b[38;5;241m*\u001b[39m np\u001b[38;5;241m.\u001b[39msquare(mpl\u001b[38;5;241m.\u001b[39mrcParams[\u001b[38;5;124m\"\u001b[39m\u001b[38;5;124mlines.markersize\u001b[39m\u001b[38;5;124m\"\u001b[39m])\n\u001b[0;32m    585\u001b[0m     )\n\u001b[1;32m--> 587\u001b[0m     \u001b[38;5;28;43msuper\u001b[39;49m\u001b[43m(\u001b[49m\u001b[43m)\u001b[49m\u001b[38;5;241;43m.\u001b[39;49m\u001b[38;5;21;43m__init__\u001b[39;49m\u001b[43m(\u001b[49m\u001b[43mdata\u001b[49m\u001b[38;5;241;43m=\u001b[39;49m\u001b[43mdata\u001b[49m\u001b[43m,\u001b[49m\u001b[43m \u001b[49m\u001b[43mvariables\u001b[49m\u001b[38;5;241;43m=\u001b[39;49m\u001b[43mvariables\u001b[49m\u001b[43m)\u001b[49m\n\u001b[0;32m    589\u001b[0m     \u001b[38;5;28mself\u001b[39m\u001b[38;5;241m.\u001b[39malpha \u001b[38;5;241m=\u001b[39m alpha\n\u001b[0;32m    590\u001b[0m     \u001b[38;5;28mself\u001b[39m\u001b[38;5;241m.\u001b[39mlegend \u001b[38;5;241m=\u001b[39m legend\n",
      "File \u001b[1;32m~\\Anaconda3\\lib\\site-packages\\seaborn\\_core.py:605\u001b[0m, in \u001b[0;36mVectorPlotter.__init__\u001b[1;34m(self, data, variables)\u001b[0m\n\u001b[0;32m    603\u001b[0m \u001b[38;5;28;01mdef\u001b[39;00m \u001b[38;5;21m__init__\u001b[39m(\u001b[38;5;28mself\u001b[39m, data\u001b[38;5;241m=\u001b[39m\u001b[38;5;28;01mNone\u001b[39;00m, variables\u001b[38;5;241m=\u001b[39m{}):\n\u001b[1;32m--> 605\u001b[0m     \u001b[38;5;28;43mself\u001b[39;49m\u001b[38;5;241;43m.\u001b[39;49m\u001b[43massign_variables\u001b[49m\u001b[43m(\u001b[49m\u001b[43mdata\u001b[49m\u001b[43m,\u001b[49m\u001b[43m \u001b[49m\u001b[43mvariables\u001b[49m\u001b[43m)\u001b[49m\n\u001b[0;32m    607\u001b[0m     \u001b[38;5;28;01mfor\u001b[39;00m var, \u001b[38;5;28mcls\u001b[39m \u001b[38;5;129;01min\u001b[39;00m \u001b[38;5;28mself\u001b[39m\u001b[38;5;241m.\u001b[39m_semantic_mappings\u001b[38;5;241m.\u001b[39mitems():\n\u001b[0;32m    608\u001b[0m \n\u001b[0;32m    609\u001b[0m         \u001b[38;5;66;03m# Create the mapping function\u001b[39;00m\n\u001b[0;32m    610\u001b[0m         map_func \u001b[38;5;241m=\u001b[39m partial(\u001b[38;5;28mcls\u001b[39m\u001b[38;5;241m.\u001b[39mmap, plotter\u001b[38;5;241m=\u001b[39m\u001b[38;5;28mself\u001b[39m)\n",
      "File \u001b[1;32m~\\Anaconda3\\lib\\site-packages\\seaborn\\_core.py:668\u001b[0m, in \u001b[0;36mVectorPlotter.assign_variables\u001b[1;34m(self, data, variables)\u001b[0m\n\u001b[0;32m    666\u001b[0m \u001b[38;5;28;01melse\u001b[39;00m:\n\u001b[0;32m    667\u001b[0m     \u001b[38;5;28mself\u001b[39m\u001b[38;5;241m.\u001b[39minput_format \u001b[38;5;241m=\u001b[39m \u001b[38;5;124m\"\u001b[39m\u001b[38;5;124mlong\u001b[39m\u001b[38;5;124m\"\u001b[39m\n\u001b[1;32m--> 668\u001b[0m     plot_data, variables \u001b[38;5;241m=\u001b[39m \u001b[38;5;28mself\u001b[39m\u001b[38;5;241m.\u001b[39m_assign_variables_longform(\n\u001b[0;32m    669\u001b[0m         data, \u001b[38;5;241m*\u001b[39m\u001b[38;5;241m*\u001b[39mvariables,\n\u001b[0;32m    670\u001b[0m     )\n\u001b[0;32m    672\u001b[0m \u001b[38;5;28mself\u001b[39m\u001b[38;5;241m.\u001b[39mplot_data \u001b[38;5;241m=\u001b[39m plot_data\n\u001b[0;32m    673\u001b[0m \u001b[38;5;28mself\u001b[39m\u001b[38;5;241m.\u001b[39mvariables \u001b[38;5;241m=\u001b[39m variables\n",
      "File \u001b[1;32m~\\Anaconda3\\lib\\site-packages\\seaborn\\_core.py:927\u001b[0m, in \u001b[0;36mVectorPlotter._assign_variables_longform\u001b[1;34m(self, data, **kwargs)\u001b[0m\n\u001b[0;32m    923\u001b[0m         variables[key] \u001b[38;5;241m=\u001b[39m \u001b[38;5;28mgetattr\u001b[39m(val, \u001b[38;5;124m\"\u001b[39m\u001b[38;5;124mname\u001b[39m\u001b[38;5;124m\"\u001b[39m, \u001b[38;5;28;01mNone\u001b[39;00m)\n\u001b[0;32m    925\u001b[0m \u001b[38;5;66;03m# Construct a tidy plot DataFrame. This will convert a number of\u001b[39;00m\n\u001b[0;32m    926\u001b[0m \u001b[38;5;66;03m# types automatically, aligning on index in case of pandas objects\u001b[39;00m\n\u001b[1;32m--> 927\u001b[0m plot_data \u001b[38;5;241m=\u001b[39m \u001b[43mpd\u001b[49m\u001b[38;5;241;43m.\u001b[39;49m\u001b[43mDataFrame\u001b[49m\u001b[43m(\u001b[49m\u001b[43mplot_data\u001b[49m\u001b[43m)\u001b[49m\n\u001b[0;32m    929\u001b[0m \u001b[38;5;66;03m# Reduce the variables dictionary to fields with valid data\u001b[39;00m\n\u001b[0;32m    930\u001b[0m variables \u001b[38;5;241m=\u001b[39m {\n\u001b[0;32m    931\u001b[0m     var: name\n\u001b[0;32m    932\u001b[0m     \u001b[38;5;28;01mfor\u001b[39;00m var, name \u001b[38;5;129;01min\u001b[39;00m variables\u001b[38;5;241m.\u001b[39mitems()\n\u001b[0;32m    933\u001b[0m     \u001b[38;5;28;01mif\u001b[39;00m plot_data[var]\u001b[38;5;241m.\u001b[39mnotnull()\u001b[38;5;241m.\u001b[39many()\n\u001b[0;32m    934\u001b[0m }\n",
      "File \u001b[1;32m~\\Anaconda3\\lib\\site-packages\\pandas\\core\\frame.py:636\u001b[0m, in \u001b[0;36mDataFrame.__init__\u001b[1;34m(self, data, index, columns, dtype, copy)\u001b[0m\n\u001b[0;32m    630\u001b[0m     mgr \u001b[38;5;241m=\u001b[39m \u001b[38;5;28mself\u001b[39m\u001b[38;5;241m.\u001b[39m_init_mgr(\n\u001b[0;32m    631\u001b[0m         data, axes\u001b[38;5;241m=\u001b[39m{\u001b[38;5;124m\"\u001b[39m\u001b[38;5;124mindex\u001b[39m\u001b[38;5;124m\"\u001b[39m: index, \u001b[38;5;124m\"\u001b[39m\u001b[38;5;124mcolumns\u001b[39m\u001b[38;5;124m\"\u001b[39m: columns}, dtype\u001b[38;5;241m=\u001b[39mdtype, copy\u001b[38;5;241m=\u001b[39mcopy\n\u001b[0;32m    632\u001b[0m     )\n\u001b[0;32m    634\u001b[0m \u001b[38;5;28;01melif\u001b[39;00m \u001b[38;5;28misinstance\u001b[39m(data, \u001b[38;5;28mdict\u001b[39m):\n\u001b[0;32m    635\u001b[0m     \u001b[38;5;66;03m# GH#38939 de facto copy defaults to False only in non-dict cases\u001b[39;00m\n\u001b[1;32m--> 636\u001b[0m     mgr \u001b[38;5;241m=\u001b[39m \u001b[43mdict_to_mgr\u001b[49m\u001b[43m(\u001b[49m\u001b[43mdata\u001b[49m\u001b[43m,\u001b[49m\u001b[43m \u001b[49m\u001b[43mindex\u001b[49m\u001b[43m,\u001b[49m\u001b[43m \u001b[49m\u001b[43mcolumns\u001b[49m\u001b[43m,\u001b[49m\u001b[43m \u001b[49m\u001b[43mdtype\u001b[49m\u001b[38;5;241;43m=\u001b[39;49m\u001b[43mdtype\u001b[49m\u001b[43m,\u001b[49m\u001b[43m \u001b[49m\u001b[43mcopy\u001b[49m\u001b[38;5;241;43m=\u001b[39;49m\u001b[43mcopy\u001b[49m\u001b[43m,\u001b[49m\u001b[43m \u001b[49m\u001b[43mtyp\u001b[49m\u001b[38;5;241;43m=\u001b[39;49m\u001b[43mmanager\u001b[49m\u001b[43m)\u001b[49m\n\u001b[0;32m    637\u001b[0m \u001b[38;5;28;01melif\u001b[39;00m \u001b[38;5;28misinstance\u001b[39m(data, ma\u001b[38;5;241m.\u001b[39mMaskedArray):\n\u001b[0;32m    638\u001b[0m     \u001b[38;5;28;01mimport\u001b[39;00m \u001b[38;5;21;01mnumpy\u001b[39;00m\u001b[38;5;21;01m.\u001b[39;00m\u001b[38;5;21;01mma\u001b[39;00m\u001b[38;5;21;01m.\u001b[39;00m\u001b[38;5;21;01mmrecords\u001b[39;00m \u001b[38;5;28;01mas\u001b[39;00m \u001b[38;5;21;01mmrecords\u001b[39;00m\n",
      "File \u001b[1;32m~\\Anaconda3\\lib\\site-packages\\pandas\\core\\internals\\construction.py:502\u001b[0m, in \u001b[0;36mdict_to_mgr\u001b[1;34m(data, index, columns, dtype, typ, copy)\u001b[0m\n\u001b[0;32m    494\u001b[0m     arrays \u001b[38;5;241m=\u001b[39m [\n\u001b[0;32m    495\u001b[0m         x\n\u001b[0;32m    496\u001b[0m         \u001b[38;5;28;01mif\u001b[39;00m \u001b[38;5;129;01mnot\u001b[39;00m \u001b[38;5;28mhasattr\u001b[39m(x, \u001b[38;5;124m\"\u001b[39m\u001b[38;5;124mdtype\u001b[39m\u001b[38;5;124m\"\u001b[39m) \u001b[38;5;129;01mor\u001b[39;00m \u001b[38;5;129;01mnot\u001b[39;00m \u001b[38;5;28misinstance\u001b[39m(x\u001b[38;5;241m.\u001b[39mdtype, ExtensionDtype)\n\u001b[0;32m    497\u001b[0m         \u001b[38;5;28;01melse\u001b[39;00m x\u001b[38;5;241m.\u001b[39mcopy()\n\u001b[0;32m    498\u001b[0m         \u001b[38;5;28;01mfor\u001b[39;00m x \u001b[38;5;129;01min\u001b[39;00m arrays\n\u001b[0;32m    499\u001b[0m     ]\n\u001b[0;32m    500\u001b[0m     \u001b[38;5;66;03m# TODO: can we get rid of the dt64tz special case above?\u001b[39;00m\n\u001b[1;32m--> 502\u001b[0m \u001b[38;5;28;01mreturn\u001b[39;00m \u001b[43marrays_to_mgr\u001b[49m\u001b[43m(\u001b[49m\u001b[43marrays\u001b[49m\u001b[43m,\u001b[49m\u001b[43m \u001b[49m\u001b[43mcolumns\u001b[49m\u001b[43m,\u001b[49m\u001b[43m \u001b[49m\u001b[43mindex\u001b[49m\u001b[43m,\u001b[49m\u001b[43m \u001b[49m\u001b[43mdtype\u001b[49m\u001b[38;5;241;43m=\u001b[39;49m\u001b[43mdtype\u001b[49m\u001b[43m,\u001b[49m\u001b[43m \u001b[49m\u001b[43mtyp\u001b[49m\u001b[38;5;241;43m=\u001b[39;49m\u001b[43mtyp\u001b[49m\u001b[43m,\u001b[49m\u001b[43m \u001b[49m\u001b[43mconsolidate\u001b[49m\u001b[38;5;241;43m=\u001b[39;49m\u001b[43mcopy\u001b[49m\u001b[43m)\u001b[49m\n",
      "File \u001b[1;32m~\\Anaconda3\\lib\\site-packages\\pandas\\core\\internals\\construction.py:120\u001b[0m, in \u001b[0;36marrays_to_mgr\u001b[1;34m(arrays, columns, index, dtype, verify_integrity, typ, consolidate)\u001b[0m\n\u001b[0;32m    117\u001b[0m \u001b[38;5;28;01mif\u001b[39;00m verify_integrity:\n\u001b[0;32m    118\u001b[0m     \u001b[38;5;66;03m# figure out the index, if necessary\u001b[39;00m\n\u001b[0;32m    119\u001b[0m     \u001b[38;5;28;01mif\u001b[39;00m index \u001b[38;5;129;01mis\u001b[39;00m \u001b[38;5;28;01mNone\u001b[39;00m:\n\u001b[1;32m--> 120\u001b[0m         index \u001b[38;5;241m=\u001b[39m \u001b[43m_extract_index\u001b[49m\u001b[43m(\u001b[49m\u001b[43marrays\u001b[49m\u001b[43m)\u001b[49m\n\u001b[0;32m    121\u001b[0m     \u001b[38;5;28;01melse\u001b[39;00m:\n\u001b[0;32m    122\u001b[0m         index \u001b[38;5;241m=\u001b[39m ensure_index(index)\n",
      "File \u001b[1;32m~\\Anaconda3\\lib\\site-packages\\pandas\\core\\internals\\construction.py:661\u001b[0m, in \u001b[0;36m_extract_index\u001b[1;34m(data)\u001b[0m\n\u001b[0;32m    659\u001b[0m         raw_lengths\u001b[38;5;241m.\u001b[39mappend(\u001b[38;5;28mlen\u001b[39m(val))\n\u001b[0;32m    660\u001b[0m     \u001b[38;5;28;01melif\u001b[39;00m \u001b[38;5;28misinstance\u001b[39m(val, np\u001b[38;5;241m.\u001b[39mndarray) \u001b[38;5;129;01mand\u001b[39;00m val\u001b[38;5;241m.\u001b[39mndim \u001b[38;5;241m>\u001b[39m \u001b[38;5;241m1\u001b[39m:\n\u001b[1;32m--> 661\u001b[0m         \u001b[38;5;28;01mraise\u001b[39;00m \u001b[38;5;167;01mValueError\u001b[39;00m(\u001b[38;5;124m\"\u001b[39m\u001b[38;5;124mPer-column arrays must each be 1-dimensional\u001b[39m\u001b[38;5;124m\"\u001b[39m)\n\u001b[0;32m    663\u001b[0m \u001b[38;5;28;01mif\u001b[39;00m \u001b[38;5;129;01mnot\u001b[39;00m indexes \u001b[38;5;129;01mand\u001b[39;00m \u001b[38;5;129;01mnot\u001b[39;00m raw_lengths:\n\u001b[0;32m    664\u001b[0m     \u001b[38;5;28;01mraise\u001b[39;00m \u001b[38;5;167;01mValueError\u001b[39;00m(\u001b[38;5;124m\"\u001b[39m\u001b[38;5;124mIf using all scalar values, you must pass an index\u001b[39m\u001b[38;5;124m\"\u001b[39m)\n",
      "\u001b[1;31mValueError\u001b[0m: Per-column arrays must each be 1-dimensional"
     ]
    }
   ],
   "source": [
    "sns.scatterplot(X_low,df['x1'])"
   ]
  },
  {
   "cell_type": "code",
   "execution_count": 71,
   "id": "98e399aa-a652-49bb-9571-86c09756c4dd",
   "metadata": {},
   "outputs": [
    {
     "data": {
      "text/plain": [
       "array([[-1.29308353],\n",
       "       [-1.29308353],\n",
       "       [-0.37109098],\n",
       "       ...,\n",
       "       [-0.76787908],\n",
       "       [-0.79951504],\n",
       "       [-0.94360773]])"
      ]
     },
     "execution_count": 71,
     "metadata": {},
     "output_type": "execute_result"
    }
   ],
   "source": [
    "X_low"
   ]
  },
  {
   "cell_type": "code",
   "execution_count": 43,
   "id": "b2976e31-6fbf-4a89-b3da-957a72fb48f2",
   "metadata": {},
   "outputs": [
    {
     "data": {
      "text/plain": [
       "array([[0.5980876 , 0.60409311, 0.52665239]])"
      ]
     },
     "execution_count": 43,
     "metadata": {},
     "output_type": "execute_result"
    }
   ],
   "source": [
    "pca1.components_"
   ]
  },
  {
   "cell_type": "code",
   "execution_count": 44,
   "id": "2d0d6f17-debf-48c8-8bc6-93e5fb31e0dc",
   "metadata": {},
   "outputs": [
    {
     "data": {
      "text/plain": [
       "array([[ 0.5980876 ,  0.60409311,  0.52665239],\n",
       "       [-0.40568498, -0.33852273,  0.8490124 ],\n",
       "       [ 0.69116635, -0.72143875,  0.04260526]])"
      ]
     },
     "execution_count": 44,
     "metadata": {},
     "output_type": "execute_result"
    }
   ],
   "source": [
    "X0 = X - X.mean(axis=0)\n",
    "U, S, VT = np.linalg.svd(X0)\n",
    "VT"
   ]
  },
  {
   "cell_type": "code",
   "execution_count": 76,
   "id": "384dc7fe-1c09-4f7f-b53d-3c5b7bed71de",
   "metadata": {},
   "outputs": [],
   "source": [
    "from sklearn.decomposition import PCA\n",
    "pca = PCA(n_components = 3)\n",
    "printcipalComponents = pca.fit_transform(x)\n",
    "principalDf = pd.DataFrame(data=printcipalComponents)"
   ]
  },
  {
   "cell_type": "code",
   "execution_count": 77,
   "id": "dc72c740-8769-4645-aab7-b1da15ca6195",
   "metadata": {},
   "outputs": [],
   "source": [
    "colors = [\"#207245\"]\n",
    "sns.set_palette(sns.color_palette(colors))"
   ]
  },
  {
   "cell_type": "code",
   "execution_count": 78,
   "id": "73b19e83-c4e0-4738-9901-3cf00127d169",
   "metadata": {},
   "outputs": [
    {
     "data": {
      "text/plain": [
       "<BarContainer object of 3 artists>"
      ]
     },
     "execution_count": 78,
     "metadata": {},
     "output_type": "execute_result"
    },
    {
     "data": {
      "image/png": "[encoded data removed]",
      "text/plain": [
       "<Figure size 900x600 with 1 Axes>"
      ]
     },
     "metadata": {
      "needs_background": "light"
     },
     "output_type": "display_data"
    }
   ],
   "source": [
    "plt.figure(dpi =150 ) \n",
    "plt.bar(range(0,3), pca.explained_variance_ratio_)"
   ]
  },
  {
   "cell_type": "code",
   "execution_count": 79,
   "id": "4324a744-8d2c-4957-a61e-ea83957710a0",
   "metadata": {},
   "outputs": [
    {
     "data": {
      "text/html": [
       "<div>\n",
       "<style scoped>\n",
       "    .dataframe tbody tr th:only-of-type {\n",
       "        vertical-align: middle;\n",
       "    }\n",
       "\n",
       "    .dataframe tbody tr th {\n",
       "        vertical-align: top;\n",
       "    }\n",
       "\n",
       "    .dataframe thead th {\n",
       "        text-align: right;\n",
       "    }\n",
       "</style>\n",
       "<table border=\"1\" class=\"dataframe\">\n",
       "  <thead>\n",
       "    <tr style=\"text-align: right;\">\n",
       "      <th></th>\n",
       "      <th>0</th>\n",
       "      <th>1</th>\n",
       "      <th>2</th>\n",
       "    </tr>\n",
       "  </thead>\n",
       "  <tbody>\n",
       "    <tr>\n",
       "      <th>0</th>\n",
       "      <td>-4.043333</td>\n",
       "      <td>-1.366721</td>\n",
       "      <td>-0.015602</td>\n",
       "    </tr>\n",
       "    <tr>\n",
       "      <th>1</th>\n",
       "      <td>-4.043333</td>\n",
       "      <td>-1.366721</td>\n",
       "      <td>-0.015602</td>\n",
       "    </tr>\n",
       "    <tr>\n",
       "      <th>2</th>\n",
       "      <td>-1.180108</td>\n",
       "      <td>3.276969</td>\n",
       "      <td>-0.225908</td>\n",
       "    </tr>\n",
       "    <tr>\n",
       "      <th>3</th>\n",
       "      <td>-2.126577</td>\n",
       "      <td>1.741949</td>\n",
       "      <td>-0.156389</td>\n",
       "    </tr>\n",
       "    <tr>\n",
       "      <th>4</th>\n",
       "      <td>-2.585335</td>\n",
       "      <td>0.997916</td>\n",
       "      <td>-0.122693</td>\n",
       "    </tr>\n",
       "    <tr>\n",
       "      <th>...</th>\n",
       "      <td>...</td>\n",
       "      <td>...</td>\n",
       "      <td>...</td>\n",
       "    </tr>\n",
       "    <tr>\n",
       "      <th>1684</th>\n",
       "      <td>-1.384922</td>\n",
       "      <td>2.944793</td>\n",
       "      <td>-0.210864</td>\n",
       "    </tr>\n",
       "    <tr>\n",
       "      <th>1685</th>\n",
       "      <td>-1.829341</td>\n",
       "      <td>2.224017</td>\n",
       "      <td>-0.178221</td>\n",
       "    </tr>\n",
       "    <tr>\n",
       "      <th>1686</th>\n",
       "      <td>-2.412323</td>\n",
       "      <td>1.278513</td>\n",
       "      <td>-0.135401</td>\n",
       "    </tr>\n",
       "    <tr>\n",
       "      <th>1687</th>\n",
       "      <td>-2.510568</td>\n",
       "      <td>1.119176</td>\n",
       "      <td>-0.128185</td>\n",
       "    </tr>\n",
       "    <tr>\n",
       "      <th>1688</th>\n",
       "      <td>-2.958044</td>\n",
       "      <td>0.393442</td>\n",
       "      <td>-0.095317</td>\n",
       "    </tr>\n",
       "  </tbody>\n",
       "</table>\n",
       "<p>1689 rows × 3 columns</p>\n",
       "</div>"
      ],
      "text/plain": [
       "             0         1         2\n",
       "0    -4.043333 -1.366721 -0.015602\n",
       "1    -4.043333 -1.366721 -0.015602\n",
       "2    -1.180108  3.276969 -0.225908\n",
       "3    -2.126577  1.741949 -0.156389\n",
       "4    -2.585335  0.997916 -0.122693\n",
       "...        ...       ...       ...\n",
       "1684 -1.384922  2.944793 -0.210864\n",
       "1685 -1.829341  2.224017 -0.178221\n",
       "1686 -2.412323  1.278513 -0.135401\n",
       "1687 -2.510568  1.119176 -0.128185\n",
       "1688 -2.958044  0.393442 -0.095317\n",
       "\n",
       "[1689 rows x 3 columns]"
      ]
     },
     "execution_count": 79,
     "metadata": {},
     "output_type": "execute_result"
    }
   ],
   "source": [
    "principalDf"
   ]
  },
  {
   "cell_type": "code",
   "execution_count": 90,
   "id": "e8358e6d-fe43-4d99-805a-fdea054ee7e1",
   "metadata": {},
   "outputs": [
    {
     "data": {
      "text/html": [
       "<div>\n",
       "<style scoped>\n",
       "    .dataframe tbody tr th:only-of-type {\n",
       "        vertical-align: middle;\n",
       "    }\n",
       "\n",
       "    .dataframe tbody tr th {\n",
       "        vertical-align: top;\n",
       "    }\n",
       "\n",
       "    .dataframe thead th {\n",
       "        text-align: right;\n",
       "    }\n",
       "</style>\n",
       "<table border=\"1\" class=\"dataframe\">\n",
       "  <thead>\n",
       "    <tr style=\"text-align: right;\">\n",
       "      <th></th>\n",
       "      <th>0</th>\n",
       "      <th>1</th>\n",
       "      <th>2</th>\n",
       "    </tr>\n",
       "  </thead>\n",
       "  <tbody>\n",
       "    <tr>\n",
       "      <th>0</th>\n",
       "      <td>-4.043333</td>\n",
       "      <td>-1.366721</td>\n",
       "      <td>-0.015602</td>\n",
       "    </tr>\n",
       "    <tr>\n",
       "      <th>1</th>\n",
       "      <td>-4.043333</td>\n",
       "      <td>-1.366721</td>\n",
       "      <td>-0.015602</td>\n",
       "    </tr>\n",
       "    <tr>\n",
       "      <th>2</th>\n",
       "      <td>-1.180108</td>\n",
       "      <td>3.276969</td>\n",
       "      <td>-0.225908</td>\n",
       "    </tr>\n",
       "    <tr>\n",
       "      <th>3</th>\n",
       "      <td>-2.126577</td>\n",
       "      <td>1.741949</td>\n",
       "      <td>-0.156389</td>\n",
       "    </tr>\n",
       "    <tr>\n",
       "      <th>4</th>\n",
       "      <td>-2.585335</td>\n",
       "      <td>0.997916</td>\n",
       "      <td>-0.122693</td>\n",
       "    </tr>\n",
       "    <tr>\n",
       "      <th>...</th>\n",
       "      <td>...</td>\n",
       "      <td>...</td>\n",
       "      <td>...</td>\n",
       "    </tr>\n",
       "    <tr>\n",
       "      <th>1684</th>\n",
       "      <td>-1.384922</td>\n",
       "      <td>2.944793</td>\n",
       "      <td>-0.210864</td>\n",
       "    </tr>\n",
       "    <tr>\n",
       "      <th>1685</th>\n",
       "      <td>-1.829341</td>\n",
       "      <td>2.224017</td>\n",
       "      <td>-0.178221</td>\n",
       "    </tr>\n",
       "    <tr>\n",
       "      <th>1686</th>\n",
       "      <td>-2.412323</td>\n",
       "      <td>1.278513</td>\n",
       "      <td>-0.135401</td>\n",
       "    </tr>\n",
       "    <tr>\n",
       "      <th>1687</th>\n",
       "      <td>-2.510568</td>\n",
       "      <td>1.119176</td>\n",
       "      <td>-0.128185</td>\n",
       "    </tr>\n",
       "    <tr>\n",
       "      <th>1688</th>\n",
       "      <td>-2.958044</td>\n",
       "      <td>0.393442</td>\n",
       "      <td>-0.095317</td>\n",
       "    </tr>\n",
       "  </tbody>\n",
       "</table>\n",
       "<p>1689 rows × 3 columns</p>\n",
       "</div>"
      ],
      "text/plain": [
       "             0         1         2\n",
       "0    -4.043333 -1.366721 -0.015602\n",
       "1    -4.043333 -1.366721 -0.015602\n",
       "2    -1.180108  3.276969 -0.225908\n",
       "3    -2.126577  1.741949 -0.156389\n",
       "4    -2.585335  0.997916 -0.122693\n",
       "...        ...       ...       ...\n",
       "1684 -1.384922  2.944793 -0.210864\n",
       "1685 -1.829341  2.224017 -0.178221\n",
       "1686 -2.412323  1.278513 -0.135401\n",
       "1687 -2.510568  1.119176 -0.128185\n",
       "1688 -2.958044  0.393442 -0.095317\n",
       "\n",
       "[1689 rows x 3 columns]"
      ]
     },
     "execution_count": 90,
     "metadata": {},
     "output_type": "execute_result"
    }
   ],
   "source": [
    "principalDf[principalDf.iloc[:,0]!=0]"
   ]
  },
  {
   "cell_type": "code",
   "execution_count": 84,
   "id": "fa8409d1-698f-412b-a692-3516e9524dcc",
   "metadata": {},
   "outputs": [
    {
     "name": "stderr",
     "output_type": "stream",
     "text": [
      "C:\\Users\\zzuge\\Anaconda3\\lib\\site-packages\\seaborn\\_decorators.py:36: FutureWarning: Pass the following variables as keyword args: x, y. From version 0.12, the only valid positional argument will be `data`, and passing other arguments without an explicit keyword will result in an error or misinterpretation.\n",
      "  warnings.warn(\n"
     ]
    },
    {
     "data": {
      "text/plain": [
       "<AxesSubplot:xlabel='x1', ylabel='0'>"
      ]
     },
     "execution_count": 84,
     "metadata": {},
     "output_type": "execute_result"
    },
    {
     "data": {
      "image/png": "[encoded data removed]",
      "text/plain": [
       "<Figure size 432x288 with 1 Axes>"
      ]
     },
     "metadata": {
      "needs_background": "light"
     },
     "output_type": "display_data"
    }
   ],
   "source": [
    "sns.scatterplot(df['x1'],principalDf.iloc[:,0])"
   ]
  },
  {
   "cell_type": "code",
   "execution_count": 86,
   "id": "0a8dda82-3034-456a-97d8-e3f864a0acf4",
   "metadata": {},
   "outputs": [
    {
     "data": {
      "text/plain": [
       "array([[1.       , 0.9436757],\n",
       "       [0.9436757, 1.       ]])"
      ]
     },
     "execution_count": 86,
     "metadata": {},
     "output_type": "execute_result"
    }
   ],
   "source": [
    "np.corrcoef(df['x1'],principalDf.iloc[:,0])"
   ]
  },
  {
   "cell_type": "code",
   "execution_count": 89,
   "id": "8bd71592-b6a4-4d1e-a131-a4d5f4fac342",
   "metadata": {},
   "outputs": [
    {
     "data": {
      "text/html": [
       "<div>\n",
       "<style scoped>\n",
       "    .dataframe tbody tr th:only-of-type {\n",
       "        vertical-align: middle;\n",
       "    }\n",
       "\n",
       "    .dataframe tbody tr th {\n",
       "        vertical-align: top;\n",
       "    }\n",
       "\n",
       "    .dataframe thead th {\n",
       "        text-align: right;\n",
       "    }\n",
       "</style>\n",
       "<table border=\"1\" class=\"dataframe\">\n",
       "  <thead>\n",
       "    <tr style=\"text-align: right;\">\n",
       "      <th></th>\n",
       "      <th>x1</th>\n",
       "      <th>x2</th>\n",
       "      <th>x3</th>\n",
       "      <th>y</th>\n",
       "      <th>lon</th>\n",
       "      <th>lat</th>\n",
       "    </tr>\n",
       "  </thead>\n",
       "  <tbody>\n",
       "    <tr>\n",
       "      <th>411</th>\n",
       "      <td>1.506297</td>\n",
       "      <td>1.506297</td>\n",
       "      <td>3.474448</td>\n",
       "      <td>0.102635</td>\n",
       "      <td>127.12</td>\n",
       "      <td>37.09</td>\n",
       "    </tr>\n",
       "    <tr>\n",
       "      <th>412</th>\n",
       "      <td>2.009555</td>\n",
       "      <td>0.000000</td>\n",
       "      <td>0.000000</td>\n",
       "      <td>0.131286</td>\n",
       "      <td>127.13</td>\n",
       "      <td>37.09</td>\n",
       "    </tr>\n",
       "    <tr>\n",
       "      <th>414</th>\n",
       "      <td>6.148938</td>\n",
       "      <td>7.425608</td>\n",
       "      <td>6.243137</td>\n",
       "      <td>0.174711</td>\n",
       "      <td>127.15</td>\n",
       "      <td>37.09</td>\n",
       "    </tr>\n",
       "    <tr>\n",
       "      <th>415</th>\n",
       "      <td>4.321082</td>\n",
       "      <td>4.860587</td>\n",
       "      <td>3.882182</td>\n",
       "      <td>0.184996</td>\n",
       "      <td>127.16</td>\n",
       "      <td>37.09</td>\n",
       "    </tr>\n",
       "    <tr>\n",
       "      <th>416</th>\n",
       "      <td>3.281287</td>\n",
       "      <td>6.940977</td>\n",
       "      <td>4.699480</td>\n",
       "      <td>0.186946</td>\n",
       "      <td>127.17</td>\n",
       "      <td>37.09</td>\n",
       "    </tr>\n",
       "    <tr>\n",
       "      <th>...</th>\n",
       "      <td>...</td>\n",
       "      <td>...</td>\n",
       "      <td>...</td>\n",
       "      <td>...</td>\n",
       "      <td>...</td>\n",
       "      <td>...</td>\n",
       "    </tr>\n",
       "    <tr>\n",
       "      <th>1773</th>\n",
       "      <td>1.401183</td>\n",
       "      <td>3.445852</td>\n",
       "      <td>6.249898</td>\n",
       "      <td>0.728879</td>\n",
       "      <td>127.24</td>\n",
       "      <td>37.36</td>\n",
       "    </tr>\n",
       "    <tr>\n",
       "      <th>1774</th>\n",
       "      <td>2.489065</td>\n",
       "      <td>2.034706</td>\n",
       "      <td>6.485993</td>\n",
       "      <td>0.790159</td>\n",
       "      <td>127.25</td>\n",
       "      <td>37.36</td>\n",
       "    </tr>\n",
       "    <tr>\n",
       "      <th>1802</th>\n",
       "      <td>6.542847</td>\n",
       "      <td>6.542847</td>\n",
       "      <td>6.542847</td>\n",
       "      <td>1.206453</td>\n",
       "      <td>127.03</td>\n",
       "      <td>37.37</td>\n",
       "    </tr>\n",
       "    <tr>\n",
       "      <th>1803</th>\n",
       "      <td>4.158414</td>\n",
       "      <td>3.812865</td>\n",
       "      <td>3.812865</td>\n",
       "      <td>2.032709</td>\n",
       "      <td>127.04</td>\n",
       "      <td>37.37</td>\n",
       "    </tr>\n",
       "    <tr>\n",
       "      <th>1804</th>\n",
       "      <td>3.624074</td>\n",
       "      <td>1.899118</td>\n",
       "      <td>4.052828</td>\n",
       "      <td>3.119789</td>\n",
       "      <td>127.05</td>\n",
       "      <td>37.37</td>\n",
       "    </tr>\n",
       "  </tbody>\n",
       "</table>\n",
       "<p>525 rows × 6 columns</p>\n",
       "</div>"
      ],
      "text/plain": [
       "            x1        x2        x3         y     lon    lat\n",
       "411   1.506297  1.506297  3.474448  0.102635  127.12  37.09\n",
       "412   2.009555  0.000000  0.000000  0.131286  127.13  37.09\n",
       "414   6.148938  7.425608  6.243137  0.174711  127.15  37.09\n",
       "415   4.321082  4.860587  3.882182  0.184996  127.16  37.09\n",
       "416   3.281287  6.940977  4.699480  0.186946  127.17  37.09\n",
       "...        ...       ...       ...       ...     ...    ...\n",
       "1773  1.401183  3.445852  6.249898  0.728879  127.24  37.36\n",
       "1774  2.489065  2.034706  6.485993  0.790159  127.25  37.36\n",
       "1802  6.542847  6.542847  6.542847  1.206453  127.03  37.37\n",
       "1803  4.158414  3.812865  3.812865  2.032709  127.04  37.37\n",
       "1804  3.624074  1.899118  4.052828  3.119789  127.05  37.37\n",
       "\n",
       "[525 rows x 6 columns]"
      ]
     },
     "execution_count": 89,
     "metadata": {},
     "output_type": "execute_result"
    }
   ],
   "source": [
    "df[df['x1']!=0]"
   ]
  },
  {
   "cell_type": "code",
   "execution_count": 15,
   "id": "04d5ca2f-0869-4f93-8e58-143884eb42ac",
   "metadata": {},
   "outputs": [
    {
     "name": "stdout",
     "output_type": "stream",
     "text": [
      "Collecting factor_analyzer\n",
      "  Downloading factor_analyzer-0.4.1.tar.gz (41 kB)\n",
      "  Installing build dependencies: started\n",
      "  Installing build dependencies: finished with status 'done'\n",
      "  Getting requirements to build wheel: started\n",
      "  Getting requirements to build wheel: finished with status 'done'\n",
      "    Preparing wheel metadata: started\n",
      "    Preparing wheel metadata: finished with status 'done'\n",
      "Collecting pre-commit\n",
      "  Downloading pre_commit-2.20.0-py2.py3-none-any.whl (199 kB)\n",
      "Requirement already satisfied: scikit-learn in c:\\users\\zzuge\\appdata\\roaming\\python\\python39\\site-packages (from factor_analyzer) (1.1.0)\n",
      "Requirement already satisfied: scipy in c:\\users\\zzuge\\anaconda3\\lib\\site-packages (from factor_analyzer) (1.7.3)\n",
      "Requirement already satisfied: numpy in c:\\users\\zzuge\\anaconda3\\lib\\site-packages (from factor_analyzer) (1.21.5)\n",
      "Requirement already satisfied: pandas in c:\\users\\zzuge\\anaconda3\\lib\\site-packages (from factor_analyzer) (1.4.2)\n",
      "Requirement already satisfied: python-dateutil>=2.8.1 in c:\\users\\zzuge\\anaconda3\\lib\\site-packages (from pandas->factor_analyzer) (2.8.2)\n",
      "Requirement already satisfied: pytz>=2020.1 in c:\\users\\zzuge\\anaconda3\\lib\\site-packages (from pandas->factor_analyzer) (2021.3)\n",
      "Requirement already satisfied: six>=1.5 in c:\\users\\zzuge\\anaconda3\\lib\\site-packages (from python-dateutil>=2.8.1->pandas->factor_analyzer) (1.16.0)\n",
      "Collecting nodeenv>=0.11.1\n",
      "  Downloading nodeenv-1.7.0-py2.py3-none-any.whl (21 kB)\n",
      "Requirement already satisfied: toml in c:\\users\\zzuge\\anaconda3\\lib\\site-packages (from pre-commit->factor_analyzer) (0.10.2)\n",
      "Collecting identify>=1.0.0\n",
      "  Downloading identify-2.5.9-py2.py3-none-any.whl (98 kB)\n",
      "Collecting cfgv>=2.0.0\n",
      "  Downloading cfgv-3.3.1-py2.py3-none-any.whl (7.3 kB)\n",
      "Requirement already satisfied: pyyaml>=5.1 in c:\\users\\zzuge\\anaconda3\\lib\\site-packages (from pre-commit->factor_analyzer) (6.0)\n",
      "Collecting virtualenv>=20.0.8\n",
      "  Downloading virtualenv-20.16.7-py3-none-any.whl (8.8 MB)\n",
      "Requirement already satisfied: setuptools in c:\\users\\zzuge\\anaconda3\\lib\\site-packages (from nodeenv>=0.11.1->pre-commit->factor_analyzer) (61.2.0)\n",
      "Collecting distlib<1,>=0.3.6\n",
      "  Downloading distlib-0.3.6-py2.py3-none-any.whl (468 kB)\n",
      "Collecting platformdirs<3,>=2.4\n",
      "  Downloading platformdirs-2.5.4-py3-none-any.whl (14 kB)\n",
      "Requirement already satisfied: filelock<4,>=3.4.1 in c:\\users\\zzuge\\anaconda3\\lib\\site-packages (from virtualenv>=20.0.8->pre-commit->factor_analyzer) (3.6.0)\n",
      "Requirement already satisfied: threadpoolctl>=2.0.0 in c:\\users\\zzuge\\anaconda3\\lib\\site-packages (from scikit-learn->factor_analyzer) (2.2.0)\n",
      "Requirement already satisfied: joblib>=1.0.0 in c:\\users\\zzuge\\anaconda3\\lib\\site-packages (from scikit-learn->factor_analyzer) (1.1.0)\n",
      "Building wheels for collected packages: factor-analyzer\n",
      "  Building wheel for factor-analyzer (PEP 517): started\n",
      "  Building wheel for factor-analyzer (PEP 517): finished with status 'done'\n",
      "  Created wheel for factor-analyzer: filename=factor_analyzer-0.4.1-py2.py3-none-any.whl size=42070 sha256=f01b3783606496b4352be5c327540c4e34f7bba1bd0b6698f1cde2d2c9035602\n",
      "  Stored in directory: c:\\users\\zzuge\\appdata\\local\\pip\\cache\\wheels\\6d\\32\\bd\\460a71becd83f7d77152f437c2fd451f5c87bc19cfcdbfcd24\n",
      "Successfully built factor-analyzer\n",
      "Installing collected packages: platformdirs, distlib, virtualenv, nodeenv, identify, cfgv, pre-commit, factor-analyzer\n",
      "Successfully installed cfgv-3.3.1 distlib-0.3.6 factor-analyzer-0.4.1 identify-2.5.9 nodeenv-1.7.0 platformdirs-2.5.4 pre-commit-2.20.0 virtualenv-20.16.7\n"
     ]
    }
   ],
   "source": [
    "# Import required libraries\n",
    "\n",
    "!pip install factor_analyzer\n",
    "import pandas as pd\n",
    "\n",
    "from sklearn.datasets import load_iris\n",
    "\n",
    "from factor_analyzer import FactorAnalyzer\n",
    "\n",
    "import matplotlib.pyplot as plt"
   ]
  },
  {
   "cell_type": "code",
   "execution_count": 17,
   "id": "b0211760-57f2-4c79-912a-a59e879e3935",
   "metadata": {},
   "outputs": [],
   "source": [
    "df=df.drop(['lon','lat'], axis=1)"
   ]
  },
  {
   "cell_type": "code",
   "execution_count": 24,
   "id": "2c6ff8eb-6ed5-4c26-9f56-7479b75d1253",
   "metadata": {},
   "outputs": [],
   "source": [
    "df=df.drop('y',axis=1)"
   ]
  },
  {
   "cell_type": "code",
   "execution_count": 44,
   "id": "4edc3c9f-1c32-4326-854e-67903abaf5bd",
   "metadata": {},
   "outputs": [
    {
     "data": {
      "text/html": [
       "<div>\n",
       "<style scoped>\n",
       "    .dataframe tbody tr th:only-of-type {\n",
       "        vertical-align: middle;\n",
       "    }\n",
       "\n",
       "    .dataframe tbody tr th {\n",
       "        vertical-align: top;\n",
       "    }\n",
       "\n",
       "    .dataframe thead th {\n",
       "        text-align: right;\n",
       "    }\n",
       "</style>\n",
       "<table border=\"1\" class=\"dataframe\">\n",
       "  <thead>\n",
       "    <tr style=\"text-align: right;\">\n",
       "      <th></th>\n",
       "      <th>x1</th>\n",
       "      <th>x2</th>\n",
       "      <th>x3</th>\n",
       "    </tr>\n",
       "  </thead>\n",
       "  <tbody>\n",
       "    <tr>\n",
       "      <th>112</th>\n",
       "      <td>0.0</td>\n",
       "      <td>0.0</td>\n",
       "      <td>0.000000</td>\n",
       "    </tr>\n",
       "    <tr>\n",
       "      <th>113</th>\n",
       "      <td>0.0</td>\n",
       "      <td>0.0</td>\n",
       "      <td>0.000000</td>\n",
       "    </tr>\n",
       "    <tr>\n",
       "      <th>159</th>\n",
       "      <td>0.0</td>\n",
       "      <td>0.0</td>\n",
       "      <td>1.865552</td>\n",
       "    </tr>\n",
       "    <tr>\n",
       "      <th>160</th>\n",
       "      <td>0.0</td>\n",
       "      <td>0.0</td>\n",
       "      <td>1.537900</td>\n",
       "    </tr>\n",
       "    <tr>\n",
       "      <th>161</th>\n",
       "      <td>0.0</td>\n",
       "      <td>0.0</td>\n",
       "      <td>1.329740</td>\n",
       "    </tr>\n",
       "    <tr>\n",
       "      <th>...</th>\n",
       "      <td>...</td>\n",
       "      <td>...</td>\n",
       "      <td>...</td>\n",
       "    </tr>\n",
       "    <tr>\n",
       "      <th>2462</th>\n",
       "      <td>0.0</td>\n",
       "      <td>0.0</td>\n",
       "      <td>1.803188</td>\n",
       "    </tr>\n",
       "    <tr>\n",
       "      <th>2463</th>\n",
       "      <td>0.0</td>\n",
       "      <td>0.0</td>\n",
       "      <td>1.652797</td>\n",
       "    </tr>\n",
       "    <tr>\n",
       "      <th>2464</th>\n",
       "      <td>0.0</td>\n",
       "      <td>0.0</td>\n",
       "      <td>1.413412</td>\n",
       "    </tr>\n",
       "    <tr>\n",
       "      <th>2465</th>\n",
       "      <td>0.0</td>\n",
       "      <td>0.0</td>\n",
       "      <td>1.366761</td>\n",
       "    </tr>\n",
       "    <tr>\n",
       "      <th>2466</th>\n",
       "      <td>0.0</td>\n",
       "      <td>0.0</td>\n",
       "      <td>1.121479</td>\n",
       "    </tr>\n",
       "  </tbody>\n",
       "</table>\n",
       "<p>1689 rows × 3 columns</p>\n",
       "</div>"
      ],
      "text/plain": [
       "       x1   x2        x3\n",
       "112   0.0  0.0  0.000000\n",
       "113   0.0  0.0  0.000000\n",
       "159   0.0  0.0  1.865552\n",
       "160   0.0  0.0  1.537900\n",
       "161   0.0  0.0  1.329740\n",
       "...   ...  ...       ...\n",
       "2462  0.0  0.0  1.803188\n",
       "2463  0.0  0.0  1.652797\n",
       "2464  0.0  0.0  1.413412\n",
       "2465  0.0  0.0  1.366761\n",
       "2466  0.0  0.0  1.121479\n",
       "\n",
       "[1689 rows x 3 columns]"
      ]
     },
     "execution_count": 44,
     "metadata": {},
     "output_type": "execute_result"
    }
   ],
   "source": [
    "df"
   ]
  },
  {
   "cell_type": "code",
   "execution_count": 45,
   "id": "e3968314-333c-4715-ad51-9086d7125550",
   "metadata": {},
   "outputs": [
    {
     "data": {
      "text/plain": [
       "(3809.1512696407967, 0.0)"
      ]
     },
     "execution_count": 45,
     "metadata": {},
     "output_type": "execute_result"
    }
   ],
   "source": [
    "from factor_analyzer.factor_analyzer import calculate_bartlett_sphericity\n",
    "\n",
    "chi_square_value,p_value=calculate_bartlett_sphericity(df)\n",
    "\n",
    "chi_square_value, p_value"
   ]
  },
  {
   "cell_type": "code",
   "execution_count": 46,
   "id": "1ebd2ba4-6d2e-4dc0-a7c6-5a7536f15d8b",
   "metadata": {},
   "outputs": [
    {
     "data": {
      "text/plain": [
       "0.6409463023988841"
      ]
     },
     "execution_count": 46,
     "metadata": {},
     "output_type": "execute_result"
    }
   ],
   "source": [
    "from factor_analyzer.factor_analyzer import calculate_kmo\n",
    "\n",
    "kmo_all,kmo_model=calculate_kmo(df)\n",
    "\n",
    "kmo_model"
   ]
  },
  {
   "cell_type": "code",
   "execution_count": 56,
   "id": "63274f71-bbb0-469e-9a42-18fc9f3ed61b",
   "metadata": {},
   "outputs": [
    {
     "name": "stderr",
     "output_type": "stream",
     "text": [
      "C:\\Users\\zzuge\\Anaconda3\\lib\\site-packages\\factor_analyzer\\factor_analyzer.py:662: UserWarning: No rotation will be performed when the number of factors equals 1.\n",
      "  warnings.warn(\n"
     ]
    },
    {
     "data": {
      "text/plain": [
       "array([2.38355896, 0.53444923, 0.08199181])"
      ]
     },
     "execution_count": 56,
     "metadata": {},
     "output_type": "execute_result"
    }
   ],
   "source": [
    "fa = FactorAnalyzer(method='principal',n_factors=1,rotation='varimax').fit(df)\n",
    "\n",
    "\n",
    "# Check Eigenvalues\n",
    "\n",
    "ev, v = fa.get_eigenvalues()\n",
    "\n",
    "ev"
   ]
  },
  {
   "cell_type": "code",
   "execution_count": 57,
   "id": "c3c056ff-089a-4fd8-8b80-f660c85d1435",
   "metadata": {},
   "outputs": [
    {
     "data": {
      "image/png": "[encoded data removed]",
      "text/plain": [
       "<Figure size 432x288 with 1 Axes>"
      ]
     },
     "metadata": {
      "needs_background": "light"
     },
     "output_type": "display_data"
    }
   ],
   "source": [
    "plt.scatter(range(1,df.shape[1]+1),ev)\n",
    "\n",
    "plt.plot(range(1,df.shape[1]+1),ev)\n",
    "\n",
    "plt.title('Scree Plot')\n",
    "\n",
    "plt.xlabel('Factors')\n",
    "\n",
    "plt.ylabel('Eigenvalue')\n",
    "\n",
    "plt.grid()\n",
    "\n",
    "plt.show()"
   ]
  },
  {
   "cell_type": "code",
   "execution_count": 58,
   "id": "e21c87ad-9672-4dc3-9bcb-0574d698c890",
   "metadata": {},
   "outputs": [
    {
     "data": {
      "text/plain": [
       "(array([2.38355896]), array([0.79451965]), array([0.79451965]))"
      ]
     },
     "execution_count": 58,
     "metadata": {},
     "output_type": "execute_result"
    }
   ],
   "source": [
    "fa.get_factor_variance()"
   ]
  },
  {
   "cell_type": "code",
   "execution_count": 59,
   "id": "7182b0d7-8d00-4cbb-ad1f-00b544fcb863",
   "metadata": {},
   "outputs": [
    {
     "data": {
      "text/plain": [
       "array([[0.93801076],\n",
       "       [0.94997009],\n",
       "       [0.77540416]])"
      ]
     },
     "execution_count": 59,
     "metadata": {},
     "output_type": "execute_result"
    }
   ],
   "source": [
    "fa.loadings_"
   ]
  },
  {
   "cell_type": "code",
   "execution_count": 60,
   "id": "dadbb248-06d2-405c-a64c-266f27c7fcde",
   "metadata": {},
   "outputs": [
    {
     "ename": "AttributeError",
     "evalue": "'FactorAnalyzer' object has no attribute 'get_uniqueness'",
     "output_type": "error",
     "traceback": [
      "\u001b[1;31m---------------------------------------------------------------------------\u001b[0m",
      "\u001b[1;31mAttributeError\u001b[0m                            Traceback (most recent call last)",
      "Input \u001b[1;32mIn [60]\u001b[0m, in \u001b[0;36m<cell line: 1>\u001b[1;34m()\u001b[0m\n\u001b[1;32m----> 1\u001b[0m \u001b[43mfa\u001b[49m\u001b[38;5;241;43m.\u001b[39;49m\u001b[43mget_uniqueness\u001b[49m()\n",
      "\u001b[1;31mAttributeError\u001b[0m: 'FactorAnalyzer' object has no attribute 'get_uniqueness'"
     ]
    }
   ],
   "source": [
    "fa.get_uniqueness()"
   ]
  },
  {
   "cell_type": "code",
   "execution_count": null,
   "id": "039e8cd4-938d-4eec-81bb-b3f991e01462",
   "metadata": {},
   "outputs": [],
   "source": []
  },
  {
   "cell_type": "code",
   "execution_count": null,
   "id": "0d8241ad-3fd1-4a44-8f76-89e500903a7b",
   "metadata": {},
   "outputs": [],
   "source": []
  },
  {
   "cell_type": "code",
   "execution_count": null,
   "id": "2422e27e-6205-4939-8813-ac4511dee4d4",
   "metadata": {},
   "outputs": [],
   "source": []
  },
  {
   "cell_type": "code",
   "execution_count": 51,
   "id": "56578237-27b3-4f81-b629-b5baa2f280ac",
   "metadata": {},
   "outputs": [],
   "source": [
    "from statsmodels.formula.api import ols\n",
    "\n",
    "\n",
    "model = ols('y ~ 0+x1',data=df)\n",
    "res=model.fit()"
   ]
  },
  {
   "cell_type": "code",
   "execution_count": 52,
   "id": "7744ee25-04e8-42d8-8fa4-a3affdd1bec0",
   "metadata": {},
   "outputs": [
    {
     "data": {
      "text/html": [
       "<table class=\"simpletable\">\n",
       "<caption>OLS Regression Results</caption>\n",
       "<tr>\n",
       "  <th>Dep. Variable:</th>            <td>y</td>        <th>  R-squared (uncentered):</th>      <td>   0.502</td> \n",
       "</tr>\n",
       "<tr>\n",
       "  <th>Model:</th>                   <td>OLS</td>       <th>  Adj. R-squared (uncentered):</th> <td>   0.502</td> \n",
       "</tr>\n",
       "<tr>\n",
       "  <th>Method:</th>             <td>Least Squares</td>  <th>  F-statistic:       </th>          <td>   1701.</td> \n",
       "</tr>\n",
       "<tr>\n",
       "  <th>Date:</th>             <td>Fri, 14 Oct 2022</td> <th>  Prob (F-statistic):</th>          <td>8.76e-258</td>\n",
       "</tr>\n",
       "<tr>\n",
       "  <th>Time:</th>                 <td>12:29:22</td>     <th>  Log-Likelihood:    </th>          <td> -4972.9</td> \n",
       "</tr>\n",
       "<tr>\n",
       "  <th>No. Observations:</th>      <td>  1689</td>      <th>  AIC:               </th>          <td>   9948.</td> \n",
       "</tr>\n",
       "<tr>\n",
       "  <th>Df Residuals:</th>          <td>  1688</td>      <th>  BIC:               </th>          <td>   9953.</td> \n",
       "</tr>\n",
       "<tr>\n",
       "  <th>Df Model:</th>              <td>     1</td>      <th>                     </th>              <td> </td>    \n",
       "</tr>\n",
       "<tr>\n",
       "  <th>Covariance Type:</th>      <td>nonrobust</td>    <th>                     </th>              <td> </td>    \n",
       "</tr>\n",
       "</table>\n",
       "<table class=\"simpletable\">\n",
       "<tr>\n",
       "   <td></td>     <th>coef</th>     <th>std err</th>      <th>t</th>      <th>P>|t|</th>  <th>[0.025</th>    <th>0.975]</th>  \n",
       "</tr>\n",
       "<tr>\n",
       "  <th>x1</th> <td>    1.3007</td> <td>    0.032</td> <td>   41.245</td> <td> 0.000</td> <td>    1.239</td> <td>    1.363</td>\n",
       "</tr>\n",
       "</table>\n",
       "<table class=\"simpletable\">\n",
       "<tr>\n",
       "  <th>Omnibus:</th>       <td>521.407</td> <th>  Durbin-Watson:     </th> <td>   0.321</td>\n",
       "</tr>\n",
       "<tr>\n",
       "  <th>Prob(Omnibus):</th> <td> 0.000</td>  <th>  Jarque-Bera (JB):  </th> <td>2302.994</td>\n",
       "</tr>\n",
       "<tr>\n",
       "  <th>Skew:</th>          <td> 1.413</td>  <th>  Prob(JB):          </th> <td>    0.00</td>\n",
       "</tr>\n",
       "<tr>\n",
       "  <th>Kurtosis:</th>      <td> 7.974</td>  <th>  Cond. No.          </th> <td>    1.00</td>\n",
       "</tr>\n",
       "</table><br/><br/>Notes:<br/>[1] R² is computed without centering (uncentered) since the model does not contain a constant.<br/>[2] Standard Errors assume that the covariance matrix of the errors is correctly specified."
      ],
      "text/plain": [
       "<class 'statsmodels.iolib.summary.Summary'>\n",
       "\"\"\"\n",
       "                                 OLS Regression Results                                \n",
       "=======================================================================================\n",
       "Dep. Variable:                      y   R-squared (uncentered):                   0.502\n",
       "Model:                            OLS   Adj. R-squared (uncentered):              0.502\n",
       "Method:                 Least Squares   F-statistic:                              1701.\n",
       "Date:                Fri, 14 Oct 2022   Prob (F-statistic):                   8.76e-258\n",
       "Time:                        12:29:22   Log-Likelihood:                         -4972.9\n",
       "No. Observations:                1689   AIC:                                      9948.\n",
       "Df Residuals:                    1688   BIC:                                      9953.\n",
       "Df Model:                           1                                                  \n",
       "Covariance Type:            nonrobust                                                  \n",
       "==============================================================================\n",
       "                 coef    std err          t      P>|t|      [0.025      0.975]\n",
       "------------------------------------------------------------------------------\n",
       "x1             1.3007      0.032     41.245      0.000       1.239       1.363\n",
       "==============================================================================\n",
       "Omnibus:                      521.407   Durbin-Watson:                   0.321\n",
       "Prob(Omnibus):                  0.000   Jarque-Bera (JB):             2302.994\n",
       "Skew:                           1.413   Prob(JB):                         0.00\n",
       "Kurtosis:                       7.974   Cond. No.                         1.00\n",
       "==============================================================================\n",
       "\n",
       "Notes:\n",
       "[1] R² is computed without centering (uncentered) since the model does not contain a constant.\n",
       "[2] Standard Errors assume that the covariance matrix of the errors is correctly specified.\n",
       "\"\"\""
      ]
     },
     "execution_count": 52,
     "metadata": {},
     "output_type": "execute_result"
    }
   ],
   "source": [
    "res.summary()"
   ]
  },
  {
   "cell_type": "code",
   "execution_count": 53,
   "id": "968d79b4-feb8-4ee8-bd1e-0b1d427185fc",
   "metadata": {},
   "outputs": [
    {
     "data": {
      "text/plain": [
       "3974.814648089479"
      ]
     },
     "execution_count": 53,
     "metadata": {},
     "output_type": "execute_result"
    }
   ],
   "source": [
    "fitted=res.predict(df['x1'])\n",
    "sum(fitted)"
   ]
  },
  {
   "cell_type": "code",
   "execution_count": 54,
   "id": "4bf63bb6",
   "metadata": {},
   "outputs": [
    {
     "data": {
      "text/plain": [
       "(array([1164.,   51.,   61.,   61.,   66.,   71.,   70.,   61.,   50.,\n",
       "          34.]),\n",
       " array([ 0.        ,  1.42566978,  2.85133955,  4.27700933,  5.7026791 ,\n",
       "         7.12834888,  8.55401865,  9.97968843, 11.4053582 , 12.83102798,\n",
       "        14.25669776]),\n",
       " <BarContainer object of 10 artists>)"
      ]
     },
     "execution_count": 54,
     "metadata": {},
     "output_type": "execute_result"
    },
    {
     "data": {
      "image/png": "[encoded data removed]",
      "text/plain": [
       "<Figure size 432x288 with 1 Axes>"
      ]
     },
     "metadata": {
      "needs_background": "light"
     },
     "output_type": "display_data"
    }
   ],
   "source": [
    "plt.hist(fitted)"
   ]
  },
  {
   "cell_type": "code",
   "execution_count": 55,
   "id": "cfcd77e4-1f6c-4cb8-9975-0d3e79eaf2a2",
   "metadata": {},
   "outputs": [],
   "source": [
    "residual=  df['y'] - fitted"
   ]
  },
  {
   "cell_type": "code",
   "execution_count": 56,
   "id": "acb110f2-3619-4b63-a1ac-8169b63ffa12",
   "metadata": {},
   "outputs": [
    {
     "name": "stderr",
     "output_type": "stream",
     "text": [
      "C:\\Users\\zzuge\\AppData\\Local\\Temp\\ipykernel_172\\2405541715.py:1: SettingWithCopyWarning: \n",
      "A value is trying to be set on a copy of a slice from a DataFrame.\n",
      "Try using .loc[row_indexer,col_indexer] = value instead\n",
      "\n",
      "See the caveats in the documentation: https://pandas.pydata.org/pandas-docs/stable/user_guide/indexing.html#returning-a-view-versus-a-copy\n",
      "  df['residual']=residual\n",
      "C:\\Users\\zzuge\\AppData\\Local\\Temp\\ipykernel_172\\2405541715.py:2: SettingWithCopyWarning: \n",
      "A value is trying to be set on a copy of a slice from a DataFrame.\n",
      "Try using .loc[row_indexer,col_indexer] = value instead\n",
      "\n",
      "See the caveats in the documentation: https://pandas.pydata.org/pandas-docs/stable/user_guide/indexing.html#returning-a-view-versus-a-copy\n",
      "  df['fitted']=fitted\n"
     ]
    }
   ],
   "source": [
    "df['residual']=residual\n",
    "df['fitted']=fitted"
   ]
  },
  {
   "cell_type": "code",
   "execution_count": 57,
   "id": "785129bf-e0fd-469e-a531-cb974a42386f",
   "metadata": {},
   "outputs": [],
   "source": [
    "df=df.rename(columns={'residual':'demand'})"
   ]
  },
  {
   "cell_type": "code",
   "execution_count": 58,
   "id": "02cbcbf5-54af-435e-88a4-4ac38d231ca5",
   "metadata": {},
   "outputs": [
    {
     "data": {
      "text/html": [
       "<div>\n",
       "<style scoped>\n",
       "    .dataframe tbody tr th:only-of-type {\n",
       "        vertical-align: middle;\n",
       "    }\n",
       "\n",
       "    .dataframe tbody tr th {\n",
       "        vertical-align: top;\n",
       "    }\n",
       "\n",
       "    .dataframe thead th {\n",
       "        text-align: right;\n",
       "    }\n",
       "</style>\n",
       "<table border=\"1\" class=\"dataframe\">\n",
       "  <thead>\n",
       "    <tr style=\"text-align: right;\">\n",
       "      <th></th>\n",
       "      <th>x1</th>\n",
       "      <th>x2</th>\n",
       "      <th>x3</th>\n",
       "      <th>y</th>\n",
       "      <th>lon</th>\n",
       "      <th>lat</th>\n",
       "      <th>demand</th>\n",
       "      <th>fitted</th>\n",
       "    </tr>\n",
       "  </thead>\n",
       "  <tbody>\n",
       "    <tr>\n",
       "      <th>112</th>\n",
       "      <td>0.0</td>\n",
       "      <td>0.0</td>\n",
       "      <td>0.000000</td>\n",
       "      <td>0.001037</td>\n",
       "      <td>127.13</td>\n",
       "      <td>37.03</td>\n",
       "      <td>0.001037</td>\n",
       "      <td>0.0</td>\n",
       "    </tr>\n",
       "    <tr>\n",
       "      <th>113</th>\n",
       "      <td>0.0</td>\n",
       "      <td>0.0</td>\n",
       "      <td>0.000000</td>\n",
       "      <td>0.001044</td>\n",
       "      <td>127.14</td>\n",
       "      <td>37.03</td>\n",
       "      <td>0.001044</td>\n",
       "      <td>0.0</td>\n",
       "    </tr>\n",
       "    <tr>\n",
       "      <th>159</th>\n",
       "      <td>0.0</td>\n",
       "      <td>0.0</td>\n",
       "      <td>5.459500</td>\n",
       "      <td>0.001557</td>\n",
       "      <td>127.10</td>\n",
       "      <td>37.04</td>\n",
       "      <td>0.001557</td>\n",
       "      <td>0.0</td>\n",
       "    </tr>\n",
       "    <tr>\n",
       "      <th>160</th>\n",
       "      <td>0.0</td>\n",
       "      <td>0.0</td>\n",
       "      <td>3.654805</td>\n",
       "      <td>0.002230</td>\n",
       "      <td>127.11</td>\n",
       "      <td>37.04</td>\n",
       "      <td>0.002230</td>\n",
       "      <td>0.0</td>\n",
       "    </tr>\n",
       "    <tr>\n",
       "      <th>161</th>\n",
       "      <td>0.0</td>\n",
       "      <td>0.0</td>\n",
       "      <td>2.780061</td>\n",
       "      <td>0.002834</td>\n",
       "      <td>127.12</td>\n",
       "      <td>37.04</td>\n",
       "      <td>0.002834</td>\n",
       "      <td>0.0</td>\n",
       "    </tr>\n",
       "    <tr>\n",
       "      <th>...</th>\n",
       "      <td>...</td>\n",
       "      <td>...</td>\n",
       "      <td>...</td>\n",
       "      <td>...</td>\n",
       "      <td>...</td>\n",
       "      <td>...</td>\n",
       "      <td>...</td>\n",
       "      <td>...</td>\n",
       "    </tr>\n",
       "    <tr>\n",
       "      <th>2462</th>\n",
       "      <td>0.0</td>\n",
       "      <td>0.0</td>\n",
       "      <td>5.068967</td>\n",
       "      <td>0.031724</td>\n",
       "      <td>127.13</td>\n",
       "      <td>37.50</td>\n",
       "      <td>0.031724</td>\n",
       "      <td>0.0</td>\n",
       "    </tr>\n",
       "    <tr>\n",
       "      <th>2463</th>\n",
       "      <td>0.0</td>\n",
       "      <td>0.0</td>\n",
       "      <td>4.221564</td>\n",
       "      <td>0.019321</td>\n",
       "      <td>127.14</td>\n",
       "      <td>37.50</td>\n",
       "      <td>0.019321</td>\n",
       "      <td>0.0</td>\n",
       "    </tr>\n",
       "    <tr>\n",
       "      <th>2464</th>\n",
       "      <td>0.0</td>\n",
       "      <td>0.0</td>\n",
       "      <td>3.109953</td>\n",
       "      <td>0.010264</td>\n",
       "      <td>127.15</td>\n",
       "      <td>37.50</td>\n",
       "      <td>0.010264</td>\n",
       "      <td>0.0</td>\n",
       "    </tr>\n",
       "    <tr>\n",
       "      <th>2465</th>\n",
       "      <td>0.0</td>\n",
       "      <td>0.0</td>\n",
       "      <td>2.922624</td>\n",
       "      <td>0.004781</td>\n",
       "      <td>127.16</td>\n",
       "      <td>37.50</td>\n",
       "      <td>0.004781</td>\n",
       "      <td>0.0</td>\n",
       "    </tr>\n",
       "    <tr>\n",
       "      <th>2466</th>\n",
       "      <td>0.0</td>\n",
       "      <td>0.0</td>\n",
       "      <td>2.069391</td>\n",
       "      <td>0.001966</td>\n",
       "      <td>127.17</td>\n",
       "      <td>37.50</td>\n",
       "      <td>0.001966</td>\n",
       "      <td>0.0</td>\n",
       "    </tr>\n",
       "  </tbody>\n",
       "</table>\n",
       "<p>1689 rows × 8 columns</p>\n",
       "</div>"
      ],
      "text/plain": [
       "       x1   x2        x3         y     lon    lat    demand  fitted\n",
       "112   0.0  0.0  0.000000  0.001037  127.13  37.03  0.001037     0.0\n",
       "113   0.0  0.0  0.000000  0.001044  127.14  37.03  0.001044     0.0\n",
       "159   0.0  0.0  5.459500  0.001557  127.10  37.04  0.001557     0.0\n",
       "160   0.0  0.0  3.654805  0.002230  127.11  37.04  0.002230     0.0\n",
       "161   0.0  0.0  2.780061  0.002834  127.12  37.04  0.002834     0.0\n",
       "...   ...  ...       ...       ...     ...    ...       ...     ...\n",
       "2462  0.0  0.0  5.068967  0.031724  127.13  37.50  0.031724     0.0\n",
       "2463  0.0  0.0  4.221564  0.019321  127.14  37.50  0.019321     0.0\n",
       "2464  0.0  0.0  3.109953  0.010264  127.15  37.50  0.010264     0.0\n",
       "2465  0.0  0.0  2.922624  0.004781  127.16  37.50  0.004781     0.0\n",
       "2466  0.0  0.0  2.069391  0.001966  127.17  37.50  0.001966     0.0\n",
       "\n",
       "[1689 rows x 8 columns]"
      ]
     },
     "execution_count": 58,
     "metadata": {},
     "output_type": "execute_result"
    }
   ],
   "source": [
    "df"
   ]
  },
  {
   "cell_type": "code",
   "execution_count": 64,
   "id": "8f45a6e0-5b9a-4097-9dfc-9aeb520d2eec",
   "metadata": {},
   "outputs": [],
   "source": [
    "df.to_csv('C:\\\\Users\\\\zzuge\\\\gaussian_predict.csv')"
   ]
  },
  {
   "cell_type": "code",
   "execution_count": 109,
   "id": "5a102f71-5268-4b66-8f96-25a4621db7b9",
   "metadata": {},
   "outputs": [
    {
     "data": {
      "text/html": [
       "<div>\n",
       "<style scoped>\n",
       "    .dataframe tbody tr th:only-of-type {\n",
       "        vertical-align: middle;\n",
       "    }\n",
       "\n",
       "    .dataframe tbody tr th {\n",
       "        vertical-align: top;\n",
       "    }\n",
       "\n",
       "    .dataframe thead th {\n",
       "        text-align: right;\n",
       "    }\n",
       "</style>\n",
       "<table border=\"1\" class=\"dataframe\">\n",
       "  <thead>\n",
       "    <tr style=\"text-align: right;\">\n",
       "      <th></th>\n",
       "      <th>x1</th>\n",
       "      <th>x2</th>\n",
       "      <th>x3</th>\n",
       "      <th>y</th>\n",
       "      <th>demand</th>\n",
       "      <th>fitted</th>\n",
       "    </tr>\n",
       "  </thead>\n",
       "  <tbody>\n",
       "    <tr>\n",
       "      <th>112</th>\n",
       "      <td>0.0</td>\n",
       "      <td>0.0</td>\n",
       "      <td>0.000000</td>\n",
       "      <td>0.001037</td>\n",
       "      <td>0.001037</td>\n",
       "      <td>0.0</td>\n",
       "    </tr>\n",
       "    <tr>\n",
       "      <th>113</th>\n",
       "      <td>0.0</td>\n",
       "      <td>0.0</td>\n",
       "      <td>0.000000</td>\n",
       "      <td>0.001044</td>\n",
       "      <td>0.001044</td>\n",
       "      <td>0.0</td>\n",
       "    </tr>\n",
       "    <tr>\n",
       "      <th>159</th>\n",
       "      <td>0.0</td>\n",
       "      <td>0.0</td>\n",
       "      <td>5.459500</td>\n",
       "      <td>0.001557</td>\n",
       "      <td>0.001557</td>\n",
       "      <td>0.0</td>\n",
       "    </tr>\n",
       "    <tr>\n",
       "      <th>160</th>\n",
       "      <td>0.0</td>\n",
       "      <td>0.0</td>\n",
       "      <td>3.654805</td>\n",
       "      <td>0.002230</td>\n",
       "      <td>0.002230</td>\n",
       "      <td>0.0</td>\n",
       "    </tr>\n",
       "    <tr>\n",
       "      <th>161</th>\n",
       "      <td>0.0</td>\n",
       "      <td>0.0</td>\n",
       "      <td>2.780061</td>\n",
       "      <td>0.002834</td>\n",
       "      <td>0.002834</td>\n",
       "      <td>0.0</td>\n",
       "    </tr>\n",
       "    <tr>\n",
       "      <th>...</th>\n",
       "      <td>...</td>\n",
       "      <td>...</td>\n",
       "      <td>...</td>\n",
       "      <td>...</td>\n",
       "      <td>...</td>\n",
       "      <td>...</td>\n",
       "    </tr>\n",
       "    <tr>\n",
       "      <th>2462</th>\n",
       "      <td>0.0</td>\n",
       "      <td>0.0</td>\n",
       "      <td>5.068967</td>\n",
       "      <td>0.031724</td>\n",
       "      <td>0.031724</td>\n",
       "      <td>0.0</td>\n",
       "    </tr>\n",
       "    <tr>\n",
       "      <th>2463</th>\n",
       "      <td>0.0</td>\n",
       "      <td>0.0</td>\n",
       "      <td>4.221564</td>\n",
       "      <td>0.019321</td>\n",
       "      <td>0.019321</td>\n",
       "      <td>0.0</td>\n",
       "    </tr>\n",
       "    <tr>\n",
       "      <th>2464</th>\n",
       "      <td>0.0</td>\n",
       "      <td>0.0</td>\n",
       "      <td>3.109953</td>\n",
       "      <td>0.010264</td>\n",
       "      <td>0.010264</td>\n",
       "      <td>0.0</td>\n",
       "    </tr>\n",
       "    <tr>\n",
       "      <th>2465</th>\n",
       "      <td>0.0</td>\n",
       "      <td>0.0</td>\n",
       "      <td>2.922624</td>\n",
       "      <td>0.004781</td>\n",
       "      <td>0.004781</td>\n",
       "      <td>0.0</td>\n",
       "    </tr>\n",
       "    <tr>\n",
       "      <th>2466</th>\n",
       "      <td>0.0</td>\n",
       "      <td>0.0</td>\n",
       "      <td>2.069391</td>\n",
       "      <td>0.001966</td>\n",
       "      <td>0.001966</td>\n",
       "      <td>0.0</td>\n",
       "    </tr>\n",
       "  </tbody>\n",
       "</table>\n",
       "<p>1689 rows × 6 columns</p>\n",
       "</div>"
      ],
      "text/plain": [
       "       x1   x2        x3         y    demand  fitted\n",
       "112   0.0  0.0  0.000000  0.001037  0.001037     0.0\n",
       "113   0.0  0.0  0.000000  0.001044  0.001044     0.0\n",
       "159   0.0  0.0  5.459500  0.001557  0.001557     0.0\n",
       "160   0.0  0.0  3.654805  0.002230  0.002230     0.0\n",
       "161   0.0  0.0  2.780061  0.002834  0.002834     0.0\n",
       "...   ...  ...       ...       ...       ...     ...\n",
       "2462  0.0  0.0  5.068967  0.031724  0.031724     0.0\n",
       "2463  0.0  0.0  4.221564  0.019321  0.019321     0.0\n",
       "2464  0.0  0.0  3.109953  0.010264  0.010264     0.0\n",
       "2465  0.0  0.0  2.922624  0.004781  0.004781     0.0\n",
       "2466  0.0  0.0  2.069391  0.001966  0.001966     0.0\n",
       "\n",
       "[1689 rows x 6 columns]"
      ]
     },
     "execution_count": 109,
     "metadata": {},
     "output_type": "execute_result"
    }
   ],
   "source": [
    "df"
   ]
  },
  {
   "cell_type": "code",
   "execution_count": 110,
   "id": "5087d094-4ba1-45ba-94fe-ebc908ec534f",
   "metadata": {},
   "outputs": [
    {
     "name": "stderr",
     "output_type": "stream",
     "text": [
      "C:\\Users\\zzuge\\AppData\\Local\\Temp\\ipykernel_14164\\3264115712.py:2: SettingWithCopyWarning: \n",
      "A value is trying to be set on a copy of a slice from a DataFrame.\n",
      "Try using .loc[row_indexer,col_indexer] = value instead\n",
      "\n",
      "See the caveats in the documentation: https://pandas.pydata.org/pandas-docs/stable/user_guide/indexing.html#returning-a-view-versus-a-copy\n",
      "  df['demand']=-(df['demand'])\n",
      "C:\\Users\\zzuge\\AppData\\Local\\Temp\\ipykernel_14164\\3264115712.py:3: SettingWithCopyWarning: \n",
      "A value is trying to be set on a copy of a slice from a DataFrame.\n",
      "Try using .loc[row_indexer,col_indexer] = value instead\n",
      "\n",
      "See the caveats in the documentation: https://pandas.pydata.org/pandas-docs/stable/user_guide/indexing.html#returning-a-view-versus-a-copy\n",
      "  df['demand']=round(df['demand'])\n"
     ]
    }
   ],
   "source": [
    "df=df[df['demand'] <0]\n",
    "df['demand']=-(df['demand'])\n",
    "df['demand']=round(df['demand'])\n",
    "df=df[df['demand']>0]"
   ]
  },
  {
   "cell_type": "code",
   "execution_count": 113,
   "id": "00b90904-8a50-4987-ad26-638722644335",
   "metadata": {},
   "outputs": [
    {
     "data": {
      "text/html": [
       "<div>\n",
       "<style scoped>\n",
       "    .dataframe tbody tr th:only-of-type {\n",
       "        vertical-align: middle;\n",
       "    }\n",
       "\n",
       "    .dataframe tbody tr th {\n",
       "        vertical-align: top;\n",
       "    }\n",
       "\n",
       "    .dataframe thead th {\n",
       "        text-align: right;\n",
       "    }\n",
       "</style>\n",
       "<table border=\"1\" class=\"dataframe\">\n",
       "  <thead>\n",
       "    <tr style=\"text-align: right;\">\n",
       "      <th></th>\n",
       "      <th>y</th>\n",
       "      <th>x1</th>\n",
       "      <th>fitted</th>\n",
       "    </tr>\n",
       "  </thead>\n",
       "  <tbody>\n",
       "    <tr>\n",
       "      <th>1772</th>\n",
       "      <td>0.602029</td>\n",
       "      <td>5.328216</td>\n",
       "      <td>6.930586</td>\n",
       "    </tr>\n",
       "    <tr>\n",
       "      <th>1773</th>\n",
       "      <td>0.728879</td>\n",
       "      <td>1.401183</td>\n",
       "      <td>1.822565</td>\n",
       "    </tr>\n",
       "    <tr>\n",
       "      <th>1774</th>\n",
       "      <td>0.790159</td>\n",
       "      <td>2.489065</td>\n",
       "      <td>3.237608</td>\n",
       "    </tr>\n",
       "    <tr>\n",
       "      <th>1802</th>\n",
       "      <td>1.206453</td>\n",
       "      <td>6.542847</td>\n",
       "      <td>8.510495</td>\n",
       "    </tr>\n",
       "    <tr>\n",
       "      <th>1803</th>\n",
       "      <td>2.032709</td>\n",
       "      <td>4.158414</td>\n",
       "      <td>5.408986</td>\n",
       "    </tr>\n",
       "    <tr>\n",
       "      <th>1804</th>\n",
       "      <td>3.119789</td>\n",
       "      <td>3.624074</td>\n",
       "      <td>4.713952</td>\n",
       "    </tr>\n",
       "  </tbody>\n",
       "</table>\n",
       "</div>"
      ],
      "text/plain": [
       "             y        x1    fitted\n",
       "1772  0.602029  5.328216  6.930586\n",
       "1773  0.728879  1.401183  1.822565\n",
       "1774  0.790159  2.489065  3.237608\n",
       "1802  1.206453  6.542847  8.510495\n",
       "1803  2.032709  4.158414  5.408986\n",
       "1804  3.119789  3.624074  4.713952"
      ]
     },
     "execution_count": 113,
     "metadata": {},
     "output_type": "execute_result"
    }
   ],
   "source": [
    "df[['y','x1','fitted']].iloc[364:,:]"
   ]
  },
  {
   "cell_type": "code",
   "execution_count": 193,
   "id": "4f402437-97a9-49ba-bf1c-ad024353eedd",
   "metadata": {},
   "outputs": [],
   "source": [
    "df[['y','x1','demand','lon','lat',]].to_csv('C:\\\\Users\\\\zzuge\\\\가우시안 예측값.csv')"
   ]
  },
  {
   "cell_type": "code",
   "execution_count": 41,
   "id": "4180b7b2-5739-4f17-a4af-cb6220d83bce",
   "metadata": {},
   "outputs": [],
   "source": [
    "df['index']=np.arange(0,len(df))"
   ]
  },
  {
   "cell_type": "code",
   "execution_count": 42,
   "id": "36855043-38d1-4b64-af98-0e165a4a9dff",
   "metadata": {},
   "outputs": [],
   "source": [
    "df=df.set_index('index')"
   ]
  },
  {
   "cell_type": "code",
   "execution_count": 43,
   "id": "70d29e15-7b2b-492e-8252-3e11e28b5e59",
   "metadata": {},
   "outputs": [],
   "source": [
    "colors = [\"#207245\"]\n",
    "sns.set_palette(sns.color_palette(colors))"
   ]
  },
  {
   "cell_type": "code",
   "execution_count": 44,
   "id": "866fc621-409f-4f3e-8eb8-31a4528a76be",
   "metadata": {},
   "outputs": [
    {
     "data": {
      "text/plain": [
       "[<matplotlib.lines.Line2D at 0x26cf09b7dc0>]"
      ]
     },
     "execution_count": 44,
     "metadata": {},
     "output_type": "execute_result"
    },
    {
     "data": {
      "image/png": "[encoded data removed]",
      "text/plain": [
       "<Figure size 432x288 with 1 Axes>"
      ]
     },
     "metadata": {
      "needs_background": "light"
     },
     "output_type": "display_data"
    }
   ],
   "source": [
    "plt.plot(df['y'])"
   ]
  },
  {
   "cell_type": "code",
   "execution_count": 59,
   "id": "a2a0cba6-985e-465d-8fcb-9ee6542f468c",
   "metadata": {},
   "outputs": [
    {
     "data": {
      "image/png": "[encoded data removed]",
      "text/plain": [
       "<Figure size 1200x800 with 1 Axes>"
      ]
     },
     "metadata": {
      "needs_background": "light"
     },
     "output_type": "display_data"
    }
   ],
   "source": [
    "plt.figure(dpi =200) \n",
    "plt.plot(df['demand'],color = \"#207245\")\n",
    "plt.xlim(0,2500)\n",
    "plt.savefig( 'C:\\\\Users\\\\zzuge\\\\잔차.png' )"
   ]
  },
  {
   "cell_type": "code",
   "execution_count": 46,
   "id": "d639f5f4-5902-4bd0-b36d-57cfe8a2e8de",
   "metadata": {},
   "outputs": [
    {
     "data": {
      "text/plain": [
       "[<matplotlib.lines.Line2D at 0x26cf0a7ce80>]"
      ]
     },
     "execution_count": 46,
     "metadata": {},
     "output_type": "execute_result"
    },
    {
     "data": {
      "image/png": "[encoded data removed]",
      "text/plain": [
       "<Figure size 432x288 with 1 Axes>"
      ]
     },
     "metadata": {
      "needs_background": "light"
     },
     "output_type": "display_data"
    }
   ],
   "source": [
    "plt.plot(df['fitted'])"
   ]
  },
  {
   "cell_type": "code",
   "execution_count": 18,
   "id": "eb88172f-0129-470e-a90a-4d29ec8271c4",
   "metadata": {},
   "outputs": [
    {
     "data": {
      "text/html": [
       "<div>\n",
       "<style scoped>\n",
       "    .dataframe tbody tr th:only-of-type {\n",
       "        vertical-align: middle;\n",
       "    }\n",
       "\n",
       "    .dataframe tbody tr th {\n",
       "        vertical-align: top;\n",
       "    }\n",
       "\n",
       "    .dataframe thead th {\n",
       "        text-align: right;\n",
       "    }\n",
       "</style>\n",
       "<table border=\"1\" class=\"dataframe\">\n",
       "  <thead>\n",
       "    <tr style=\"text-align: right;\">\n",
       "      <th></th>\n",
       "      <th>x1</th>\n",
       "      <th>x2</th>\n",
       "      <th>x3</th>\n",
       "      <th>y</th>\n",
       "      <th>lon</th>\n",
       "      <th>lat</th>\n",
       "      <th>residual</th>\n",
       "      <th>fitted</th>\n",
       "    </tr>\n",
       "  </thead>\n",
       "  <tbody>\n",
       "    <tr>\n",
       "      <th>112</th>\n",
       "      <td>0.0</td>\n",
       "      <td>0.0</td>\n",
       "      <td>0.000000</td>\n",
       "      <td>0.001037</td>\n",
       "      <td>127.13</td>\n",
       "      <td>37.03</td>\n",
       "      <td>0.001037</td>\n",
       "      <td>0.0</td>\n",
       "    </tr>\n",
       "    <tr>\n",
       "      <th>113</th>\n",
       "      <td>0.0</td>\n",
       "      <td>0.0</td>\n",
       "      <td>0.000000</td>\n",
       "      <td>0.001044</td>\n",
       "      <td>127.14</td>\n",
       "      <td>37.03</td>\n",
       "      <td>0.001044</td>\n",
       "      <td>0.0</td>\n",
       "    </tr>\n",
       "    <tr>\n",
       "      <th>159</th>\n",
       "      <td>0.0</td>\n",
       "      <td>0.0</td>\n",
       "      <td>5.459500</td>\n",
       "      <td>0.001557</td>\n",
       "      <td>127.10</td>\n",
       "      <td>37.04</td>\n",
       "      <td>0.001557</td>\n",
       "      <td>0.0</td>\n",
       "    </tr>\n",
       "    <tr>\n",
       "      <th>160</th>\n",
       "      <td>0.0</td>\n",
       "      <td>0.0</td>\n",
       "      <td>3.654805</td>\n",
       "      <td>0.002230</td>\n",
       "      <td>127.11</td>\n",
       "      <td>37.04</td>\n",
       "      <td>0.002230</td>\n",
       "      <td>0.0</td>\n",
       "    </tr>\n",
       "    <tr>\n",
       "      <th>161</th>\n",
       "      <td>0.0</td>\n",
       "      <td>0.0</td>\n",
       "      <td>2.780061</td>\n",
       "      <td>0.002834</td>\n",
       "      <td>127.12</td>\n",
       "      <td>37.04</td>\n",
       "      <td>0.002834</td>\n",
       "      <td>0.0</td>\n",
       "    </tr>\n",
       "    <tr>\n",
       "      <th>...</th>\n",
       "      <td>...</td>\n",
       "      <td>...</td>\n",
       "      <td>...</td>\n",
       "      <td>...</td>\n",
       "      <td>...</td>\n",
       "      <td>...</td>\n",
       "      <td>...</td>\n",
       "      <td>...</td>\n",
       "    </tr>\n",
       "    <tr>\n",
       "      <th>2462</th>\n",
       "      <td>0.0</td>\n",
       "      <td>0.0</td>\n",
       "      <td>5.068967</td>\n",
       "      <td>0.031724</td>\n",
       "      <td>127.13</td>\n",
       "      <td>37.50</td>\n",
       "      <td>0.031724</td>\n",
       "      <td>0.0</td>\n",
       "    </tr>\n",
       "    <tr>\n",
       "      <th>2463</th>\n",
       "      <td>0.0</td>\n",
       "      <td>0.0</td>\n",
       "      <td>4.221564</td>\n",
       "      <td>0.019321</td>\n",
       "      <td>127.14</td>\n",
       "      <td>37.50</td>\n",
       "      <td>0.019321</td>\n",
       "      <td>0.0</td>\n",
       "    </tr>\n",
       "    <tr>\n",
       "      <th>2464</th>\n",
       "      <td>0.0</td>\n",
       "      <td>0.0</td>\n",
       "      <td>3.109953</td>\n",
       "      <td>0.010264</td>\n",
       "      <td>127.15</td>\n",
       "      <td>37.50</td>\n",
       "      <td>0.010264</td>\n",
       "      <td>0.0</td>\n",
       "    </tr>\n",
       "    <tr>\n",
       "      <th>2465</th>\n",
       "      <td>0.0</td>\n",
       "      <td>0.0</td>\n",
       "      <td>2.922624</td>\n",
       "      <td>0.004781</td>\n",
       "      <td>127.16</td>\n",
       "      <td>37.50</td>\n",
       "      <td>0.004781</td>\n",
       "      <td>0.0</td>\n",
       "    </tr>\n",
       "    <tr>\n",
       "      <th>2466</th>\n",
       "      <td>0.0</td>\n",
       "      <td>0.0</td>\n",
       "      <td>2.069391</td>\n",
       "      <td>0.001966</td>\n",
       "      <td>127.17</td>\n",
       "      <td>37.50</td>\n",
       "      <td>0.001966</td>\n",
       "      <td>0.0</td>\n",
       "    </tr>\n",
       "  </tbody>\n",
       "</table>\n",
       "<p>1689 rows × 8 columns</p>\n",
       "</div>"
      ],
      "text/plain": [
       "       x1   x2        x3         y     lon    lat  residual  fitted\n",
       "112   0.0  0.0  0.000000  0.001037  127.13  37.03  0.001037     0.0\n",
       "113   0.0  0.0  0.000000  0.001044  127.14  37.03  0.001044     0.0\n",
       "159   0.0  0.0  5.459500  0.001557  127.10  37.04  0.001557     0.0\n",
       "160   0.0  0.0  3.654805  0.002230  127.11  37.04  0.002230     0.0\n",
       "161   0.0  0.0  2.780061  0.002834  127.12  37.04  0.002834     0.0\n",
       "...   ...  ...       ...       ...     ...    ...       ...     ...\n",
       "2462  0.0  0.0  5.068967  0.031724  127.13  37.50  0.031724     0.0\n",
       "2463  0.0  0.0  4.221564  0.019321  127.14  37.50  0.019321     0.0\n",
       "2464  0.0  0.0  3.109953  0.010264  127.15  37.50  0.010264     0.0\n",
       "2465  0.0  0.0  2.922624  0.004781  127.16  37.50  0.004781     0.0\n",
       "2466  0.0  0.0  2.069391  0.001966  127.17  37.50  0.001966     0.0\n",
       "\n",
       "[1689 rows x 8 columns]"
      ]
     },
     "execution_count": 18,
     "metadata": {},
     "output_type": "execute_result"
    }
   ],
   "source": [
    "df"
   ]
  },
  {
   "cell_type": "code",
   "execution_count": 20,
   "id": "82ed4f55-65df-4ff6-941c-121ca80bd1b0",
   "metadata": {},
   "outputs": [],
   "source": [
    "df.to_csv('C:\\\\Users\\\\zzuge\\\\gaussian_predict')"
   ]
  },
  {
   "cell_type": "code",
   "execution_count": 170,
   "id": "cb107836-30c7-43df-97cf-82e1efad8ab3",
   "metadata": {},
   "outputs": [],
   "source": [
    "df=pd.read_csv('C:\\\\Users\\\\zzuge\\\\공시지가 예측.csv')"
   ]
  },
  {
   "cell_type": "code",
   "execution_count": 171,
   "id": "b1b9a836-c799-4261-bbba-8fa98582cb2f",
   "metadata": {},
   "outputs": [
    {
     "data": {
      "text/html": [
       "<div>\n",
       "<style scoped>\n",
       "    .dataframe tbody tr th:only-of-type {\n",
       "        vertical-align: middle;\n",
       "    }\n",
       "\n",
       "    .dataframe tbody tr th {\n",
       "        vertical-align: top;\n",
       "    }\n",
       "\n",
       "    .dataframe thead th {\n",
       "        text-align: right;\n",
       "    }\n",
       "</style>\n",
       "<table border=\"1\" class=\"dataframe\">\n",
       "  <thead>\n",
       "    <tr style=\"text-align: right;\">\n",
       "      <th></th>\n",
       "      <th>Unnamed: 0</th>\n",
       "      <th>X</th>\n",
       "      <th>y</th>\n",
       "      <th>x1</th>\n",
       "      <th>demand</th>\n",
       "      <th>lon</th>\n",
       "      <th>lat</th>\n",
       "      <th>pred.y</th>\n",
       "    </tr>\n",
       "  </thead>\n",
       "  <tbody>\n",
       "    <tr>\n",
       "      <th>0</th>\n",
       "      <td>1</td>\n",
       "      <td>112</td>\n",
       "      <td>0.001037</td>\n",
       "      <td>0.0</td>\n",
       "      <td>0.001037</td>\n",
       "      <td>127.13</td>\n",
       "      <td>37.03</td>\n",
       "      <td>4.847306</td>\n",
       "    </tr>\n",
       "    <tr>\n",
       "      <th>1</th>\n",
       "      <td>2</td>\n",
       "      <td>113</td>\n",
       "      <td>0.001044</td>\n",
       "      <td>0.0</td>\n",
       "      <td>0.001044</td>\n",
       "      <td>127.14</td>\n",
       "      <td>37.03</td>\n",
       "      <td>4.845516</td>\n",
       "    </tr>\n",
       "    <tr>\n",
       "      <th>2</th>\n",
       "      <td>3</td>\n",
       "      <td>159</td>\n",
       "      <td>0.001557</td>\n",
       "      <td>0.0</td>\n",
       "      <td>0.001557</td>\n",
       "      <td>127.10</td>\n",
       "      <td>37.04</td>\n",
       "      <td>4.865812</td>\n",
       "    </tr>\n",
       "    <tr>\n",
       "      <th>3</th>\n",
       "      <td>4</td>\n",
       "      <td>160</td>\n",
       "      <td>0.002230</td>\n",
       "      <td>0.0</td>\n",
       "      <td>0.002230</td>\n",
       "      <td>127.11</td>\n",
       "      <td>37.04</td>\n",
       "      <td>4.854352</td>\n",
       "    </tr>\n",
       "    <tr>\n",
       "      <th>4</th>\n",
       "      <td>5</td>\n",
       "      <td>161</td>\n",
       "      <td>0.002834</td>\n",
       "      <td>0.0</td>\n",
       "      <td>0.002834</td>\n",
       "      <td>127.12</td>\n",
       "      <td>37.04</td>\n",
       "      <td>4.846560</td>\n",
       "    </tr>\n",
       "    <tr>\n",
       "      <th>...</th>\n",
       "      <td>...</td>\n",
       "      <td>...</td>\n",
       "      <td>...</td>\n",
       "      <td>...</td>\n",
       "      <td>...</td>\n",
       "      <td>...</td>\n",
       "      <td>...</td>\n",
       "      <td>...</td>\n",
       "    </tr>\n",
       "    <tr>\n",
       "      <th>1684</th>\n",
       "      <td>1685</td>\n",
       "      <td>2462</td>\n",
       "      <td>0.031724</td>\n",
       "      <td>0.0</td>\n",
       "      <td>0.031724</td>\n",
       "      <td>127.13</td>\n",
       "      <td>37.50</td>\n",
       "      <td>5.601961</td>\n",
       "    </tr>\n",
       "    <tr>\n",
       "      <th>1685</th>\n",
       "      <td>1686</td>\n",
       "      <td>2463</td>\n",
       "      <td>0.019321</td>\n",
       "      <td>0.0</td>\n",
       "      <td>0.019321</td>\n",
       "      <td>127.14</td>\n",
       "      <td>37.50</td>\n",
       "      <td>5.592442</td>\n",
       "    </tr>\n",
       "    <tr>\n",
       "      <th>1686</th>\n",
       "      <td>1687</td>\n",
       "      <td>2464</td>\n",
       "      <td>0.010264</td>\n",
       "      <td>0.0</td>\n",
       "      <td>0.010264</td>\n",
       "      <td>127.15</td>\n",
       "      <td>37.50</td>\n",
       "      <td>5.582171</td>\n",
       "    </tr>\n",
       "    <tr>\n",
       "      <th>1687</th>\n",
       "      <td>1688</td>\n",
       "      <td>2465</td>\n",
       "      <td>0.004781</td>\n",
       "      <td>0.0</td>\n",
       "      <td>0.004781</td>\n",
       "      <td>127.16</td>\n",
       "      <td>37.50</td>\n",
       "      <td>5.569836</td>\n",
       "    </tr>\n",
       "    <tr>\n",
       "      <th>1688</th>\n",
       "      <td>1689</td>\n",
       "      <td>2466</td>\n",
       "      <td>0.001966</td>\n",
       "      <td>0.0</td>\n",
       "      <td>0.001966</td>\n",
       "      <td>127.17</td>\n",
       "      <td>37.50</td>\n",
       "      <td>5.557925</td>\n",
       "    </tr>\n",
       "  </tbody>\n",
       "</table>\n",
       "<p>1689 rows × 8 columns</p>\n",
       "</div>"
      ],
      "text/plain": [
       "      Unnamed: 0     X         y   x1    demand     lon    lat    pred.y\n",
       "0              1   112  0.001037  0.0  0.001037  127.13  37.03  4.847306\n",
       "1              2   113  0.001044  0.0  0.001044  127.14  37.03  4.845516\n",
       "2              3   159  0.001557  0.0  0.001557  127.10  37.04  4.865812\n",
       "3              4   160  0.002230  0.0  0.002230  127.11  37.04  4.854352\n",
       "4              5   161  0.002834  0.0  0.002834  127.12  37.04  4.846560\n",
       "...          ...   ...       ...  ...       ...     ...    ...       ...\n",
       "1684        1685  2462  0.031724  0.0  0.031724  127.13  37.50  5.601961\n",
       "1685        1686  2463  0.019321  0.0  0.019321  127.14  37.50  5.592442\n",
       "1686        1687  2464  0.010264  0.0  0.010264  127.15  37.50  5.582171\n",
       "1687        1688  2465  0.004781  0.0  0.004781  127.16  37.50  5.569836\n",
       "1688        1689  2466  0.001966  0.0  0.001966  127.17  37.50  5.557925\n",
       "\n",
       "[1689 rows x 8 columns]"
      ]
     },
     "execution_count": 171,
     "metadata": {},
     "output_type": "execute_result"
    }
   ],
   "source": [
    "df"
   ]
  },
  {
   "cell_type": "code",
   "execution_count": 42,
   "id": "7453990c-b372-426d-bb47-656a0942ab08",
   "metadata": {},
   "outputs": [],
   "source": [
    "# df=df[df['demand'] <0]\n",
    "df['demand']=-(df['demand'])\n",
    "df['demand']=round(df['demand'])\n",
    "df[df['demand']<0]=0"
   ]
  },
  {
   "cell_type": "code",
   "execution_count": 23,
   "id": "bb4cfa4f-7003-4244-bc27-66fe0e537daa",
   "metadata": {},
   "outputs": [
    {
     "data": {
      "text/html": [
       "<div>\n",
       "<style scoped>\n",
       "    .dataframe tbody tr th:only-of-type {\n",
       "        vertical-align: middle;\n",
       "    }\n",
       "\n",
       "    .dataframe tbody tr th {\n",
       "        vertical-align: top;\n",
       "    }\n",
       "\n",
       "    .dataframe thead th {\n",
       "        text-align: right;\n",
       "    }\n",
       "</style>\n",
       "<table border=\"1\" class=\"dataframe\">\n",
       "  <thead>\n",
       "    <tr style=\"text-align: right;\">\n",
       "      <th></th>\n",
       "      <th>x1</th>\n",
       "      <th>x2</th>\n",
       "      <th>x3</th>\n",
       "      <th>y</th>\n",
       "      <th>lon</th>\n",
       "      <th>lat</th>\n",
       "      <th>demand</th>\n",
       "      <th>fitted</th>\n",
       "    </tr>\n",
       "  </thead>\n",
       "  <tbody>\n",
       "    <tr>\n",
       "      <th>112</th>\n",
       "      <td>0.0</td>\n",
       "      <td>0.0</td>\n",
       "      <td>0.000000</td>\n",
       "      <td>0.001037</td>\n",
       "      <td>127.13</td>\n",
       "      <td>37.03</td>\n",
       "      <td>-0.0</td>\n",
       "      <td>0.0</td>\n",
       "    </tr>\n",
       "    <tr>\n",
       "      <th>113</th>\n",
       "      <td>0.0</td>\n",
       "      <td>0.0</td>\n",
       "      <td>0.000000</td>\n",
       "      <td>0.001044</td>\n",
       "      <td>127.14</td>\n",
       "      <td>37.03</td>\n",
       "      <td>-0.0</td>\n",
       "      <td>0.0</td>\n",
       "    </tr>\n",
       "    <tr>\n",
       "      <th>159</th>\n",
       "      <td>0.0</td>\n",
       "      <td>0.0</td>\n",
       "      <td>5.459500</td>\n",
       "      <td>0.001557</td>\n",
       "      <td>127.10</td>\n",
       "      <td>37.04</td>\n",
       "      <td>-0.0</td>\n",
       "      <td>0.0</td>\n",
       "    </tr>\n",
       "    <tr>\n",
       "      <th>160</th>\n",
       "      <td>0.0</td>\n",
       "      <td>0.0</td>\n",
       "      <td>3.654805</td>\n",
       "      <td>0.002230</td>\n",
       "      <td>127.11</td>\n",
       "      <td>37.04</td>\n",
       "      <td>-0.0</td>\n",
       "      <td>0.0</td>\n",
       "    </tr>\n",
       "    <tr>\n",
       "      <th>161</th>\n",
       "      <td>0.0</td>\n",
       "      <td>0.0</td>\n",
       "      <td>2.780061</td>\n",
       "      <td>0.002834</td>\n",
       "      <td>127.12</td>\n",
       "      <td>37.04</td>\n",
       "      <td>-0.0</td>\n",
       "      <td>0.0</td>\n",
       "    </tr>\n",
       "    <tr>\n",
       "      <th>...</th>\n",
       "      <td>...</td>\n",
       "      <td>...</td>\n",
       "      <td>...</td>\n",
       "      <td>...</td>\n",
       "      <td>...</td>\n",
       "      <td>...</td>\n",
       "      <td>...</td>\n",
       "      <td>...</td>\n",
       "    </tr>\n",
       "    <tr>\n",
       "      <th>2462</th>\n",
       "      <td>0.0</td>\n",
       "      <td>0.0</td>\n",
       "      <td>5.068967</td>\n",
       "      <td>0.031724</td>\n",
       "      <td>127.13</td>\n",
       "      <td>37.50</td>\n",
       "      <td>-0.0</td>\n",
       "      <td>0.0</td>\n",
       "    </tr>\n",
       "    <tr>\n",
       "      <th>2463</th>\n",
       "      <td>0.0</td>\n",
       "      <td>0.0</td>\n",
       "      <td>4.221564</td>\n",
       "      <td>0.019321</td>\n",
       "      <td>127.14</td>\n",
       "      <td>37.50</td>\n",
       "      <td>-0.0</td>\n",
       "      <td>0.0</td>\n",
       "    </tr>\n",
       "    <tr>\n",
       "      <th>2464</th>\n",
       "      <td>0.0</td>\n",
       "      <td>0.0</td>\n",
       "      <td>3.109953</td>\n",
       "      <td>0.010264</td>\n",
       "      <td>127.15</td>\n",
       "      <td>37.50</td>\n",
       "      <td>-0.0</td>\n",
       "      <td>0.0</td>\n",
       "    </tr>\n",
       "    <tr>\n",
       "      <th>2465</th>\n",
       "      <td>0.0</td>\n",
       "      <td>0.0</td>\n",
       "      <td>2.922624</td>\n",
       "      <td>0.004781</td>\n",
       "      <td>127.16</td>\n",
       "      <td>37.50</td>\n",
       "      <td>-0.0</td>\n",
       "      <td>0.0</td>\n",
       "    </tr>\n",
       "    <tr>\n",
       "      <th>2466</th>\n",
       "      <td>0.0</td>\n",
       "      <td>0.0</td>\n",
       "      <td>2.069391</td>\n",
       "      <td>0.001966</td>\n",
       "      <td>127.17</td>\n",
       "      <td>37.50</td>\n",
       "      <td>-0.0</td>\n",
       "      <td>0.0</td>\n",
       "    </tr>\n",
       "  </tbody>\n",
       "</table>\n",
       "<p>1689 rows × 8 columns</p>\n",
       "</div>"
      ],
      "text/plain": [
       "       x1   x2        x3         y     lon    lat  demand  fitted\n",
       "112   0.0  0.0  0.000000  0.001037  127.13  37.03    -0.0     0.0\n",
       "113   0.0  0.0  0.000000  0.001044  127.14  37.03    -0.0     0.0\n",
       "159   0.0  0.0  5.459500  0.001557  127.10  37.04    -0.0     0.0\n",
       "160   0.0  0.0  3.654805  0.002230  127.11  37.04    -0.0     0.0\n",
       "161   0.0  0.0  2.780061  0.002834  127.12  37.04    -0.0     0.0\n",
       "...   ...  ...       ...       ...     ...    ...     ...     ...\n",
       "2462  0.0  0.0  5.068967  0.031724  127.13  37.50    -0.0     0.0\n",
       "2463  0.0  0.0  4.221564  0.019321  127.14  37.50    -0.0     0.0\n",
       "2464  0.0  0.0  3.109953  0.010264  127.15  37.50    -0.0     0.0\n",
       "2465  0.0  0.0  2.922624  0.004781  127.16  37.50    -0.0     0.0\n",
       "2466  0.0  0.0  2.069391  0.001966  127.17  37.50    -0.0     0.0\n",
       "\n",
       "[1689 rows x 8 columns]"
      ]
     },
     "execution_count": 23,
     "metadata": {},
     "output_type": "execute_result"
    }
   ],
   "source": [
    "df"
   ]
  },
  {
   "cell_type": "code",
   "execution_count": 45,
   "id": "e735fa6f-1bca-434b-9571-c733c328e53d",
   "metadata": {},
   "outputs": [],
   "source": [
    "df['pred.y']=10**df['pred.y']"
   ]
  },
  {
   "cell_type": "code",
   "execution_count": 43,
   "id": "92398109-53c4-4fb6-9176-5b5458bcb1ca",
   "metadata": {},
   "outputs": [
    {
     "data": {
      "image/png": "[encoded data removed]",
      "text/plain": [
       "<Figure size 1200x800 with 1 Axes>"
      ]
     },
     "metadata": {
      "needs_background": "light"
     },
     "output_type": "display_data"
    }
   ],
   "source": [
    "plt.figure(dpi =200 ) \n",
    "plt.plot(df['demand'],color = \"#207245\")\n",
    "plt.xlim(0,2500)\n",
    "plt.savefig( 'C:\\\\Users\\\\zzuge\\\\Relu.png' )"
   ]
  },
  {
   "cell_type": "code",
   "execution_count": 17,
   "id": "10a503a4-a47a-49c1-86d4-f0bb2000c741",
   "metadata": {},
   "outputs": [
    {
     "data": {
      "text/html": [
       "<div>\n",
       "<style scoped>\n",
       "    .dataframe tbody tr th:only-of-type {\n",
       "        vertical-align: middle;\n",
       "    }\n",
       "\n",
       "    .dataframe tbody tr th {\n",
       "        vertical-align: top;\n",
       "    }\n",
       "\n",
       "    .dataframe thead th {\n",
       "        text-align: right;\n",
       "    }\n",
       "</style>\n",
       "<table border=\"1\" class=\"dataframe\">\n",
       "  <thead>\n",
       "    <tr style=\"text-align: right;\">\n",
       "      <th></th>\n",
       "      <th>x1</th>\n",
       "      <th>x2</th>\n",
       "      <th>x3</th>\n",
       "      <th>y</th>\n",
       "      <th>lon</th>\n",
       "      <th>lat</th>\n",
       "      <th>residual</th>\n",
       "      <th>fitted</th>\n",
       "    </tr>\n",
       "  </thead>\n",
       "  <tbody>\n",
       "    <tr>\n",
       "      <th>112</th>\n",
       "      <td>0.0</td>\n",
       "      <td>0.0</td>\n",
       "      <td>0.000000</td>\n",
       "      <td>0.001037</td>\n",
       "      <td>127.13</td>\n",
       "      <td>37.03</td>\n",
       "      <td>0.001037</td>\n",
       "      <td>0.0</td>\n",
       "    </tr>\n",
       "    <tr>\n",
       "      <th>113</th>\n",
       "      <td>0.0</td>\n",
       "      <td>0.0</td>\n",
       "      <td>0.000000</td>\n",
       "      <td>0.001044</td>\n",
       "      <td>127.14</td>\n",
       "      <td>37.03</td>\n",
       "      <td>0.001044</td>\n",
       "      <td>0.0</td>\n",
       "    </tr>\n",
       "    <tr>\n",
       "      <th>159</th>\n",
       "      <td>0.0</td>\n",
       "      <td>0.0</td>\n",
       "      <td>5.459500</td>\n",
       "      <td>0.001557</td>\n",
       "      <td>127.10</td>\n",
       "      <td>37.04</td>\n",
       "      <td>0.001557</td>\n",
       "      <td>0.0</td>\n",
       "    </tr>\n",
       "    <tr>\n",
       "      <th>160</th>\n",
       "      <td>0.0</td>\n",
       "      <td>0.0</td>\n",
       "      <td>3.654805</td>\n",
       "      <td>0.002230</td>\n",
       "      <td>127.11</td>\n",
       "      <td>37.04</td>\n",
       "      <td>0.002230</td>\n",
       "      <td>0.0</td>\n",
       "    </tr>\n",
       "    <tr>\n",
       "      <th>161</th>\n",
       "      <td>0.0</td>\n",
       "      <td>0.0</td>\n",
       "      <td>2.780061</td>\n",
       "      <td>0.002834</td>\n",
       "      <td>127.12</td>\n",
       "      <td>37.04</td>\n",
       "      <td>0.002834</td>\n",
       "      <td>0.0</td>\n",
       "    </tr>\n",
       "    <tr>\n",
       "      <th>...</th>\n",
       "      <td>...</td>\n",
       "      <td>...</td>\n",
       "      <td>...</td>\n",
       "      <td>...</td>\n",
       "      <td>...</td>\n",
       "      <td>...</td>\n",
       "      <td>...</td>\n",
       "      <td>...</td>\n",
       "    </tr>\n",
       "    <tr>\n",
       "      <th>2462</th>\n",
       "      <td>0.0</td>\n",
       "      <td>0.0</td>\n",
       "      <td>5.068967</td>\n",
       "      <td>0.031724</td>\n",
       "      <td>127.13</td>\n",
       "      <td>37.50</td>\n",
       "      <td>0.031724</td>\n",
       "      <td>0.0</td>\n",
       "    </tr>\n",
       "    <tr>\n",
       "      <th>2463</th>\n",
       "      <td>0.0</td>\n",
       "      <td>0.0</td>\n",
       "      <td>4.221564</td>\n",
       "      <td>0.019321</td>\n",
       "      <td>127.14</td>\n",
       "      <td>37.50</td>\n",
       "      <td>0.019321</td>\n",
       "      <td>0.0</td>\n",
       "    </tr>\n",
       "    <tr>\n",
       "      <th>2464</th>\n",
       "      <td>0.0</td>\n",
       "      <td>0.0</td>\n",
       "      <td>3.109953</td>\n",
       "      <td>0.010264</td>\n",
       "      <td>127.15</td>\n",
       "      <td>37.50</td>\n",
       "      <td>0.010264</td>\n",
       "      <td>0.0</td>\n",
       "    </tr>\n",
       "    <tr>\n",
       "      <th>2465</th>\n",
       "      <td>0.0</td>\n",
       "      <td>0.0</td>\n",
       "      <td>2.922624</td>\n",
       "      <td>0.004781</td>\n",
       "      <td>127.16</td>\n",
       "      <td>37.50</td>\n",
       "      <td>0.004781</td>\n",
       "      <td>0.0</td>\n",
       "    </tr>\n",
       "    <tr>\n",
       "      <th>2466</th>\n",
       "      <td>0.0</td>\n",
       "      <td>0.0</td>\n",
       "      <td>2.069391</td>\n",
       "      <td>0.001966</td>\n",
       "      <td>127.17</td>\n",
       "      <td>37.50</td>\n",
       "      <td>0.001966</td>\n",
       "      <td>0.0</td>\n",
       "    </tr>\n",
       "  </tbody>\n",
       "</table>\n",
       "<p>1689 rows × 8 columns</p>\n",
       "</div>"
      ],
      "text/plain": [
       "       x1   x2        x3         y     lon    lat  residual  fitted\n",
       "112   0.0  0.0  0.000000  0.001037  127.13  37.03  0.001037     0.0\n",
       "113   0.0  0.0  0.000000  0.001044  127.14  37.03  0.001044     0.0\n",
       "159   0.0  0.0  5.459500  0.001557  127.10  37.04  0.001557     0.0\n",
       "160   0.0  0.0  3.654805  0.002230  127.11  37.04  0.002230     0.0\n",
       "161   0.0  0.0  2.780061  0.002834  127.12  37.04  0.002834     0.0\n",
       "...   ...  ...       ...       ...     ...    ...       ...     ...\n",
       "2462  0.0  0.0  5.068967  0.031724  127.13  37.50  0.031724     0.0\n",
       "2463  0.0  0.0  4.221564  0.019321  127.14  37.50  0.019321     0.0\n",
       "2464  0.0  0.0  3.109953  0.010264  127.15  37.50  0.010264     0.0\n",
       "2465  0.0  0.0  2.922624  0.004781  127.16  37.50  0.004781     0.0\n",
       "2466  0.0  0.0  2.069391  0.001966  127.17  37.50  0.001966     0.0\n",
       "\n",
       "[1689 rows x 8 columns]"
      ]
     },
     "execution_count": 17,
     "metadata": {},
     "output_type": "execute_result"
    }
   ],
   "source": [
    "df"
   ]
  },
  {
   "cell_type": "code",
   "execution_count": 49,
   "id": "3a9e0871-c1cf-47a7-9080-63527979f3dd",
   "metadata": {},
   "outputs": [
    {
     "data": {
      "text/html": [
       "<div>\n",
       "<style scoped>\n",
       "    .dataframe tbody tr th:only-of-type {\n",
       "        vertical-align: middle;\n",
       "    }\n",
       "\n",
       "    .dataframe tbody tr th {\n",
       "        vertical-align: top;\n",
       "    }\n",
       "\n",
       "    .dataframe thead th {\n",
       "        text-align: right;\n",
       "    }\n",
       "</style>\n",
       "<table border=\"1\" class=\"dataframe\">\n",
       "  <thead>\n",
       "    <tr style=\"text-align: right;\">\n",
       "      <th></th>\n",
       "      <th>y</th>\n",
       "      <th>x1</th>\n",
       "      <th>demand</th>\n",
       "      <th>lon</th>\n",
       "      <th>lat</th>\n",
       "    </tr>\n",
       "    <tr>\n",
       "      <th>index</th>\n",
       "      <th></th>\n",
       "      <th></th>\n",
       "      <th></th>\n",
       "      <th></th>\n",
       "      <th></th>\n",
       "    </tr>\n",
       "  </thead>\n",
       "  <tbody>\n",
       "    <tr>\n",
       "      <th>834</th>\n",
       "      <td>7.935759</td>\n",
       "      <td>9.662405</td>\n",
       "      <td>-4.632449</td>\n",
       "      <td>127.07</td>\n",
       "      <td>37.24</td>\n",
       "    </tr>\n",
       "  </tbody>\n",
       "</table>\n",
       "</div>"
      ],
      "text/plain": [
       "              y        x1    demand     lon    lat\n",
       "index                                             \n",
       "834    7.935759  9.662405 -4.632449  127.07  37.24"
      ]
     },
     "execution_count": 49,
     "metadata": {},
     "output_type": "execute_result"
    }
   ],
   "source": [
    "df[(df['lon']==127.07) & (df['lat']==37.24)][['y','x1','demand','lon','lat']]"
   ]
  },
  {
   "cell_type": "code",
   "execution_count": 48,
   "id": "c03be7c8-14df-4f22-ac20-96cf61a81bce",
   "metadata": {},
   "outputs": [],
   "source": [
    "df['sum_demand']=df['demand']*df['pred.y']"
   ]
  },
  {
   "cell_type": "code",
   "execution_count": 49,
   "id": "cfcfcc3d-fe70-4bea-9093-433a79dea4f7",
   "metadata": {},
   "outputs": [
    {
     "data": {
      "text/html": [
       "<div>\n",
       "<style scoped>\n",
       "    .dataframe tbody tr th:only-of-type {\n",
       "        vertical-align: middle;\n",
       "    }\n",
       "\n",
       "    .dataframe tbody tr th {\n",
       "        vertical-align: top;\n",
       "    }\n",
       "\n",
       "    .dataframe thead th {\n",
       "        text-align: right;\n",
       "    }\n",
       "</style>\n",
       "<table border=\"1\" class=\"dataframe\">\n",
       "  <thead>\n",
       "    <tr style=\"text-align: right;\">\n",
       "      <th></th>\n",
       "      <th>Unnamed: 0</th>\n",
       "      <th>X</th>\n",
       "      <th>y</th>\n",
       "      <th>x1</th>\n",
       "      <th>demand</th>\n",
       "      <th>lon</th>\n",
       "      <th>lat</th>\n",
       "      <th>pred.y</th>\n",
       "      <th>sum_demand</th>\n",
       "    </tr>\n",
       "  </thead>\n",
       "  <tbody>\n",
       "    <tr>\n",
       "      <th>149</th>\n",
       "      <td>150</td>\n",
       "      <td>411</td>\n",
       "      <td>0.102635</td>\n",
       "      <td>1.506297</td>\n",
       "      <td>2.0</td>\n",
       "      <td>127.12</td>\n",
       "      <td>37.09</td>\n",
       "      <td>66466.560873</td>\n",
       "      <td>1.329331e+05</td>\n",
       "    </tr>\n",
       "    <tr>\n",
       "      <th>150</th>\n",
       "      <td>151</td>\n",
       "      <td>412</td>\n",
       "      <td>0.131286</td>\n",
       "      <td>2.009555</td>\n",
       "      <td>2.0</td>\n",
       "      <td>127.13</td>\n",
       "      <td>37.09</td>\n",
       "      <td>65774.661996</td>\n",
       "      <td>1.315493e+05</td>\n",
       "    </tr>\n",
       "    <tr>\n",
       "      <th>152</th>\n",
       "      <td>153</td>\n",
       "      <td>414</td>\n",
       "      <td>0.174711</td>\n",
       "      <td>6.148938</td>\n",
       "      <td>8.0</td>\n",
       "      <td>127.15</td>\n",
       "      <td>37.09</td>\n",
       "      <td>74801.260265</td>\n",
       "      <td>5.984101e+05</td>\n",
       "    </tr>\n",
       "    <tr>\n",
       "      <th>153</th>\n",
       "      <td>154</td>\n",
       "      <td>415</td>\n",
       "      <td>0.184996</td>\n",
       "      <td>4.321082</td>\n",
       "      <td>5.0</td>\n",
       "      <td>127.16</td>\n",
       "      <td>37.09</td>\n",
       "      <td>79079.372045</td>\n",
       "      <td>3.953969e+05</td>\n",
       "    </tr>\n",
       "    <tr>\n",
       "      <th>154</th>\n",
       "      <td>155</td>\n",
       "      <td>416</td>\n",
       "      <td>0.186946</td>\n",
       "      <td>3.281287</td>\n",
       "      <td>4.0</td>\n",
       "      <td>127.17</td>\n",
       "      <td>37.09</td>\n",
       "      <td>83818.210595</td>\n",
       "      <td>3.352728e+05</td>\n",
       "    </tr>\n",
       "    <tr>\n",
       "      <th>...</th>\n",
       "      <td>...</td>\n",
       "      <td>...</td>\n",
       "      <td>...</td>\n",
       "      <td>...</td>\n",
       "      <td>...</td>\n",
       "      <td>...</td>\n",
       "      <td>...</td>\n",
       "      <td>...</td>\n",
       "      <td>...</td>\n",
       "    </tr>\n",
       "    <tr>\n",
       "      <th>1299</th>\n",
       "      <td>1300</td>\n",
       "      <td>1773</td>\n",
       "      <td>0.728879</td>\n",
       "      <td>1.401183</td>\n",
       "      <td>1.0</td>\n",
       "      <td>127.24</td>\n",
       "      <td>37.36</td>\n",
       "      <td>279376.246382</td>\n",
       "      <td>2.793762e+05</td>\n",
       "    </tr>\n",
       "    <tr>\n",
       "      <th>1300</th>\n",
       "      <td>1301</td>\n",
       "      <td>1774</td>\n",
       "      <td>0.790159</td>\n",
       "      <td>2.489065</td>\n",
       "      <td>2.0</td>\n",
       "      <td>127.25</td>\n",
       "      <td>37.36</td>\n",
       "      <td>261107.980022</td>\n",
       "      <td>5.222160e+05</td>\n",
       "    </tr>\n",
       "    <tr>\n",
       "      <th>1314</th>\n",
       "      <td>1315</td>\n",
       "      <td>1802</td>\n",
       "      <td>1.206453</td>\n",
       "      <td>6.542847</td>\n",
       "      <td>7.0</td>\n",
       "      <td>127.03</td>\n",
       "      <td>37.37</td>\n",
       "      <td>651107.579546</td>\n",
       "      <td>4.557753e+06</td>\n",
       "    </tr>\n",
       "    <tr>\n",
       "      <th>1315</th>\n",
       "      <td>1316</td>\n",
       "      <td>1803</td>\n",
       "      <td>2.032709</td>\n",
       "      <td>4.158414</td>\n",
       "      <td>3.0</td>\n",
       "      <td>127.04</td>\n",
       "      <td>37.37</td>\n",
       "      <td>710452.178015</td>\n",
       "      <td>2.131357e+06</td>\n",
       "    </tr>\n",
       "    <tr>\n",
       "      <th>1316</th>\n",
       "      <td>1317</td>\n",
       "      <td>1804</td>\n",
       "      <td>3.119789</td>\n",
       "      <td>3.624074</td>\n",
       "      <td>2.0</td>\n",
       "      <td>127.05</td>\n",
       "      <td>37.37</td>\n",
       "      <td>785279.291719</td>\n",
       "      <td>1.570559e+06</td>\n",
       "    </tr>\n",
       "  </tbody>\n",
       "</table>\n",
       "<p>370 rows × 9 columns</p>\n",
       "</div>"
      ],
      "text/plain": [
       "      Unnamed: 0     X         y        x1  demand     lon    lat  \\\n",
       "149          150   411  0.102635  1.506297     2.0  127.12  37.09   \n",
       "150          151   412  0.131286  2.009555     2.0  127.13  37.09   \n",
       "152          153   414  0.174711  6.148938     8.0  127.15  37.09   \n",
       "153          154   415  0.184996  4.321082     5.0  127.16  37.09   \n",
       "154          155   416  0.186946  3.281287     4.0  127.17  37.09   \n",
       "...          ...   ...       ...       ...     ...     ...    ...   \n",
       "1299        1300  1773  0.728879  1.401183     1.0  127.24  37.36   \n",
       "1300        1301  1774  0.790159  2.489065     2.0  127.25  37.36   \n",
       "1314        1315  1802  1.206453  6.542847     7.0  127.03  37.37   \n",
       "1315        1316  1803  2.032709  4.158414     3.0  127.04  37.37   \n",
       "1316        1317  1804  3.119789  3.624074     2.0  127.05  37.37   \n",
       "\n",
       "             pred.y    sum_demand  \n",
       "149    66466.560873  1.329331e+05  \n",
       "150    65774.661996  1.315493e+05  \n",
       "152    74801.260265  5.984101e+05  \n",
       "153    79079.372045  3.953969e+05  \n",
       "154    83818.210595  3.352728e+05  \n",
       "...             ...           ...  \n",
       "1299  279376.246382  2.793762e+05  \n",
       "1300  261107.980022  5.222160e+05  \n",
       "1314  651107.579546  4.557753e+06  \n",
       "1315  710452.178015  2.131357e+06  \n",
       "1316  785279.291719  1.570559e+06  \n",
       "\n",
       "[370 rows x 9 columns]"
      ]
     },
     "execution_count": 49,
     "metadata": {},
     "output_type": "execute_result"
    }
   ],
   "source": [
    "df"
   ]
  },
  {
   "cell_type": "code",
   "execution_count": 50,
   "id": "df365944-8ae6-46ec-802e-2227f975094e",
   "metadata": {},
   "outputs": [],
   "source": [
    "demand=df['demand'].sum()"
   ]
  },
  {
   "cell_type": "code",
   "execution_count": 51,
   "id": "912f1f1b-3049-4b6d-a6cc-b2c3e5220e81",
   "metadata": {},
   "outputs": [
    {
     "data": {
      "text/plain": [
       "1906.0"
      ]
     },
     "execution_count": 51,
     "metadata": {},
     "output_type": "execute_result"
    }
   ],
   "source": [
    "demand"
   ]
  },
  {
   "cell_type": "code",
   "execution_count": 52,
   "id": "edc7ae38-1183-4280-9b8c-5ba485bd094d",
   "metadata": {},
   "outputs": [],
   "source": [
    "max=df['sum_demand'].max()"
   ]
  },
  {
   "cell_type": "code",
   "execution_count": 53,
   "id": "a3892bef-2a94-444b-9879-bf6aab6ad7f6",
   "metadata": {},
   "outputs": [],
   "source": [
    "simul= pd.DataFrame({'idx':[0],'demand': [demand],'max':[max]})"
   ]
  },
  {
   "cell_type": "code",
   "execution_count": 55,
   "id": "6c384a68-72bc-4d0e-954b-5226cc479f5f",
   "metadata": {},
   "outputs": [],
   "source": [
    "simul=simul.dropna()\n",
    "simul=simul.set_index(keys='idx')\n",
    "simul['cumsum']=simul['max'].cumsum()"
   ]
  },
  {
   "cell_type": "code",
   "execution_count": 56,
   "id": "f13c4be2-94d1-4bed-98ec-7b8f72bb0589",
   "metadata": {},
   "outputs": [
    {
     "data": {
      "text/html": [
       "<div>\n",
       "<style scoped>\n",
       "    .dataframe tbody tr th:only-of-type {\n",
       "        vertical-align: middle;\n",
       "    }\n",
       "\n",
       "    .dataframe tbody tr th {\n",
       "        vertical-align: top;\n",
       "    }\n",
       "\n",
       "    .dataframe thead th {\n",
       "        text-align: right;\n",
       "    }\n",
       "</style>\n",
       "<table border=\"1\" class=\"dataframe\">\n",
       "  <thead>\n",
       "    <tr style=\"text-align: right;\">\n",
       "      <th></th>\n",
       "      <th>demand</th>\n",
       "      <th>max</th>\n",
       "      <th>cumsum</th>\n",
       "    </tr>\n",
       "    <tr>\n",
       "      <th>idx</th>\n",
       "      <th></th>\n",
       "      <th></th>\n",
       "      <th></th>\n",
       "    </tr>\n",
       "  </thead>\n",
       "  <tbody>\n",
       "    <tr>\n",
       "      <th>0</th>\n",
       "      <td>1906.0</td>\n",
       "      <td>4.557753e+06</td>\n",
       "      <td>4.557753e+06</td>\n",
       "    </tr>\n",
       "    <tr>\n",
       "      <th>1</th>\n",
       "      <td>1895.0</td>\n",
       "      <td>4.557753e+06</td>\n",
       "      <td>9.115506e+06</td>\n",
       "    </tr>\n",
       "    <tr>\n",
       "      <th>2</th>\n",
       "      <td>1884.0</td>\n",
       "      <td>4.557753e+06</td>\n",
       "      <td>1.367326e+07</td>\n",
       "    </tr>\n",
       "    <tr>\n",
       "      <th>3</th>\n",
       "      <td>1873.0</td>\n",
       "      <td>4.557753e+06</td>\n",
       "      <td>1.823101e+07</td>\n",
       "    </tr>\n",
       "    <tr>\n",
       "      <th>4</th>\n",
       "      <td>1863.0</td>\n",
       "      <td>4.557753e+06</td>\n",
       "      <td>2.278877e+07</td>\n",
       "    </tr>\n",
       "    <tr>\n",
       "      <th>...</th>\n",
       "      <td>...</td>\n",
       "      <td>...</td>\n",
       "      <td>...</td>\n",
       "    </tr>\n",
       "    <tr>\n",
       "      <th>365</th>\n",
       "      <td>15.0</td>\n",
       "      <td>8.525484e+05</td>\n",
       "      <td>1.174222e+09</td>\n",
       "    </tr>\n",
       "    <tr>\n",
       "      <th>366</th>\n",
       "      <td>14.0</td>\n",
       "      <td>8.525484e+05</td>\n",
       "      <td>1.175074e+09</td>\n",
       "    </tr>\n",
       "    <tr>\n",
       "      <th>367</th>\n",
       "      <td>13.0</td>\n",
       "      <td>8.525484e+05</td>\n",
       "      <td>1.175927e+09</td>\n",
       "    </tr>\n",
       "    <tr>\n",
       "      <th>368</th>\n",
       "      <td>12.0</td>\n",
       "      <td>8.525484e+05</td>\n",
       "      <td>1.176779e+09</td>\n",
       "    </tr>\n",
       "    <tr>\n",
       "      <th>369</th>\n",
       "      <td>11.0</td>\n",
       "      <td>2.793762e+05</td>\n",
       "      <td>1.177059e+09</td>\n",
       "    </tr>\n",
       "  </tbody>\n",
       "</table>\n",
       "<p>370 rows × 3 columns</p>\n",
       "</div>"
      ],
      "text/plain": [
       "     demand           max        cumsum\n",
       "idx                                    \n",
       "0    1906.0  4.557753e+06  4.557753e+06\n",
       "1    1895.0  4.557753e+06  9.115506e+06\n",
       "2    1884.0  4.557753e+06  1.367326e+07\n",
       "3    1873.0  4.557753e+06  1.823101e+07\n",
       "4    1863.0  4.557753e+06  2.278877e+07\n",
       "..      ...           ...           ...\n",
       "365    15.0  8.525484e+05  1.174222e+09\n",
       "366    14.0  8.525484e+05  1.175074e+09\n",
       "367    13.0  8.525484e+05  1.175927e+09\n",
       "368    12.0  8.525484e+05  1.176779e+09\n",
       "369    11.0  2.793762e+05  1.177059e+09\n",
       "\n",
       "[370 rows x 3 columns]"
      ]
     },
     "execution_count": 56,
     "metadata": {},
     "output_type": "execute_result"
    }
   ],
   "source": [
    "simul"
   ]
  },
  {
   "cell_type": "code",
   "execution_count": 57,
   "id": "a48ee0e6-c811-495e-9dd7-30918ea7f5c9",
   "metadata": {},
   "outputs": [
    {
     "data": {
      "image/png": "[encoded data removed]",
      "text/plain": [
       "<Figure size 1080x720 with 1 Axes>"
      ]
     },
     "metadata": {
      "needs_background": "light"
     },
     "output_type": "display_data"
    }
   ],
   "source": [
    "plt.figure(figsize=(15, 10))\n",
    "plt.plot(simul['demand'],label='demand',linewidth=\"5\",color='red')\n",
    "plt.plot(simul['cumsum'],label='supply',linewidth=\"5\",color='blue')\n",
    "plt.legend()\n",
    "plt.show()"
   ]
  },
  {
   "cell_type": "code",
   "execution_count": 58,
   "id": "f76f84aa-745b-4b4a-8ca3-2390c67cd515",
   "metadata": {},
   "outputs": [
    {
     "data": {
      "text/plain": [
       "[<matplotlib.lines.Line2D at 0x1a674c96730>]"
      ]
     },
     "execution_count": 58,
     "metadata": {},
     "output_type": "execute_result"
    },
    {
     "data": {
      "image/png": "[encoded data removed]",
      "text/plain": [
       "<Figure size 432x288 with 1 Axes>"
      ]
     },
     "metadata": {
      "needs_background": "light"
     },
     "output_type": "display_data"
    }
   ],
   "source": [
    "fig, ax1 = plt.subplots()\n",
    "ax1.plot(simul['demand'],label='demand',linewidth=\"5\",color='red')"
   ]
  },
  {
   "cell_type": "code",
   "execution_count": 66,
   "id": "0b2d7513-4468-454a-a1ff-53e47a510899",
   "metadata": {},
   "outputs": [
    {
     "data": {
      "text/plain": [
       "<Figure size 1080x720 with 0 Axes>"
      ]
     },
     "metadata": {},
     "output_type": "display_data"
    },
    {
     "data": {
      "image/png": "[encoded data removed]",
      "text/plain": [
       "<Figure size 432x288 with 2 Axes>"
      ]
     },
     "metadata": {
      "needs_background": "light"
     },
     "output_type": "display_data"
    }
   ],
   "source": [
    "plt.figure(figsize=(15, 10))\n",
    "fig, ax1 = plt.subplots()\n",
    "ax1.plot(simul['demand'],label='demand',linewidth=\"5\",color='red')\n",
    "ax2 = ax1.twinx()\n",
    "plt.plot(simul['cumsum'],label='supply',linewidth=\"5\",color='blue')\n",
    "plt.show()"
   ]
  },
  {
   "cell_type": "code",
   "execution_count": null,
   "id": "379c04a9-e842-4c3e-9af6-c64c91b4516a",
   "metadata": {},
   "outputs": [],
   "source": []
  },
  {
   "cell_type": "code",
   "execution_count": null,
   "id": "22b74432-8fb0-477a-acc8-eb6a4dd32bfd",
   "metadata": {},
   "outputs": [],
   "source": []
  },
  {
   "cell_type": "code",
   "execution_count": null,
   "id": "1bb999b6-ac22-48a5-9b6c-9dea2f9f23cd",
   "metadata": {},
   "outputs": [],
   "source": []
  },
  {
   "cell_type": "code",
   "execution_count": null,
   "id": "7539a6b8-c59d-4dec-9138-85fa183e61a5",
   "metadata": {},
   "outputs": [],
   "source": []
  },
  {
   "cell_type": "code",
   "execution_count": null,
   "id": "a4525cbc-c93b-492c-a887-aea598adf20a",
   "metadata": {},
   "outputs": [],
   "source": []
  }
 ],
 "metadata": {
  "kernelspec": {
   "display_name": "Python 3 (ipykernel)",
   "language": "python",
   "name": "python3"
  },
  "language_info": {
   "codemirror_mode": {
    "name": "ipython",
    "version": 3
   },
   "file_extension": ".py",
   "mimetype": "text/x-python",
   "name": "python",
   "nbconvert_exporter": "python",
   "pygments_lexer": "ipython3",
   "version": "3.9.12"
  },
  "vscode": {
   "interpreter": {
    "hash": "cdbcc9334cb58ca7fae036dbe016607c2c5f35b02927bca809709cffb78759b2"
   }
  }
 },
 "nbformat": 4,
 "nbformat_minor": 5
}
